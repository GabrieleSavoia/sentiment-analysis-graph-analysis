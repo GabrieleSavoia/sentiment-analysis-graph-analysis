{
 "cells": [
  {
   "cell_type": "markdown",
   "id": "fabe0b6d",
   "metadata": {},
   "source": [
    "# Attività Text Analytics e Graph Analytics  \n",
    "### Gabriele Savoia  \n",
    "\n",
    "## 1. Introduzione  \n",
    "\n",
    "L'ambito applicativo di questo progetto riguarda l'analisi di questionari Instant Feedback e delle relazioni tra i clienti e le filiali in riferimento ai dati messi a disposizione dalla banca Credit Agricole Italia. In particolare: **1)** tramite l'analisi dei questionari (composti da risposte chiuse e aperte) si vogliono sviluppare e confrontare modelli di Sentyment Analysis in grado di associare un sentimento (positivo o negativo) ad una certa risposta aperta così da calcolare in maniera più precisa il livello di soddisfazione del cliente; **2)** sulla base dei dati relativi ai collegamenti tra i clienti e le filiali, è stato creato il relativo grafo su cui sono poi applicati opportuni algoritmi al fine di ricavare elementi rilevanti come le reti di influenza dei clienti più soddisfatti, ma in generale anche il livello di soddisfazione delle filiali.  \n",
    "\n",
    "Il progetto è suddiviso nella seguente modalità: nella sezione 2 è riportato il codice e la descrizione per il caricamento dei dati utilizzati; nella 3 sono descritte, implementate e testate le diverse metodologie di machine learning per l'analisi del sentimento del testo libero; infine nella sezione 4 sono riportate le diverse tecniche utilizzate per poter raggiungere i due obiettivi fissati.\n",
    "\n",
    "Per lo svliluppo delle funzionalità appena riportate, sono state utilizzate le seguenti librerie."
   ]
  },
  {
   "cell_type": "code",
   "execution_count": 318,
   "id": "b16baae5",
   "metadata": {},
   "outputs": [],
   "source": [
    "import warnings\n",
    "warnings.filterwarnings('ignore')\n",
    "\n",
    "import pandas as pd\n",
    "import numpy as np\n",
    "\n",
    "from sklearn.model_selection import train_test_split, GridSearchCV, StratifiedKFold, StratifiedShuffleSplit\n",
    "from sklearn.feature_extraction.text import CountVectorizer, TfidfTransformer\n",
    "from sklearn.naive_bayes import MultinomialNB, ComplementNB\n",
    "from sklearn.linear_model import LogisticRegression\n",
    "from sklearn.ensemble import RandomForestClassifier\n",
    "from sklearn.dummy import DummyClassifier\n",
    "from sklearn.pipeline import Pipeline\n",
    "from sklearn import metrics\n",
    "from sklearn.base import BaseEstimator, TransformerMixin\n",
    "from sklearn.utils import resample, shuffle\n",
    "from sklearn.metrics import make_scorer, accuracy_score, balanced_accuracy_score, precision_score, recall_score, f1_score, precision_recall_fscore_support\n",
    "\n",
    "from imblearn.pipeline import make_pipeline\n",
    "from imblearn.over_sampling import ADASYN, SMOTE, RandomOverSampler\n",
    "from imblearn.under_sampling import RandomUnderSampler\n",
    "from imblearn.combine import SMOTEENN\n",
    "\n",
    "import plotly.express as plotly_express\n",
    "import plotly.graph_objects as plotly_go\n",
    "\n",
    "import matplotlib.pyplot as plt\n",
    "import scikitplot as skplt\n",
    "\n",
    "import nltk\n",
    "from nltk.tokenize import word_tokenize\n",
    "\n",
    "import emoji\n",
    "import spacy\n",
    "from spacy.tokenizer import Tokenizer\n",
    "\n",
    "import statistics\n",
    "import random\n",
    "\n",
    "from py2neo import Graph"
   ]
  },
  {
   "cell_type": "markdown",
   "id": "76666885",
   "metadata": {},
   "source": [
    "## 2. Analisi dei dati  \n",
    "\n",
    "In questa sezione sono descritti i dati messi a disposizione dalla banca Credit Agricole in relazione ai due obiettivi riportati nel paragrafo precedente.  \n",
    "In particolare sono presenti due file (di testo) distinti per ciascuna delle due parti: il file relativo ai questionari è situato in *'./dataset/Dataset1_Risposte_Questionari.txt'*, mentre quello riferito alle relazioni dei clienti si trova in *'./dataset/Dataset2_Collegamenti_Clienti.txt'.* Nei sotto-paragrafi seguenti è riportata l'analisi di ciascuno dei dataset con le relative statistiche generali.\n",
    "\n",
    "### 2.1 Dataset questionari  \n",
    "\n",
    "Di seguito è riportato il codice utilizzato per il caricamento del dataset relativo ai questionari valutati. Come si può vedere dal dataframe caricato, ogni riga (805943 in totale) si riferisce ad una singola domanda (*ID_DOMANDA*, *DESC_DOMANDA*) e la relativa risposta (*TIPO_RISPOSTA*, *DESC_RISPOSTA*) in riferimento ad un certo questionario (*ID_QUESTIONARIO*, *DESC_QUESTIONARIO*, *ID_SESSIONE_QUESTIONARIO*) compilato da un cliente (*ID_CLIENTE*)."
   ]
  },
  {
   "cell_type": "code",
   "execution_count": 2,
   "id": "b82f53bc",
   "metadata": {},
   "outputs": [
    {
     "name": "stdout",
     "output_type": "stream",
     "text": [
      "Dimensione dataframe: \n",
      "righe: 805943, colonne: 9\n"
     ]
    },
    {
     "data": {
      "text/html": [
       "<div>\n",
       "<style scoped>\n",
       "    .dataframe tbody tr th:only-of-type {\n",
       "        vertical-align: middle;\n",
       "    }\n",
       "\n",
       "    .dataframe tbody tr th {\n",
       "        vertical-align: top;\n",
       "    }\n",
       "\n",
       "    .dataframe thead th {\n",
       "        text-align: right;\n",
       "    }\n",
       "</style>\n",
       "<table border=\"1\" class=\"dataframe\">\n",
       "  <thead>\n",
       "    <tr style=\"text-align: right;\">\n",
       "      <th></th>\n",
       "      <th>ID_CLIENTE</th>\n",
       "      <th>ID_QUESTIONARIO</th>\n",
       "      <th>DESC_QUESTIONARIO</th>\n",
       "      <th>ID_SESSIONE_QUESTIONARIO</th>\n",
       "      <th>DATA_COMPILAZIONE</th>\n",
       "      <th>ID_DOMANDA</th>\n",
       "      <th>DESC_DOMANDA</th>\n",
       "      <th>TIPO_RISPOSTA</th>\n",
       "      <th>DESC_RISPOSTA</th>\n",
       "    </tr>\n",
       "  </thead>\n",
       "  <tbody>\n",
       "    <tr>\n",
       "      <th>0</th>\n",
       "      <td>6149323</td>\n",
       "      <td>17</td>\n",
       "      <td>Apertura cc online</td>\n",
       "      <td>534695</td>\n",
       "      <td>2021-02-03</td>\n",
       "      <td>5275</td>\n",
       "      <td>Come sei venuto a conoscenza di Conto Crédit A...</td>\n",
       "      <td>inputradio</td>\n",
       "      <td>in-filiale-Cr-dit-agricole</td>\n",
       "    </tr>\n",
       "    <tr>\n",
       "      <th>1</th>\n",
       "      <td>6149323</td>\n",
       "      <td>17</td>\n",
       "      <td>Apertura cc online</td>\n",
       "      <td>534695</td>\n",
       "      <td>2021-02-03</td>\n",
       "      <td>5276</td>\n",
       "      <td>Quanto sei soddisfatto della tua esperienza di...</td>\n",
       "      <td>inputradio</td>\n",
       "      <td>Abbastanza</td>\n",
       "    </tr>\n",
       "    <tr>\n",
       "      <th>2</th>\n",
       "      <td>6149323</td>\n",
       "      <td>17</td>\n",
       "      <td>Apertura cc online</td>\n",
       "      <td>534695</td>\n",
       "      <td>2021-02-03</td>\n",
       "      <td>5277</td>\n",
       "      <td>Come valuti il tempo impiegato per il processo...</td>\n",
       "      <td>inputradio</td>\n",
       "      <td>soddisfacen</td>\n",
       "    </tr>\n",
       "  </tbody>\n",
       "</table>\n",
       "</div>"
      ],
      "text/plain": [
       "   ID_CLIENTE  ID_QUESTIONARIO   DESC_QUESTIONARIO  ID_SESSIONE_QUESTIONARIO  \\\n",
       "0     6149323               17  Apertura cc online                    534695   \n",
       "1     6149323               17  Apertura cc online                    534695   \n",
       "2     6149323               17  Apertura cc online                    534695   \n",
       "\n",
       "  DATA_COMPILAZIONE  ID_DOMANDA  \\\n",
       "0        2021-02-03        5275   \n",
       "1        2021-02-03        5276   \n",
       "2        2021-02-03        5277   \n",
       "\n",
       "                                        DESC_DOMANDA TIPO_RISPOSTA  \\\n",
       "0  Come sei venuto a conoscenza di Conto Crédit A...    inputradio   \n",
       "1  Quanto sei soddisfatto della tua esperienza di...    inputradio   \n",
       "2  Come valuti il tempo impiegato per il processo...    inputradio   \n",
       "\n",
       "                DESC_RISPOSTA  \n",
       "0  in-filiale-Cr-dit-agricole  \n",
       "1                  Abbastanza  \n",
       "2                 soddisfacen  "
      ]
     },
     "metadata": {},
     "output_type": "display_data"
    }
   ],
   "source": [
    "DATASET_QUESTIONARI = './dataset/Dataset1_Risposte_Questionari.txt'\n",
    "\n",
    "df_questionari = pd.read_csv(DATASET_QUESTIONARI, sep='\\t')\n",
    "print('Dimensione dataframe: \\nrighe: {0}, colonne: {1}'.format(df_questionari.shape[0], \n",
    "                                                                df_questionari.shape[1]))\n",
    "display(df_questionari.head(3))\n"
   ]
  },
  {
   "cell_type": "markdown",
   "id": "5ff60214",
   "metadata": {},
   "source": [
    "Come primo passo di elaborazione, sono stati analizzati i valori nulli presenti nel dataframe ed è stato visto che sono presenti quasi 70000 NaN in riferimento alla colonna *DESC_RISPOSTA*. Essendo quindi queste domande non informative è stato deciso di eliminarle dal dataframe."
   ]
  },
  {
   "cell_type": "code",
   "execution_count": 3,
   "id": "ebde9bea",
   "metadata": {},
   "outputs": [
    {
     "name": "stdout",
     "output_type": "stream",
     "text": [
      "\n",
      "Nan nel dataframe:\n"
     ]
    },
    {
     "data": {
      "text/plain": [
       "ID_CLIENTE                      0\n",
       "ID_QUESTIONARIO                 0\n",
       "DESC_QUESTIONARIO               0\n",
       "ID_SESSIONE_QUESTIONARIO        0\n",
       "DATA_COMPILAZIONE               0\n",
       "ID_DOMANDA                      0\n",
       "DESC_DOMANDA                    0\n",
       "TIPO_RISPOSTA                   0\n",
       "DESC_RISPOSTA               69391\n",
       "dtype: int64"
      ]
     },
     "metadata": {},
     "output_type": "display_data"
    },
    {
     "name": "stdout",
     "output_type": "stream",
     "text": [
      "Dimensione dopo la rimozione dei Nan: \n",
      "righe: 736552, colonne: 9\n"
     ]
    }
   ],
   "source": [
    "# Eliminazione nan\n",
    "print('\\nNan nel dataframe:')\n",
    "display(df_questionari.isnull().sum())\n",
    "df_questionari = df_questionari.dropna()\n",
    "df_questionari['DESC_RISPOSTA'] = df_questionari['DESC_RISPOSTA'].str.lower()\n",
    "print('Dimensione dopo la rimozione dei Nan: \\nrighe: {0}, colonne: {1}'.format(df_questionari.shape[0], \n",
    "                                                                                df_questionari.shape[1]))"
   ]
  },
  {
   "cell_type": "markdown",
   "id": "7127d7de",
   "metadata": {},
   "source": [
    "### 2.2 Dataset relazioni  \n",
    "\n",
    "Per quanto riguarda il dataset delle relazioni tra clienti e filiali, di seguito è riportato il codice relativo al corripsettivo caricamento in un dataframe pandas. Come si può vedere, per ogni riga sono presenti le informazioni di ciascuna relazione (4089536), ovvero il nodo sorgente e destinazione (*CLIENTE_1* e 2) con il reltivo codice di natura giuridica (*COD_NATURA_GIURIDICA_1* e 2) e la filiale di appartenenza (*ID_FILIALE_1* e 2). Ogni relazione ha inoltre un certo codice di collegamento (*COD_COLLEGAMENTO*) con la relativa descrizione (*DESC_COLLEGAMENTO*).  \n",
    "\n",
    "Essendo che nel dataset di partenza la colonna relativa all'id del cliente 1 è chiamata *ID_CLIENTE*, è stato effettuato un rename in *ID_CLIENTE_1.*"
   ]
  },
  {
   "cell_type": "code",
   "execution_count": 4,
   "id": "6d77cb9f",
   "metadata": {},
   "outputs": [
    {
     "name": "stdout",
     "output_type": "stream",
     "text": [
      "Dimensione e visualizzazione dataframe: \n",
      "righe: 4089536, colonne: 8\n"
     ]
    },
    {
     "data": {
      "text/html": [
       "<div>\n",
       "<style scoped>\n",
       "    .dataframe tbody tr th:only-of-type {\n",
       "        vertical-align: middle;\n",
       "    }\n",
       "\n",
       "    .dataframe tbody tr th {\n",
       "        vertical-align: top;\n",
       "    }\n",
       "\n",
       "    .dataframe thead th {\n",
       "        text-align: right;\n",
       "    }\n",
       "</style>\n",
       "<table border=\"1\" class=\"dataframe\">\n",
       "  <thead>\n",
       "    <tr style=\"text-align: right;\">\n",
       "      <th></th>\n",
       "      <th>ID_CLIENTE_1</th>\n",
       "      <th>COD_NATURA_GIURIDICA_1</th>\n",
       "      <th>ID_FILIALE_1</th>\n",
       "      <th>COD_COLLEGAMENTO</th>\n",
       "      <th>DESC_COLLEGAMENTO</th>\n",
       "      <th>ID_CLIENTE_2</th>\n",
       "      <th>COD_NATURA_GIURIDICA_2</th>\n",
       "      <th>ID_FILIALE_2</th>\n",
       "    </tr>\n",
       "  </thead>\n",
       "  <tbody>\n",
       "    <tr>\n",
       "      <th>0</th>\n",
       "      <td>6123972</td>\n",
       "      <td>DI</td>\n",
       "      <td>28438</td>\n",
       "      <td>R01</td>\n",
       "      <td>TIT. DITTA INDIV.</td>\n",
       "      <td>6482323</td>\n",
       "      <td>PF</td>\n",
       "      <td>28438</td>\n",
       "    </tr>\n",
       "    <tr>\n",
       "      <th>1</th>\n",
       "      <td>6123981</td>\n",
       "      <td>DI</td>\n",
       "      <td>28638</td>\n",
       "      <td>R01</td>\n",
       "      <td>TIT. DITTA INDIV.</td>\n",
       "      <td>6173394</td>\n",
       "      <td>PF</td>\n",
       "      <td>28638</td>\n",
       "    </tr>\n",
       "    <tr>\n",
       "      <th>2</th>\n",
       "      <td>6123989</td>\n",
       "      <td>PF</td>\n",
       "      <td>45955</td>\n",
       "      <td>I85</td>\n",
       "      <td>HA COME EREDE</td>\n",
       "      <td>6756182</td>\n",
       "      <td>PF</td>\n",
       "      <td>45955</td>\n",
       "    </tr>\n",
       "  </tbody>\n",
       "</table>\n",
       "</div>"
      ],
      "text/plain": [
       "   ID_CLIENTE_1 COD_NATURA_GIURIDICA_1  ID_FILIALE_1 COD_COLLEGAMENTO  \\\n",
       "0       6123972                     DI         28438              R01   \n",
       "1       6123981                     DI         28638              R01   \n",
       "2       6123989                     PF         45955              I85   \n",
       "\n",
       "   DESC_COLLEGAMENTO  ID_CLIENTE_2 COD_NATURA_GIURIDICA_2  ID_FILIALE_2  \n",
       "0  TIT. DITTA INDIV.       6482323                     PF         28438  \n",
       "1  TIT. DITTA INDIV.       6173394                     PF         28638  \n",
       "2      HA COME EREDE       6756182                     PF         45955  "
      ]
     },
     "metadata": {},
     "output_type": "display_data"
    }
   ],
   "source": [
    "DATASET_RELAZIONI = './dataset/Dataset2_Collegamenti_Clienti.txt'\n",
    "\n",
    "df_relazioni = pd.read_csv(DATASET_RELAZIONI, sep='\\t')\n",
    "print('Dimensione e visualizzazione dataframe: \\nrighe: {0}, colonne: {1}'.format(df_relazioni.shape[0], \n",
    "                                                                                  df_relazioni.shape[1]))\n",
    "df_relazioni = df_relazioni.rename(columns={'ID_CLIENTE': 'ID_CLIENTE_1'})\n",
    "display(df_relazioni.head(3))"
   ]
  },
  {
   "cell_type": "markdown",
   "id": "c2b3dcd3",
   "metadata": {},
   "source": [
    "Con il codice seguente è stato poi visto che non sono presenti elementi nulli nel dataframe."
   ]
  },
  {
   "cell_type": "code",
   "execution_count": 5,
   "id": "da93cd2a",
   "metadata": {},
   "outputs": [
    {
     "name": "stdout",
     "output_type": "stream",
     "text": [
      "\n",
      "Nan nel dataframe:\n"
     ]
    },
    {
     "data": {
      "text/plain": [
       "ID_CLIENTE_1              0\n",
       "COD_NATURA_GIURIDICA_1    0\n",
       "ID_FILIALE_1              0\n",
       "COD_COLLEGAMENTO          0\n",
       "DESC_COLLEGAMENTO         0\n",
       "ID_CLIENTE_2              0\n",
       "COD_NATURA_GIURIDICA_2    0\n",
       "ID_FILIALE_2              0\n",
       "dtype: int64"
      ]
     },
     "metadata": {},
     "output_type": "display_data"
    }
   ],
   "source": [
    "print('\\nNan nel dataframe:')\n",
    "display(df_relazioni.isnull().sum())"
   ]
  },
  {
   "cell_type": "markdown",
   "id": "8836c3fb",
   "metadata": {},
   "source": [
    "Essendo che per poter effettuare il punto **2** del progetto è necessario unire il dataset delle relazioni con le informazioni dei questionari del punto **1**, si vuole di seguito capire il numero numero di clienti che hanno compilato almeno un questionario nell'intero insieme di clienti di cui sono definite le relazioni."
   ]
  },
  {
   "cell_type": "code",
   "execution_count": 6,
   "id": "634e9e36",
   "metadata": {},
   "outputs": [
    {
     "name": "stdout",
     "output_type": "stream",
     "text": [
      "Clienti con relazioni (nodi nel grafo) : 3505346\n",
      "Clienti con relazioni e con questionario compilato (nodi nel grafo con questionario compilato): 65772\n"
     ]
    }
   ],
   "source": [
    "clienti_1 = df_relazioni['ID_CLIENTE_1'].unique()\n",
    "clienti_2 = df_relazioni['ID_CLIENTE_2'].unique()\n",
    "clienti_con_relazioni = set(list(clienti_1)+list(clienti_2))\n",
    "\n",
    "clienti_questionario = set(df_questionari['ID_CLIENTE'].unique())\n",
    "clienti_con_relazioni_e_questionario = len(clienti_con_relazioni.intersection(clienti_questionario))\n",
    "\n",
    "print('Clienti con relazioni (nodi nel grafo) : {}'.format(len(clienti_con_relazioni)))\n",
    "print('Clienti con relazioni e con questionario compilato (nodi nel grafo con questionario compilato): {}'\\\n",
    "     .format(clienti_con_relazioni_e_questionario))\n"
   ]
  },
  {
   "cell_type": "markdown",
   "id": "d0768f06",
   "metadata": {},
   "source": [
    "Si può quindi vedere che su un totale di 3505346 nodi nel grafo, solo 65772 hanno compilato almeno un questionario, mentre degli altri non si hanno informazioni riguardo il grado di apprezzamento della banca."
   ]
  },
  {
   "cell_type": "markdown",
   "id": "b50dd004",
   "metadata": {},
   "source": [
    "## 3. Text Analytics  \n",
    "\n",
    "Per la parte di Text Analytics del progetto, ci si è posti l'obiettivo di implementare, mediante librerie specifiche, opportune metodologie in grado di estrapolare informazioni utili dalle domande aperte al fine di migliorare il meccanismo di valutazione della soddisfazione dei clienti nella banca.  \n",
    "\n",
    "In particolare, sono state utilizzate tecniche di Sentiment Analysis (e più in generale di text classification) al fine di associare un certo score di soddisfazione a ciascuna risposta a testo libero in relazione a ciò che è stato risposto nelle domande chiuse. Sono stati quindi utilizzati e confrontati diversi modelli di machine learning supervisionati il cui obiettivo è quello di classificare in maniera binaria (*positivo* (0) o *negativo* (1)) le risposte a testo libero inserite dall'utente.  \n",
    "\n",
    "Le seguenti sotto-sezioni sono relative a: 3.1) trasformare il dataframe dei questionari in un dataframe predisposto al train per il modello di Sentiment Analysis (composto da due colonne: *testo libero* e relativo *target*); 3.2) descrizione della classe SentimentAnalyzer creata per gestire meglio le diverse tecniche considerate; 3.3) metodologia per la valutazione e confronto delle performance dei diversi modelli; 3.4) calcolo dello score finale per la parte di Graph Analytics."
   ]
  },
  {
   "cell_type": "markdown",
   "id": "01d9a71a",
   "metadata": {},
   "source": [
    "### 3.1 Trasformazione in un dataframe adatto all'addestramento  \n",
    "\n",
    "Il dataframe *df_questionari* creato in sezione 2.1 contiene per ciascuna riga le informazioni relative ad ogni singola domanda. Prima di procedere con la descrizione della trasformazione da eseguire per rendere i dati predisposti ad un addestramento supervisonato, sono di seguito riportate le possibili *risposte chiuse* e le possibili *domande aperte*.  \n",
    "\n",
    "Per quanto riguarda le risposte chiuse (necessarie per definire i target per il modello di machine learning) sono presenti diversi tipi: *inputradio*, *inputmulticheckb*, *inputdate*, *inputmatrix*. Tra queste è stato visto che solamente quelle di tipo *inputradio* e *inputmulticheckb* risultano essere informative per la Sentiment Analysis. Considerando quindi solo queste tipologie, sono di seguito riportati le possibili risposte per ciascuna."
   ]
  },
  {
   "cell_type": "code",
   "execution_count": 7,
   "id": "2234adc0",
   "metadata": {
    "scrolled": false
   },
   "outputs": [
    {
     "name": "stdout",
     "output_type": "stream",
     "text": [
      "Risposte inputradio: \n",
      "\n",
      "['in-filiale-cr-dit-agricole' 'abbastanza' 'soddisfacen' 'v8' 'no'\n",
      " 'passaparola' 'molto' 'eccellente' 'v10' 'sito' 'v9' 'in-filiale' 'v7'\n",
      " 'pubblicit--online' 'sito-cr-dit-agricole-it' 'poco' 'nonadeguato'\n",
      " 'eccessivo' 'si' 'v6' 'v5' 'per-niente' 'v3' 'v1' 'altro' 'social' 'v0'\n",
      " 'convenienza' 'v4' 'v2' 'addebitorat' 'affidabilit' 'pocoutile'\n",
      " 'abbastanzau' 'perniente' 'soddisfacente' 'filiale' 'almeno1volta' 'mai'\n",
      " 'v3volte' 'infilialecrditagricole' 'condizionieconomiche'\n",
      " 'serviziodiprevalutazione' 'laurea' 'affidabilitdicrditagricole'\n",
      " 'professionalitdelgestorecrditagricole' 'sitocreditagricoleit'\n",
      " 'pubblicitonline' 'comparatorionlineesmutuionline'\n",
      " 'convenienzarispettoallealtrebanche'\n",
      " 'lcompletarelapraticacompletamenteonline' 'diplomadiscuolasuperiore'\n",
      " 'scontiperlacquistodiprodottieservizilegatiallacasaestraslocoservizipuliziedivigilanza'\n",
      " 'licenzamedia' 'scontiperlacquistodiprodottieservizilegatiallacas'\n",
      " 'caratteristichedelmutuocrditagricole' 'supportoonlinesempreattivo'\n",
      " 'mediatorecreditizioagenziaimmobiliare' 'unoscontosualtriprodottibanca'\n",
      " 'masterdottorato' 'flessibilitdelprodotto'\n",
      " 'pagareperiprimiannidimutuounaratadisoliinteressi'\n",
      " 'lapossibilitdicompletarelapraticadimutuocompletamenteonline'\n",
      " 'pagamentodopo12mesi'\n",
      " 'unserviziodiprevalutazioneperconosceredasubitolimportomassimofinanziabile'\n",
      " 'scuolaprimaria' 'nessuno' 'personaledifiliale'\n",
      " 'sportelloautomaticoatmtotem' 'difficoltosa' 'nonadeguata' 'tempi'\n",
      " 'semplicita' 'gestore' 'consulenza' 'servizioclienti'\n",
      " 'lapossibilitdisaltarelarataomodificarnelimportounavoltalanno'\n",
      " 'socialweb' 'cartaceo' 'consulenzaricevuta' 'processodiacquisto' 'email'\n",
      " 'semplicitdiacquisto' 'completezzadellaproposta'\n",
      " 'professionalitdelgestore' 'completezzadellegaranzie'\n",
      " 'nonhoricevutounaconsulenzaadeguata' 'hoimpiegatotroppotempo'\n",
      " 'completezzagaranzie' 'matricola' 'siinmodocontinuativo' 'online'\n",
      " 'acquistareunautomoto' 'insede' 'pendolare' 'sisaltuariamente'\n",
      " 'studentetriennalemagistrale' 'fuorisede' 'infiliale'\n",
      " 'farmiunregaloviaggio' 'laureandolaureato' 'fareunviaggiostudioallestero'\n",
      " 'pagarelaffitto' 'speseuniversitarietasselibripc' 'informative'\n",
      " 'mipermettediottenereinformazionichenonconoscevo' 'servizidigitali'\n",
      " 'prodottidiinvestimento' 'cartedipagamento' 'polizzeassicurative'\n",
      " 'imessaggisonochiari' 'prestitimutui' 'itemitrattatisonodimiointeresse'\n",
      " 'messagginonchiari' 'altricanali' 'lagraficaingaggiante' 'temi' 'troppe'\n",
      " 'grafica' 'adeguateinformazionisuprodottiservizi'\n",
      " 'proposteinlineaconlemieesigenze' 'oraridiapertura'\n",
      " 'noinformazionichiare' 'disponibilitecortesia'\n",
      " 'problematichetecnicheoperative' 'propostenonnlineaconlemieesigenze'\n",
      " 'nocortesiadisponibilit' 'disponibilitallascoltoperlaricercadisoluzioni'\n",
      " 'propostaprodottiserviziinlineaconlemieesigenze'\n",
      " 'propostaprodottiservizinoninlineaconlemieesigenze'\n",
      " 'nonemersaunasoluzioneidoneaallemieesigenze'\n",
      " 'mistatapropostalarevisionedellecondizionidelmutuo'\n",
      " 'hostipulatounnuovomutuoconcrditagricole'\n",
      " 'misonostatepropostesoluzionidiinvestimentoalternative'\n",
      " 'avevoladisponibilitfinanziariaperfarloehopreferitoalleggerirmidallimpegnomensiledelpagamentodellerate'\n",
      " 'horichiestoalgestorepressolafilialecaunamodificadellecondizionimalapropostachemistatafattanoneracoerenteconlemieesigenzeaspettative'\n",
      " 'lecondizionidelmutuoeranotroppoonerose'\n",
      " 'nonhoricevutonessunapropostaalternativadalmiogestore'\n",
      " 'hostipulatounnuovomutuoconunaltrabancaehoestintoilmutuoincrditagricole'\n",
      " 'nonsonosoddisfattodellarelazioneconcrditagricole'\n",
      " 'nonnehoparlatoalmiogestore'\n",
      " 'horichiestoalgestorepressolafilialecaunamodificadellecondizionimahotrovatomiglioricondizionipressounaltrabanca'\n",
      " 'nonnehoparlatoalmiogestoreehodecisoautonomamentediestinguereilmutuo'\n",
      " 'tempiemodalitperfinalizzareloperazione'\n",
      " 'inlineaconleaspettativerispettoaquantodescrittodalconsulente'\n",
      " 'professionalitecompetenzadelconsulente'\n",
      " 'servizieprodottioffertiinlineaconlemieesigenze']\n",
      "\n",
      "\n",
      "Risposte inputmulticheckb: \n",
      "\n",
      "['carteeservizidipagamentoescartadicreditotelepass' 'altro'\n",
      " 'gestionedellaliquiditedeimieirisparmi'\n",
      " 'servizidiprotezionepermeelamiafamigliaesassicurazioneviaggiinfortuni'\n",
      " 'finanziareimieiprogetti' 'investireconlaconsulenzadiunospecialista'\n",
      " 'carteeservizidipagamento' 'proteggermi-dagli-imprevisti'\n",
      " 'una-guida-per-investire' 'operare-in-autonomia'\n",
      " 'servizidiprotezionepermeelamiafamiglia' 'pagamenti-veloci-'\n",
      " 'condizionieconomiche' 'problematichedisservizi'\n",
      " 'relazioneinsoddisfacenteconilgestorebanca'\n",
      " 'offertadinuoviprodottinonadeguataalleesigenze' 'servizipocoinnovativi'\n",
      " 'aperturaaltrocontocrditagricole' 'motivipersonali' 'immediatezza'\n",
      " 'disponibilitdelservizionelweekend' 'convenienza' 'pagamentiveloci'\n",
      " 'operareinautonomia' 'proteggermidagliimprevisti' 'unaguidaperinvestire'\n",
      " 'relazioneconilgestore' 'internetbankingoapp'\n",
      " 'eccessivadistanzadellafiliale' 'comodit' 'altrospecifica'\n",
      " 'sportelloautomaticoatmtotem' 'offertacompletaecompetitiva' 'filiale'\n",
      " 'rapportoconilgestore' 'servizioclienti' 'offertanoninlineaconibisogni'\n",
      " 'comodo' 'veloce' 'semplice' 'lento' 'sicuro' 'intuitivo' 'complicato'\n",
      " 'comunicazionedelmiogestore' 'online' 'contattoservizioclienti'\n",
      " 'canalisocialosulweb' 'giornaliecartastampata' 'acquistareunautomoto'\n",
      " 'accantonarequalcosaperfarmiunregaloviaggio'\n",
      " 'sostenerelespeseuniversitarietasselibripc'\n",
      " 'fareunviaggiostudioallestero' 'pagarelaffitto' 'costodelprodotto'\n",
      " 'contenutidelprodottochenoncorrispondonoaimieibisogni'\n",
      " 'hogisottoscrittoconaltrabancacompagnia' 'preferiscofinalizzareinfiliale'\n",
      " 'webinardiformazione' 'giornatediorientamentoallavoro'\n",
      " 'hackatoncontestinnovazione' 'intuitiva' 'nonintuitiva' 'complessa'\n",
      " 'lenta']\n"
     ]
    }
   ],
   "source": [
    "risposte_inputradio=df_questionari[df_questionari['TIPO_RISPOSTA']=='inputradio']['DESC_RISPOSTA'].unique()\n",
    "print('Risposte inputradio: \\n')\n",
    "print(risposte_inputradio)\n",
    "\n",
    "print('\\n\\nRisposte inputmulticheckb: \\n')\n",
    "risposte_inputmulti=df_questionari[df_questionari['TIPO_RISPOSTA']=='inputmulticheckb']['DESC_RISPOSTA'].unique()\n",
    "print(risposte_inputmulti)"
   ]
  },
  {
   "cell_type": "markdown",
   "id": "c05caf23",
   "metadata": {},
   "source": [
    "E' quindi possibile notare che non tutte le risposte (in riferimento alle due tipologie considerate) forniscono un'informazione utile in termini di soddisfazione verso la banca (ad esempio, tra le tante, le risposte *socialweb* o *cartaceo* per il tipo *inputradio* oppure *online* o *operare-in-autonomia* per il tipo *multicheckb*).  \n",
    "Dall'altra parte però ne esistono alcune molto informative come *eccellente*, *abbastanza*, *soddisfacente* (per *inputradio*) e *comodo*, *veloce*, *complicato* (per *inputmulticheckb*). L'idea è quindi quella di associare ad ogni risposta chiusa un certo punteggio (un numero in riferimento ad una scala) che rispecchia il livello di gradimento dell'utente (es. assegnare un valore 0 a risposte di tipo *per-niente* e 5 a quelle come *eccellente* e valori intermedi per risposte intermedie).  \n",
    "\n",
    "Per quanto riguarda invece le risposte aperte, all'interno del dataframe è possibile identificarle in quanto sono di tipo *inputtextarea*. Si vuole quindi adesso vedere, tra tutti i questionari per quali *domande* è richiesta una risposta aperta."
   ]
  },
  {
   "cell_type": "code",
   "execution_count": 8,
   "id": "9430a5f6",
   "metadata": {},
   "outputs": [
    {
     "name": "stdout",
     "output_type": "stream",
     "text": [
      "Domande inputtextarea: \n",
      "\n",
      "['Puoi argomentare questa tua valutazione?' 'Altro'\n",
      " 'Cosa ci suggeriresti per migliorare la nuova funzionalità PUSH CODE?'\n",
      " 'Hai ulteriori motivazioni?' 'Altro (specifica)'\n",
      " 'Hai dei suggerimenti per aiutarci a migliorare?'\n",
      " 'Quale aspetto di Mutuo Crédit Agricole ti è piaciuto di più?_1'\n",
      " 'Altro_1' 'Puoi argomentare questa tua valutazione?_1'\n",
      " 'Altro_fonticomunicazione' 'Altro_damigliorare' 'Altro_apprezzati'\n",
      " 'Altro_damigliorare_1' 'Altro_argomentipreferiti' 'Altro_insoddisfatti_1'\n",
      " 'Altro_soddisfatti' 'Puoi argomentare la tua valutazione?'\n",
      " 'Quale servizi dovrebbe offrire la tua carta per aumentare il tuo apprezzamento?'\n",
      " 'Altro_2'\n",
      " 'Hai qualche suggerimento per migliorare il servizio di Mobile Collaboration?'\n",
      " 'Hai suggerimenti per aiutarci a migliorare?' 'Altro_rispostepositive'\n",
      " 'Altro_rispostenegative'\n",
      " 'Ci potrebbe sintetizzare le motivazioni di scarsa soddisfazione dell’esperienza avuto con CA relativamente al suo mutuo'\n",
      " 'Altro2' 'Altro3'\n",
      " 'Hai suggerimenti da darci per migliorare i nostri Servizi Digitali?']\n"
     ]
    }
   ],
   "source": [
    "print('Domande inputtextarea: \\n')\n",
    "domande_inputtextarea=df_questionari[df_questionari['TIPO_RISPOSTA']=='inputtextarea']['DESC_DOMANDA'].unique()\n",
    "print(domande_inputtextarea)"
   ]
  },
  {
   "cell_type": "markdown",
   "id": "c4bb40ea",
   "metadata": {},
   "source": [
    "Da questi risultati si possono fare le seguenti considerazioni:\n",
    "* per domande del tipo *Altro_apprezzati* o *Altro_rispostepositive* ci si aspetta una risposta a testo libero con un sentimento *positivo*;\n",
    "* per domande del tipo *Altro_rispostenegative* o *Altro_insoddisfatti_1* ci si aspetta una risposta a testo con un sentimento *negativo*;\n",
    "* per domande del tipo *Hai ulteriori motivazioni?* o *Puoi argomentare questa tua valutazione?* ci si aspetta una risposta a testo libero in linea con il risultato delle risposte chiuse (descritte in precedenza) e non si riescono a trarre consclusioni a priori (come nei due casi sopra citati).  \n",
    "\n",
    "Per poter quindi creare un dataframe contenente solamente due colonne \\[*target*, *testo*\\] predisposto per l'addestramento di un modello di machine learning, è stato deciso di associare ad ogni risposta aperta il punteggio medio delle risposte chiuse nello stesso questionario, con l'eccezione di quelle domande che chiedono espressamente un parere positivo (o negativo) a cui è associato un target positivo (o negativo) senza considerare la media delle risposte chiuse.  \n",
    "\n",
    "Di seguito è quindi riportato il codice per la creazione del dataframe che sarà poi utilizzato per la Sentiment Analysis."
   ]
  },
  {
   "cell_type": "code",
   "execution_count": 9,
   "id": "adc05f6e",
   "metadata": {},
   "outputs": [],
   "source": [
    "# variabili per la mappatura con le risposte\n",
    "\n",
    "map_risposte = { # inputradio\n",
    "                'perniente': 0., 'per-niente': 0., 'poco': 1.66, 'abbastanza': 3.33, 'molto': 5.,\n",
    "\n",
    "                'eccessivo': 0., 'difficoltosa': 1.25, 'nonadeguato': 2., 'nonadeguata': 2., \n",
    "                'soddisfacente': 3.75, 'soddisfacen': 3.75, 'eccellente': 5,\n",
    "\n",
    "                'v0': 0, 'v1': 0.5, 'v2': 1, 'v3': 1.5, 'v4': 2, 'v5': 2.5, \n",
    "                'v6': 3, 'v7': 3.5, 'v8': 4, 'v9': 4.5, 'v10': 5,\n",
    "\n",
    "                 # inputmulticheckb\n",
    "                'complicato': 0, 'lento': 0, 'lenta': 0,\n",
    "                'comodo': 5, 'intuitivo': 5, 'intuitiva': 5, 'semplice': 5, 'sicuro': 5, 'veloce': 5\n",
    "               }\n",
    "domande_generiche = ['Altro', 'Altro (specifica)', 'Altro2', 'Altro3', 'Altro_1', 'Altro_2', \n",
    "                     'Hai ulteriori motivazioni?', 'Puoi argomentare la tua valutazione?', \n",
    "                     'Puoi argomentare questa tua valutazione?', 'Puoi argomentare questa tua valutazione?_1'\n",
    "                    ]\n",
    "domande_negative = ['Altro_damigliorare', 'Altro_damigliorare_1', \n",
    "                    'Altro_insoddisfatti_1', \n",
    "                    'Altro_rispostenegative', 'Ci potrebbe sintetizzare le motivazioni di scarsa soddisfazione dell’esperienza avuto con CA relativamente al suo mutuo',\n",
    "                   ]\n",
    "domande_positive = ['Altro_apprezzati', 'Altro_argomentipreferiti', 'Altro_rispostepositive', \n",
    "                    'Altro_soddisfatti', \n",
    "                   ]"
   ]
  },
  {
   "cell_type": "code",
   "execution_count": 18,
   "id": "4eaacc7c",
   "metadata": {},
   "outputs": [],
   "source": [
    "def transform_for_SA(df):\n",
    "    \"\"\"\n",
    "    A partire dal dataframe df che contiene per ogni riga una certa domanda, questa funzione calcola e ritorna \n",
    "    un nuovo dataframe predisposto all'addestramento di un modello di machine learning per la Sentiment Analysis.\n",
    "    Il meccanismo di base è il seguente : per ogni questionario, associa ad ogni risposta aperta il punteggio \n",
    "    medio delle risposte chiuse (con la relativa mappatura), ad eccezione però di quelle domande di cui il \n",
    "    sentimento della risposta è risaputo a priori a cui viene direttamente associato il punteggio (0 o 5) \n",
    "    senza considerare la media delle risposte chiuse. \n",
    "    \n",
    "    Params:\n",
    "        df: dataframe di domande da trasformare;\n",
    "    \n",
    "    Return:\n",
    "        dataframe con due colonne ['TARGET', 'TESTO'] predisposto alla Sentiment Analysis\n",
    "    \"\"\"\n",
    "    \n",
    "    def calcola_label(data):\n",
    "        \"\"\"\n",
    "        In input riceve il dataframe 'data' contenente per ogni riga le domande riferite AD UN SOLO QUESTIONARIO.\n",
    "        Calcola la media dei punteggi delle risposte chiuse (tramite la mappatura 'map_risposte') e per\n",
    "        ogni risposta aperta associa il punteggio opportuno: la media delle risposte chiuse nel caso in cui la\n",
    "        risposta aperta è generica; un valore (5 o 0) a seconda che la risposta aperta sia con un\n",
    "        sentimento positivo o negativo (inserite in opportune liste in partenza).\n",
    "\n",
    "        Parametri:\n",
    "            data: dataframe in ogni riga corrisponde ad una domanda di UN SOLO QUESTIONARIO\n",
    "\n",
    "        Return:\n",
    "            risposte_aperte: [ [target, testo], ...] relative ad un questionario. (un questionario può avere più \n",
    "                                                     risposte aperte)\n",
    "        \"\"\"\n",
    "        lista_tipo_risposte = data['TIPO_RISPOSTA'].tolist()\n",
    "        lista_risposte = data['DESC_RISPOSTA'].tolist()\n",
    "        lista_domande = data['DESC_DOMANDA'].to_list()\n",
    "\n",
    "        punteggi = []\n",
    "        risposte_aperte = []\n",
    "\n",
    "        for indice, tipo_risposta in enumerate(lista_tipo_risposte):\n",
    "            if tipo_risposta == 'inputradio' or tipo_risposta == 'inputmulticheckb':\n",
    "                risposta = lista_risposte[indice].lower()\n",
    "                valore_risposta = map_risposte.get(risposta, None)\n",
    "                if valore_risposta is not None:\n",
    "                    punteggi.append(valore_risposta)\n",
    "            elif tipo_risposta == 'inputtextarea':\n",
    "                punteggio_risposta = None\n",
    "                domanda = lista_domande[indice]\n",
    "                risposta = lista_risposte[indice]\n",
    "                if domanda in domande_generiche: punteggio_risposta=-1 # bisogna assegnare il punteggio medio\n",
    "                elif domanda in domande_positive: punteggio_risposta=5\n",
    "                elif domanda in domande_negative: punteggio_risposta=0\n",
    "                if punteggio_risposta is not None: risposte_aperte.append( [punteggio_risposta, risposta] )\n",
    "        \n",
    "        if (punteggi==[]) or (risposte_aperte==[]): return np.nan\n",
    "        \n",
    "        # assegno il punteggio medio alle risposte aperte che ne hanno bisogno\n",
    "        punteggio_medio = statistics.mean(punteggi)\n",
    "        for r in risposte_aperte:\n",
    "            if r[0]==-1: r[0] = punteggio_medio\n",
    "\n",
    "        return risposte_aperte\n",
    "    \n",
    "    df_valutato = df.copy()\n",
    "    df_valutato = df_valutato.groupby(['ID_CLIENTE', \n",
    "                                       'ID_QUESTIONARIO',\n",
    "                                       'ID_SESSIONE_QUESTIONARIO',\n",
    "                                       'DATA_COMPILAZIONE',\n",
    "                                       'DESC_QUESTIONARIO']).apply(calcola_label).reset_index(name='val')\n",
    "    dict_final = {'TARGET': [], 'TESTO': []}\n",
    "    df_valutato = df_valutato.dropna()\n",
    "    for index, row in df_valutato.iterrows():\n",
    "        for domande in row['val']:\n",
    "            dict_final['TARGET'].append(domande[0])\n",
    "            dict_final['TESTO'].append(domande[1])\n",
    "    return pd.DataFrame(dict_final)"
   ]
  },
  {
   "cell_type": "code",
   "execution_count": 20,
   "id": "35b79a78",
   "metadata": {},
   "outputs": [
    {
     "name": "stdout",
     "output_type": "stream",
     "text": [
      "Dimensione dataframe: \n",
      "righe: 47518, colonne: 2\n"
     ]
    },
    {
     "data": {
      "text/html": [
       "<div>\n",
       "<style scoped>\n",
       "    .dataframe tbody tr th:only-of-type {\n",
       "        vertical-align: middle;\n",
       "    }\n",
       "\n",
       "    .dataframe tbody tr th {\n",
       "        vertical-align: top;\n",
       "    }\n",
       "\n",
       "    .dataframe thead th {\n",
       "        text-align: right;\n",
       "    }\n",
       "</style>\n",
       "<table border=\"1\" class=\"dataframe\">\n",
       "  <thead>\n",
       "    <tr style=\"text-align: right;\">\n",
       "      <th></th>\n",
       "      <th>TARGET</th>\n",
       "      <th>TESTO</th>\n",
       "    </tr>\n",
       "  </thead>\n",
       "  <tbody>\n",
       "    <tr>\n",
       "      <th>0</th>\n",
       "      <td>1</td>\n",
       "      <td>permettere al cliente di avere più tempo per r...</td>\n",
       "    </tr>\n",
       "    <tr>\n",
       "      <th>1</th>\n",
       "      <td>1</td>\n",
       "      <td>sono stato costretto ad aprirlo, in quanto il ...</td>\n",
       "    </tr>\n",
       "    <tr>\n",
       "      <th>2</th>\n",
       "      <td>0</td>\n",
       "      <td>è stata positiva perché assistita da una perso...</td>\n",
       "    </tr>\n",
       "  </tbody>\n",
       "</table>\n",
       "</div>"
      ],
      "text/plain": [
       "   TARGET                                              TESTO\n",
       "0       1  permettere al cliente di avere più tempo per r...\n",
       "1       1  sono stato costretto ad aprirlo, in quanto il ...\n",
       "2       0  è stata positiva perché assistita da una perso..."
      ]
     },
     "metadata": {},
     "output_type": "display_data"
    }
   ],
   "source": [
    "df_sa = transform_for_SA(df_questionari)\n",
    "df_sa['TARGET'] = df_sa.apply(lambda row: 1 if row['TARGET']<=2.5 else 0, axis=1)\n",
    "print('Dimensione dataframe: \\nrighe: {0}, colonne: {1}'.format(df_sa.shape[0], df_sa.shape[1]))\n",
    "display(df_sa.head(3))"
   ]
  },
  {
   "cell_type": "markdown",
   "id": "e6422a01",
   "metadata": {},
   "source": [
    "Il dataframe così creato (47518 righe) è composto da due colonne \\[*TARGET*, *TESTO*\\], ovvero per ciascuna risposta aperta è associata la relativa label che sta ad indicare il sentimento ricavato dalle risposte chiuse. In questo caso il range del *TARGET* va da 0 a 5 e per rendere i dati adeguati ad un problema di classificazione binario, è stato scelto di associare a 1 tutte le risposte con *TARGET* inferiore a 2.5, mentre con 0 quelle con *TARGET* maggiore a 2.5."
   ]
  },
  {
   "cell_type": "markdown",
   "id": "1095e6d8",
   "metadata": {},
   "source": [
    "### 3.2 Sentiment Analysis  \n",
    "\n",
    "Dopo aver elaborato i dati nella sezione precedente, si vuole adesso definire un'opportuna classe in grado di facilitare l'implementazione dei modelli di machine learning che saranno poi tra loro confrontati. In particolare la classe **SentimentAnalyzer** espone i seguenti metodi principali:\n",
    "* *preprocess()*: si occupa di eliminare le righe nel dataframe che hanno un testo nullo dopo che alcune operazioni di processamento (come eliminazione stopword, eliminazione delle emoticon ecc.) sono eseguite;\n",
    "* *check_data_balance()*: si occupa di visualizzare alcune informazioni importanti relative alle caratteristiche dei dati (principalmente per la distribuzione delle classi);\n",
    "* *set_pipeline_steps()*: permette di impostare una pipeline in modo tale da non dover re-istanziare la classe per testare nuovi modelli o utilizzare nuove trasformazioni delle features. Con questa funzione è inoltre possibile definire una strategia di resampling dei dati (nel caso di sbilanciamento tra le classi);\n",
    "* *grid_search_and_evaluate()*: effettua il grid-search degli iperparametri e ritorna un insieme di metriche di valutazione del modello addestrato con i parametri migliori trovati;\n",
    "* *display_evaluation()* e *display_multiple_evaluation()* sono due funzioni utilizzate per visualizzare graficamente i risultati delle valutazioni dei modelli."
   ]
  },
  {
   "cell_type": "code",
   "execution_count": 302,
   "id": "3a2c6560",
   "metadata": {},
   "outputs": [],
   "source": [
    "class SentimentAnalyzer:\n",
    "    \"\"\"\n",
    "    Classe creata per facilitare il testing e il confronto di diversi algoritmi di machine learning per il task di\n",
    "    Sentiment Analysis. Grazie ad essa è possibile:\n",
    "        1. effettuare alcune operazioni di preprocessamento dei dati\n",
    "        2. visualizzare ed analizzare il bilanciamento delle classi nel dataset\n",
    "        3. impostare una certa pipeline (riferita ad un particolare modello)\n",
    "        4. effettuare grid-search degli hyperparameter della pipeline\n",
    "        5. visualizzare metriche riferite alla valutazione di un singolo modello\n",
    "        6. visualizzare e mettere a confronto metriche in riferimento a più modelli\n",
    "    \"\"\"\n",
    "    \n",
    "    def __init__(self, df, label_name='TARGET', value_name='TESTO', stopwords_=None):\n",
    "        self.df=df.copy()\n",
    "        self.pipeline=None\n",
    "        self.label_name=label_name\n",
    "        self.value_name=value_name\n",
    "        self.random_state=2210\n",
    "        self.stopwords=['ad', 'al', 'allo', 'ai', 'agli', 'all', 'agl', 'alla', 'alle', 'con', 'col', 'coi', 'da', \n",
    "                        'dal', 'dallo', 'dai', 'dagli', 'dall', 'dagl', 'dalla', 'dalle', 'di', 'del', 'dello', \n",
    "                        'dei', 'degli', 'dell', 'degl', 'della', 'delle', 'in', 'nel', 'nello', 'nei', 'negli', \n",
    "                        'nell', 'negl', 'nella', 'nelle', 'su', 'sul', 'sullo', 'sui', 'sugli', 'sull', 'sugl', \n",
    "                        'sulla', 'sulle', 'per', 'tra', 'io', 'tu', 'lui', 'lei', 'noi', 'voi', 'loro', 'mio', \n",
    "                        'mia', 'miei', 'mie', 'tuo', 'tua', 'tuoi', 'tue', 'suo', 'sua', 'suoi', 'sue', 'nostro', \n",
    "                        'nostra', 'nostri', 'nostre', 'vostro', 'vostra', 'vostri', 'vostre', 'mi', 'ti', 'ci', \n",
    "                        'vi', 'lo', 'la', 'li', 'le', 'gli', 'ne', 'il', 'un', 'uno', 'una', 'ma', 'ed', 'se', \n",
    "                        'perché', 'anche', 'come', 'dov', 'dove', 'che', 'chi', 'cui', 'più', 'quale', 'quanto', \n",
    "                        'quanti', 'quanta', 'quante', 'quello', 'quelli', 'quella', 'quelle', 'questo', 'questi', \n",
    "                        'questa', 'queste', 'tutto', 'tutti', 'a', 'b', 'c', 'd', 'e', 'f', 'g', 'h', 'i', 'j', \n",
    "                        'k', 'l', 'm', 'n', 'o', 'p', 'q', 'x', 'y', 'z', '1', '2', '3', '4', '5', '6', '7', '8', \n",
    "                        '9', \n",
    "\n",
    "                        # stopword in aggiunta a quelle standard\n",
    "                        'sono', 'ho', 'conto', 'bonifico', 'banca', 'filiale', 'app', 'si', 'no', 'fare', 'mutuo',\n",
    "                        'personale', 'cliente', 'ha', 'sempre', 'molto', 'servizio', 'solo', 'era', 'prima', \n",
    "                        'volte', 'essere', 'banking', 'ancora', 'clienti', 'bonifici', 'dovuto', 'home', 'quando', \n",
    "                        'fatto', 'me'\n",
    "                       ] if stopwords_ is None else stopwards_\n",
    "        \n",
    "        \n",
    "    def preprocess(self, consider_digit=False, consider_punctuation=False, consider_emoticon=False, \n",
    "                   consider_stopword=False, verbose=True):\n",
    "        \"\"\"\n",
    "        Con questa funzione si vuole eliminare dal dataframe tutte quelle righe che risultano avere testo nullo\n",
    "        dopo che alcune tecniche di preprocessing hanno agito. Il concetto è quello di eliminare quelle righe \n",
    "        con testo insensato.\n",
    "        \n",
    "        Params:\n",
    "            consider_digit: se considerare i numeri oppure no\n",
    "            consider_punctuation: se considerare la punteggiatura oppure no\n",
    "            consider_emoticon: se considerare gli emoticon oppure no\n",
    "            consider_stopword: se considerare le stopword oppure no\n",
    "            verbose: se visualizzare informazioni aggiuntive (numero di righe prima e dopo il preprocessing)\n",
    "        \n",
    "        Riferimenti:\n",
    "            [1] https://stackoverflow.com/questions/45237083/pandas-dataframe-remove-row-satisfying-certain-condition\n",
    "        \"\"\"\n",
    "        nlp=spacy.load('it_core_news_sm')\n",
    "        tokenizer = Tokenizer(nlp.vocab)\n",
    "\n",
    "        if verbose: \n",
    "            print('Preprocessamento dati: start')\n",
    "            print('\\tnumero di righe dataframe iniziale: {}'.format(self.df.shape[0]))\n",
    "            \n",
    "        def select_row(testo):\n",
    "            token_list = [str(token) for token in tokenizer(testo)]\n",
    "            to_remove = []\n",
    "            for token in token_list:\n",
    "                if not consider_digit:\n",
    "                    if token.isdigit(): to_remove.append(token)\n",
    "                elif not consider_punctuation:\n",
    "                    if token in string.punctuation: to_remove.append(token)\n",
    "                elif not consider_emoticon:\n",
    "                    if token in emoji.UNICODE_EMOJI['en']: to_remove.append(token)\n",
    "                elif not consider_stopword:\n",
    "                    if token in self.stopwords: to_remove.append(token)\n",
    "            for rem in to_remove:\n",
    "                token_list.remove(rem)\n",
    "            if len(token_list) == 0: return False\n",
    "            return True\n",
    "                \n",
    "        self.df = self.df[self.df[self.value_name].apply(select_row)]\n",
    "        \n",
    "        if verbose: \n",
    "            print('\\tnumero di righe dataframe finale: {}'.format(self.df.shape[0]))\n",
    "            print('Preprocessamento dati: end')\n",
    "\n",
    "        \n",
    "    def check_data_balance(self):\n",
    "        \"\"\"\n",
    "        Grazie a questa funzione è possibile vedere se il dataset considerato è bilanciato oppure no [1].\n",
    "        \n",
    "        Riferimenti: \n",
    "            [1] https://www.geeksforgeeks.org/select-row-with-maximum-and-minimum-value-in-pandas-dataframe/\n",
    "            \n",
    "        \"\"\"\n",
    "        print('\\nCheck balance: start')\n",
    "        df_class_cnt = self.df.groupby([self.label_name]).size().reset_index(name='count')\n",
    "        \n",
    "        df_minority = df_class_cnt[df_class_cnt['count']==df_class_cnt['count'].min()]\n",
    "        df_majority = df_class_cnt[df_class_cnt['count']==df_class_cnt['count'].max()]\n",
    "        \n",
    "        print('\\tMinority class: \\'{0}\\', count: {1}'.format(df_minority[self.label_name].iloc[0], \n",
    "                                                             df_minority['count'].iloc[0]))\n",
    "        print('\\tMajority class: \\'{0}\\', count: {1}'.format(df_majority[self.label_name].iloc[0], \n",
    "                                                             df_majority['count'].iloc[0]))\n",
    "        print('\\tRatio: {0}'.format(df_minority['count'].iloc[0] / df_majority['count'].iloc[0]))\n",
    "        \n",
    "        fig = plotly_go.Figure()\n",
    "        x = [str(df_majority[self.label_name].iloc[0]), str(df_minority[self.label_name].iloc[0])]\n",
    "        y = [df_majority['count'].iloc[0], df_minority['count'].iloc[0]]\n",
    "        fig.add_trace(plotly_go.Bar(x=x, y=y, name='', marker_color=['rgb(222, 239, 0)', 'rgb(255, 188, 0)']))\n",
    "        fig.update_layout(\n",
    "            title='Bilanciamento dei dati',\n",
    "            width=500,\n",
    "            height=300\n",
    "        )\n",
    "        fig.show()        \n",
    "        print('Check balance: stop')\n",
    "    \n",
    "    \n",
    "    def set_pipeline_steps(self, steps_list, resampling_strategy=None):\n",
    "        \"\"\"\n",
    "        Set della pipeline e specifica della strategia di resampling dei dati.\n",
    "        Se balancing_strategy è None, allora non viene utilizzata la funzione di rebalancing.\n",
    "        E' utilizzata la funzione make_pipeline() per la creazione della pipeline.\n",
    "        La funzione di balancing è inserita appena prima del modello (penultima posizione).\n",
    "        In questo modo si previene il fenomeno di data leak [1].\n",
    "        \n",
    "        Riferimenti:\n",
    "            [1] https://imbalanced-learn.org/stable/common_pitfalls.html\n",
    "            \n",
    "        Params:\n",
    "            step_list: lista con gli elementi che compongono la pipeline\n",
    "            resampling_strategy: strategi di resampling (None, SMOTE, RandomOverSample, RandomUnderSampler)\n",
    "        \"\"\"\n",
    "        resampling = {'SMOTE': SMOTE(random_state=self.random_state, k_neighbors=1),\n",
    "                      'RandomOverSampler': RandomOverSampler(random_state=self.random_state),\n",
    "                      'RandomUnderSampler': RandomUnderSampler(random_state=self.random_state),\n",
    "                     }.get(resampling_strategy, None)\n",
    "        \n",
    "        if resampling is not None:\n",
    "            steps_list.insert(len(steps_list)-1, resampling)\n",
    "        \n",
    "        self.pipeline = make_pipeline(*steps_list)\n",
    "        \n",
    "    \n",
    "    def grid_search_and_evaluate(self, data_test_size= 0.3,                  # train-test split\n",
    "                                 cv_n_splits=10, cv_test_size=0.2,           # cross-validation\n",
    "                                 gs_parameters={}, gs_scoring='f1_macro',    # grid-search\n",
    "                                 to_display=['best_parameters', 'classification_report', 'confusion_matrix']\n",
    "                                ):   \n",
    "        \"\"\"\n",
    "        Effettua il grid search degli hyper-parameter, esegue la valutazione del modello e imposta la pipeline\n",
    "        dell'istanza con i migliori hyper-parameter trovati.\n",
    "        Il dataset iniziale è diviso in train e test set [1]. La grid-search con cross-validation è effettuata \n",
    "        solamente sui dati di train e permette di ricavare gli hyper-parameter ottimali del modello in relazione\n",
    "        ad un certo scoring. Il modello con i parametri ottimali viene poi valutato sul test set.\n",
    "        \n",
    "        Essendo il dataset sbilanciato, la funzione train_test_split() con il prametro 'stratify' permette di \n",
    "        eseguire uno split dei dati mantenendo intatta la distribuzione delle classi nel train e nel test set.\n",
    "        Per lo stesso motivo, è utilizzata una cross-validation di tipo StratifiedShuffleSplit [2].\n",
    "        \n",
    "        Riferimenti:\n",
    "            [1] https://scikit-learn.org/stable/modules/cross_validation.html\n",
    "            [2] https://scikit-learn.org/stable/modules/cross_validation.html#cross-validation-iterators-with-stratification-based-on-class-labels\n",
    "        \n",
    "        Param:\n",
    "            data_test_size: dimensione del test set dei dati originali\n",
    "            cv_n_splits: numero di split della cross validation\n",
    "            cv_test_size: dimensione del test set per ogni iterazione della cross-validation\n",
    "            gs_parameters: parametri del grid-search\n",
    "            gs_scoring: metrica che il grid-search punta a migliorare\n",
    "            to_display: lista di ciò che si vuole visualizzare\n",
    "        \n",
    "        Return:\n",
    "            dizionario contenente le informazioni della valutazione\n",
    "        \"\"\"\n",
    "        df_train, df_test = train_test_split(self.df, test_size=data_test_size, \n",
    "                                             stratify=self.df[[self.label_name]], random_state=99)\n",
    "        cv = StratifiedShuffleSplit(n_splits=cv_n_splits, test_size=cv_test_size, random_state=22)\n",
    "        gs_pipeline = GridSearchCV(self.pipeline, gs_parameters, scoring=gs_scoring, cv=cv)\n",
    "        gs_pipeline = gs_pipeline.fit(df_train[self.value_name], df_train[self.label_name])\n",
    "        \n",
    "        predicted = gs_pipeline.predict(df_test[self.value_name])\n",
    "        predicted_proba = gs_pipeline.predict_proba(df_test[self.value_name])\n",
    "        cl_report = metrics.classification_report(df_test[self.label_name], predicted, output_dict=True)\n",
    "        \n",
    "        result = {'gs_pipeline': gs_pipeline,\n",
    "                  'y_test': df_test[self.label_name],\n",
    "                  'predicted': predicted,\n",
    "                  'predicted_proba': predicted_proba,\n",
    "                  'classification_report': cl_report,\n",
    "                 }\n",
    "        \n",
    "        if len(to_display)>0:\n",
    "            self.display_evaluation(result['gs_pipeline'], result['y_test'], result['predicted'], \n",
    "                                    result['predicted_proba'], result['classification_report'], gs_scoring,\n",
    "                                    to_display=to_display)\n",
    "        \n",
    "        self.pipeline = gs_pipeline.best_estimator_\n",
    "        return result\n",
    "    \n",
    "    \n",
    "    def train_all_data(self):\n",
    "        \"\"\"\n",
    "        Una volta valutata la performance di un modello con la relativa pipeline, avviene il train del modello \n",
    "        su tutti i dati disponibili.\n",
    "        \n",
    "        Return:\n",
    "            modello allenato su tutti i dati disponibli\n",
    "        \"\"\"\n",
    "        self.pipeline.fit(self.df[self.value_name], self.df[self.label_name])\n",
    "        return self.pipeline\n",
    "    \n",
    "    \n",
    "    def display_evaluation(self, gs_pipeline, y_test, predicted, predicted_proba, classification_report,\n",
    "                           gs_score,\n",
    "                           to_display=['best_parameters', 'classification_report', 'confusion_matrix']\n",
    "                          ):\n",
    "        \"\"\"\n",
    "        Funzione per la visualizzazione dei risultati di valutazione.\n",
    "        E' utilizzata la libreria scikit-plot[1] per facilitare la visualizzazione di grafici dai risultati \n",
    "        calcolati con scikitlearn. \n",
    "        \n",
    "        Riferimenti:\n",
    "            [1] https://scikit-plot.readthedocs.io/en/stable/metrics.html\n",
    "            \n",
    "        Params:\n",
    "            gs_pipeline: ovvero la pipeline risultatnte dal grid-search\n",
    "            y_test: le label del test set\n",
    "            predicted: le label previste dal modello\n",
    "            predicted_proba: i valori di probabilità previsti dal modello (per grafici aggiunti)\n",
    "            classification_report: risultante dai risultati della valutazione con scikitlearn\n",
    "            gs_score: lo score utilizzato per il grid-search\n",
    "            to_display: quello che si vuole visualizzare\n",
    "        \"\"\"\n",
    "        # parametri migliori nella grid search\n",
    "        if 'best_parameters' in to_display:\n",
    "            print('Grid-search best score ({0}): {1}'.format(gs_score, round(gs_pipeline.best_score_, 3)))\n",
    "            print('Grid-search best parameters: {}'.format(gs_pipeline.best_params_))\n",
    "        \n",
    "        # classification report\n",
    "        if 'classification_report' in to_display: display(pd.DataFrame(classification_report))\n",
    "        \n",
    "        # confusion matrix\n",
    "        if 'confusion_matrix' in to_display:\n",
    "            skplt.metrics.plot_confusion_matrix(y_test, predicted)\n",
    "            plt.show()\n",
    "            \n",
    "            \n",
    "    def display_multiple_evaluation(self, dict_classification_metric, metric='f1-score', class_ref='macro avg',\n",
    "                                    bar_color='rgb(55, 83, 109)'\n",
    "                                   ):\n",
    "        \"\"\"\n",
    "        Funzione utilizzata per visualizzare i grafici di confronto dei modelli utilizzati.\n",
    "        \n",
    "        Params:\n",
    "            dict_classification_metric: dizionario {nome_algoritmo: classification_metric}\n",
    "            metric: specifica della metrica di confronto\n",
    "            class_ref: per capire se usare metriche globali o relative alle singole classi\n",
    "            bar_color: lista (o valore singolo) riferito al rgb delle barre del grafico\n",
    "        \"\"\"\n",
    "        if class_ref not in ['0', '1', 'macro avg', 'weighted avg']:\n",
    "            print('parametro class_ref non valido')\n",
    "            return\n",
    "        \n",
    "        x = list(dict_classification_metric.keys())\n",
    "        \n",
    "        if metric == 'accuracy':\n",
    "            y = [e['accuracy'] for e in dict_classification_metric.values()]\n",
    "        else:\n",
    "            y = [e[class_ref][metric] for e in dict_classification_metric.values()]\n",
    "\n",
    "        fig = plotly_go.Figure()\n",
    "        fig.add_trace(plotly_go.Bar(x=x, y=y, name='', marker_color=bar_color))\n",
    "\n",
    "        title = 'Comparazione metrica \\'{}\\''.format(metric)\n",
    "        if class_ref=='0' or class_ref=='1': title += ' per la classe {}'.format(class_ref)\n",
    "        if class_ref=='macro avg': title += ' (macro)'\n",
    "        if class_ref=='weighted avg': title += ' (weighted)'\n",
    "        \n",
    "        fig.update_layout(\n",
    "            title=title,\n",
    "            width=800,\n",
    "            height=550\n",
    "        )\n",
    "        fig.show()\n",
    "        "
   ]
  },
  {
   "cell_type": "code",
   "execution_count": 303,
   "id": "900a67c7",
   "metadata": {},
   "outputs": [
    {
     "name": "stdout",
     "output_type": "stream",
     "text": [
      "Preprocessamento dati: start\n",
      "\tnumero di righe dataframe iniziale: 47518\n",
      "\tnumero di righe dataframe finale: 47413\n",
      "Preprocessamento dati: end\n",
      "\n",
      "Check balance: start\n",
      "\tMinority class: '1', count: 5160\n",
      "\tMajority class: '0', count: 42253\n",
      "\tRatio: 0.1221215061652427\n"
     ]
    },
    {
     "data": {
      "application/vnd.plotly.v1+json": {
       "config": {
        "plotlyServerURL": "https://plot.ly"
       },
       "data": [
        {
         "marker": {
          "color": [
           "rgb(222, 239, 0)",
           "rgb(255, 188, 0)"
          ]
         },
         "name": "",
         "type": "bar",
         "x": [
          "0",
          "1"
         ],
         "y": [
          42253,
          5160
         ]
        }
       ],
       "layout": {
        "height": 300,
        "template": {
         "data": {
          "bar": [
           {
            "error_x": {
             "color": "#2a3f5f"
            },
            "error_y": {
             "color": "#2a3f5f"
            },
            "marker": {
             "line": {
              "color": "#E5ECF6",
              "width": 0.5
             },
             "pattern": {
              "fillmode": "overlay",
              "size": 10,
              "solidity": 0.2
             }
            },
            "type": "bar"
           }
          ],
          "barpolar": [
           {
            "marker": {
             "line": {
              "color": "#E5ECF6",
              "width": 0.5
             },
             "pattern": {
              "fillmode": "overlay",
              "size": 10,
              "solidity": 0.2
             }
            },
            "type": "barpolar"
           }
          ],
          "carpet": [
           {
            "aaxis": {
             "endlinecolor": "#2a3f5f",
             "gridcolor": "white",
             "linecolor": "white",
             "minorgridcolor": "white",
             "startlinecolor": "#2a3f5f"
            },
            "baxis": {
             "endlinecolor": "#2a3f5f",
             "gridcolor": "white",
             "linecolor": "white",
             "minorgridcolor": "white",
             "startlinecolor": "#2a3f5f"
            },
            "type": "carpet"
           }
          ],
          "choropleth": [
           {
            "colorbar": {
             "outlinewidth": 0,
             "ticks": ""
            },
            "type": "choropleth"
           }
          ],
          "contour": [
           {
            "colorbar": {
             "outlinewidth": 0,
             "ticks": ""
            },
            "colorscale": [
             [
              0,
              "#0d0887"
             ],
             [
              0.1111111111111111,
              "#46039f"
             ],
             [
              0.2222222222222222,
              "#7201a8"
             ],
             [
              0.3333333333333333,
              "#9c179e"
             ],
             [
              0.4444444444444444,
              "#bd3786"
             ],
             [
              0.5555555555555556,
              "#d8576b"
             ],
             [
              0.6666666666666666,
              "#ed7953"
             ],
             [
              0.7777777777777778,
              "#fb9f3a"
             ],
             [
              0.8888888888888888,
              "#fdca26"
             ],
             [
              1,
              "#f0f921"
             ]
            ],
            "type": "contour"
           }
          ],
          "contourcarpet": [
           {
            "colorbar": {
             "outlinewidth": 0,
             "ticks": ""
            },
            "type": "contourcarpet"
           }
          ],
          "heatmap": [
           {
            "colorbar": {
             "outlinewidth": 0,
             "ticks": ""
            },
            "colorscale": [
             [
              0,
              "#0d0887"
             ],
             [
              0.1111111111111111,
              "#46039f"
             ],
             [
              0.2222222222222222,
              "#7201a8"
             ],
             [
              0.3333333333333333,
              "#9c179e"
             ],
             [
              0.4444444444444444,
              "#bd3786"
             ],
             [
              0.5555555555555556,
              "#d8576b"
             ],
             [
              0.6666666666666666,
              "#ed7953"
             ],
             [
              0.7777777777777778,
              "#fb9f3a"
             ],
             [
              0.8888888888888888,
              "#fdca26"
             ],
             [
              1,
              "#f0f921"
             ]
            ],
            "type": "heatmap"
           }
          ],
          "heatmapgl": [
           {
            "colorbar": {
             "outlinewidth": 0,
             "ticks": ""
            },
            "colorscale": [
             [
              0,
              "#0d0887"
             ],
             [
              0.1111111111111111,
              "#46039f"
             ],
             [
              0.2222222222222222,
              "#7201a8"
             ],
             [
              0.3333333333333333,
              "#9c179e"
             ],
             [
              0.4444444444444444,
              "#bd3786"
             ],
             [
              0.5555555555555556,
              "#d8576b"
             ],
             [
              0.6666666666666666,
              "#ed7953"
             ],
             [
              0.7777777777777778,
              "#fb9f3a"
             ],
             [
              0.8888888888888888,
              "#fdca26"
             ],
             [
              1,
              "#f0f921"
             ]
            ],
            "type": "heatmapgl"
           }
          ],
          "histogram": [
           {
            "marker": {
             "pattern": {
              "fillmode": "overlay",
              "size": 10,
              "solidity": 0.2
             }
            },
            "type": "histogram"
           }
          ],
          "histogram2d": [
           {
            "colorbar": {
             "outlinewidth": 0,
             "ticks": ""
            },
            "colorscale": [
             [
              0,
              "#0d0887"
             ],
             [
              0.1111111111111111,
              "#46039f"
             ],
             [
              0.2222222222222222,
              "#7201a8"
             ],
             [
              0.3333333333333333,
              "#9c179e"
             ],
             [
              0.4444444444444444,
              "#bd3786"
             ],
             [
              0.5555555555555556,
              "#d8576b"
             ],
             [
              0.6666666666666666,
              "#ed7953"
             ],
             [
              0.7777777777777778,
              "#fb9f3a"
             ],
             [
              0.8888888888888888,
              "#fdca26"
             ],
             [
              1,
              "#f0f921"
             ]
            ],
            "type": "histogram2d"
           }
          ],
          "histogram2dcontour": [
           {
            "colorbar": {
             "outlinewidth": 0,
             "ticks": ""
            },
            "colorscale": [
             [
              0,
              "#0d0887"
             ],
             [
              0.1111111111111111,
              "#46039f"
             ],
             [
              0.2222222222222222,
              "#7201a8"
             ],
             [
              0.3333333333333333,
              "#9c179e"
             ],
             [
              0.4444444444444444,
              "#bd3786"
             ],
             [
              0.5555555555555556,
              "#d8576b"
             ],
             [
              0.6666666666666666,
              "#ed7953"
             ],
             [
              0.7777777777777778,
              "#fb9f3a"
             ],
             [
              0.8888888888888888,
              "#fdca26"
             ],
             [
              1,
              "#f0f921"
             ]
            ],
            "type": "histogram2dcontour"
           }
          ],
          "mesh3d": [
           {
            "colorbar": {
             "outlinewidth": 0,
             "ticks": ""
            },
            "type": "mesh3d"
           }
          ],
          "parcoords": [
           {
            "line": {
             "colorbar": {
              "outlinewidth": 0,
              "ticks": ""
             }
            },
            "type": "parcoords"
           }
          ],
          "pie": [
           {
            "automargin": true,
            "type": "pie"
           }
          ],
          "scatter": [
           {
            "marker": {
             "colorbar": {
              "outlinewidth": 0,
              "ticks": ""
             }
            },
            "type": "scatter"
           }
          ],
          "scatter3d": [
           {
            "line": {
             "colorbar": {
              "outlinewidth": 0,
              "ticks": ""
             }
            },
            "marker": {
             "colorbar": {
              "outlinewidth": 0,
              "ticks": ""
             }
            },
            "type": "scatter3d"
           }
          ],
          "scattercarpet": [
           {
            "marker": {
             "colorbar": {
              "outlinewidth": 0,
              "ticks": ""
             }
            },
            "type": "scattercarpet"
           }
          ],
          "scattergeo": [
           {
            "marker": {
             "colorbar": {
              "outlinewidth": 0,
              "ticks": ""
             }
            },
            "type": "scattergeo"
           }
          ],
          "scattergl": [
           {
            "marker": {
             "colorbar": {
              "outlinewidth": 0,
              "ticks": ""
             }
            },
            "type": "scattergl"
           }
          ],
          "scattermapbox": [
           {
            "marker": {
             "colorbar": {
              "outlinewidth": 0,
              "ticks": ""
             }
            },
            "type": "scattermapbox"
           }
          ],
          "scatterpolar": [
           {
            "marker": {
             "colorbar": {
              "outlinewidth": 0,
              "ticks": ""
             }
            },
            "type": "scatterpolar"
           }
          ],
          "scatterpolargl": [
           {
            "marker": {
             "colorbar": {
              "outlinewidth": 0,
              "ticks": ""
             }
            },
            "type": "scatterpolargl"
           }
          ],
          "scatterternary": [
           {
            "marker": {
             "colorbar": {
              "outlinewidth": 0,
              "ticks": ""
             }
            },
            "type": "scatterternary"
           }
          ],
          "surface": [
           {
            "colorbar": {
             "outlinewidth": 0,
             "ticks": ""
            },
            "colorscale": [
             [
              0,
              "#0d0887"
             ],
             [
              0.1111111111111111,
              "#46039f"
             ],
             [
              0.2222222222222222,
              "#7201a8"
             ],
             [
              0.3333333333333333,
              "#9c179e"
             ],
             [
              0.4444444444444444,
              "#bd3786"
             ],
             [
              0.5555555555555556,
              "#d8576b"
             ],
             [
              0.6666666666666666,
              "#ed7953"
             ],
             [
              0.7777777777777778,
              "#fb9f3a"
             ],
             [
              0.8888888888888888,
              "#fdca26"
             ],
             [
              1,
              "#f0f921"
             ]
            ],
            "type": "surface"
           }
          ],
          "table": [
           {
            "cells": {
             "fill": {
              "color": "#EBF0F8"
             },
             "line": {
              "color": "white"
             }
            },
            "header": {
             "fill": {
              "color": "#C8D4E3"
             },
             "line": {
              "color": "white"
             }
            },
            "type": "table"
           }
          ]
         },
         "layout": {
          "annotationdefaults": {
           "arrowcolor": "#2a3f5f",
           "arrowhead": 0,
           "arrowwidth": 1
          },
          "autotypenumbers": "strict",
          "coloraxis": {
           "colorbar": {
            "outlinewidth": 0,
            "ticks": ""
           }
          },
          "colorscale": {
           "diverging": [
            [
             0,
             "#8e0152"
            ],
            [
             0.1,
             "#c51b7d"
            ],
            [
             0.2,
             "#de77ae"
            ],
            [
             0.3,
             "#f1b6da"
            ],
            [
             0.4,
             "#fde0ef"
            ],
            [
             0.5,
             "#f7f7f7"
            ],
            [
             0.6,
             "#e6f5d0"
            ],
            [
             0.7,
             "#b8e186"
            ],
            [
             0.8,
             "#7fbc41"
            ],
            [
             0.9,
             "#4d9221"
            ],
            [
             1,
             "#276419"
            ]
           ],
           "sequential": [
            [
             0,
             "#0d0887"
            ],
            [
             0.1111111111111111,
             "#46039f"
            ],
            [
             0.2222222222222222,
             "#7201a8"
            ],
            [
             0.3333333333333333,
             "#9c179e"
            ],
            [
             0.4444444444444444,
             "#bd3786"
            ],
            [
             0.5555555555555556,
             "#d8576b"
            ],
            [
             0.6666666666666666,
             "#ed7953"
            ],
            [
             0.7777777777777778,
             "#fb9f3a"
            ],
            [
             0.8888888888888888,
             "#fdca26"
            ],
            [
             1,
             "#f0f921"
            ]
           ],
           "sequentialminus": [
            [
             0,
             "#0d0887"
            ],
            [
             0.1111111111111111,
             "#46039f"
            ],
            [
             0.2222222222222222,
             "#7201a8"
            ],
            [
             0.3333333333333333,
             "#9c179e"
            ],
            [
             0.4444444444444444,
             "#bd3786"
            ],
            [
             0.5555555555555556,
             "#d8576b"
            ],
            [
             0.6666666666666666,
             "#ed7953"
            ],
            [
             0.7777777777777778,
             "#fb9f3a"
            ],
            [
             0.8888888888888888,
             "#fdca26"
            ],
            [
             1,
             "#f0f921"
            ]
           ]
          },
          "colorway": [
           "#636efa",
           "#EF553B",
           "#00cc96",
           "#ab63fa",
           "#FFA15A",
           "#19d3f3",
           "#FF6692",
           "#B6E880",
           "#FF97FF",
           "#FECB52"
          ],
          "font": {
           "color": "#2a3f5f"
          },
          "geo": {
           "bgcolor": "white",
           "lakecolor": "white",
           "landcolor": "#E5ECF6",
           "showlakes": true,
           "showland": true,
           "subunitcolor": "white"
          },
          "hoverlabel": {
           "align": "left"
          },
          "hovermode": "closest",
          "mapbox": {
           "style": "light"
          },
          "paper_bgcolor": "white",
          "plot_bgcolor": "#E5ECF6",
          "polar": {
           "angularaxis": {
            "gridcolor": "white",
            "linecolor": "white",
            "ticks": ""
           },
           "bgcolor": "#E5ECF6",
           "radialaxis": {
            "gridcolor": "white",
            "linecolor": "white",
            "ticks": ""
           }
          },
          "scene": {
           "xaxis": {
            "backgroundcolor": "#E5ECF6",
            "gridcolor": "white",
            "gridwidth": 2,
            "linecolor": "white",
            "showbackground": true,
            "ticks": "",
            "zerolinecolor": "white"
           },
           "yaxis": {
            "backgroundcolor": "#E5ECF6",
            "gridcolor": "white",
            "gridwidth": 2,
            "linecolor": "white",
            "showbackground": true,
            "ticks": "",
            "zerolinecolor": "white"
           },
           "zaxis": {
            "backgroundcolor": "#E5ECF6",
            "gridcolor": "white",
            "gridwidth": 2,
            "linecolor": "white",
            "showbackground": true,
            "ticks": "",
            "zerolinecolor": "white"
           }
          },
          "shapedefaults": {
           "line": {
            "color": "#2a3f5f"
           }
          },
          "ternary": {
           "aaxis": {
            "gridcolor": "white",
            "linecolor": "white",
            "ticks": ""
           },
           "baxis": {
            "gridcolor": "white",
            "linecolor": "white",
            "ticks": ""
           },
           "bgcolor": "#E5ECF6",
           "caxis": {
            "gridcolor": "white",
            "linecolor": "white",
            "ticks": ""
           }
          },
          "title": {
           "x": 0.05
          },
          "xaxis": {
           "automargin": true,
           "gridcolor": "white",
           "linecolor": "white",
           "ticks": "",
           "title": {
            "standoff": 15
           },
           "zerolinecolor": "white",
           "zerolinewidth": 2
          },
          "yaxis": {
           "automargin": true,
           "gridcolor": "white",
           "linecolor": "white",
           "ticks": "",
           "title": {
            "standoff": 15
           },
           "zerolinecolor": "white",
           "zerolinewidth": 2
          }
         }
        },
        "title": {
         "text": "Bilanciamento dei dati"
        },
        "width": 500
       }
      },
      "text/html": [
       "<div>                            <div id=\"a96aa358-13ba-4070-87d5-a64a56cdf93a\" class=\"plotly-graph-div\" style=\"height:300px; width:500px;\"></div>            <script type=\"text/javascript\">                require([\"plotly\"], function(Plotly) {                    window.PLOTLYENV=window.PLOTLYENV || {};                                    if (document.getElementById(\"a96aa358-13ba-4070-87d5-a64a56cdf93a\")) {                    Plotly.newPlot(                        \"a96aa358-13ba-4070-87d5-a64a56cdf93a\",                        [{\"marker\":{\"color\":[\"rgb(222, 239, 0)\",\"rgb(255, 188, 0)\"]},\"name\":\"\",\"x\":[\"0\",\"1\"],\"y\":[42253,5160],\"type\":\"bar\"}],                        {\"template\":{\"data\":{\"bar\":[{\"error_x\":{\"color\":\"#2a3f5f\"},\"error_y\":{\"color\":\"#2a3f5f\"},\"marker\":{\"line\":{\"color\":\"#E5ECF6\",\"width\":0.5},\"pattern\":{\"fillmode\":\"overlay\",\"size\":10,\"solidity\":0.2}},\"type\":\"bar\"}],\"barpolar\":[{\"marker\":{\"line\":{\"color\":\"#E5ECF6\",\"width\":0.5},\"pattern\":{\"fillmode\":\"overlay\",\"size\":10,\"solidity\":0.2}},\"type\":\"barpolar\"}],\"carpet\":[{\"aaxis\":{\"endlinecolor\":\"#2a3f5f\",\"gridcolor\":\"white\",\"linecolor\":\"white\",\"minorgridcolor\":\"white\",\"startlinecolor\":\"#2a3f5f\"},\"baxis\":{\"endlinecolor\":\"#2a3f5f\",\"gridcolor\":\"white\",\"linecolor\":\"white\",\"minorgridcolor\":\"white\",\"startlinecolor\":\"#2a3f5f\"},\"type\":\"carpet\"}],\"choropleth\":[{\"colorbar\":{\"outlinewidth\":0,\"ticks\":\"\"},\"type\":\"choropleth\"}],\"contour\":[{\"colorbar\":{\"outlinewidth\":0,\"ticks\":\"\"},\"colorscale\":[[0.0,\"#0d0887\"],[0.1111111111111111,\"#46039f\"],[0.2222222222222222,\"#7201a8\"],[0.3333333333333333,\"#9c179e\"],[0.4444444444444444,\"#bd3786\"],[0.5555555555555556,\"#d8576b\"],[0.6666666666666666,\"#ed7953\"],[0.7777777777777778,\"#fb9f3a\"],[0.8888888888888888,\"#fdca26\"],[1.0,\"#f0f921\"]],\"type\":\"contour\"}],\"contourcarpet\":[{\"colorbar\":{\"outlinewidth\":0,\"ticks\":\"\"},\"type\":\"contourcarpet\"}],\"heatmap\":[{\"colorbar\":{\"outlinewidth\":0,\"ticks\":\"\"},\"colorscale\":[[0.0,\"#0d0887\"],[0.1111111111111111,\"#46039f\"],[0.2222222222222222,\"#7201a8\"],[0.3333333333333333,\"#9c179e\"],[0.4444444444444444,\"#bd3786\"],[0.5555555555555556,\"#d8576b\"],[0.6666666666666666,\"#ed7953\"],[0.7777777777777778,\"#fb9f3a\"],[0.8888888888888888,\"#fdca26\"],[1.0,\"#f0f921\"]],\"type\":\"heatmap\"}],\"heatmapgl\":[{\"colorbar\":{\"outlinewidth\":0,\"ticks\":\"\"},\"colorscale\":[[0.0,\"#0d0887\"],[0.1111111111111111,\"#46039f\"],[0.2222222222222222,\"#7201a8\"],[0.3333333333333333,\"#9c179e\"],[0.4444444444444444,\"#bd3786\"],[0.5555555555555556,\"#d8576b\"],[0.6666666666666666,\"#ed7953\"],[0.7777777777777778,\"#fb9f3a\"],[0.8888888888888888,\"#fdca26\"],[1.0,\"#f0f921\"]],\"type\":\"heatmapgl\"}],\"histogram\":[{\"marker\":{\"pattern\":{\"fillmode\":\"overlay\",\"size\":10,\"solidity\":0.2}},\"type\":\"histogram\"}],\"histogram2d\":[{\"colorbar\":{\"outlinewidth\":0,\"ticks\":\"\"},\"colorscale\":[[0.0,\"#0d0887\"],[0.1111111111111111,\"#46039f\"],[0.2222222222222222,\"#7201a8\"],[0.3333333333333333,\"#9c179e\"],[0.4444444444444444,\"#bd3786\"],[0.5555555555555556,\"#d8576b\"],[0.6666666666666666,\"#ed7953\"],[0.7777777777777778,\"#fb9f3a\"],[0.8888888888888888,\"#fdca26\"],[1.0,\"#f0f921\"]],\"type\":\"histogram2d\"}],\"histogram2dcontour\":[{\"colorbar\":{\"outlinewidth\":0,\"ticks\":\"\"},\"colorscale\":[[0.0,\"#0d0887\"],[0.1111111111111111,\"#46039f\"],[0.2222222222222222,\"#7201a8\"],[0.3333333333333333,\"#9c179e\"],[0.4444444444444444,\"#bd3786\"],[0.5555555555555556,\"#d8576b\"],[0.6666666666666666,\"#ed7953\"],[0.7777777777777778,\"#fb9f3a\"],[0.8888888888888888,\"#fdca26\"],[1.0,\"#f0f921\"]],\"type\":\"histogram2dcontour\"}],\"mesh3d\":[{\"colorbar\":{\"outlinewidth\":0,\"ticks\":\"\"},\"type\":\"mesh3d\"}],\"parcoords\":[{\"line\":{\"colorbar\":{\"outlinewidth\":0,\"ticks\":\"\"}},\"type\":\"parcoords\"}],\"pie\":[{\"automargin\":true,\"type\":\"pie\"}],\"scatter\":[{\"marker\":{\"colorbar\":{\"outlinewidth\":0,\"ticks\":\"\"}},\"type\":\"scatter\"}],\"scatter3d\":[{\"line\":{\"colorbar\":{\"outlinewidth\":0,\"ticks\":\"\"}},\"marker\":{\"colorbar\":{\"outlinewidth\":0,\"ticks\":\"\"}},\"type\":\"scatter3d\"}],\"scattercarpet\":[{\"marker\":{\"colorbar\":{\"outlinewidth\":0,\"ticks\":\"\"}},\"type\":\"scattercarpet\"}],\"scattergeo\":[{\"marker\":{\"colorbar\":{\"outlinewidth\":0,\"ticks\":\"\"}},\"type\":\"scattergeo\"}],\"scattergl\":[{\"marker\":{\"colorbar\":{\"outlinewidth\":0,\"ticks\":\"\"}},\"type\":\"scattergl\"}],\"scattermapbox\":[{\"marker\":{\"colorbar\":{\"outlinewidth\":0,\"ticks\":\"\"}},\"type\":\"scattermapbox\"}],\"scatterpolar\":[{\"marker\":{\"colorbar\":{\"outlinewidth\":0,\"ticks\":\"\"}},\"type\":\"scatterpolar\"}],\"scatterpolargl\":[{\"marker\":{\"colorbar\":{\"outlinewidth\":0,\"ticks\":\"\"}},\"type\":\"scatterpolargl\"}],\"scatterternary\":[{\"marker\":{\"colorbar\":{\"outlinewidth\":0,\"ticks\":\"\"}},\"type\":\"scatterternary\"}],\"surface\":[{\"colorbar\":{\"outlinewidth\":0,\"ticks\":\"\"},\"colorscale\":[[0.0,\"#0d0887\"],[0.1111111111111111,\"#46039f\"],[0.2222222222222222,\"#7201a8\"],[0.3333333333333333,\"#9c179e\"],[0.4444444444444444,\"#bd3786\"],[0.5555555555555556,\"#d8576b\"],[0.6666666666666666,\"#ed7953\"],[0.7777777777777778,\"#fb9f3a\"],[0.8888888888888888,\"#fdca26\"],[1.0,\"#f0f921\"]],\"type\":\"surface\"}],\"table\":[{\"cells\":{\"fill\":{\"color\":\"#EBF0F8\"},\"line\":{\"color\":\"white\"}},\"header\":{\"fill\":{\"color\":\"#C8D4E3\"},\"line\":{\"color\":\"white\"}},\"type\":\"table\"}]},\"layout\":{\"annotationdefaults\":{\"arrowcolor\":\"#2a3f5f\",\"arrowhead\":0,\"arrowwidth\":1},\"autotypenumbers\":\"strict\",\"coloraxis\":{\"colorbar\":{\"outlinewidth\":0,\"ticks\":\"\"}},\"colorscale\":{\"diverging\":[[0,\"#8e0152\"],[0.1,\"#c51b7d\"],[0.2,\"#de77ae\"],[0.3,\"#f1b6da\"],[0.4,\"#fde0ef\"],[0.5,\"#f7f7f7\"],[0.6,\"#e6f5d0\"],[0.7,\"#b8e186\"],[0.8,\"#7fbc41\"],[0.9,\"#4d9221\"],[1,\"#276419\"]],\"sequential\":[[0.0,\"#0d0887\"],[0.1111111111111111,\"#46039f\"],[0.2222222222222222,\"#7201a8\"],[0.3333333333333333,\"#9c179e\"],[0.4444444444444444,\"#bd3786\"],[0.5555555555555556,\"#d8576b\"],[0.6666666666666666,\"#ed7953\"],[0.7777777777777778,\"#fb9f3a\"],[0.8888888888888888,\"#fdca26\"],[1.0,\"#f0f921\"]],\"sequentialminus\":[[0.0,\"#0d0887\"],[0.1111111111111111,\"#46039f\"],[0.2222222222222222,\"#7201a8\"],[0.3333333333333333,\"#9c179e\"],[0.4444444444444444,\"#bd3786\"],[0.5555555555555556,\"#d8576b\"],[0.6666666666666666,\"#ed7953\"],[0.7777777777777778,\"#fb9f3a\"],[0.8888888888888888,\"#fdca26\"],[1.0,\"#f0f921\"]]},\"colorway\":[\"#636efa\",\"#EF553B\",\"#00cc96\",\"#ab63fa\",\"#FFA15A\",\"#19d3f3\",\"#FF6692\",\"#B6E880\",\"#FF97FF\",\"#FECB52\"],\"font\":{\"color\":\"#2a3f5f\"},\"geo\":{\"bgcolor\":\"white\",\"lakecolor\":\"white\",\"landcolor\":\"#E5ECF6\",\"showlakes\":true,\"showland\":true,\"subunitcolor\":\"white\"},\"hoverlabel\":{\"align\":\"left\"},\"hovermode\":\"closest\",\"mapbox\":{\"style\":\"light\"},\"paper_bgcolor\":\"white\",\"plot_bgcolor\":\"#E5ECF6\",\"polar\":{\"angularaxis\":{\"gridcolor\":\"white\",\"linecolor\":\"white\",\"ticks\":\"\"},\"bgcolor\":\"#E5ECF6\",\"radialaxis\":{\"gridcolor\":\"white\",\"linecolor\":\"white\",\"ticks\":\"\"}},\"scene\":{\"xaxis\":{\"backgroundcolor\":\"#E5ECF6\",\"gridcolor\":\"white\",\"gridwidth\":2,\"linecolor\":\"white\",\"showbackground\":true,\"ticks\":\"\",\"zerolinecolor\":\"white\"},\"yaxis\":{\"backgroundcolor\":\"#E5ECF6\",\"gridcolor\":\"white\",\"gridwidth\":2,\"linecolor\":\"white\",\"showbackground\":true,\"ticks\":\"\",\"zerolinecolor\":\"white\"},\"zaxis\":{\"backgroundcolor\":\"#E5ECF6\",\"gridcolor\":\"white\",\"gridwidth\":2,\"linecolor\":\"white\",\"showbackground\":true,\"ticks\":\"\",\"zerolinecolor\":\"white\"}},\"shapedefaults\":{\"line\":{\"color\":\"#2a3f5f\"}},\"ternary\":{\"aaxis\":{\"gridcolor\":\"white\",\"linecolor\":\"white\",\"ticks\":\"\"},\"baxis\":{\"gridcolor\":\"white\",\"linecolor\":\"white\",\"ticks\":\"\"},\"bgcolor\":\"#E5ECF6\",\"caxis\":{\"gridcolor\":\"white\",\"linecolor\":\"white\",\"ticks\":\"\"}},\"title\":{\"x\":0.05},\"xaxis\":{\"automargin\":true,\"gridcolor\":\"white\",\"linecolor\":\"white\",\"ticks\":\"\",\"title\":{\"standoff\":15},\"zerolinecolor\":\"white\",\"zerolinewidth\":2},\"yaxis\":{\"automargin\":true,\"gridcolor\":\"white\",\"linecolor\":\"white\",\"ticks\":\"\",\"title\":{\"standoff\":15},\"zerolinecolor\":\"white\",\"zerolinewidth\":2}}},\"title\":{\"text\":\"Bilanciamento dei dati\"},\"width\":500,\"height\":300},                        {\"responsive\": true}                    ).then(function(){\n",
       "                            \n",
       "var gd = document.getElementById('a96aa358-13ba-4070-87d5-a64a56cdf93a');\n",
       "var x = new MutationObserver(function (mutations, observer) {{\n",
       "        var display = window.getComputedStyle(gd).display;\n",
       "        if (!display || display === 'none') {{\n",
       "            console.log([gd, 'removed!']);\n",
       "            Plotly.purge(gd);\n",
       "            observer.disconnect();\n",
       "        }}\n",
       "}});\n",
       "\n",
       "// Listen for the removal of the full notebook cells\n",
       "var notebookContainer = gd.closest('#notebook-container');\n",
       "if (notebookContainer) {{\n",
       "    x.observe(notebookContainer, {childList: true});\n",
       "}}\n",
       "\n",
       "// Listen for the clearing of the current output cell\n",
       "var outputEl = gd.closest('.output');\n",
       "if (outputEl) {{\n",
       "    x.observe(outputEl, {childList: true});\n",
       "}}\n",
       "\n",
       "                        })                };                });            </script>        </div>"
      ]
     },
     "metadata": {},
     "output_type": "display_data"
    },
    {
     "name": "stdout",
     "output_type": "stream",
     "text": [
      "Check balance: stop\n"
     ]
    }
   ],
   "source": [
    "sa = SentimentAnalyzer(df_sa)\n",
    "sa.preprocess()\n",
    "sa.check_data_balance()"
   ]
  },
  {
   "cell_type": "markdown",
   "id": "8184c056",
   "metadata": {},
   "source": [
    "Come è possibile vedere dai risultati, il dataset che si sta considerando risulta essere sbilanciato: 42253 elementi categorizzati positivi e 5160 elementi negativi.  \n",
    "Come riportato in [Step-By-Step Framework for Imbalanced Classification Projects](https://machinelearningmastery.com/framework-for-imbalanced-classification-projects/) e [Handling imbalanced datasets in machine learning](https://towardsdatascience.com/handling-imbalanced-datasets-in-machine-learning-7a0e84220f28), molti algoritmi di classificazione (binaria o multiclasse) tendono ad assumere che i dati siano bilanciati (le classi nel dataset hanno circa tutte lo stesso numero di sample). Nei casi reali (come quello in esame) però questo è difficile che succeda e molto spesso ci si trova nella situazione in cui una classe prevale sull'altra. La presenza di una classe minoritaria, unita all'esigenza di classificare in maniera corretta questa classe, rende il problema di classificazione sbilanciato molto diffuso nel machine learning applicato. Per potersi muovere in questo scenario è possibile applicare diverse metodologie:\n",
    "* **resampling**: ovvero il ricampionamento dei dati in modo tale da rendere bilanciate le classi. Ne esistono principalmente due tipologie: oversampling (aggiungo elementi della classe minoritare in maniera casuale o con tecniche apposite come *SMOTE* in modo da rendere il numero di elementi di questa classe pari al numero di elementi della classe maggioritaria) e undersampling (ovvero riduco il numero di elementi della classe maggioritaria). Per l'implementazione di queste funzionalità è stato fatto uso della libreria [imbalanced-learn](https://imbalanced-learn.org/stable/), la quale nella sezione riferita alle [Common Pitfall](https://imbalanced-learn.org/stable/common_pitfalls.html) indica esplicitamente che per evitare fenomeni di data leak è importante inserire queste funzionalità nella Pipeline del modello (vedi funzione *set_pipeline_steps()* della classe sopra creata) al fine di effettuare il bilanciamento dei dati solo sul train set e non su tutto il dataset;\n",
    "* **algoritmi cost-sensitive**: come riportato in [Step-By-Step Framework for Imbalanced Classification Projects](https://machinelearningmastery.com/framework-for-imbalanced-classification-projects/) in sezione 3.3.2, gli algoritmi cost-sensitive sono particolari algoritmi di machine learning (LogisticRegression, SVM, DecisionTree, ...) in grado di tenere conto dello sbilanciamento dei dati e quindi potenzialmente di ottenere buoni risultati in questo contesto. E' quindi definito un cosiddetto *misclassification-cost* configurato in modo tale da essere inversamente proporzionale alla distribuzione delle classi nel dataset di addestramento;\n",
    "* esistono poi altre tecniche come l'utilizzo di algoritmi *one-class* (principalmente utilizzati per task di anomaly/outlier detection, ma utili quando lo sbilanciamento delle classi è molto accentuato) oppure tecniche di tuning per definire un nuovo threadshold di previsione (quindi cambiare il valore di soglia di probabilità superato il quale il modello assegna una label positiva (il default è solitamente 0.5)). In questo progetto comunque questi approcci non saranno considerati.  \n",
    "\n",
    "Un ulteriore aspetto importante da tenere in considerazione nel caso di dati sbilanciati è l'utilizzo delle metriche di valutazione dei modelli (riportato in sezione 3.3). La scelte delle stesse risulta infatti importante per poter effettuare stime precise e non trarre conclusioni troppo ottimiste."
   ]
  },
  {
   "cell_type": "markdown",
   "id": "0d8a5e6c",
   "metadata": {},
   "source": [
    "### 3.3 Valutazione e confronto dei modelli  \n",
    "\n",
    "Come riportato in [Handling imbalanced datasets in machine learning](https://towardsdatascience.com/handling-imbalanced-datasets-in-machine-learning-7a0e84220f28), la modalità con cui i modelli sono valutati risulta essere un aspetto molto importante al fine di valutare correttamente le performance reali ed effettive del modello. Indicando con TP=True Positive, TN= True Negative, FP=False Positive e FN=False Negative, di seguito sono quindi descritte brevemente le metriche che solitamente si utilizzano in contesti di classificazione:\n",
    "* **accuracy**: ( (TP+TN)/(TP+TN+FP+FN) ) rappresenta il numero di previsioni corrette diviso il numero totale di previsioni;\n",
    "* **precision**: ( TP/(TP+FP) ) indica in sostanza il grado di affidabilità del modello nel momento in cui effettua una previsione positiva;\n",
    "* **recall**: ( TP/(TP+FN) ) indica la capacità del modello di trovare la classe positiva;\n",
    "* **F1 score**: rappresenta la media armonica tra precision e recall;\n",
    "* **confusion matrix**: si tratta di una [rappresentazione](https://towardsdatascience.com/confusion-matrix-what-is-it-e859e1bbecdc) tabellare che mette in risalto il risultato di un classificatore in termini di TP, TN, FP e FN. vc  \n",
    "\n",
    "Come riportato in [Tour of Evaluation Metrics for Imbalanced Classification](https://machinelearningmastery.com/tour-of-evaluation-metrics-for-imbalanced-classification/) la scelta di metriche appropriate per la valutazione di un modello di machine learning nel caso di dati sbilanciati richiede un'attenzione maggiore rispetto al caso di dati bilanciati. Se ad esempio si decidesse di considerare la metrica *accuracy*, si avrebbe una stima ottimista rispetto alle reali capacità del modello (se lo sbilanciamento è molto marcato, si ottiene un'accuracy elevata utilizzando un modello 'elementare' che classifica solo la classe maggioritaria). Per questo progetto si è quindi deciso di utilizzare la metrica *F1 score* (sia totale che a livello delle singole classi) in modo tale da valutare le prestazioni tenendo conto di entrambi i valori di precision e recall.  \n",
    "\n",
    "La valutazione dei modelli utilizzati è fatta dopo che per ciascuno di questi sono stati trovati gli hyperparameter migliori. Per questo task è stata quindi implementata la relativa funzionalità di grid-search con cross-validation che, come riportato nella [documentazione ufficiale](https://scikit-learn.org/stable/modules/cross_validation.html) di scikitlearn, segue il seguente schema:  \n",
    "\n",
    "<img src='img/grid_search_cross_validation.png' width=500>  \n",
    "\n",
    "Si può quindi vedere che inizialmente i dati originali sono divisi in train e test set, per poi effettuare la grid-search con cross-validation solo sui dati di train ed infine valutare il modello con i parametri migliori sul test set di partenza. Sulla base delle caratteristiche dei dati in esame, la strategia di cross-validation utilizzata è la [StratifiedShuffleSplit](https://scikit-learn.org/stable/modules/cross_validation.html#cross-validation-iterators-with-stratification-based-on-class-labels), la cui capacità di mantenere invariata la proporzione di classi positive e negative in ogni split, rende questo approccio adatto per dati sbilanciati. L'implementazione dei concetti fino a qui descritti è possibile trovarla nella funzione *grid_search_and_evaluate()* della classe *SentimentAnalyzer* descritta nel paragrafo 3.2  \n",
    "\n",
    "### 3.3.1 Confronto tra modelli  \n",
    "\n",
    "Per il task di Sentiment Analysis si è voluto considerare diversi modelli di machine learning al fine di confrontare e capire quale tra questi è più adatto per la problematica in esame. In particolare è stato inzialmente considerato un modello basilare di riferimento (DummyClassifier) per poi utilizzare approcci più complessi come NaiveBayes, ComplementNaiveBayes e LogisticRegressor.  \n",
    "\n",
    "Di seguito è riportato il codice relativo all'implementazione del modello DummyClussifier con le relative metriche di valutazione."
   ]
  },
  {
   "cell_type": "code",
   "execution_count": 295,
   "id": "1eb2f826",
   "metadata": {},
   "outputs": [
    {
     "name": "stdout",
     "output_type": "stream",
     "text": [
      "Grid-search best score (f1_macro): 0.471\n",
      "Grid-search best parameters: {}\n"
     ]
    },
    {
     "data": {
      "text/html": [
       "<div>\n",
       "<style scoped>\n",
       "    .dataframe tbody tr th:only-of-type {\n",
       "        vertical-align: middle;\n",
       "    }\n",
       "\n",
       "    .dataframe tbody tr th {\n",
       "        vertical-align: top;\n",
       "    }\n",
       "\n",
       "    .dataframe thead th {\n",
       "        text-align: right;\n",
       "    }\n",
       "</style>\n",
       "<table border=\"1\" class=\"dataframe\">\n",
       "  <thead>\n",
       "    <tr style=\"text-align: right;\">\n",
       "      <th></th>\n",
       "      <th>0</th>\n",
       "      <th>1</th>\n",
       "      <th>accuracy</th>\n",
       "      <th>macro avg</th>\n",
       "      <th>weighted avg</th>\n",
       "    </tr>\n",
       "  </thead>\n",
       "  <tbody>\n",
       "    <tr>\n",
       "      <th>precision</th>\n",
       "      <td>0.891170</td>\n",
       "      <td>0.0</td>\n",
       "      <td>0.89117</td>\n",
       "      <td>0.445585</td>\n",
       "      <td>0.794184</td>\n",
       "    </tr>\n",
       "    <tr>\n",
       "      <th>recall</th>\n",
       "      <td>1.000000</td>\n",
       "      <td>0.0</td>\n",
       "      <td>0.89117</td>\n",
       "      <td>0.500000</td>\n",
       "      <td>0.891170</td>\n",
       "    </tr>\n",
       "    <tr>\n",
       "      <th>f1-score</th>\n",
       "      <td>0.942454</td>\n",
       "      <td>0.0</td>\n",
       "      <td>0.89117</td>\n",
       "      <td>0.471227</td>\n",
       "      <td>0.839886</td>\n",
       "    </tr>\n",
       "    <tr>\n",
       "      <th>support</th>\n",
       "      <td>12676.000000</td>\n",
       "      <td>1548.0</td>\n",
       "      <td>0.89117</td>\n",
       "      <td>14224.000000</td>\n",
       "      <td>14224.000000</td>\n",
       "    </tr>\n",
       "  </tbody>\n",
       "</table>\n",
       "</div>"
      ],
      "text/plain": [
       "                      0       1  accuracy     macro avg  weighted avg\n",
       "precision      0.891170     0.0   0.89117      0.445585      0.794184\n",
       "recall         1.000000     0.0   0.89117      0.500000      0.891170\n",
       "f1-score       0.942454     0.0   0.89117      0.471227      0.839886\n",
       "support    12676.000000  1548.0   0.89117  14224.000000  14224.000000"
      ]
     },
     "metadata": {},
     "output_type": "display_data"
    },
    {
     "data": {
      "image/png": "[encoded data removed]",
      "text/plain": [
       "<Figure size 432x288 with 2 Axes>"
      ]
     },
     "metadata": {
      "needs_background": "light"
     },
     "output_type": "display_data"
    }
   ],
   "source": [
    "# creazione della pipeline del modello di base DummyClassifier\n",
    "sa.set_pipeline_steps([DummyClassifier(strategy='most_frequent')])\n",
    "\n",
    "# valutazione del modello\n",
    "dummy_res = sa.grid_search_and_evaluate(gs_parameters={})"
   ]
  },
  {
   "cell_type": "markdown",
   "id": "f59272de",
   "metadata": {},
   "source": [
    "[DummyClissifier](https://scikit-learn.org/stable/modules/generated/sklearn.dummy.DummyClassifier.html), impostato con *strategy='most_frequent'* è un modello 'basilare' il cui risultato è rappresentato esclusivamente dalla previsione della label più frequente nel dataset (0 in questo caso).  \n",
    "Dai risultati della valutazione si può vedere che il modello performa con un'accuratezza del 89%. E' chiaro quindi che questo tipo di metrica non ha un riscontro effettivo sulle reali capacità di previsione in quanto è fortemente soggetta allo sbilanciamento dei dati. Si può inoltre vedere che i valori della metrica F1 sono molto elevati per la label 0 e a zero per la label 1.   \n",
    "\n",
    "Dopo aver mostrato che l' *accuracy* in questo caso non è una metrica informativa per le performance del modello, si vuole introdurre un approccio più elaborato rappresentato dal modello [MultinomialNaiveBayes](https://scikit-learn.org/stable/modules/generated/sklearn.naive_bayes.MultinomialNB.html). Si tratta di un modello di classificazione le cui caratteristiche principali sono le seguenti:\n",
    "* rappresenta il documento come *bag-of-word*: a ciascuna parola del documento è assegnata la propria frequenza al suo interno (la posizione delle parole non è tenuta in considerazione);\n",
    "* si basa sulla regola di Bayes per associare la probabilità di una certa classe dato un documento;\n",
    "* il Multinomial Naive Bayes assume inoltre l'indipendenza delle feature (Conditional Independence);\n",
    "* si tratta di un modello robusto rispetto a features irrilevanti.  \n",
    "\n",
    "Di seguito è riportato il codice per l'utilizzo del modello MultinomialNB. Come step basilari della pipeline sono presenti :\n",
    "* [CountVectorizer](https://scikit-learn.org/stable/modules/feature_extraction.html#common-vectorizer-usage): permette di trasformare un corpus di documenti in una matrice in cui ogni riga rappresenta un documento e ciascuna colonna corrisponde ad un certo token (con la relativa frequenza nel documento). Questo processo permette di definire la rappresentazione 'bag-of-word'. Se viene specificato il parametro 'binary=True', allora la frequenza dei termini non è salvata (ma solo la loro presenza nel documento);\n",
    "* [TfIdfTransformer](https://scikit-learn.org/stable/modules/feature_extraction.html#tfidf-term-weighting): (Term Frequency Inverse Document Frequency) esegue una trasformazione assumendo che i termini molto frequenti nel corpus possano offuscare termini più rari ma più rappresentativi.  "
   ]
  },
  {
   "cell_type": "code",
   "execution_count": 296,
   "id": "5487752f",
   "metadata": {},
   "outputs": [
    {
     "name": "stdout",
     "output_type": "stream",
     "text": [
      "Grid-search best score (f1_macro): 0.478\n",
      "Grid-search best parameters: {}\n"
     ]
    },
    {
     "data": {
      "text/html": [
       "<div>\n",
       "<style scoped>\n",
       "    .dataframe tbody tr th:only-of-type {\n",
       "        vertical-align: middle;\n",
       "    }\n",
       "\n",
       "    .dataframe tbody tr th {\n",
       "        vertical-align: top;\n",
       "    }\n",
       "\n",
       "    .dataframe thead th {\n",
       "        text-align: right;\n",
       "    }\n",
       "</style>\n",
       "<table border=\"1\" class=\"dataframe\">\n",
       "  <thead>\n",
       "    <tr style=\"text-align: right;\">\n",
       "      <th></th>\n",
       "      <th>0</th>\n",
       "      <th>1</th>\n",
       "      <th>accuracy</th>\n",
       "      <th>macro avg</th>\n",
       "      <th>weighted avg</th>\n",
       "    </tr>\n",
       "  </thead>\n",
       "  <tbody>\n",
       "    <tr>\n",
       "      <th>precision</th>\n",
       "      <td>0.892057</td>\n",
       "      <td>0.681818</td>\n",
       "      <td>0.891732</td>\n",
       "      <td>0.786938</td>\n",
       "      <td>0.869177</td>\n",
       "    </tr>\n",
       "    <tr>\n",
       "      <th>recall</th>\n",
       "      <td>0.999448</td>\n",
       "      <td>0.009690</td>\n",
       "      <td>0.891732</td>\n",
       "      <td>0.504569</td>\n",
       "      <td>0.891732</td>\n",
       "    </tr>\n",
       "    <tr>\n",
       "      <th>f1-score</th>\n",
       "      <td>0.942704</td>\n",
       "      <td>0.019108</td>\n",
       "      <td>0.891732</td>\n",
       "      <td>0.480906</td>\n",
       "      <td>0.842189</td>\n",
       "    </tr>\n",
       "    <tr>\n",
       "      <th>support</th>\n",
       "      <td>12676.000000</td>\n",
       "      <td>1548.000000</td>\n",
       "      <td>0.891732</td>\n",
       "      <td>14224.000000</td>\n",
       "      <td>14224.000000</td>\n",
       "    </tr>\n",
       "  </tbody>\n",
       "</table>\n",
       "</div>"
      ],
      "text/plain": [
       "                      0            1  accuracy     macro avg  weighted avg\n",
       "precision      0.892057     0.681818  0.891732      0.786938      0.869177\n",
       "recall         0.999448     0.009690  0.891732      0.504569      0.891732\n",
       "f1-score       0.942704     0.019108  0.891732      0.480906      0.842189\n",
       "support    12676.000000  1548.000000  0.891732  14224.000000  14224.000000"
      ]
     },
     "metadata": {},
     "output_type": "display_data"
    },
    {
     "data": {
      "image/png": "[encoded data removed]",
      "text/plain": [
       "<Figure size 432x288 with 2 Axes>"
      ]
     },
     "metadata": {
      "needs_background": "light"
     },
     "output_type": "display_data"
    }
   ],
   "source": [
    "# creazione della pipeline del modello MultinomialNB\n",
    "sa.set_pipeline_steps([CountVectorizer(),\n",
    "                       TfidfTransformer(),\n",
    "                       MultinomialNB(),\n",
    "                      ])\n",
    "\n",
    "# valutazione del modello\n",
    "multinomialNB_res = sa.grid_search_and_evaluate(gs_parameters={})"
   ]
  },
  {
   "cell_type": "markdown",
   "id": "7ce4ccfb",
   "metadata": {},
   "source": [
    "Come è possibile vedere dai risultati, nonstante il valore di *accuracy* sia comunque elevato, è possibile vedere che, a causa dello sbilanciamento dei dati, il modello non riesce a lavorare bene con i dati di classe 1. Per rimediare a questa problematica è possibile fare ricorso a tecniche di resampling opportune specificando il valore *resampling_strategy* nella funzione *grid_search_and_evaluate()*. Di seguito sono riportati i valori in riferimento alle strategie *SMOTE* (di oversampling) e *RandomUnderSampler*. Se la *SMOTE* permette di generare *nuovi campioni* della classe minoritaria (quindi senza replicazione di sample), il *RandomUnderSampler* consente di selezionare in maniera casuale una porzione di sample della classe maggiortaria in modo tale da creare un dataset bilanciato. (Sono state testati anche diversi valori di *class_prior* del modello ma le metodologie di resampling risultano essere più performanti)."
   ]
  },
  {
   "cell_type": "code",
   "execution_count": 297,
   "id": "9aab7509",
   "metadata": {},
   "outputs": [
    {
     "name": "stdout",
     "output_type": "stream",
     "text": [
      "Resampling: SMOTE\n",
      "\n",
      "Grid-search best score (f1_macro): 0.647\n",
      "Grid-search best parameters: {}\n"
     ]
    },
    {
     "data": {
      "text/html": [
       "<div>\n",
       "<style scoped>\n",
       "    .dataframe tbody tr th:only-of-type {\n",
       "        vertical-align: middle;\n",
       "    }\n",
       "\n",
       "    .dataframe tbody tr th {\n",
       "        vertical-align: top;\n",
       "    }\n",
       "\n",
       "    .dataframe thead th {\n",
       "        text-align: right;\n",
       "    }\n",
       "</style>\n",
       "<table border=\"1\" class=\"dataframe\">\n",
       "  <thead>\n",
       "    <tr style=\"text-align: right;\">\n",
       "      <th></th>\n",
       "      <th>0</th>\n",
       "      <th>1</th>\n",
       "      <th>accuracy</th>\n",
       "      <th>macro avg</th>\n",
       "      <th>weighted avg</th>\n",
       "    </tr>\n",
       "  </thead>\n",
       "  <tbody>\n",
       "    <tr>\n",
       "      <th>precision</th>\n",
       "      <td>0.974038</td>\n",
       "      <td>0.308559</td>\n",
       "      <td>0.778895</td>\n",
       "      <td>0.641298</td>\n",
       "      <td>0.901613</td>\n",
       "    </tr>\n",
       "    <tr>\n",
       "      <th>recall</th>\n",
       "      <td>0.772483</td>\n",
       "      <td>0.831395</td>\n",
       "      <td>0.778895</td>\n",
       "      <td>0.801939</td>\n",
       "      <td>0.778895</td>\n",
       "    </tr>\n",
       "    <tr>\n",
       "      <th>f1-score</th>\n",
       "      <td>0.861631</td>\n",
       "      <td>0.450079</td>\n",
       "      <td>0.778895</td>\n",
       "      <td>0.655855</td>\n",
       "      <td>0.816841</td>\n",
       "    </tr>\n",
       "    <tr>\n",
       "      <th>support</th>\n",
       "      <td>12676.000000</td>\n",
       "      <td>1548.000000</td>\n",
       "      <td>0.778895</td>\n",
       "      <td>14224.000000</td>\n",
       "      <td>14224.000000</td>\n",
       "    </tr>\n",
       "  </tbody>\n",
       "</table>\n",
       "</div>"
      ],
      "text/plain": [
       "                      0            1  accuracy     macro avg  weighted avg\n",
       "precision      0.974038     0.308559  0.778895      0.641298      0.901613\n",
       "recall         0.772483     0.831395  0.778895      0.801939      0.778895\n",
       "f1-score       0.861631     0.450079  0.778895      0.655855      0.816841\n",
       "support    12676.000000  1548.000000  0.778895  14224.000000  14224.000000"
      ]
     },
     "metadata": {},
     "output_type": "display_data"
    },
    {
     "data": {
      "image/png": "[encoded data removed]",
      "text/plain": [
       "<Figure size 432x288 with 2 Axes>"
      ]
     },
     "metadata": {
      "needs_background": "light"
     },
     "output_type": "display_data"
    },
    {
     "name": "stdout",
     "output_type": "stream",
     "text": [
      "\n",
      "Resampling: RandomUnderSampler\n",
      "\n",
      "Grid-search best score (f1_macro): 0.58\n",
      "Grid-search best parameters: {}\n"
     ]
    },
    {
     "data": {
      "text/html": [
       "<div>\n",
       "<style scoped>\n",
       "    .dataframe tbody tr th:only-of-type {\n",
       "        vertical-align: middle;\n",
       "    }\n",
       "\n",
       "    .dataframe tbody tr th {\n",
       "        vertical-align: top;\n",
       "    }\n",
       "\n",
       "    .dataframe thead th {\n",
       "        text-align: right;\n",
       "    }\n",
       "</style>\n",
       "<table border=\"1\" class=\"dataframe\">\n",
       "  <thead>\n",
       "    <tr style=\"text-align: right;\">\n",
       "      <th></th>\n",
       "      <th>0</th>\n",
       "      <th>1</th>\n",
       "      <th>accuracy</th>\n",
       "      <th>macro avg</th>\n",
       "      <th>weighted avg</th>\n",
       "    </tr>\n",
       "  </thead>\n",
       "  <tbody>\n",
       "    <tr>\n",
       "      <th>precision</th>\n",
       "      <td>0.985864</td>\n",
       "      <td>0.246125</td>\n",
       "      <td>0.683915</td>\n",
       "      <td>0.615994</td>\n",
       "      <td>0.905358</td>\n",
       "    </tr>\n",
       "    <tr>\n",
       "      <th>recall</th>\n",
       "      <td>0.654702</td>\n",
       "      <td>0.923127</td>\n",
       "      <td>0.683915</td>\n",
       "      <td>0.788914</td>\n",
       "      <td>0.683915</td>\n",
       "    </tr>\n",
       "    <tr>\n",
       "      <th>f1-score</th>\n",
       "      <td>0.786859</td>\n",
       "      <td>0.388632</td>\n",
       "      <td>0.683915</td>\n",
       "      <td>0.587745</td>\n",
       "      <td>0.743520</td>\n",
       "    </tr>\n",
       "    <tr>\n",
       "      <th>support</th>\n",
       "      <td>12676.000000</td>\n",
       "      <td>1548.000000</td>\n",
       "      <td>0.683915</td>\n",
       "      <td>14224.000000</td>\n",
       "      <td>14224.000000</td>\n",
       "    </tr>\n",
       "  </tbody>\n",
       "</table>\n",
       "</div>"
      ],
      "text/plain": [
       "                      0            1  accuracy     macro avg  weighted avg\n",
       "precision      0.985864     0.246125  0.683915      0.615994      0.905358\n",
       "recall         0.654702     0.923127  0.683915      0.788914      0.683915\n",
       "f1-score       0.786859     0.388632  0.683915      0.587745      0.743520\n",
       "support    12676.000000  1548.000000  0.683915  14224.000000  14224.000000"
      ]
     },
     "metadata": {},
     "output_type": "display_data"
    },
    {
     "data": {
      "image/png": "[encoded data removed]",
      "text/plain": [
       "<Figure size 432x288 with 2 Axes>"
      ]
     },
     "metadata": {
      "needs_background": "light"
     },
     "output_type": "display_data"
    }
   ],
   "source": [
    "# creazione della pipeline del modello MultinomialNB con rampling a SMOTE\n",
    "print('Resampling: SMOTE\\n')\n",
    "sa.set_pipeline_steps([CountVectorizer(),\n",
    "                       TfidfTransformer(),\n",
    "                       MultinomialNB(),\n",
    "                      ], resampling_strategy='SMOTE')\n",
    "\n",
    "# valutazione del modello\n",
    "multinomialNB_SMOTE_res = sa.grid_search_and_evaluate(gs_parameters={})\n",
    "\n",
    "\n",
    "# creazione della pipeline del modello MultinomialNB con rampling a RandomUnderSampler\n",
    "print('\\nResampling: RandomUnderSampler\\n')\n",
    "sa.set_pipeline_steps([CountVectorizer(),\n",
    "                       TfidfTransformer(),\n",
    "                       MultinomialNB(),\n",
    "                      ], resampling_strategy='RandomUnderSampler')\n",
    "\n",
    "# valutazione del modello\n",
    "multinomialNB_RandomUnderSampler_res = sa.grid_search_and_evaluate(gs_parameters={})"
   ]
  },
  {
   "cell_type": "markdown",
   "id": "3b982a28",
   "metadata": {},
   "source": [
    "Dai risultati ottenuti è possibile vedere che utlizzando una strategia di resampling a *SMOTE* le performance aumentano sia in termini di *F1_macro* che di *F1* delle singole classi come anche l' *accuracy* generale.  \n",
    "Considerando quindi questa tipologia di resampling, si vuole adesso effettuare un grid-search dei parametri in modo tale da vedere se è possibile migliorare ulteriormente il modello.  \n",
    "E' stato deciso di considerare diverse combinazioni di features e parametri tra cui: \n",
    "* il parametro *alpha* di MultinomialNB (ovvero il parametro di smoothinig del modello);\n",
    "* il parametro *binary* del CountVectorizer (per capire se serve utilizzare la frequenza dei termini);\n",
    "* diversi range di *n-gram* del CountVectorize da considerare come feature;\n",
    "* il parametro *use_idf* del TfidfTransformer (ovvero se considerare o meno l'Inverse Document Frequency); "
   ]
  },
  {
   "cell_type": "code",
   "execution_count": 298,
   "id": "8b87f319",
   "metadata": {},
   "outputs": [
    {
     "name": "stdout",
     "output_type": "stream",
     "text": [
      "Grid-search best score (f1_macro): 0.686\n",
      "Grid-search best parameters: {'countvectorizer__binary': True, 'countvectorizer__ngram_range': (1, 2), 'multinomialnb__alpha': 1, 'tfidftransformer__use_idf': True}\n"
     ]
    },
    {
     "data": {
      "text/html": [
       "<div>\n",
       "<style scoped>\n",
       "    .dataframe tbody tr th:only-of-type {\n",
       "        vertical-align: middle;\n",
       "    }\n",
       "\n",
       "    .dataframe tbody tr th {\n",
       "        vertical-align: top;\n",
       "    }\n",
       "\n",
       "    .dataframe thead th {\n",
       "        text-align: right;\n",
       "    }\n",
       "</style>\n",
       "<table border=\"1\" class=\"dataframe\">\n",
       "  <thead>\n",
       "    <tr style=\"text-align: right;\">\n",
       "      <th></th>\n",
       "      <th>0</th>\n",
       "      <th>1</th>\n",
       "      <th>accuracy</th>\n",
       "      <th>macro avg</th>\n",
       "      <th>weighted avg</th>\n",
       "    </tr>\n",
       "  </thead>\n",
       "  <tbody>\n",
       "    <tr>\n",
       "      <th>precision</th>\n",
       "      <td>0.965724</td>\n",
       "      <td>0.363101</td>\n",
       "      <td>0.829092</td>\n",
       "      <td>0.664412</td>\n",
       "      <td>0.900141</td>\n",
       "    </tr>\n",
       "    <tr>\n",
       "      <th>recall</th>\n",
       "      <td>0.837962</td>\n",
       "      <td>0.756460</td>\n",
       "      <td>0.829092</td>\n",
       "      <td>0.797211</td>\n",
       "      <td>0.829092</td>\n",
       "    </tr>\n",
       "    <tr>\n",
       "      <th>f1-score</th>\n",
       "      <td>0.897318</td>\n",
       "      <td>0.490677</td>\n",
       "      <td>0.829092</td>\n",
       "      <td>0.693997</td>\n",
       "      <td>0.853063</td>\n",
       "    </tr>\n",
       "    <tr>\n",
       "      <th>support</th>\n",
       "      <td>12676.000000</td>\n",
       "      <td>1548.000000</td>\n",
       "      <td>0.829092</td>\n",
       "      <td>14224.000000</td>\n",
       "      <td>14224.000000</td>\n",
       "    </tr>\n",
       "  </tbody>\n",
       "</table>\n",
       "</div>"
      ],
      "text/plain": [
       "                      0            1  accuracy     macro avg  weighted avg\n",
       "precision      0.965724     0.363101  0.829092      0.664412      0.900141\n",
       "recall         0.837962     0.756460  0.829092      0.797211      0.829092\n",
       "f1-score       0.897318     0.490677  0.829092      0.693997      0.853063\n",
       "support    12676.000000  1548.000000  0.829092  14224.000000  14224.000000"
      ]
     },
     "metadata": {},
     "output_type": "display_data"
    },
    {
     "data": {
      "image/png": "[encoded data removed]",
      "text/plain": [
       "<Figure size 432x288 with 2 Axes>"
      ]
     },
     "metadata": {
      "needs_background": "light"
     },
     "output_type": "display_data"
    }
   ],
   "source": [
    "# creazione della pipeline del modello MultinomialNB con resampling a SMOTE\n",
    "sa.set_pipeline_steps([CountVectorizer(stop_words=sa.stopwords),\n",
    "                       TfidfTransformer(),\n",
    "                       MultinomialNB(),\n",
    "                      ], resampling_strategy='SMOTE')\n",
    "\n",
    "# settaggio parametri per grid search\n",
    "parameters_ = {\n",
    "    'multinomialnb__alpha': (0.5, 1),\n",
    "    'countvectorizer__binary': (True, False),\n",
    "    'countvectorizer__ngram_range': [(1,1), (1,2)],\n",
    "    'tfidftransformer__use_idf': (True, False),\n",
    "}\n",
    "\n",
    "multinomialNB_res = sa.grid_search_and_evaluate(gs_parameters=parameters_)"
   ]
  },
  {
   "cell_type": "markdown",
   "id": "887666a4",
   "metadata": {},
   "source": [
    "Dai risultati ottenuti dal grid-search, è possibile vedere un miglioramento rispetto alla versione precedente senza tuning dei parametri (con il resampling a *SMOTE*). In particolare infatti si vede un aumento in termini di *F1* (sia macro che riferita a ciascuna classe) ed anche rispetto al valore di *accuracy.*  \n",
    "\n",
    "Un ulteriore modello di classifiacazione è rappresentato dal [ComplementNaiveBayes](https://scikit-learn.org/stable/modules/generated/sklearn.naive_bayes.ComplementNB.html), ovvero una variante del MultinomialNaiveBayes ma più adatto in problemi in cui il dataset è sbilanciato. Il [meccanismo](https://www.geeksforgeeks.org/complement-naive-bayes-cnb-algorithm/) che ne sta alla base si può riassumere brevente nei seguenti passaggi:\n",
    "* per ogni classe calcola la probabilità che un certo documento NON appartenga ad essa;\n",
    "* dopo aver calcolato questo valore per ogni classe, è selezionata quella con probabilità MINORE. E' selezionata quindi la classe che ha la probabilità minore che il documento non appartenga ad essa (ovvero la probabilità maggiore che questo appartenga alla classe).  \n",
    "\n",
    "Di seguito è riportato il codice relativo alla creazione del modello *ComplementNB* (con la relativa grid-search)."
   ]
  },
  {
   "cell_type": "code",
   "execution_count": 299,
   "id": "84ec499a",
   "metadata": {},
   "outputs": [
    {
     "name": "stdout",
     "output_type": "stream",
     "text": [
      "Grid-search best score (f1_macro): 0.68\n",
      "Grid-search best parameters: {'complementnb__alpha': 1, 'complementnb__norm': False, 'countvectorizer__binary': False, 'countvectorizer__ngram_range': (1, 1), 'tfidftransformer__use_idf': False}\n"
     ]
    },
    {
     "data": {
      "text/html": [
       "<div>\n",
       "<style scoped>\n",
       "    .dataframe tbody tr th:only-of-type {\n",
       "        vertical-align: middle;\n",
       "    }\n",
       "\n",
       "    .dataframe tbody tr th {\n",
       "        vertical-align: top;\n",
       "    }\n",
       "\n",
       "    .dataframe thead th {\n",
       "        text-align: right;\n",
       "    }\n",
       "</style>\n",
       "<table border=\"1\" class=\"dataframe\">\n",
       "  <thead>\n",
       "    <tr style=\"text-align: right;\">\n",
       "      <th></th>\n",
       "      <th>0</th>\n",
       "      <th>1</th>\n",
       "      <th>accuracy</th>\n",
       "      <th>macro avg</th>\n",
       "      <th>weighted avg</th>\n",
       "    </tr>\n",
       "  </thead>\n",
       "  <tbody>\n",
       "    <tr>\n",
       "      <th>precision</th>\n",
       "      <td>0.945693</td>\n",
       "      <td>0.398226</td>\n",
       "      <td>0.8589</td>\n",
       "      <td>0.671960</td>\n",
       "      <td>0.886112</td>\n",
       "    </tr>\n",
       "    <tr>\n",
       "      <th>recall</th>\n",
       "      <td>0.892947</td>\n",
       "      <td>0.580103</td>\n",
       "      <td>0.8589</td>\n",
       "      <td>0.736525</td>\n",
       "      <td>0.858900</td>\n",
       "    </tr>\n",
       "    <tr>\n",
       "      <th>f1-score</th>\n",
       "      <td>0.918564</td>\n",
       "      <td>0.472259</td>\n",
       "      <td>0.8589</td>\n",
       "      <td>0.695411</td>\n",
       "      <td>0.869992</td>\n",
       "    </tr>\n",
       "    <tr>\n",
       "      <th>support</th>\n",
       "      <td>12676.000000</td>\n",
       "      <td>1548.000000</td>\n",
       "      <td>0.8589</td>\n",
       "      <td>14224.000000</td>\n",
       "      <td>14224.000000</td>\n",
       "    </tr>\n",
       "  </tbody>\n",
       "</table>\n",
       "</div>"
      ],
      "text/plain": [
       "                      0            1  accuracy     macro avg  weighted avg\n",
       "precision      0.945693     0.398226    0.8589      0.671960      0.886112\n",
       "recall         0.892947     0.580103    0.8589      0.736525      0.858900\n",
       "f1-score       0.918564     0.472259    0.8589      0.695411      0.869992\n",
       "support    12676.000000  1548.000000    0.8589  14224.000000  14224.000000"
      ]
     },
     "metadata": {},
     "output_type": "display_data"
    },
    {
     "data": {
      "image/png": "[encoded data removed]",
      "text/plain": [
       "<Figure size 432x288 with 2 Axes>"
      ]
     },
     "metadata": {
      "needs_background": "light"
     },
     "output_type": "display_data"
    }
   ],
   "source": [
    "# creazione della pipeline del modello ComplementNB\n",
    "sa.set_pipeline_steps([CountVectorizer(stop_words=sa.stopwords),\n",
    "                       TfidfTransformer(),\n",
    "                       ComplementNB(),\n",
    "                      ])\n",
    "\n",
    "# settaggio parametri per grid search\n",
    "parameters_ = {\n",
    "    'complementnb__alpha': (0.5, 1),\n",
    "    'complementnb__norm': (True, False),\n",
    "    'countvectorizer__binary': (True, False),\n",
    "    'countvectorizer__ngram_range': [(1,1), (1,2)],\n",
    "    'tfidftransformer__use_idf': (True, False),\n",
    "}\n",
    "\n",
    "complementNB_res = sa.grid_search_and_evaluate(gs_parameters=parameters_)"
   ]
  },
  {
   "cell_type": "markdown",
   "id": "b0525a5c",
   "metadata": {},
   "source": [
    "Dai risultati sopra riportati si può quindi vedere che, anche senza l'utilizzo di tecniche di ricampionamento dei dati, questo modello ha perfomance comparabili al *MultinomialNB* con *SMOTE* (anche se leggermente inferiori in termini di *F1* macro, per classe e *accuracy*).  \n",
    "\n",
    "Come ultimo modello, è stato considerato il [LogisticRegression](https://scikit-learn.org/stable/modules/generated/sklearn.linear_model.LogisticRegression.html) (anche chiamato *logit regression*, *maximum-entropy* o *log-linear classifier*). Si tratta sostanzialmente di un modello di classificazione, il cui funzionamento è paragonabile ad un modello di regressione con la differenza però che l'output è poi processato da una funzione logistica (caso particolare di una sigmoide). Il risultato sarà quindi sempre un valore categorico (0 o 1). Questo algoritmo ha inoltre la caratteristica di essere cost-sensitive, in quanto è possibile specificare un certo peso per ciascuna delle classi presenti nel dataset e quindi risulta essere predisposto in problemi con dati sbilanciati.\n",
    "Senza entrare nei dettagli specifici, si vuole di seguito riportare il codice relativo all'implementazione del modello LogisticRegression con il relativo grid-search dei parametri megliori."
   ]
  },
  {
   "cell_type": "code",
   "execution_count": 300,
   "id": "999de096",
   "metadata": {},
   "outputs": [
    {
     "name": "stdout",
     "output_type": "stream",
     "text": [
      "Grid-search best score (f1_macro): 0.683\n",
      "Grid-search best parameters: {'countvectorizer__max_df': 0.5, 'logisticregression__C': 1.0, 'logisticregression__class_weight': 'balanced', 'logisticregression__solver': 'newton-cg'}\n"
     ]
    },
    {
     "data": {
      "text/html": [
       "<div>\n",
       "<style scoped>\n",
       "    .dataframe tbody tr th:only-of-type {\n",
       "        vertical-align: middle;\n",
       "    }\n",
       "\n",
       "    .dataframe tbody tr th {\n",
       "        vertical-align: top;\n",
       "    }\n",
       "\n",
       "    .dataframe thead th {\n",
       "        text-align: right;\n",
       "    }\n",
       "</style>\n",
       "<table border=\"1\" class=\"dataframe\">\n",
       "  <thead>\n",
       "    <tr style=\"text-align: right;\">\n",
       "      <th></th>\n",
       "      <th>0</th>\n",
       "      <th>1</th>\n",
       "      <th>accuracy</th>\n",
       "      <th>macro avg</th>\n",
       "      <th>weighted avg</th>\n",
       "    </tr>\n",
       "  </thead>\n",
       "  <tbody>\n",
       "    <tr>\n",
       "      <th>precision</th>\n",
       "      <td>0.966554</td>\n",
       "      <td>0.357294</td>\n",
       "      <td>0.824733</td>\n",
       "      <td>0.661924</td>\n",
       "      <td>0.900248</td>\n",
       "    </tr>\n",
       "    <tr>\n",
       "      <th>recall</th>\n",
       "      <td>0.832124</td>\n",
       "      <td>0.764212</td>\n",
       "      <td>0.824733</td>\n",
       "      <td>0.798168</td>\n",
       "      <td>0.824733</td>\n",
       "    </tr>\n",
       "    <tr>\n",
       "      <th>f1-score</th>\n",
       "      <td>0.894315</td>\n",
       "      <td>0.486931</td>\n",
       "      <td>0.824733</td>\n",
       "      <td>0.690623</td>\n",
       "      <td>0.849980</td>\n",
       "    </tr>\n",
       "    <tr>\n",
       "      <th>support</th>\n",
       "      <td>12676.000000</td>\n",
       "      <td>1548.000000</td>\n",
       "      <td>0.824733</td>\n",
       "      <td>14224.000000</td>\n",
       "      <td>14224.000000</td>\n",
       "    </tr>\n",
       "  </tbody>\n",
       "</table>\n",
       "</div>"
      ],
      "text/plain": [
       "                      0            1  accuracy     macro avg  weighted avg\n",
       "precision      0.966554     0.357294  0.824733      0.661924      0.900248\n",
       "recall         0.832124     0.764212  0.824733      0.798168      0.824733\n",
       "f1-score       0.894315     0.486931  0.824733      0.690623      0.849980\n",
       "support    12676.000000  1548.000000  0.824733  14224.000000  14224.000000"
      ]
     },
     "metadata": {},
     "output_type": "display_data"
    },
    {
     "data": {
      "image/png": "[encoded data removed]",
      "text/plain": [
       "<Figure size 432x288 with 2 Axes>"
      ]
     },
     "metadata": {
      "needs_background": "light"
     },
     "output_type": "display_data"
    }
   ],
   "source": [
    "# creazione della pipeline del modello LogisticRegression\n",
    "sa.set_pipeline_steps([CountVectorizer(stop_words=sa.stopwords, ngram_range=(1,2)),\n",
    "                       TfidfTransformer(),\n",
    "                       LogisticRegression(),\n",
    "                      ])\n",
    "\n",
    "# settaggio parametri per grid search\n",
    "parameters_ = {\n",
    "    'logisticregression__class_weight': (None, 'balanced'),\n",
    "    'logisticregression__solver': ('newton-cg', 'saga'),\n",
    "    'logisticregression__C': (0.8, 1.0),\n",
    "    'countvectorizer__max_df': [0.5, 1],\n",
    "}\n",
    "\n",
    "logisticRegression_res = sa.grid_search_and_evaluate(gs_parameters=parameters_)"
   ]
  },
  {
   "cell_type": "markdown",
   "id": "bc90e85f",
   "metadata": {},
   "source": [
    "Come è possibile notare, i valori di *F1* (sia macro che per le classi) sono molto in linea con quelle dei risultati precedenti.\n",
    "\n",
    "Sulla base dei risultati fino a qui ottenuti, si vuole adesso mettere a confronto in maniera più chiara le perfomance dei diversi modelli considerati in funzione delle metriche: *F1 macro*, *F1* per la classe 0, *F1* per classe 1 e *accurcay* (quest'ultima è visualizzata, ma come detto in precedenza è poco informativa in questo caso)."
   ]
  },
  {
   "cell_type": "code",
   "execution_count": 301,
   "id": "ed406472",
   "metadata": {
    "scrolled": false
   },
   "outputs": [
    {
     "data": {
      "application/vnd.plotly.v1+json": {
       "config": {
        "plotlyServerURL": "https://plot.ly"
       },
       "data": [
        {
         "marker": {
          "color": [
           "rgb(55, 83, 9)",
           "rgb(55, 83, 59)",
           "rgb(55, 83, 109)",
           "rgb(55, 83, 249)"
          ]
         },
         "name": "",
         "type": "bar",
         "x": [
          "MNB_Undersamp",
          "MNB_SMOTE",
          "CNB",
          "LR"
         ],
         "y": [
          0.5877454297003153,
          0.6939972845318981,
          0.6954111731312485,
          0.6906233071353096
         ]
        }
       ],
       "layout": {
        "height": 550,
        "template": {
         "data": {
          "bar": [
           {
            "error_x": {
             "color": "#2a3f5f"
            },
            "error_y": {
             "color": "#2a3f5f"
            },
            "marker": {
             "line": {
              "color": "#E5ECF6",
              "width": 0.5
             },
             "pattern": {
              "fillmode": "overlay",
              "size": 10,
              "solidity": 0.2
             }
            },
            "type": "bar"
           }
          ],
          "barpolar": [
           {
            "marker": {
             "line": {
              "color": "#E5ECF6",
              "width": 0.5
             },
             "pattern": {
              "fillmode": "overlay",
              "size": 10,
              "solidity": 0.2
             }
            },
            "type": "barpolar"
           }
          ],
          "carpet": [
           {
            "aaxis": {
             "endlinecolor": "#2a3f5f",
             "gridcolor": "white",
             "linecolor": "white",
             "minorgridcolor": "white",
             "startlinecolor": "#2a3f5f"
            },
            "baxis": {
             "endlinecolor": "#2a3f5f",
             "gridcolor": "white",
             "linecolor": "white",
             "minorgridcolor": "white",
             "startlinecolor": "#2a3f5f"
            },
            "type": "carpet"
           }
          ],
          "choropleth": [
           {
            "colorbar": {
             "outlinewidth": 0,
             "ticks": ""
            },
            "type": "choropleth"
           }
          ],
          "contour": [
           {
            "colorbar": {
             "outlinewidth": 0,
             "ticks": ""
            },
            "colorscale": [
             [
              0,
              "#0d0887"
             ],
             [
              0.1111111111111111,
              "#46039f"
             ],
             [
              0.2222222222222222,
              "#7201a8"
             ],
             [
              0.3333333333333333,
              "#9c179e"
             ],
             [
              0.4444444444444444,
              "#bd3786"
             ],
             [
              0.5555555555555556,
              "#d8576b"
             ],
             [
              0.6666666666666666,
              "#ed7953"
             ],
             [
              0.7777777777777778,
              "#fb9f3a"
             ],
             [
              0.8888888888888888,
              "#fdca26"
             ],
             [
              1,
              "#f0f921"
             ]
            ],
            "type": "contour"
           }
          ],
          "contourcarpet": [
           {
            "colorbar": {
             "outlinewidth": 0,
             "ticks": ""
            },
            "type": "contourcarpet"
           }
          ],
          "heatmap": [
           {
            "colorbar": {
             "outlinewidth": 0,
             "ticks": ""
            },
            "colorscale": [
             [
              0,
              "#0d0887"
             ],
             [
              0.1111111111111111,
              "#46039f"
             ],
             [
              0.2222222222222222,
              "#7201a8"
             ],
             [
              0.3333333333333333,
              "#9c179e"
             ],
             [
              0.4444444444444444,
              "#bd3786"
             ],
             [
              0.5555555555555556,
              "#d8576b"
             ],
             [
              0.6666666666666666,
              "#ed7953"
             ],
             [
              0.7777777777777778,
              "#fb9f3a"
             ],
             [
              0.8888888888888888,
              "#fdca26"
             ],
             [
              1,
              "#f0f921"
             ]
            ],
            "type": "heatmap"
           }
          ],
          "heatmapgl": [
           {
            "colorbar": {
             "outlinewidth": 0,
             "ticks": ""
            },
            "colorscale": [
             [
              0,
              "#0d0887"
             ],
             [
              0.1111111111111111,
              "#46039f"
             ],
             [
              0.2222222222222222,
              "#7201a8"
             ],
             [
              0.3333333333333333,
              "#9c179e"
             ],
             [
              0.4444444444444444,
              "#bd3786"
             ],
             [
              0.5555555555555556,
              "#d8576b"
             ],
             [
              0.6666666666666666,
              "#ed7953"
             ],
             [
              0.7777777777777778,
              "#fb9f3a"
             ],
             [
              0.8888888888888888,
              "#fdca26"
             ],
             [
              1,
              "#f0f921"
             ]
            ],
            "type": "heatmapgl"
           }
          ],
          "histogram": [
           {
            "marker": {
             "pattern": {
              "fillmode": "overlay",
              "size": 10,
              "solidity": 0.2
             }
            },
            "type": "histogram"
           }
          ],
          "histogram2d": [
           {
            "colorbar": {
             "outlinewidth": 0,
             "ticks": ""
            },
            "colorscale": [
             [
              0,
              "#0d0887"
             ],
             [
              0.1111111111111111,
              "#46039f"
             ],
             [
              0.2222222222222222,
              "#7201a8"
             ],
             [
              0.3333333333333333,
              "#9c179e"
             ],
             [
              0.4444444444444444,
              "#bd3786"
             ],
             [
              0.5555555555555556,
              "#d8576b"
             ],
             [
              0.6666666666666666,
              "#ed7953"
             ],
             [
              0.7777777777777778,
              "#fb9f3a"
             ],
             [
              0.8888888888888888,
              "#fdca26"
             ],
             [
              1,
              "#f0f921"
             ]
            ],
            "type": "histogram2d"
           }
          ],
          "histogram2dcontour": [
           {
            "colorbar": {
             "outlinewidth": 0,
             "ticks": ""
            },
            "colorscale": [
             [
              0,
              "#0d0887"
             ],
             [
              0.1111111111111111,
              "#46039f"
             ],
             [
              0.2222222222222222,
              "#7201a8"
             ],
             [
              0.3333333333333333,
              "#9c179e"
             ],
             [
              0.4444444444444444,
              "#bd3786"
             ],
             [
              0.5555555555555556,
              "#d8576b"
             ],
             [
              0.6666666666666666,
              "#ed7953"
             ],
             [
              0.7777777777777778,
              "#fb9f3a"
             ],
             [
              0.8888888888888888,
              "#fdca26"
             ],
             [
              1,
              "#f0f921"
             ]
            ],
            "type": "histogram2dcontour"
           }
          ],
          "mesh3d": [
           {
            "colorbar": {
             "outlinewidth": 0,
             "ticks": ""
            },
            "type": "mesh3d"
           }
          ],
          "parcoords": [
           {
            "line": {
             "colorbar": {
              "outlinewidth": 0,
              "ticks": ""
             }
            },
            "type": "parcoords"
           }
          ],
          "pie": [
           {
            "automargin": true,
            "type": "pie"
           }
          ],
          "scatter": [
           {
            "marker": {
             "colorbar": {
              "outlinewidth": 0,
              "ticks": ""
             }
            },
            "type": "scatter"
           }
          ],
          "scatter3d": [
           {
            "line": {
             "colorbar": {
              "outlinewidth": 0,
              "ticks": ""
             }
            },
            "marker": {
             "colorbar": {
              "outlinewidth": 0,
              "ticks": ""
             }
            },
            "type": "scatter3d"
           }
          ],
          "scattercarpet": [
           {
            "marker": {
             "colorbar": {
              "outlinewidth": 0,
              "ticks": ""
             }
            },
            "type": "scattercarpet"
           }
          ],
          "scattergeo": [
           {
            "marker": {
             "colorbar": {
              "outlinewidth": 0,
              "ticks": ""
             }
            },
            "type": "scattergeo"
           }
          ],
          "scattergl": [
           {
            "marker": {
             "colorbar": {
              "outlinewidth": 0,
              "ticks": ""
             }
            },
            "type": "scattergl"
           }
          ],
          "scattermapbox": [
           {
            "marker": {
             "colorbar": {
              "outlinewidth": 0,
              "ticks": ""
             }
            },
            "type": "scattermapbox"
           }
          ],
          "scatterpolar": [
           {
            "marker": {
             "colorbar": {
              "outlinewidth": 0,
              "ticks": ""
             }
            },
            "type": "scatterpolar"
           }
          ],
          "scatterpolargl": [
           {
            "marker": {
             "colorbar": {
              "outlinewidth": 0,
              "ticks": ""
             }
            },
            "type": "scatterpolargl"
           }
          ],
          "scatterternary": [
           {
            "marker": {
             "colorbar": {
              "outlinewidth": 0,
              "ticks": ""
             }
            },
            "type": "scatterternary"
           }
          ],
          "surface": [
           {
            "colorbar": {
             "outlinewidth": 0,
             "ticks": ""
            },
            "colorscale": [
             [
              0,
              "#0d0887"
             ],
             [
              0.1111111111111111,
              "#46039f"
             ],
             [
              0.2222222222222222,
              "#7201a8"
             ],
             [
              0.3333333333333333,
              "#9c179e"
             ],
             [
              0.4444444444444444,
              "#bd3786"
             ],
             [
              0.5555555555555556,
              "#d8576b"
             ],
             [
              0.6666666666666666,
              "#ed7953"
             ],
             [
              0.7777777777777778,
              "#fb9f3a"
             ],
             [
              0.8888888888888888,
              "#fdca26"
             ],
             [
              1,
              "#f0f921"
             ]
            ],
            "type": "surface"
           }
          ],
          "table": [
           {
            "cells": {
             "fill": {
              "color": "#EBF0F8"
             },
             "line": {
              "color": "white"
             }
            },
            "header": {
             "fill": {
              "color": "#C8D4E3"
             },
             "line": {
              "color": "white"
             }
            },
            "type": "table"
           }
          ]
         },
         "layout": {
          "annotationdefaults": {
           "arrowcolor": "#2a3f5f",
           "arrowhead": 0,
           "arrowwidth": 1
          },
          "autotypenumbers": "strict",
          "coloraxis": {
           "colorbar": {
            "outlinewidth": 0,
            "ticks": ""
           }
          },
          "colorscale": {
           "diverging": [
            [
             0,
             "#8e0152"
            ],
            [
             0.1,
             "#c51b7d"
            ],
            [
             0.2,
             "#de77ae"
            ],
            [
             0.3,
             "#f1b6da"
            ],
            [
             0.4,
             "#fde0ef"
            ],
            [
             0.5,
             "#f7f7f7"
            ],
            [
             0.6,
             "#e6f5d0"
            ],
            [
             0.7,
             "#b8e186"
            ],
            [
             0.8,
             "#7fbc41"
            ],
            [
             0.9,
             "#4d9221"
            ],
            [
             1,
             "#276419"
            ]
           ],
           "sequential": [
            [
             0,
             "#0d0887"
            ],
            [
             0.1111111111111111,
             "#46039f"
            ],
            [
             0.2222222222222222,
             "#7201a8"
            ],
            [
             0.3333333333333333,
             "#9c179e"
            ],
            [
             0.4444444444444444,
             "#bd3786"
            ],
            [
             0.5555555555555556,
             "#d8576b"
            ],
            [
             0.6666666666666666,
             "#ed7953"
            ],
            [
             0.7777777777777778,
             "#fb9f3a"
            ],
            [
             0.8888888888888888,
             "#fdca26"
            ],
            [
             1,
             "#f0f921"
            ]
           ],
           "sequentialminus": [
            [
             0,
             "#0d0887"
            ],
            [
             0.1111111111111111,
             "#46039f"
            ],
            [
             0.2222222222222222,
             "#7201a8"
            ],
            [
             0.3333333333333333,
             "#9c179e"
            ],
            [
             0.4444444444444444,
             "#bd3786"
            ],
            [
             0.5555555555555556,
             "#d8576b"
            ],
            [
             0.6666666666666666,
             "#ed7953"
            ],
            [
             0.7777777777777778,
             "#fb9f3a"
            ],
            [
             0.8888888888888888,
             "#fdca26"
            ],
            [
             1,
             "#f0f921"
            ]
           ]
          },
          "colorway": [
           "#636efa",
           "#EF553B",
           "#00cc96",
           "#ab63fa",
           "#FFA15A",
           "#19d3f3",
           "#FF6692",
           "#B6E880",
           "#FF97FF",
           "#FECB52"
          ],
          "font": {
           "color": "#2a3f5f"
          },
          "geo": {
           "bgcolor": "white",
           "lakecolor": "white",
           "landcolor": "#E5ECF6",
           "showlakes": true,
           "showland": true,
           "subunitcolor": "white"
          },
          "hoverlabel": {
           "align": "left"
          },
          "hovermode": "closest",
          "mapbox": {
           "style": "light"
          },
          "paper_bgcolor": "white",
          "plot_bgcolor": "#E5ECF6",
          "polar": {
           "angularaxis": {
            "gridcolor": "white",
            "linecolor": "white",
            "ticks": ""
           },
           "bgcolor": "#E5ECF6",
           "radialaxis": {
            "gridcolor": "white",
            "linecolor": "white",
            "ticks": ""
           }
          },
          "scene": {
           "xaxis": {
            "backgroundcolor": "#E5ECF6",
            "gridcolor": "white",
            "gridwidth": 2,
            "linecolor": "white",
            "showbackground": true,
            "ticks": "",
            "zerolinecolor": "white"
           },
           "yaxis": {
            "backgroundcolor": "#E5ECF6",
            "gridcolor": "white",
            "gridwidth": 2,
            "linecolor": "white",
            "showbackground": true,
            "ticks": "",
            "zerolinecolor": "white"
           },
           "zaxis": {
            "backgroundcolor": "#E5ECF6",
            "gridcolor": "white",
            "gridwidth": 2,
            "linecolor": "white",
            "showbackground": true,
            "ticks": "",
            "zerolinecolor": "white"
           }
          },
          "shapedefaults": {
           "line": {
            "color": "#2a3f5f"
           }
          },
          "ternary": {
           "aaxis": {
            "gridcolor": "white",
            "linecolor": "white",
            "ticks": ""
           },
           "baxis": {
            "gridcolor": "white",
            "linecolor": "white",
            "ticks": ""
           },
           "bgcolor": "#E5ECF6",
           "caxis": {
            "gridcolor": "white",
            "linecolor": "white",
            "ticks": ""
           }
          },
          "title": {
           "x": 0.05
          },
          "xaxis": {
           "automargin": true,
           "gridcolor": "white",
           "linecolor": "white",
           "ticks": "",
           "title": {
            "standoff": 15
           },
           "zerolinecolor": "white",
           "zerolinewidth": 2
          },
          "yaxis": {
           "automargin": true,
           "gridcolor": "white",
           "linecolor": "white",
           "ticks": "",
           "title": {
            "standoff": 15
           },
           "zerolinecolor": "white",
           "zerolinewidth": 2
          }
         }
        },
        "title": {
         "text": "Comparazione metrica 'f1-score' (macro)"
        },
        "width": 800
       }
      },
      "text/html": [
       "<div>                            <div id=\"4a2e285c-4ff3-4044-ac10-291e76b21b52\" class=\"plotly-graph-div\" style=\"height:550px; width:800px;\"></div>            <script type=\"text/javascript\">                require([\"plotly\"], function(Plotly) {                    window.PLOTLYENV=window.PLOTLYENV || {};                                    if (document.getElementById(\"4a2e285c-4ff3-4044-ac10-291e76b21b52\")) {                    Plotly.newPlot(                        \"4a2e285c-4ff3-4044-ac10-291e76b21b52\",                        [{\"marker\":{\"color\":[\"rgb(55, 83, 9)\",\"rgb(55, 83, 59)\",\"rgb(55, 83, 109)\",\"rgb(55, 83, 249)\"]},\"name\":\"\",\"x\":[\"MNB_Undersamp\",\"MNB_SMOTE\",\"CNB\",\"LR\"],\"y\":[0.5877454297003153,0.6939972845318981,0.6954111731312485,0.6906233071353096],\"type\":\"bar\"}],                        {\"template\":{\"data\":{\"bar\":[{\"error_x\":{\"color\":\"#2a3f5f\"},\"error_y\":{\"color\":\"#2a3f5f\"},\"marker\":{\"line\":{\"color\":\"#E5ECF6\",\"width\":0.5},\"pattern\":{\"fillmode\":\"overlay\",\"size\":10,\"solidity\":0.2}},\"type\":\"bar\"}],\"barpolar\":[{\"marker\":{\"line\":{\"color\":\"#E5ECF6\",\"width\":0.5},\"pattern\":{\"fillmode\":\"overlay\",\"size\":10,\"solidity\":0.2}},\"type\":\"barpolar\"}],\"carpet\":[{\"aaxis\":{\"endlinecolor\":\"#2a3f5f\",\"gridcolor\":\"white\",\"linecolor\":\"white\",\"minorgridcolor\":\"white\",\"startlinecolor\":\"#2a3f5f\"},\"baxis\":{\"endlinecolor\":\"#2a3f5f\",\"gridcolor\":\"white\",\"linecolor\":\"white\",\"minorgridcolor\":\"white\",\"startlinecolor\":\"#2a3f5f\"},\"type\":\"carpet\"}],\"choropleth\":[{\"colorbar\":{\"outlinewidth\":0,\"ticks\":\"\"},\"type\":\"choropleth\"}],\"contour\":[{\"colorbar\":{\"outlinewidth\":0,\"ticks\":\"\"},\"colorscale\":[[0.0,\"#0d0887\"],[0.1111111111111111,\"#46039f\"],[0.2222222222222222,\"#7201a8\"],[0.3333333333333333,\"#9c179e\"],[0.4444444444444444,\"#bd3786\"],[0.5555555555555556,\"#d8576b\"],[0.6666666666666666,\"#ed7953\"],[0.7777777777777778,\"#fb9f3a\"],[0.8888888888888888,\"#fdca26\"],[1.0,\"#f0f921\"]],\"type\":\"contour\"}],\"contourcarpet\":[{\"colorbar\":{\"outlinewidth\":0,\"ticks\":\"\"},\"type\":\"contourcarpet\"}],\"heatmap\":[{\"colorbar\":{\"outlinewidth\":0,\"ticks\":\"\"},\"colorscale\":[[0.0,\"#0d0887\"],[0.1111111111111111,\"#46039f\"],[0.2222222222222222,\"#7201a8\"],[0.3333333333333333,\"#9c179e\"],[0.4444444444444444,\"#bd3786\"],[0.5555555555555556,\"#d8576b\"],[0.6666666666666666,\"#ed7953\"],[0.7777777777777778,\"#fb9f3a\"],[0.8888888888888888,\"#fdca26\"],[1.0,\"#f0f921\"]],\"type\":\"heatmap\"}],\"heatmapgl\":[{\"colorbar\":{\"outlinewidth\":0,\"ticks\":\"\"},\"colorscale\":[[0.0,\"#0d0887\"],[0.1111111111111111,\"#46039f\"],[0.2222222222222222,\"#7201a8\"],[0.3333333333333333,\"#9c179e\"],[0.4444444444444444,\"#bd3786\"],[0.5555555555555556,\"#d8576b\"],[0.6666666666666666,\"#ed7953\"],[0.7777777777777778,\"#fb9f3a\"],[0.8888888888888888,\"#fdca26\"],[1.0,\"#f0f921\"]],\"type\":\"heatmapgl\"}],\"histogram\":[{\"marker\":{\"pattern\":{\"fillmode\":\"overlay\",\"size\":10,\"solidity\":0.2}},\"type\":\"histogram\"}],\"histogram2d\":[{\"colorbar\":{\"outlinewidth\":0,\"ticks\":\"\"},\"colorscale\":[[0.0,\"#0d0887\"],[0.1111111111111111,\"#46039f\"],[0.2222222222222222,\"#7201a8\"],[0.3333333333333333,\"#9c179e\"],[0.4444444444444444,\"#bd3786\"],[0.5555555555555556,\"#d8576b\"],[0.6666666666666666,\"#ed7953\"],[0.7777777777777778,\"#fb9f3a\"],[0.8888888888888888,\"#fdca26\"],[1.0,\"#f0f921\"]],\"type\":\"histogram2d\"}],\"histogram2dcontour\":[{\"colorbar\":{\"outlinewidth\":0,\"ticks\":\"\"},\"colorscale\":[[0.0,\"#0d0887\"],[0.1111111111111111,\"#46039f\"],[0.2222222222222222,\"#7201a8\"],[0.3333333333333333,\"#9c179e\"],[0.4444444444444444,\"#bd3786\"],[0.5555555555555556,\"#d8576b\"],[0.6666666666666666,\"#ed7953\"],[0.7777777777777778,\"#fb9f3a\"],[0.8888888888888888,\"#fdca26\"],[1.0,\"#f0f921\"]],\"type\":\"histogram2dcontour\"}],\"mesh3d\":[{\"colorbar\":{\"outlinewidth\":0,\"ticks\":\"\"},\"type\":\"mesh3d\"}],\"parcoords\":[{\"line\":{\"colorbar\":{\"outlinewidth\":0,\"ticks\":\"\"}},\"type\":\"parcoords\"}],\"pie\":[{\"automargin\":true,\"type\":\"pie\"}],\"scatter\":[{\"marker\":{\"colorbar\":{\"outlinewidth\":0,\"ticks\":\"\"}},\"type\":\"scatter\"}],\"scatter3d\":[{\"line\":{\"colorbar\":{\"outlinewidth\":0,\"ticks\":\"\"}},\"marker\":{\"colorbar\":{\"outlinewidth\":0,\"ticks\":\"\"}},\"type\":\"scatter3d\"}],\"scattercarpet\":[{\"marker\":{\"colorbar\":{\"outlinewidth\":0,\"ticks\":\"\"}},\"type\":\"scattercarpet\"}],\"scattergeo\":[{\"marker\":{\"colorbar\":{\"outlinewidth\":0,\"ticks\":\"\"}},\"type\":\"scattergeo\"}],\"scattergl\":[{\"marker\":{\"colorbar\":{\"outlinewidth\":0,\"ticks\":\"\"}},\"type\":\"scattergl\"}],\"scattermapbox\":[{\"marker\":{\"colorbar\":{\"outlinewidth\":0,\"ticks\":\"\"}},\"type\":\"scattermapbox\"}],\"scatterpolar\":[{\"marker\":{\"colorbar\":{\"outlinewidth\":0,\"ticks\":\"\"}},\"type\":\"scatterpolar\"}],\"scatterpolargl\":[{\"marker\":{\"colorbar\":{\"outlinewidth\":0,\"ticks\":\"\"}},\"type\":\"scatterpolargl\"}],\"scatterternary\":[{\"marker\":{\"colorbar\":{\"outlinewidth\":0,\"ticks\":\"\"}},\"type\":\"scatterternary\"}],\"surface\":[{\"colorbar\":{\"outlinewidth\":0,\"ticks\":\"\"},\"colorscale\":[[0.0,\"#0d0887\"],[0.1111111111111111,\"#46039f\"],[0.2222222222222222,\"#7201a8\"],[0.3333333333333333,\"#9c179e\"],[0.4444444444444444,\"#bd3786\"],[0.5555555555555556,\"#d8576b\"],[0.6666666666666666,\"#ed7953\"],[0.7777777777777778,\"#fb9f3a\"],[0.8888888888888888,\"#fdca26\"],[1.0,\"#f0f921\"]],\"type\":\"surface\"}],\"table\":[{\"cells\":{\"fill\":{\"color\":\"#EBF0F8\"},\"line\":{\"color\":\"white\"}},\"header\":{\"fill\":{\"color\":\"#C8D4E3\"},\"line\":{\"color\":\"white\"}},\"type\":\"table\"}]},\"layout\":{\"annotationdefaults\":{\"arrowcolor\":\"#2a3f5f\",\"arrowhead\":0,\"arrowwidth\":1},\"autotypenumbers\":\"strict\",\"coloraxis\":{\"colorbar\":{\"outlinewidth\":0,\"ticks\":\"\"}},\"colorscale\":{\"diverging\":[[0,\"#8e0152\"],[0.1,\"#c51b7d\"],[0.2,\"#de77ae\"],[0.3,\"#f1b6da\"],[0.4,\"#fde0ef\"],[0.5,\"#f7f7f7\"],[0.6,\"#e6f5d0\"],[0.7,\"#b8e186\"],[0.8,\"#7fbc41\"],[0.9,\"#4d9221\"],[1,\"#276419\"]],\"sequential\":[[0.0,\"#0d0887\"],[0.1111111111111111,\"#46039f\"],[0.2222222222222222,\"#7201a8\"],[0.3333333333333333,\"#9c179e\"],[0.4444444444444444,\"#bd3786\"],[0.5555555555555556,\"#d8576b\"],[0.6666666666666666,\"#ed7953\"],[0.7777777777777778,\"#fb9f3a\"],[0.8888888888888888,\"#fdca26\"],[1.0,\"#f0f921\"]],\"sequentialminus\":[[0.0,\"#0d0887\"],[0.1111111111111111,\"#46039f\"],[0.2222222222222222,\"#7201a8\"],[0.3333333333333333,\"#9c179e\"],[0.4444444444444444,\"#bd3786\"],[0.5555555555555556,\"#d8576b\"],[0.6666666666666666,\"#ed7953\"],[0.7777777777777778,\"#fb9f3a\"],[0.8888888888888888,\"#fdca26\"],[1.0,\"#f0f921\"]]},\"colorway\":[\"#636efa\",\"#EF553B\",\"#00cc96\",\"#ab63fa\",\"#FFA15A\",\"#19d3f3\",\"#FF6692\",\"#B6E880\",\"#FF97FF\",\"#FECB52\"],\"font\":{\"color\":\"#2a3f5f\"},\"geo\":{\"bgcolor\":\"white\",\"lakecolor\":\"white\",\"landcolor\":\"#E5ECF6\",\"showlakes\":true,\"showland\":true,\"subunitcolor\":\"white\"},\"hoverlabel\":{\"align\":\"left\"},\"hovermode\":\"closest\",\"mapbox\":{\"style\":\"light\"},\"paper_bgcolor\":\"white\",\"plot_bgcolor\":\"#E5ECF6\",\"polar\":{\"angularaxis\":{\"gridcolor\":\"white\",\"linecolor\":\"white\",\"ticks\":\"\"},\"bgcolor\":\"#E5ECF6\",\"radialaxis\":{\"gridcolor\":\"white\",\"linecolor\":\"white\",\"ticks\":\"\"}},\"scene\":{\"xaxis\":{\"backgroundcolor\":\"#E5ECF6\",\"gridcolor\":\"white\",\"gridwidth\":2,\"linecolor\":\"white\",\"showbackground\":true,\"ticks\":\"\",\"zerolinecolor\":\"white\"},\"yaxis\":{\"backgroundcolor\":\"#E5ECF6\",\"gridcolor\":\"white\",\"gridwidth\":2,\"linecolor\":\"white\",\"showbackground\":true,\"ticks\":\"\",\"zerolinecolor\":\"white\"},\"zaxis\":{\"backgroundcolor\":\"#E5ECF6\",\"gridcolor\":\"white\",\"gridwidth\":2,\"linecolor\":\"white\",\"showbackground\":true,\"ticks\":\"\",\"zerolinecolor\":\"white\"}},\"shapedefaults\":{\"line\":{\"color\":\"#2a3f5f\"}},\"ternary\":{\"aaxis\":{\"gridcolor\":\"white\",\"linecolor\":\"white\",\"ticks\":\"\"},\"baxis\":{\"gridcolor\":\"white\",\"linecolor\":\"white\",\"ticks\":\"\"},\"bgcolor\":\"#E5ECF6\",\"caxis\":{\"gridcolor\":\"white\",\"linecolor\":\"white\",\"ticks\":\"\"}},\"title\":{\"x\":0.05},\"xaxis\":{\"automargin\":true,\"gridcolor\":\"white\",\"linecolor\":\"white\",\"ticks\":\"\",\"title\":{\"standoff\":15},\"zerolinecolor\":\"white\",\"zerolinewidth\":2},\"yaxis\":{\"automargin\":true,\"gridcolor\":\"white\",\"linecolor\":\"white\",\"ticks\":\"\",\"title\":{\"standoff\":15},\"zerolinecolor\":\"white\",\"zerolinewidth\":2}}},\"title\":{\"text\":\"Comparazione metrica 'f1-score' (macro)\"},\"width\":800,\"height\":550},                        {\"responsive\": true}                    ).then(function(){\n",
       "                            \n",
       "var gd = document.getElementById('4a2e285c-4ff3-4044-ac10-291e76b21b52');\n",
       "var x = new MutationObserver(function (mutations, observer) {{\n",
       "        var display = window.getComputedStyle(gd).display;\n",
       "        if (!display || display === 'none') {{\n",
       "            console.log([gd, 'removed!']);\n",
       "            Plotly.purge(gd);\n",
       "            observer.disconnect();\n",
       "        }}\n",
       "}});\n",
       "\n",
       "// Listen for the removal of the full notebook cells\n",
       "var notebookContainer = gd.closest('#notebook-container');\n",
       "if (notebookContainer) {{\n",
       "    x.observe(notebookContainer, {childList: true});\n",
       "}}\n",
       "\n",
       "// Listen for the clearing of the current output cell\n",
       "var outputEl = gd.closest('.output');\n",
       "if (outputEl) {{\n",
       "    x.observe(outputEl, {childList: true});\n",
       "}}\n",
       "\n",
       "                        })                };                });            </script>        </div>"
      ]
     },
     "metadata": {},
     "output_type": "display_data"
    },
    {
     "data": {
      "application/vnd.plotly.v1+json": {
       "config": {
        "plotlyServerURL": "https://plot.ly"
       },
       "data": [
        {
         "marker": {
          "color": [
           "rgb(55, 83, 9)",
           "rgb(55, 83, 59)",
           "rgb(55, 83, 109)",
           "rgb(55, 83, 249)"
          ]
         },
         "name": "",
         "type": "bar",
         "x": [
          "MNB_Undersamp",
          "MNB_SMOTE",
          "CNB",
          "LR"
         ],
         "y": [
          0.388632036986674,
          0.4906767232348628,
          0.4722587430975546,
          0.4869314673801194
         ]
        }
       ],
       "layout": {
        "height": 550,
        "template": {
         "data": {
          "bar": [
           {
            "error_x": {
             "color": "#2a3f5f"
            },
            "error_y": {
             "color": "#2a3f5f"
            },
            "marker": {
             "line": {
              "color": "#E5ECF6",
              "width": 0.5
             },
             "pattern": {
              "fillmode": "overlay",
              "size": 10,
              "solidity": 0.2
             }
            },
            "type": "bar"
           }
          ],
          "barpolar": [
           {
            "marker": {
             "line": {
              "color": "#E5ECF6",
              "width": 0.5
             },
             "pattern": {
              "fillmode": "overlay",
              "size": 10,
              "solidity": 0.2
             }
            },
            "type": "barpolar"
           }
          ],
          "carpet": [
           {
            "aaxis": {
             "endlinecolor": "#2a3f5f",
             "gridcolor": "white",
             "linecolor": "white",
             "minorgridcolor": "white",
             "startlinecolor": "#2a3f5f"
            },
            "baxis": {
             "endlinecolor": "#2a3f5f",
             "gridcolor": "white",
             "linecolor": "white",
             "minorgridcolor": "white",
             "startlinecolor": "#2a3f5f"
            },
            "type": "carpet"
           }
          ],
          "choropleth": [
           {
            "colorbar": {
             "outlinewidth": 0,
             "ticks": ""
            },
            "type": "choropleth"
           }
          ],
          "contour": [
           {
            "colorbar": {
             "outlinewidth": 0,
             "ticks": ""
            },
            "colorscale": [
             [
              0,
              "#0d0887"
             ],
             [
              0.1111111111111111,
              "#46039f"
             ],
             [
              0.2222222222222222,
              "#7201a8"
             ],
             [
              0.3333333333333333,
              "#9c179e"
             ],
             [
              0.4444444444444444,
              "#bd3786"
             ],
             [
              0.5555555555555556,
              "#d8576b"
             ],
             [
              0.6666666666666666,
              "#ed7953"
             ],
             [
              0.7777777777777778,
              "#fb9f3a"
             ],
             [
              0.8888888888888888,
              "#fdca26"
             ],
             [
              1,
              "#f0f921"
             ]
            ],
            "type": "contour"
           }
          ],
          "contourcarpet": [
           {
            "colorbar": {
             "outlinewidth": 0,
             "ticks": ""
            },
            "type": "contourcarpet"
           }
          ],
          "heatmap": [
           {
            "colorbar": {
             "outlinewidth": 0,
             "ticks": ""
            },
            "colorscale": [
             [
              0,
              "#0d0887"
             ],
             [
              0.1111111111111111,
              "#46039f"
             ],
             [
              0.2222222222222222,
              "#7201a8"
             ],
             [
              0.3333333333333333,
              "#9c179e"
             ],
             [
              0.4444444444444444,
              "#bd3786"
             ],
             [
              0.5555555555555556,
              "#d8576b"
             ],
             [
              0.6666666666666666,
              "#ed7953"
             ],
             [
              0.7777777777777778,
              "#fb9f3a"
             ],
             [
              0.8888888888888888,
              "#fdca26"
             ],
             [
              1,
              "#f0f921"
             ]
            ],
            "type": "heatmap"
           }
          ],
          "heatmapgl": [
           {
            "colorbar": {
             "outlinewidth": 0,
             "ticks": ""
            },
            "colorscale": [
             [
              0,
              "#0d0887"
             ],
             [
              0.1111111111111111,
              "#46039f"
             ],
             [
              0.2222222222222222,
              "#7201a8"
             ],
             [
              0.3333333333333333,
              "#9c179e"
             ],
             [
              0.4444444444444444,
              "#bd3786"
             ],
             [
              0.5555555555555556,
              "#d8576b"
             ],
             [
              0.6666666666666666,
              "#ed7953"
             ],
             [
              0.7777777777777778,
              "#fb9f3a"
             ],
             [
              0.8888888888888888,
              "#fdca26"
             ],
             [
              1,
              "#f0f921"
             ]
            ],
            "type": "heatmapgl"
           }
          ],
          "histogram": [
           {
            "marker": {
             "pattern": {
              "fillmode": "overlay",
              "size": 10,
              "solidity": 0.2
             }
            },
            "type": "histogram"
           }
          ],
          "histogram2d": [
           {
            "colorbar": {
             "outlinewidth": 0,
             "ticks": ""
            },
            "colorscale": [
             [
              0,
              "#0d0887"
             ],
             [
              0.1111111111111111,
              "#46039f"
             ],
             [
              0.2222222222222222,
              "#7201a8"
             ],
             [
              0.3333333333333333,
              "#9c179e"
             ],
             [
              0.4444444444444444,
              "#bd3786"
             ],
             [
              0.5555555555555556,
              "#d8576b"
             ],
             [
              0.6666666666666666,
              "#ed7953"
             ],
             [
              0.7777777777777778,
              "#fb9f3a"
             ],
             [
              0.8888888888888888,
              "#fdca26"
             ],
             [
              1,
              "#f0f921"
             ]
            ],
            "type": "histogram2d"
           }
          ],
          "histogram2dcontour": [
           {
            "colorbar": {
             "outlinewidth": 0,
             "ticks": ""
            },
            "colorscale": [
             [
              0,
              "#0d0887"
             ],
             [
              0.1111111111111111,
              "#46039f"
             ],
             [
              0.2222222222222222,
              "#7201a8"
             ],
             [
              0.3333333333333333,
              "#9c179e"
             ],
             [
              0.4444444444444444,
              "#bd3786"
             ],
             [
              0.5555555555555556,
              "#d8576b"
             ],
             [
              0.6666666666666666,
              "#ed7953"
             ],
             [
              0.7777777777777778,
              "#fb9f3a"
             ],
             [
              0.8888888888888888,
              "#fdca26"
             ],
             [
              1,
              "#f0f921"
             ]
            ],
            "type": "histogram2dcontour"
           }
          ],
          "mesh3d": [
           {
            "colorbar": {
             "outlinewidth": 0,
             "ticks": ""
            },
            "type": "mesh3d"
           }
          ],
          "parcoords": [
           {
            "line": {
             "colorbar": {
              "outlinewidth": 0,
              "ticks": ""
             }
            },
            "type": "parcoords"
           }
          ],
          "pie": [
           {
            "automargin": true,
            "type": "pie"
           }
          ],
          "scatter": [
           {
            "marker": {
             "colorbar": {
              "outlinewidth": 0,
              "ticks": ""
             }
            },
            "type": "scatter"
           }
          ],
          "scatter3d": [
           {
            "line": {
             "colorbar": {
              "outlinewidth": 0,
              "ticks": ""
             }
            },
            "marker": {
             "colorbar": {
              "outlinewidth": 0,
              "ticks": ""
             }
            },
            "type": "scatter3d"
           }
          ],
          "scattercarpet": [
           {
            "marker": {
             "colorbar": {
              "outlinewidth": 0,
              "ticks": ""
             }
            },
            "type": "scattercarpet"
           }
          ],
          "scattergeo": [
           {
            "marker": {
             "colorbar": {
              "outlinewidth": 0,
              "ticks": ""
             }
            },
            "type": "scattergeo"
           }
          ],
          "scattergl": [
           {
            "marker": {
             "colorbar": {
              "outlinewidth": 0,
              "ticks": ""
             }
            },
            "type": "scattergl"
           }
          ],
          "scattermapbox": [
           {
            "marker": {
             "colorbar": {
              "outlinewidth": 0,
              "ticks": ""
             }
            },
            "type": "scattermapbox"
           }
          ],
          "scatterpolar": [
           {
            "marker": {
             "colorbar": {
              "outlinewidth": 0,
              "ticks": ""
             }
            },
            "type": "scatterpolar"
           }
          ],
          "scatterpolargl": [
           {
            "marker": {
             "colorbar": {
              "outlinewidth": 0,
              "ticks": ""
             }
            },
            "type": "scatterpolargl"
           }
          ],
          "scatterternary": [
           {
            "marker": {
             "colorbar": {
              "outlinewidth": 0,
              "ticks": ""
             }
            },
            "type": "scatterternary"
           }
          ],
          "surface": [
           {
            "colorbar": {
             "outlinewidth": 0,
             "ticks": ""
            },
            "colorscale": [
             [
              0,
              "#0d0887"
             ],
             [
              0.1111111111111111,
              "#46039f"
             ],
             [
              0.2222222222222222,
              "#7201a8"
             ],
             [
              0.3333333333333333,
              "#9c179e"
             ],
             [
              0.4444444444444444,
              "#bd3786"
             ],
             [
              0.5555555555555556,
              "#d8576b"
             ],
             [
              0.6666666666666666,
              "#ed7953"
             ],
             [
              0.7777777777777778,
              "#fb9f3a"
             ],
             [
              0.8888888888888888,
              "#fdca26"
             ],
             [
              1,
              "#f0f921"
             ]
            ],
            "type": "surface"
           }
          ],
          "table": [
           {
            "cells": {
             "fill": {
              "color": "#EBF0F8"
             },
             "line": {
              "color": "white"
             }
            },
            "header": {
             "fill": {
              "color": "#C8D4E3"
             },
             "line": {
              "color": "white"
             }
            },
            "type": "table"
           }
          ]
         },
         "layout": {
          "annotationdefaults": {
           "arrowcolor": "#2a3f5f",
           "arrowhead": 0,
           "arrowwidth": 1
          },
          "autotypenumbers": "strict",
          "coloraxis": {
           "colorbar": {
            "outlinewidth": 0,
            "ticks": ""
           }
          },
          "colorscale": {
           "diverging": [
            [
             0,
             "#8e0152"
            ],
            [
             0.1,
             "#c51b7d"
            ],
            [
             0.2,
             "#de77ae"
            ],
            [
             0.3,
             "#f1b6da"
            ],
            [
             0.4,
             "#fde0ef"
            ],
            [
             0.5,
             "#f7f7f7"
            ],
            [
             0.6,
             "#e6f5d0"
            ],
            [
             0.7,
             "#b8e186"
            ],
            [
             0.8,
             "#7fbc41"
            ],
            [
             0.9,
             "#4d9221"
            ],
            [
             1,
             "#276419"
            ]
           ],
           "sequential": [
            [
             0,
             "#0d0887"
            ],
            [
             0.1111111111111111,
             "#46039f"
            ],
            [
             0.2222222222222222,
             "#7201a8"
            ],
            [
             0.3333333333333333,
             "#9c179e"
            ],
            [
             0.4444444444444444,
             "#bd3786"
            ],
            [
             0.5555555555555556,
             "#d8576b"
            ],
            [
             0.6666666666666666,
             "#ed7953"
            ],
            [
             0.7777777777777778,
             "#fb9f3a"
            ],
            [
             0.8888888888888888,
             "#fdca26"
            ],
            [
             1,
             "#f0f921"
            ]
           ],
           "sequentialminus": [
            [
             0,
             "#0d0887"
            ],
            [
             0.1111111111111111,
             "#46039f"
            ],
            [
             0.2222222222222222,
             "#7201a8"
            ],
            [
             0.3333333333333333,
             "#9c179e"
            ],
            [
             0.4444444444444444,
             "#bd3786"
            ],
            [
             0.5555555555555556,
             "#d8576b"
            ],
            [
             0.6666666666666666,
             "#ed7953"
            ],
            [
             0.7777777777777778,
             "#fb9f3a"
            ],
            [
             0.8888888888888888,
             "#fdca26"
            ],
            [
             1,
             "#f0f921"
            ]
           ]
          },
          "colorway": [
           "#636efa",
           "#EF553B",
           "#00cc96",
           "#ab63fa",
           "#FFA15A",
           "#19d3f3",
           "#FF6692",
           "#B6E880",
           "#FF97FF",
           "#FECB52"
          ],
          "font": {
           "color": "#2a3f5f"
          },
          "geo": {
           "bgcolor": "white",
           "lakecolor": "white",
           "landcolor": "#E5ECF6",
           "showlakes": true,
           "showland": true,
           "subunitcolor": "white"
          },
          "hoverlabel": {
           "align": "left"
          },
          "hovermode": "closest",
          "mapbox": {
           "style": "light"
          },
          "paper_bgcolor": "white",
          "plot_bgcolor": "#E5ECF6",
          "polar": {
           "angularaxis": {
            "gridcolor": "white",
            "linecolor": "white",
            "ticks": ""
           },
           "bgcolor": "#E5ECF6",
           "radialaxis": {
            "gridcolor": "white",
            "linecolor": "white",
            "ticks": ""
           }
          },
          "scene": {
           "xaxis": {
            "backgroundcolor": "#E5ECF6",
            "gridcolor": "white",
            "gridwidth": 2,
            "linecolor": "white",
            "showbackground": true,
            "ticks": "",
            "zerolinecolor": "white"
           },
           "yaxis": {
            "backgroundcolor": "#E5ECF6",
            "gridcolor": "white",
            "gridwidth": 2,
            "linecolor": "white",
            "showbackground": true,
            "ticks": "",
            "zerolinecolor": "white"
           },
           "zaxis": {
            "backgroundcolor": "#E5ECF6",
            "gridcolor": "white",
            "gridwidth": 2,
            "linecolor": "white",
            "showbackground": true,
            "ticks": "",
            "zerolinecolor": "white"
           }
          },
          "shapedefaults": {
           "line": {
            "color": "#2a3f5f"
           }
          },
          "ternary": {
           "aaxis": {
            "gridcolor": "white",
            "linecolor": "white",
            "ticks": ""
           },
           "baxis": {
            "gridcolor": "white",
            "linecolor": "white",
            "ticks": ""
           },
           "bgcolor": "#E5ECF6",
           "caxis": {
            "gridcolor": "white",
            "linecolor": "white",
            "ticks": ""
           }
          },
          "title": {
           "x": 0.05
          },
          "xaxis": {
           "automargin": true,
           "gridcolor": "white",
           "linecolor": "white",
           "ticks": "",
           "title": {
            "standoff": 15
           },
           "zerolinecolor": "white",
           "zerolinewidth": 2
          },
          "yaxis": {
           "automargin": true,
           "gridcolor": "white",
           "linecolor": "white",
           "ticks": "",
           "title": {
            "standoff": 15
           },
           "zerolinecolor": "white",
           "zerolinewidth": 2
          }
         }
        },
        "title": {
         "text": "Comparazione metrica 'f1-score' per la classe 1"
        },
        "width": 800
       }
      },
      "text/html": [
       "<div>                            <div id=\"fd45c1c9-c3f1-4528-9bb2-5805d57340cc\" class=\"plotly-graph-div\" style=\"height:550px; width:800px;\"></div>            <script type=\"text/javascript\">                require([\"plotly\"], function(Plotly) {                    window.PLOTLYENV=window.PLOTLYENV || {};                                    if (document.getElementById(\"fd45c1c9-c3f1-4528-9bb2-5805d57340cc\")) {                    Plotly.newPlot(                        \"fd45c1c9-c3f1-4528-9bb2-5805d57340cc\",                        [{\"marker\":{\"color\":[\"rgb(55, 83, 9)\",\"rgb(55, 83, 59)\",\"rgb(55, 83, 109)\",\"rgb(55, 83, 249)\"]},\"name\":\"\",\"x\":[\"MNB_Undersamp\",\"MNB_SMOTE\",\"CNB\",\"LR\"],\"y\":[0.388632036986674,0.4906767232348628,0.4722587430975546,0.4869314673801194],\"type\":\"bar\"}],                        {\"template\":{\"data\":{\"bar\":[{\"error_x\":{\"color\":\"#2a3f5f\"},\"error_y\":{\"color\":\"#2a3f5f\"},\"marker\":{\"line\":{\"color\":\"#E5ECF6\",\"width\":0.5},\"pattern\":{\"fillmode\":\"overlay\",\"size\":10,\"solidity\":0.2}},\"type\":\"bar\"}],\"barpolar\":[{\"marker\":{\"line\":{\"color\":\"#E5ECF6\",\"width\":0.5},\"pattern\":{\"fillmode\":\"overlay\",\"size\":10,\"solidity\":0.2}},\"type\":\"barpolar\"}],\"carpet\":[{\"aaxis\":{\"endlinecolor\":\"#2a3f5f\",\"gridcolor\":\"white\",\"linecolor\":\"white\",\"minorgridcolor\":\"white\",\"startlinecolor\":\"#2a3f5f\"},\"baxis\":{\"endlinecolor\":\"#2a3f5f\",\"gridcolor\":\"white\",\"linecolor\":\"white\",\"minorgridcolor\":\"white\",\"startlinecolor\":\"#2a3f5f\"},\"type\":\"carpet\"}],\"choropleth\":[{\"colorbar\":{\"outlinewidth\":0,\"ticks\":\"\"},\"type\":\"choropleth\"}],\"contour\":[{\"colorbar\":{\"outlinewidth\":0,\"ticks\":\"\"},\"colorscale\":[[0.0,\"#0d0887\"],[0.1111111111111111,\"#46039f\"],[0.2222222222222222,\"#7201a8\"],[0.3333333333333333,\"#9c179e\"],[0.4444444444444444,\"#bd3786\"],[0.5555555555555556,\"#d8576b\"],[0.6666666666666666,\"#ed7953\"],[0.7777777777777778,\"#fb9f3a\"],[0.8888888888888888,\"#fdca26\"],[1.0,\"#f0f921\"]],\"type\":\"contour\"}],\"contourcarpet\":[{\"colorbar\":{\"outlinewidth\":0,\"ticks\":\"\"},\"type\":\"contourcarpet\"}],\"heatmap\":[{\"colorbar\":{\"outlinewidth\":0,\"ticks\":\"\"},\"colorscale\":[[0.0,\"#0d0887\"],[0.1111111111111111,\"#46039f\"],[0.2222222222222222,\"#7201a8\"],[0.3333333333333333,\"#9c179e\"],[0.4444444444444444,\"#bd3786\"],[0.5555555555555556,\"#d8576b\"],[0.6666666666666666,\"#ed7953\"],[0.7777777777777778,\"#fb9f3a\"],[0.8888888888888888,\"#fdca26\"],[1.0,\"#f0f921\"]],\"type\":\"heatmap\"}],\"heatmapgl\":[{\"colorbar\":{\"outlinewidth\":0,\"ticks\":\"\"},\"colorscale\":[[0.0,\"#0d0887\"],[0.1111111111111111,\"#46039f\"],[0.2222222222222222,\"#7201a8\"],[0.3333333333333333,\"#9c179e\"],[0.4444444444444444,\"#bd3786\"],[0.5555555555555556,\"#d8576b\"],[0.6666666666666666,\"#ed7953\"],[0.7777777777777778,\"#fb9f3a\"],[0.8888888888888888,\"#fdca26\"],[1.0,\"#f0f921\"]],\"type\":\"heatmapgl\"}],\"histogram\":[{\"marker\":{\"pattern\":{\"fillmode\":\"overlay\",\"size\":10,\"solidity\":0.2}},\"type\":\"histogram\"}],\"histogram2d\":[{\"colorbar\":{\"outlinewidth\":0,\"ticks\":\"\"},\"colorscale\":[[0.0,\"#0d0887\"],[0.1111111111111111,\"#46039f\"],[0.2222222222222222,\"#7201a8\"],[0.3333333333333333,\"#9c179e\"],[0.4444444444444444,\"#bd3786\"],[0.5555555555555556,\"#d8576b\"],[0.6666666666666666,\"#ed7953\"],[0.7777777777777778,\"#fb9f3a\"],[0.8888888888888888,\"#fdca26\"],[1.0,\"#f0f921\"]],\"type\":\"histogram2d\"}],\"histogram2dcontour\":[{\"colorbar\":{\"outlinewidth\":0,\"ticks\":\"\"},\"colorscale\":[[0.0,\"#0d0887\"],[0.1111111111111111,\"#46039f\"],[0.2222222222222222,\"#7201a8\"],[0.3333333333333333,\"#9c179e\"],[0.4444444444444444,\"#bd3786\"],[0.5555555555555556,\"#d8576b\"],[0.6666666666666666,\"#ed7953\"],[0.7777777777777778,\"#fb9f3a\"],[0.8888888888888888,\"#fdca26\"],[1.0,\"#f0f921\"]],\"type\":\"histogram2dcontour\"}],\"mesh3d\":[{\"colorbar\":{\"outlinewidth\":0,\"ticks\":\"\"},\"type\":\"mesh3d\"}],\"parcoords\":[{\"line\":{\"colorbar\":{\"outlinewidth\":0,\"ticks\":\"\"}},\"type\":\"parcoords\"}],\"pie\":[{\"automargin\":true,\"type\":\"pie\"}],\"scatter\":[{\"marker\":{\"colorbar\":{\"outlinewidth\":0,\"ticks\":\"\"}},\"type\":\"scatter\"}],\"scatter3d\":[{\"line\":{\"colorbar\":{\"outlinewidth\":0,\"ticks\":\"\"}},\"marker\":{\"colorbar\":{\"outlinewidth\":0,\"ticks\":\"\"}},\"type\":\"scatter3d\"}],\"scattercarpet\":[{\"marker\":{\"colorbar\":{\"outlinewidth\":0,\"ticks\":\"\"}},\"type\":\"scattercarpet\"}],\"scattergeo\":[{\"marker\":{\"colorbar\":{\"outlinewidth\":0,\"ticks\":\"\"}},\"type\":\"scattergeo\"}],\"scattergl\":[{\"marker\":{\"colorbar\":{\"outlinewidth\":0,\"ticks\":\"\"}},\"type\":\"scattergl\"}],\"scattermapbox\":[{\"marker\":{\"colorbar\":{\"outlinewidth\":0,\"ticks\":\"\"}},\"type\":\"scattermapbox\"}],\"scatterpolar\":[{\"marker\":{\"colorbar\":{\"outlinewidth\":0,\"ticks\":\"\"}},\"type\":\"scatterpolar\"}],\"scatterpolargl\":[{\"marker\":{\"colorbar\":{\"outlinewidth\":0,\"ticks\":\"\"}},\"type\":\"scatterpolargl\"}],\"scatterternary\":[{\"marker\":{\"colorbar\":{\"outlinewidth\":0,\"ticks\":\"\"}},\"type\":\"scatterternary\"}],\"surface\":[{\"colorbar\":{\"outlinewidth\":0,\"ticks\":\"\"},\"colorscale\":[[0.0,\"#0d0887\"],[0.1111111111111111,\"#46039f\"],[0.2222222222222222,\"#7201a8\"],[0.3333333333333333,\"#9c179e\"],[0.4444444444444444,\"#bd3786\"],[0.5555555555555556,\"#d8576b\"],[0.6666666666666666,\"#ed7953\"],[0.7777777777777778,\"#fb9f3a\"],[0.8888888888888888,\"#fdca26\"],[1.0,\"#f0f921\"]],\"type\":\"surface\"}],\"table\":[{\"cells\":{\"fill\":{\"color\":\"#EBF0F8\"},\"line\":{\"color\":\"white\"}},\"header\":{\"fill\":{\"color\":\"#C8D4E3\"},\"line\":{\"color\":\"white\"}},\"type\":\"table\"}]},\"layout\":{\"annotationdefaults\":{\"arrowcolor\":\"#2a3f5f\",\"arrowhead\":0,\"arrowwidth\":1},\"autotypenumbers\":\"strict\",\"coloraxis\":{\"colorbar\":{\"outlinewidth\":0,\"ticks\":\"\"}},\"colorscale\":{\"diverging\":[[0,\"#8e0152\"],[0.1,\"#c51b7d\"],[0.2,\"#de77ae\"],[0.3,\"#f1b6da\"],[0.4,\"#fde0ef\"],[0.5,\"#f7f7f7\"],[0.6,\"#e6f5d0\"],[0.7,\"#b8e186\"],[0.8,\"#7fbc41\"],[0.9,\"#4d9221\"],[1,\"#276419\"]],\"sequential\":[[0.0,\"#0d0887\"],[0.1111111111111111,\"#46039f\"],[0.2222222222222222,\"#7201a8\"],[0.3333333333333333,\"#9c179e\"],[0.4444444444444444,\"#bd3786\"],[0.5555555555555556,\"#d8576b\"],[0.6666666666666666,\"#ed7953\"],[0.7777777777777778,\"#fb9f3a\"],[0.8888888888888888,\"#fdca26\"],[1.0,\"#f0f921\"]],\"sequentialminus\":[[0.0,\"#0d0887\"],[0.1111111111111111,\"#46039f\"],[0.2222222222222222,\"#7201a8\"],[0.3333333333333333,\"#9c179e\"],[0.4444444444444444,\"#bd3786\"],[0.5555555555555556,\"#d8576b\"],[0.6666666666666666,\"#ed7953\"],[0.7777777777777778,\"#fb9f3a\"],[0.8888888888888888,\"#fdca26\"],[1.0,\"#f0f921\"]]},\"colorway\":[\"#636efa\",\"#EF553B\",\"#00cc96\",\"#ab63fa\",\"#FFA15A\",\"#19d3f3\",\"#FF6692\",\"#B6E880\",\"#FF97FF\",\"#FECB52\"],\"font\":{\"color\":\"#2a3f5f\"},\"geo\":{\"bgcolor\":\"white\",\"lakecolor\":\"white\",\"landcolor\":\"#E5ECF6\",\"showlakes\":true,\"showland\":true,\"subunitcolor\":\"white\"},\"hoverlabel\":{\"align\":\"left\"},\"hovermode\":\"closest\",\"mapbox\":{\"style\":\"light\"},\"paper_bgcolor\":\"white\",\"plot_bgcolor\":\"#E5ECF6\",\"polar\":{\"angularaxis\":{\"gridcolor\":\"white\",\"linecolor\":\"white\",\"ticks\":\"\"},\"bgcolor\":\"#E5ECF6\",\"radialaxis\":{\"gridcolor\":\"white\",\"linecolor\":\"white\",\"ticks\":\"\"}},\"scene\":{\"xaxis\":{\"backgroundcolor\":\"#E5ECF6\",\"gridcolor\":\"white\",\"gridwidth\":2,\"linecolor\":\"white\",\"showbackground\":true,\"ticks\":\"\",\"zerolinecolor\":\"white\"},\"yaxis\":{\"backgroundcolor\":\"#E5ECF6\",\"gridcolor\":\"white\",\"gridwidth\":2,\"linecolor\":\"white\",\"showbackground\":true,\"ticks\":\"\",\"zerolinecolor\":\"white\"},\"zaxis\":{\"backgroundcolor\":\"#E5ECF6\",\"gridcolor\":\"white\",\"gridwidth\":2,\"linecolor\":\"white\",\"showbackground\":true,\"ticks\":\"\",\"zerolinecolor\":\"white\"}},\"shapedefaults\":{\"line\":{\"color\":\"#2a3f5f\"}},\"ternary\":{\"aaxis\":{\"gridcolor\":\"white\",\"linecolor\":\"white\",\"ticks\":\"\"},\"baxis\":{\"gridcolor\":\"white\",\"linecolor\":\"white\",\"ticks\":\"\"},\"bgcolor\":\"#E5ECF6\",\"caxis\":{\"gridcolor\":\"white\",\"linecolor\":\"white\",\"ticks\":\"\"}},\"title\":{\"x\":0.05},\"xaxis\":{\"automargin\":true,\"gridcolor\":\"white\",\"linecolor\":\"white\",\"ticks\":\"\",\"title\":{\"standoff\":15},\"zerolinecolor\":\"white\",\"zerolinewidth\":2},\"yaxis\":{\"automargin\":true,\"gridcolor\":\"white\",\"linecolor\":\"white\",\"ticks\":\"\",\"title\":{\"standoff\":15},\"zerolinecolor\":\"white\",\"zerolinewidth\":2}}},\"title\":{\"text\":\"Comparazione metrica 'f1-score' per la classe 1\"},\"width\":800,\"height\":550},                        {\"responsive\": true}                    ).then(function(){\n",
       "                            \n",
       "var gd = document.getElementById('fd45c1c9-c3f1-4528-9bb2-5805d57340cc');\n",
       "var x = new MutationObserver(function (mutations, observer) {{\n",
       "        var display = window.getComputedStyle(gd).display;\n",
       "        if (!display || display === 'none') {{\n",
       "            console.log([gd, 'removed!']);\n",
       "            Plotly.purge(gd);\n",
       "            observer.disconnect();\n",
       "        }}\n",
       "}});\n",
       "\n",
       "// Listen for the removal of the full notebook cells\n",
       "var notebookContainer = gd.closest('#notebook-container');\n",
       "if (notebookContainer) {{\n",
       "    x.observe(notebookContainer, {childList: true});\n",
       "}}\n",
       "\n",
       "// Listen for the clearing of the current output cell\n",
       "var outputEl = gd.closest('.output');\n",
       "if (outputEl) {{\n",
       "    x.observe(outputEl, {childList: true});\n",
       "}}\n",
       "\n",
       "                        })                };                });            </script>        </div>"
      ]
     },
     "metadata": {},
     "output_type": "display_data"
    },
    {
     "data": {
      "application/vnd.plotly.v1+json": {
       "config": {
        "plotlyServerURL": "https://plot.ly"
       },
       "data": [
        {
         "marker": {
          "color": [
           "rgb(55, 83, 9)",
           "rgb(55, 83, 59)",
           "rgb(55, 83, 109)",
           "rgb(55, 83, 249)"
          ]
         },
         "name": "",
         "type": "bar",
         "x": [
          "MNB_Undersamp",
          "MNB_SMOTE",
          "CNB",
          "LR"
         ],
         "y": [
          0.7868588224139565,
          0.8973178458289335,
          0.9185636031649422,
          0.8943151468904997
         ]
        }
       ],
       "layout": {
        "height": 550,
        "template": {
         "data": {
          "bar": [
           {
            "error_x": {
             "color": "#2a3f5f"
            },
            "error_y": {
             "color": "#2a3f5f"
            },
            "marker": {
             "line": {
              "color": "#E5ECF6",
              "width": 0.5
             },
             "pattern": {
              "fillmode": "overlay",
              "size": 10,
              "solidity": 0.2
             }
            },
            "type": "bar"
           }
          ],
          "barpolar": [
           {
            "marker": {
             "line": {
              "color": "#E5ECF6",
              "width": 0.5
             },
             "pattern": {
              "fillmode": "overlay",
              "size": 10,
              "solidity": 0.2
             }
            },
            "type": "barpolar"
           }
          ],
          "carpet": [
           {
            "aaxis": {
             "endlinecolor": "#2a3f5f",
             "gridcolor": "white",
             "linecolor": "white",
             "minorgridcolor": "white",
             "startlinecolor": "#2a3f5f"
            },
            "baxis": {
             "endlinecolor": "#2a3f5f",
             "gridcolor": "white",
             "linecolor": "white",
             "minorgridcolor": "white",
             "startlinecolor": "#2a3f5f"
            },
            "type": "carpet"
           }
          ],
          "choropleth": [
           {
            "colorbar": {
             "outlinewidth": 0,
             "ticks": ""
            },
            "type": "choropleth"
           }
          ],
          "contour": [
           {
            "colorbar": {
             "outlinewidth": 0,
             "ticks": ""
            },
            "colorscale": [
             [
              0,
              "#0d0887"
             ],
             [
              0.1111111111111111,
              "#46039f"
             ],
             [
              0.2222222222222222,
              "#7201a8"
             ],
             [
              0.3333333333333333,
              "#9c179e"
             ],
             [
              0.4444444444444444,
              "#bd3786"
             ],
             [
              0.5555555555555556,
              "#d8576b"
             ],
             [
              0.6666666666666666,
              "#ed7953"
             ],
             [
              0.7777777777777778,
              "#fb9f3a"
             ],
             [
              0.8888888888888888,
              "#fdca26"
             ],
             [
              1,
              "#f0f921"
             ]
            ],
            "type": "contour"
           }
          ],
          "contourcarpet": [
           {
            "colorbar": {
             "outlinewidth": 0,
             "ticks": ""
            },
            "type": "contourcarpet"
           }
          ],
          "heatmap": [
           {
            "colorbar": {
             "outlinewidth": 0,
             "ticks": ""
            },
            "colorscale": [
             [
              0,
              "#0d0887"
             ],
             [
              0.1111111111111111,
              "#46039f"
             ],
             [
              0.2222222222222222,
              "#7201a8"
             ],
             [
              0.3333333333333333,
              "#9c179e"
             ],
             [
              0.4444444444444444,
              "#bd3786"
             ],
             [
              0.5555555555555556,
              "#d8576b"
             ],
             [
              0.6666666666666666,
              "#ed7953"
             ],
             [
              0.7777777777777778,
              "#fb9f3a"
             ],
             [
              0.8888888888888888,
              "#fdca26"
             ],
             [
              1,
              "#f0f921"
             ]
            ],
            "type": "heatmap"
           }
          ],
          "heatmapgl": [
           {
            "colorbar": {
             "outlinewidth": 0,
             "ticks": ""
            },
            "colorscale": [
             [
              0,
              "#0d0887"
             ],
             [
              0.1111111111111111,
              "#46039f"
             ],
             [
              0.2222222222222222,
              "#7201a8"
             ],
             [
              0.3333333333333333,
              "#9c179e"
             ],
             [
              0.4444444444444444,
              "#bd3786"
             ],
             [
              0.5555555555555556,
              "#d8576b"
             ],
             [
              0.6666666666666666,
              "#ed7953"
             ],
             [
              0.7777777777777778,
              "#fb9f3a"
             ],
             [
              0.8888888888888888,
              "#fdca26"
             ],
             [
              1,
              "#f0f921"
             ]
            ],
            "type": "heatmapgl"
           }
          ],
          "histogram": [
           {
            "marker": {
             "pattern": {
              "fillmode": "overlay",
              "size": 10,
              "solidity": 0.2
             }
            },
            "type": "histogram"
           }
          ],
          "histogram2d": [
           {
            "colorbar": {
             "outlinewidth": 0,
             "ticks": ""
            },
            "colorscale": [
             [
              0,
              "#0d0887"
             ],
             [
              0.1111111111111111,
              "#46039f"
             ],
             [
              0.2222222222222222,
              "#7201a8"
             ],
             [
              0.3333333333333333,
              "#9c179e"
             ],
             [
              0.4444444444444444,
              "#bd3786"
             ],
             [
              0.5555555555555556,
              "#d8576b"
             ],
             [
              0.6666666666666666,
              "#ed7953"
             ],
             [
              0.7777777777777778,
              "#fb9f3a"
             ],
             [
              0.8888888888888888,
              "#fdca26"
             ],
             [
              1,
              "#f0f921"
             ]
            ],
            "type": "histogram2d"
           }
          ],
          "histogram2dcontour": [
           {
            "colorbar": {
             "outlinewidth": 0,
             "ticks": ""
            },
            "colorscale": [
             [
              0,
              "#0d0887"
             ],
             [
              0.1111111111111111,
              "#46039f"
             ],
             [
              0.2222222222222222,
              "#7201a8"
             ],
             [
              0.3333333333333333,
              "#9c179e"
             ],
             [
              0.4444444444444444,
              "#bd3786"
             ],
             [
              0.5555555555555556,
              "#d8576b"
             ],
             [
              0.6666666666666666,
              "#ed7953"
             ],
             [
              0.7777777777777778,
              "#fb9f3a"
             ],
             [
              0.8888888888888888,
              "#fdca26"
             ],
             [
              1,
              "#f0f921"
             ]
            ],
            "type": "histogram2dcontour"
           }
          ],
          "mesh3d": [
           {
            "colorbar": {
             "outlinewidth": 0,
             "ticks": ""
            },
            "type": "mesh3d"
           }
          ],
          "parcoords": [
           {
            "line": {
             "colorbar": {
              "outlinewidth": 0,
              "ticks": ""
             }
            },
            "type": "parcoords"
           }
          ],
          "pie": [
           {
            "automargin": true,
            "type": "pie"
           }
          ],
          "scatter": [
           {
            "marker": {
             "colorbar": {
              "outlinewidth": 0,
              "ticks": ""
             }
            },
            "type": "scatter"
           }
          ],
          "scatter3d": [
           {
            "line": {
             "colorbar": {
              "outlinewidth": 0,
              "ticks": ""
             }
            },
            "marker": {
             "colorbar": {
              "outlinewidth": 0,
              "ticks": ""
             }
            },
            "type": "scatter3d"
           }
          ],
          "scattercarpet": [
           {
            "marker": {
             "colorbar": {
              "outlinewidth": 0,
              "ticks": ""
             }
            },
            "type": "scattercarpet"
           }
          ],
          "scattergeo": [
           {
            "marker": {
             "colorbar": {
              "outlinewidth": 0,
              "ticks": ""
             }
            },
            "type": "scattergeo"
           }
          ],
          "scattergl": [
           {
            "marker": {
             "colorbar": {
              "outlinewidth": 0,
              "ticks": ""
             }
            },
            "type": "scattergl"
           }
          ],
          "scattermapbox": [
           {
            "marker": {
             "colorbar": {
              "outlinewidth": 0,
              "ticks": ""
             }
            },
            "type": "scattermapbox"
           }
          ],
          "scatterpolar": [
           {
            "marker": {
             "colorbar": {
              "outlinewidth": 0,
              "ticks": ""
             }
            },
            "type": "scatterpolar"
           }
          ],
          "scatterpolargl": [
           {
            "marker": {
             "colorbar": {
              "outlinewidth": 0,
              "ticks": ""
             }
            },
            "type": "scatterpolargl"
           }
          ],
          "scatterternary": [
           {
            "marker": {
             "colorbar": {
              "outlinewidth": 0,
              "ticks": ""
             }
            },
            "type": "scatterternary"
           }
          ],
          "surface": [
           {
            "colorbar": {
             "outlinewidth": 0,
             "ticks": ""
            },
            "colorscale": [
             [
              0,
              "#0d0887"
             ],
             [
              0.1111111111111111,
              "#46039f"
             ],
             [
              0.2222222222222222,
              "#7201a8"
             ],
             [
              0.3333333333333333,
              "#9c179e"
             ],
             [
              0.4444444444444444,
              "#bd3786"
             ],
             [
              0.5555555555555556,
              "#d8576b"
             ],
             [
              0.6666666666666666,
              "#ed7953"
             ],
             [
              0.7777777777777778,
              "#fb9f3a"
             ],
             [
              0.8888888888888888,
              "#fdca26"
             ],
             [
              1,
              "#f0f921"
             ]
            ],
            "type": "surface"
           }
          ],
          "table": [
           {
            "cells": {
             "fill": {
              "color": "#EBF0F8"
             },
             "line": {
              "color": "white"
             }
            },
            "header": {
             "fill": {
              "color": "#C8D4E3"
             },
             "line": {
              "color": "white"
             }
            },
            "type": "table"
           }
          ]
         },
         "layout": {
          "annotationdefaults": {
           "arrowcolor": "#2a3f5f",
           "arrowhead": 0,
           "arrowwidth": 1
          },
          "autotypenumbers": "strict",
          "coloraxis": {
           "colorbar": {
            "outlinewidth": 0,
            "ticks": ""
           }
          },
          "colorscale": {
           "diverging": [
            [
             0,
             "#8e0152"
            ],
            [
             0.1,
             "#c51b7d"
            ],
            [
             0.2,
             "#de77ae"
            ],
            [
             0.3,
             "#f1b6da"
            ],
            [
             0.4,
             "#fde0ef"
            ],
            [
             0.5,
             "#f7f7f7"
            ],
            [
             0.6,
             "#e6f5d0"
            ],
            [
             0.7,
             "#b8e186"
            ],
            [
             0.8,
             "#7fbc41"
            ],
            [
             0.9,
             "#4d9221"
            ],
            [
             1,
             "#276419"
            ]
           ],
           "sequential": [
            [
             0,
             "#0d0887"
            ],
            [
             0.1111111111111111,
             "#46039f"
            ],
            [
             0.2222222222222222,
             "#7201a8"
            ],
            [
             0.3333333333333333,
             "#9c179e"
            ],
            [
             0.4444444444444444,
             "#bd3786"
            ],
            [
             0.5555555555555556,
             "#d8576b"
            ],
            [
             0.6666666666666666,
             "#ed7953"
            ],
            [
             0.7777777777777778,
             "#fb9f3a"
            ],
            [
             0.8888888888888888,
             "#fdca26"
            ],
            [
             1,
             "#f0f921"
            ]
           ],
           "sequentialminus": [
            [
             0,
             "#0d0887"
            ],
            [
             0.1111111111111111,
             "#46039f"
            ],
            [
             0.2222222222222222,
             "#7201a8"
            ],
            [
             0.3333333333333333,
             "#9c179e"
            ],
            [
             0.4444444444444444,
             "#bd3786"
            ],
            [
             0.5555555555555556,
             "#d8576b"
            ],
            [
             0.6666666666666666,
             "#ed7953"
            ],
            [
             0.7777777777777778,
             "#fb9f3a"
            ],
            [
             0.8888888888888888,
             "#fdca26"
            ],
            [
             1,
             "#f0f921"
            ]
           ]
          },
          "colorway": [
           "#636efa",
           "#EF553B",
           "#00cc96",
           "#ab63fa",
           "#FFA15A",
           "#19d3f3",
           "#FF6692",
           "#B6E880",
           "#FF97FF",
           "#FECB52"
          ],
          "font": {
           "color": "#2a3f5f"
          },
          "geo": {
           "bgcolor": "white",
           "lakecolor": "white",
           "landcolor": "#E5ECF6",
           "showlakes": true,
           "showland": true,
           "subunitcolor": "white"
          },
          "hoverlabel": {
           "align": "left"
          },
          "hovermode": "closest",
          "mapbox": {
           "style": "light"
          },
          "paper_bgcolor": "white",
          "plot_bgcolor": "#E5ECF6",
          "polar": {
           "angularaxis": {
            "gridcolor": "white",
            "linecolor": "white",
            "ticks": ""
           },
           "bgcolor": "#E5ECF6",
           "radialaxis": {
            "gridcolor": "white",
            "linecolor": "white",
            "ticks": ""
           }
          },
          "scene": {
           "xaxis": {
            "backgroundcolor": "#E5ECF6",
            "gridcolor": "white",
            "gridwidth": 2,
            "linecolor": "white",
            "showbackground": true,
            "ticks": "",
            "zerolinecolor": "white"
           },
           "yaxis": {
            "backgroundcolor": "#E5ECF6",
            "gridcolor": "white",
            "gridwidth": 2,
            "linecolor": "white",
            "showbackground": true,
            "ticks": "",
            "zerolinecolor": "white"
           },
           "zaxis": {
            "backgroundcolor": "#E5ECF6",
            "gridcolor": "white",
            "gridwidth": 2,
            "linecolor": "white",
            "showbackground": true,
            "ticks": "",
            "zerolinecolor": "white"
           }
          },
          "shapedefaults": {
           "line": {
            "color": "#2a3f5f"
           }
          },
          "ternary": {
           "aaxis": {
            "gridcolor": "white",
            "linecolor": "white",
            "ticks": ""
           },
           "baxis": {
            "gridcolor": "white",
            "linecolor": "white",
            "ticks": ""
           },
           "bgcolor": "#E5ECF6",
           "caxis": {
            "gridcolor": "white",
            "linecolor": "white",
            "ticks": ""
           }
          },
          "title": {
           "x": 0.05
          },
          "xaxis": {
           "automargin": true,
           "gridcolor": "white",
           "linecolor": "white",
           "ticks": "",
           "title": {
            "standoff": 15
           },
           "zerolinecolor": "white",
           "zerolinewidth": 2
          },
          "yaxis": {
           "automargin": true,
           "gridcolor": "white",
           "linecolor": "white",
           "ticks": "",
           "title": {
            "standoff": 15
           },
           "zerolinecolor": "white",
           "zerolinewidth": 2
          }
         }
        },
        "title": {
         "text": "Comparazione metrica 'f1-score' per la classe 0"
        },
        "width": 800
       }
      },
      "text/html": [
       "<div>                            <div id=\"b9a35360-5dc4-4dcc-acdd-556f59560eb1\" class=\"plotly-graph-div\" style=\"height:550px; width:800px;\"></div>            <script type=\"text/javascript\">                require([\"plotly\"], function(Plotly) {                    window.PLOTLYENV=window.PLOTLYENV || {};                                    if (document.getElementById(\"b9a35360-5dc4-4dcc-acdd-556f59560eb1\")) {                    Plotly.newPlot(                        \"b9a35360-5dc4-4dcc-acdd-556f59560eb1\",                        [{\"marker\":{\"color\":[\"rgb(55, 83, 9)\",\"rgb(55, 83, 59)\",\"rgb(55, 83, 109)\",\"rgb(55, 83, 249)\"]},\"name\":\"\",\"x\":[\"MNB_Undersamp\",\"MNB_SMOTE\",\"CNB\",\"LR\"],\"y\":[0.7868588224139565,0.8973178458289335,0.9185636031649422,0.8943151468904997],\"type\":\"bar\"}],                        {\"template\":{\"data\":{\"bar\":[{\"error_x\":{\"color\":\"#2a3f5f\"},\"error_y\":{\"color\":\"#2a3f5f\"},\"marker\":{\"line\":{\"color\":\"#E5ECF6\",\"width\":0.5},\"pattern\":{\"fillmode\":\"overlay\",\"size\":10,\"solidity\":0.2}},\"type\":\"bar\"}],\"barpolar\":[{\"marker\":{\"line\":{\"color\":\"#E5ECF6\",\"width\":0.5},\"pattern\":{\"fillmode\":\"overlay\",\"size\":10,\"solidity\":0.2}},\"type\":\"barpolar\"}],\"carpet\":[{\"aaxis\":{\"endlinecolor\":\"#2a3f5f\",\"gridcolor\":\"white\",\"linecolor\":\"white\",\"minorgridcolor\":\"white\",\"startlinecolor\":\"#2a3f5f\"},\"baxis\":{\"endlinecolor\":\"#2a3f5f\",\"gridcolor\":\"white\",\"linecolor\":\"white\",\"minorgridcolor\":\"white\",\"startlinecolor\":\"#2a3f5f\"},\"type\":\"carpet\"}],\"choropleth\":[{\"colorbar\":{\"outlinewidth\":0,\"ticks\":\"\"},\"type\":\"choropleth\"}],\"contour\":[{\"colorbar\":{\"outlinewidth\":0,\"ticks\":\"\"},\"colorscale\":[[0.0,\"#0d0887\"],[0.1111111111111111,\"#46039f\"],[0.2222222222222222,\"#7201a8\"],[0.3333333333333333,\"#9c179e\"],[0.4444444444444444,\"#bd3786\"],[0.5555555555555556,\"#d8576b\"],[0.6666666666666666,\"#ed7953\"],[0.7777777777777778,\"#fb9f3a\"],[0.8888888888888888,\"#fdca26\"],[1.0,\"#f0f921\"]],\"type\":\"contour\"}],\"contourcarpet\":[{\"colorbar\":{\"outlinewidth\":0,\"ticks\":\"\"},\"type\":\"contourcarpet\"}],\"heatmap\":[{\"colorbar\":{\"outlinewidth\":0,\"ticks\":\"\"},\"colorscale\":[[0.0,\"#0d0887\"],[0.1111111111111111,\"#46039f\"],[0.2222222222222222,\"#7201a8\"],[0.3333333333333333,\"#9c179e\"],[0.4444444444444444,\"#bd3786\"],[0.5555555555555556,\"#d8576b\"],[0.6666666666666666,\"#ed7953\"],[0.7777777777777778,\"#fb9f3a\"],[0.8888888888888888,\"#fdca26\"],[1.0,\"#f0f921\"]],\"type\":\"heatmap\"}],\"heatmapgl\":[{\"colorbar\":{\"outlinewidth\":0,\"ticks\":\"\"},\"colorscale\":[[0.0,\"#0d0887\"],[0.1111111111111111,\"#46039f\"],[0.2222222222222222,\"#7201a8\"],[0.3333333333333333,\"#9c179e\"],[0.4444444444444444,\"#bd3786\"],[0.5555555555555556,\"#d8576b\"],[0.6666666666666666,\"#ed7953\"],[0.7777777777777778,\"#fb9f3a\"],[0.8888888888888888,\"#fdca26\"],[1.0,\"#f0f921\"]],\"type\":\"heatmapgl\"}],\"histogram\":[{\"marker\":{\"pattern\":{\"fillmode\":\"overlay\",\"size\":10,\"solidity\":0.2}},\"type\":\"histogram\"}],\"histogram2d\":[{\"colorbar\":{\"outlinewidth\":0,\"ticks\":\"\"},\"colorscale\":[[0.0,\"#0d0887\"],[0.1111111111111111,\"#46039f\"],[0.2222222222222222,\"#7201a8\"],[0.3333333333333333,\"#9c179e\"],[0.4444444444444444,\"#bd3786\"],[0.5555555555555556,\"#d8576b\"],[0.6666666666666666,\"#ed7953\"],[0.7777777777777778,\"#fb9f3a\"],[0.8888888888888888,\"#fdca26\"],[1.0,\"#f0f921\"]],\"type\":\"histogram2d\"}],\"histogram2dcontour\":[{\"colorbar\":{\"outlinewidth\":0,\"ticks\":\"\"},\"colorscale\":[[0.0,\"#0d0887\"],[0.1111111111111111,\"#46039f\"],[0.2222222222222222,\"#7201a8\"],[0.3333333333333333,\"#9c179e\"],[0.4444444444444444,\"#bd3786\"],[0.5555555555555556,\"#d8576b\"],[0.6666666666666666,\"#ed7953\"],[0.7777777777777778,\"#fb9f3a\"],[0.8888888888888888,\"#fdca26\"],[1.0,\"#f0f921\"]],\"type\":\"histogram2dcontour\"}],\"mesh3d\":[{\"colorbar\":{\"outlinewidth\":0,\"ticks\":\"\"},\"type\":\"mesh3d\"}],\"parcoords\":[{\"line\":{\"colorbar\":{\"outlinewidth\":0,\"ticks\":\"\"}},\"type\":\"parcoords\"}],\"pie\":[{\"automargin\":true,\"type\":\"pie\"}],\"scatter\":[{\"marker\":{\"colorbar\":{\"outlinewidth\":0,\"ticks\":\"\"}},\"type\":\"scatter\"}],\"scatter3d\":[{\"line\":{\"colorbar\":{\"outlinewidth\":0,\"ticks\":\"\"}},\"marker\":{\"colorbar\":{\"outlinewidth\":0,\"ticks\":\"\"}},\"type\":\"scatter3d\"}],\"scattercarpet\":[{\"marker\":{\"colorbar\":{\"outlinewidth\":0,\"ticks\":\"\"}},\"type\":\"scattercarpet\"}],\"scattergeo\":[{\"marker\":{\"colorbar\":{\"outlinewidth\":0,\"ticks\":\"\"}},\"type\":\"scattergeo\"}],\"scattergl\":[{\"marker\":{\"colorbar\":{\"outlinewidth\":0,\"ticks\":\"\"}},\"type\":\"scattergl\"}],\"scattermapbox\":[{\"marker\":{\"colorbar\":{\"outlinewidth\":0,\"ticks\":\"\"}},\"type\":\"scattermapbox\"}],\"scatterpolar\":[{\"marker\":{\"colorbar\":{\"outlinewidth\":0,\"ticks\":\"\"}},\"type\":\"scatterpolar\"}],\"scatterpolargl\":[{\"marker\":{\"colorbar\":{\"outlinewidth\":0,\"ticks\":\"\"}},\"type\":\"scatterpolargl\"}],\"scatterternary\":[{\"marker\":{\"colorbar\":{\"outlinewidth\":0,\"ticks\":\"\"}},\"type\":\"scatterternary\"}],\"surface\":[{\"colorbar\":{\"outlinewidth\":0,\"ticks\":\"\"},\"colorscale\":[[0.0,\"#0d0887\"],[0.1111111111111111,\"#46039f\"],[0.2222222222222222,\"#7201a8\"],[0.3333333333333333,\"#9c179e\"],[0.4444444444444444,\"#bd3786\"],[0.5555555555555556,\"#d8576b\"],[0.6666666666666666,\"#ed7953\"],[0.7777777777777778,\"#fb9f3a\"],[0.8888888888888888,\"#fdca26\"],[1.0,\"#f0f921\"]],\"type\":\"surface\"}],\"table\":[{\"cells\":{\"fill\":{\"color\":\"#EBF0F8\"},\"line\":{\"color\":\"white\"}},\"header\":{\"fill\":{\"color\":\"#C8D4E3\"},\"line\":{\"color\":\"white\"}},\"type\":\"table\"}]},\"layout\":{\"annotationdefaults\":{\"arrowcolor\":\"#2a3f5f\",\"arrowhead\":0,\"arrowwidth\":1},\"autotypenumbers\":\"strict\",\"coloraxis\":{\"colorbar\":{\"outlinewidth\":0,\"ticks\":\"\"}},\"colorscale\":{\"diverging\":[[0,\"#8e0152\"],[0.1,\"#c51b7d\"],[0.2,\"#de77ae\"],[0.3,\"#f1b6da\"],[0.4,\"#fde0ef\"],[0.5,\"#f7f7f7\"],[0.6,\"#e6f5d0\"],[0.7,\"#b8e186\"],[0.8,\"#7fbc41\"],[0.9,\"#4d9221\"],[1,\"#276419\"]],\"sequential\":[[0.0,\"#0d0887\"],[0.1111111111111111,\"#46039f\"],[0.2222222222222222,\"#7201a8\"],[0.3333333333333333,\"#9c179e\"],[0.4444444444444444,\"#bd3786\"],[0.5555555555555556,\"#d8576b\"],[0.6666666666666666,\"#ed7953\"],[0.7777777777777778,\"#fb9f3a\"],[0.8888888888888888,\"#fdca26\"],[1.0,\"#f0f921\"]],\"sequentialminus\":[[0.0,\"#0d0887\"],[0.1111111111111111,\"#46039f\"],[0.2222222222222222,\"#7201a8\"],[0.3333333333333333,\"#9c179e\"],[0.4444444444444444,\"#bd3786\"],[0.5555555555555556,\"#d8576b\"],[0.6666666666666666,\"#ed7953\"],[0.7777777777777778,\"#fb9f3a\"],[0.8888888888888888,\"#fdca26\"],[1.0,\"#f0f921\"]]},\"colorway\":[\"#636efa\",\"#EF553B\",\"#00cc96\",\"#ab63fa\",\"#FFA15A\",\"#19d3f3\",\"#FF6692\",\"#B6E880\",\"#FF97FF\",\"#FECB52\"],\"font\":{\"color\":\"#2a3f5f\"},\"geo\":{\"bgcolor\":\"white\",\"lakecolor\":\"white\",\"landcolor\":\"#E5ECF6\",\"showlakes\":true,\"showland\":true,\"subunitcolor\":\"white\"},\"hoverlabel\":{\"align\":\"left\"},\"hovermode\":\"closest\",\"mapbox\":{\"style\":\"light\"},\"paper_bgcolor\":\"white\",\"plot_bgcolor\":\"#E5ECF6\",\"polar\":{\"angularaxis\":{\"gridcolor\":\"white\",\"linecolor\":\"white\",\"ticks\":\"\"},\"bgcolor\":\"#E5ECF6\",\"radialaxis\":{\"gridcolor\":\"white\",\"linecolor\":\"white\",\"ticks\":\"\"}},\"scene\":{\"xaxis\":{\"backgroundcolor\":\"#E5ECF6\",\"gridcolor\":\"white\",\"gridwidth\":2,\"linecolor\":\"white\",\"showbackground\":true,\"ticks\":\"\",\"zerolinecolor\":\"white\"},\"yaxis\":{\"backgroundcolor\":\"#E5ECF6\",\"gridcolor\":\"white\",\"gridwidth\":2,\"linecolor\":\"white\",\"showbackground\":true,\"ticks\":\"\",\"zerolinecolor\":\"white\"},\"zaxis\":{\"backgroundcolor\":\"#E5ECF6\",\"gridcolor\":\"white\",\"gridwidth\":2,\"linecolor\":\"white\",\"showbackground\":true,\"ticks\":\"\",\"zerolinecolor\":\"white\"}},\"shapedefaults\":{\"line\":{\"color\":\"#2a3f5f\"}},\"ternary\":{\"aaxis\":{\"gridcolor\":\"white\",\"linecolor\":\"white\",\"ticks\":\"\"},\"baxis\":{\"gridcolor\":\"white\",\"linecolor\":\"white\",\"ticks\":\"\"},\"bgcolor\":\"#E5ECF6\",\"caxis\":{\"gridcolor\":\"white\",\"linecolor\":\"white\",\"ticks\":\"\"}},\"title\":{\"x\":0.05},\"xaxis\":{\"automargin\":true,\"gridcolor\":\"white\",\"linecolor\":\"white\",\"ticks\":\"\",\"title\":{\"standoff\":15},\"zerolinecolor\":\"white\",\"zerolinewidth\":2},\"yaxis\":{\"automargin\":true,\"gridcolor\":\"white\",\"linecolor\":\"white\",\"ticks\":\"\",\"title\":{\"standoff\":15},\"zerolinecolor\":\"white\",\"zerolinewidth\":2}}},\"title\":{\"text\":\"Comparazione metrica 'f1-score' per la classe 0\"},\"width\":800,\"height\":550},                        {\"responsive\": true}                    ).then(function(){\n",
       "                            \n",
       "var gd = document.getElementById('b9a35360-5dc4-4dcc-acdd-556f59560eb1');\n",
       "var x = new MutationObserver(function (mutations, observer) {{\n",
       "        var display = window.getComputedStyle(gd).display;\n",
       "        if (!display || display === 'none') {{\n",
       "            console.log([gd, 'removed!']);\n",
       "            Plotly.purge(gd);\n",
       "            observer.disconnect();\n",
       "        }}\n",
       "}});\n",
       "\n",
       "// Listen for the removal of the full notebook cells\n",
       "var notebookContainer = gd.closest('#notebook-container');\n",
       "if (notebookContainer) {{\n",
       "    x.observe(notebookContainer, {childList: true});\n",
       "}}\n",
       "\n",
       "// Listen for the clearing of the current output cell\n",
       "var outputEl = gd.closest('.output');\n",
       "if (outputEl) {{\n",
       "    x.observe(outputEl, {childList: true});\n",
       "}}\n",
       "\n",
       "                        })                };                });            </script>        </div>"
      ]
     },
     "metadata": {},
     "output_type": "display_data"
    },
    {
     "data": {
      "application/vnd.plotly.v1+json": {
       "config": {
        "plotlyServerURL": "https://plot.ly"
       },
       "data": [
        {
         "marker": {
          "color": [
           "rgb(55, 83, 9)",
           "rgb(55, 83, 59)",
           "rgb(55, 83, 109)",
           "rgb(55, 83, 249)"
          ]
         },
         "name": "",
         "type": "bar",
         "x": [
          "MNB_Undersamp",
          "MNB_SMOTE",
          "CNB",
          "LR"
         ],
         "y": [
          0.6839145106861643,
          0.8290916760404949,
          0.858900449943757,
          0.8247328458942632
         ]
        }
       ],
       "layout": {
        "height": 550,
        "template": {
         "data": {
          "bar": [
           {
            "error_x": {
             "color": "#2a3f5f"
            },
            "error_y": {
             "color": "#2a3f5f"
            },
            "marker": {
             "line": {
              "color": "#E5ECF6",
              "width": 0.5
             },
             "pattern": {
              "fillmode": "overlay",
              "size": 10,
              "solidity": 0.2
             }
            },
            "type": "bar"
           }
          ],
          "barpolar": [
           {
            "marker": {
             "line": {
              "color": "#E5ECF6",
              "width": 0.5
             },
             "pattern": {
              "fillmode": "overlay",
              "size": 10,
              "solidity": 0.2
             }
            },
            "type": "barpolar"
           }
          ],
          "carpet": [
           {
            "aaxis": {
             "endlinecolor": "#2a3f5f",
             "gridcolor": "white",
             "linecolor": "white",
             "minorgridcolor": "white",
             "startlinecolor": "#2a3f5f"
            },
            "baxis": {
             "endlinecolor": "#2a3f5f",
             "gridcolor": "white",
             "linecolor": "white",
             "minorgridcolor": "white",
             "startlinecolor": "#2a3f5f"
            },
            "type": "carpet"
           }
          ],
          "choropleth": [
           {
            "colorbar": {
             "outlinewidth": 0,
             "ticks": ""
            },
            "type": "choropleth"
           }
          ],
          "contour": [
           {
            "colorbar": {
             "outlinewidth": 0,
             "ticks": ""
            },
            "colorscale": [
             [
              0,
              "#0d0887"
             ],
             [
              0.1111111111111111,
              "#46039f"
             ],
             [
              0.2222222222222222,
              "#7201a8"
             ],
             [
              0.3333333333333333,
              "#9c179e"
             ],
             [
              0.4444444444444444,
              "#bd3786"
             ],
             [
              0.5555555555555556,
              "#d8576b"
             ],
             [
              0.6666666666666666,
              "#ed7953"
             ],
             [
              0.7777777777777778,
              "#fb9f3a"
             ],
             [
              0.8888888888888888,
              "#fdca26"
             ],
             [
              1,
              "#f0f921"
             ]
            ],
            "type": "contour"
           }
          ],
          "contourcarpet": [
           {
            "colorbar": {
             "outlinewidth": 0,
             "ticks": ""
            },
            "type": "contourcarpet"
           }
          ],
          "heatmap": [
           {
            "colorbar": {
             "outlinewidth": 0,
             "ticks": ""
            },
            "colorscale": [
             [
              0,
              "#0d0887"
             ],
             [
              0.1111111111111111,
              "#46039f"
             ],
             [
              0.2222222222222222,
              "#7201a8"
             ],
             [
              0.3333333333333333,
              "#9c179e"
             ],
             [
              0.4444444444444444,
              "#bd3786"
             ],
             [
              0.5555555555555556,
              "#d8576b"
             ],
             [
              0.6666666666666666,
              "#ed7953"
             ],
             [
              0.7777777777777778,
              "#fb9f3a"
             ],
             [
              0.8888888888888888,
              "#fdca26"
             ],
             [
              1,
              "#f0f921"
             ]
            ],
            "type": "heatmap"
           }
          ],
          "heatmapgl": [
           {
            "colorbar": {
             "outlinewidth": 0,
             "ticks": ""
            },
            "colorscale": [
             [
              0,
              "#0d0887"
             ],
             [
              0.1111111111111111,
              "#46039f"
             ],
             [
              0.2222222222222222,
              "#7201a8"
             ],
             [
              0.3333333333333333,
              "#9c179e"
             ],
             [
              0.4444444444444444,
              "#bd3786"
             ],
             [
              0.5555555555555556,
              "#d8576b"
             ],
             [
              0.6666666666666666,
              "#ed7953"
             ],
             [
              0.7777777777777778,
              "#fb9f3a"
             ],
             [
              0.8888888888888888,
              "#fdca26"
             ],
             [
              1,
              "#f0f921"
             ]
            ],
            "type": "heatmapgl"
           }
          ],
          "histogram": [
           {
            "marker": {
             "pattern": {
              "fillmode": "overlay",
              "size": 10,
              "solidity": 0.2
             }
            },
            "type": "histogram"
           }
          ],
          "histogram2d": [
           {
            "colorbar": {
             "outlinewidth": 0,
             "ticks": ""
            },
            "colorscale": [
             [
              0,
              "#0d0887"
             ],
             [
              0.1111111111111111,
              "#46039f"
             ],
             [
              0.2222222222222222,
              "#7201a8"
             ],
             [
              0.3333333333333333,
              "#9c179e"
             ],
             [
              0.4444444444444444,
              "#bd3786"
             ],
             [
              0.5555555555555556,
              "#d8576b"
             ],
             [
              0.6666666666666666,
              "#ed7953"
             ],
             [
              0.7777777777777778,
              "#fb9f3a"
             ],
             [
              0.8888888888888888,
              "#fdca26"
             ],
             [
              1,
              "#f0f921"
             ]
            ],
            "type": "histogram2d"
           }
          ],
          "histogram2dcontour": [
           {
            "colorbar": {
             "outlinewidth": 0,
             "ticks": ""
            },
            "colorscale": [
             [
              0,
              "#0d0887"
             ],
             [
              0.1111111111111111,
              "#46039f"
             ],
             [
              0.2222222222222222,
              "#7201a8"
             ],
             [
              0.3333333333333333,
              "#9c179e"
             ],
             [
              0.4444444444444444,
              "#bd3786"
             ],
             [
              0.5555555555555556,
              "#d8576b"
             ],
             [
              0.6666666666666666,
              "#ed7953"
             ],
             [
              0.7777777777777778,
              "#fb9f3a"
             ],
             [
              0.8888888888888888,
              "#fdca26"
             ],
             [
              1,
              "#f0f921"
             ]
            ],
            "type": "histogram2dcontour"
           }
          ],
          "mesh3d": [
           {
            "colorbar": {
             "outlinewidth": 0,
             "ticks": ""
            },
            "type": "mesh3d"
           }
          ],
          "parcoords": [
           {
            "line": {
             "colorbar": {
              "outlinewidth": 0,
              "ticks": ""
             }
            },
            "type": "parcoords"
           }
          ],
          "pie": [
           {
            "automargin": true,
            "type": "pie"
           }
          ],
          "scatter": [
           {
            "marker": {
             "colorbar": {
              "outlinewidth": 0,
              "ticks": ""
             }
            },
            "type": "scatter"
           }
          ],
          "scatter3d": [
           {
            "line": {
             "colorbar": {
              "outlinewidth": 0,
              "ticks": ""
             }
            },
            "marker": {
             "colorbar": {
              "outlinewidth": 0,
              "ticks": ""
             }
            },
            "type": "scatter3d"
           }
          ],
          "scattercarpet": [
           {
            "marker": {
             "colorbar": {
              "outlinewidth": 0,
              "ticks": ""
             }
            },
            "type": "scattercarpet"
           }
          ],
          "scattergeo": [
           {
            "marker": {
             "colorbar": {
              "outlinewidth": 0,
              "ticks": ""
             }
            },
            "type": "scattergeo"
           }
          ],
          "scattergl": [
           {
            "marker": {
             "colorbar": {
              "outlinewidth": 0,
              "ticks": ""
             }
            },
            "type": "scattergl"
           }
          ],
          "scattermapbox": [
           {
            "marker": {
             "colorbar": {
              "outlinewidth": 0,
              "ticks": ""
             }
            },
            "type": "scattermapbox"
           }
          ],
          "scatterpolar": [
           {
            "marker": {
             "colorbar": {
              "outlinewidth": 0,
              "ticks": ""
             }
            },
            "type": "scatterpolar"
           }
          ],
          "scatterpolargl": [
           {
            "marker": {
             "colorbar": {
              "outlinewidth": 0,
              "ticks": ""
             }
            },
            "type": "scatterpolargl"
           }
          ],
          "scatterternary": [
           {
            "marker": {
             "colorbar": {
              "outlinewidth": 0,
              "ticks": ""
             }
            },
            "type": "scatterternary"
           }
          ],
          "surface": [
           {
            "colorbar": {
             "outlinewidth": 0,
             "ticks": ""
            },
            "colorscale": [
             [
              0,
              "#0d0887"
             ],
             [
              0.1111111111111111,
              "#46039f"
             ],
             [
              0.2222222222222222,
              "#7201a8"
             ],
             [
              0.3333333333333333,
              "#9c179e"
             ],
             [
              0.4444444444444444,
              "#bd3786"
             ],
             [
              0.5555555555555556,
              "#d8576b"
             ],
             [
              0.6666666666666666,
              "#ed7953"
             ],
             [
              0.7777777777777778,
              "#fb9f3a"
             ],
             [
              0.8888888888888888,
              "#fdca26"
             ],
             [
              1,
              "#f0f921"
             ]
            ],
            "type": "surface"
           }
          ],
          "table": [
           {
            "cells": {
             "fill": {
              "color": "#EBF0F8"
             },
             "line": {
              "color": "white"
             }
            },
            "header": {
             "fill": {
              "color": "#C8D4E3"
             },
             "line": {
              "color": "white"
             }
            },
            "type": "table"
           }
          ]
         },
         "layout": {
          "annotationdefaults": {
           "arrowcolor": "#2a3f5f",
           "arrowhead": 0,
           "arrowwidth": 1
          },
          "autotypenumbers": "strict",
          "coloraxis": {
           "colorbar": {
            "outlinewidth": 0,
            "ticks": ""
           }
          },
          "colorscale": {
           "diverging": [
            [
             0,
             "#8e0152"
            ],
            [
             0.1,
             "#c51b7d"
            ],
            [
             0.2,
             "#de77ae"
            ],
            [
             0.3,
             "#f1b6da"
            ],
            [
             0.4,
             "#fde0ef"
            ],
            [
             0.5,
             "#f7f7f7"
            ],
            [
             0.6,
             "#e6f5d0"
            ],
            [
             0.7,
             "#b8e186"
            ],
            [
             0.8,
             "#7fbc41"
            ],
            [
             0.9,
             "#4d9221"
            ],
            [
             1,
             "#276419"
            ]
           ],
           "sequential": [
            [
             0,
             "#0d0887"
            ],
            [
             0.1111111111111111,
             "#46039f"
            ],
            [
             0.2222222222222222,
             "#7201a8"
            ],
            [
             0.3333333333333333,
             "#9c179e"
            ],
            [
             0.4444444444444444,
             "#bd3786"
            ],
            [
             0.5555555555555556,
             "#d8576b"
            ],
            [
             0.6666666666666666,
             "#ed7953"
            ],
            [
             0.7777777777777778,
             "#fb9f3a"
            ],
            [
             0.8888888888888888,
             "#fdca26"
            ],
            [
             1,
             "#f0f921"
            ]
           ],
           "sequentialminus": [
            [
             0,
             "#0d0887"
            ],
            [
             0.1111111111111111,
             "#46039f"
            ],
            [
             0.2222222222222222,
             "#7201a8"
            ],
            [
             0.3333333333333333,
             "#9c179e"
            ],
            [
             0.4444444444444444,
             "#bd3786"
            ],
            [
             0.5555555555555556,
             "#d8576b"
            ],
            [
             0.6666666666666666,
             "#ed7953"
            ],
            [
             0.7777777777777778,
             "#fb9f3a"
            ],
            [
             0.8888888888888888,
             "#fdca26"
            ],
            [
             1,
             "#f0f921"
            ]
           ]
          },
          "colorway": [
           "#636efa",
           "#EF553B",
           "#00cc96",
           "#ab63fa",
           "#FFA15A",
           "#19d3f3",
           "#FF6692",
           "#B6E880",
           "#FF97FF",
           "#FECB52"
          ],
          "font": {
           "color": "#2a3f5f"
          },
          "geo": {
           "bgcolor": "white",
           "lakecolor": "white",
           "landcolor": "#E5ECF6",
           "showlakes": true,
           "showland": true,
           "subunitcolor": "white"
          },
          "hoverlabel": {
           "align": "left"
          },
          "hovermode": "closest",
          "mapbox": {
           "style": "light"
          },
          "paper_bgcolor": "white",
          "plot_bgcolor": "#E5ECF6",
          "polar": {
           "angularaxis": {
            "gridcolor": "white",
            "linecolor": "white",
            "ticks": ""
           },
           "bgcolor": "#E5ECF6",
           "radialaxis": {
            "gridcolor": "white",
            "linecolor": "white",
            "ticks": ""
           }
          },
          "scene": {
           "xaxis": {
            "backgroundcolor": "#E5ECF6",
            "gridcolor": "white",
            "gridwidth": 2,
            "linecolor": "white",
            "showbackground": true,
            "ticks": "",
            "zerolinecolor": "white"
           },
           "yaxis": {
            "backgroundcolor": "#E5ECF6",
            "gridcolor": "white",
            "gridwidth": 2,
            "linecolor": "white",
            "showbackground": true,
            "ticks": "",
            "zerolinecolor": "white"
           },
           "zaxis": {
            "backgroundcolor": "#E5ECF6",
            "gridcolor": "white",
            "gridwidth": 2,
            "linecolor": "white",
            "showbackground": true,
            "ticks": "",
            "zerolinecolor": "white"
           }
          },
          "shapedefaults": {
           "line": {
            "color": "#2a3f5f"
           }
          },
          "ternary": {
           "aaxis": {
            "gridcolor": "white",
            "linecolor": "white",
            "ticks": ""
           },
           "baxis": {
            "gridcolor": "white",
            "linecolor": "white",
            "ticks": ""
           },
           "bgcolor": "#E5ECF6",
           "caxis": {
            "gridcolor": "white",
            "linecolor": "white",
            "ticks": ""
           }
          },
          "title": {
           "x": 0.05
          },
          "xaxis": {
           "automargin": true,
           "gridcolor": "white",
           "linecolor": "white",
           "ticks": "",
           "title": {
            "standoff": 15
           },
           "zerolinecolor": "white",
           "zerolinewidth": 2
          },
          "yaxis": {
           "automargin": true,
           "gridcolor": "white",
           "linecolor": "white",
           "ticks": "",
           "title": {
            "standoff": 15
           },
           "zerolinecolor": "white",
           "zerolinewidth": 2
          }
         }
        },
        "title": {
         "text": "Comparazione metrica 'accuracy' (macro)"
        },
        "width": 800
       }
      },
      "text/html": [
       "<div>                            <div id=\"31a5d56c-783b-4717-9769-da8f921d5dcb\" class=\"plotly-graph-div\" style=\"height:550px; width:800px;\"></div>            <script type=\"text/javascript\">                require([\"plotly\"], function(Plotly) {                    window.PLOTLYENV=window.PLOTLYENV || {};                                    if (document.getElementById(\"31a5d56c-783b-4717-9769-da8f921d5dcb\")) {                    Plotly.newPlot(                        \"31a5d56c-783b-4717-9769-da8f921d5dcb\",                        [{\"marker\":{\"color\":[\"rgb(55, 83, 9)\",\"rgb(55, 83, 59)\",\"rgb(55, 83, 109)\",\"rgb(55, 83, 249)\"]},\"name\":\"\",\"x\":[\"MNB_Undersamp\",\"MNB_SMOTE\",\"CNB\",\"LR\"],\"y\":[0.6839145106861643,0.8290916760404949,0.858900449943757,0.8247328458942632],\"type\":\"bar\"}],                        {\"template\":{\"data\":{\"bar\":[{\"error_x\":{\"color\":\"#2a3f5f\"},\"error_y\":{\"color\":\"#2a3f5f\"},\"marker\":{\"line\":{\"color\":\"#E5ECF6\",\"width\":0.5},\"pattern\":{\"fillmode\":\"overlay\",\"size\":10,\"solidity\":0.2}},\"type\":\"bar\"}],\"barpolar\":[{\"marker\":{\"line\":{\"color\":\"#E5ECF6\",\"width\":0.5},\"pattern\":{\"fillmode\":\"overlay\",\"size\":10,\"solidity\":0.2}},\"type\":\"barpolar\"}],\"carpet\":[{\"aaxis\":{\"endlinecolor\":\"#2a3f5f\",\"gridcolor\":\"white\",\"linecolor\":\"white\",\"minorgridcolor\":\"white\",\"startlinecolor\":\"#2a3f5f\"},\"baxis\":{\"endlinecolor\":\"#2a3f5f\",\"gridcolor\":\"white\",\"linecolor\":\"white\",\"minorgridcolor\":\"white\",\"startlinecolor\":\"#2a3f5f\"},\"type\":\"carpet\"}],\"choropleth\":[{\"colorbar\":{\"outlinewidth\":0,\"ticks\":\"\"},\"type\":\"choropleth\"}],\"contour\":[{\"colorbar\":{\"outlinewidth\":0,\"ticks\":\"\"},\"colorscale\":[[0.0,\"#0d0887\"],[0.1111111111111111,\"#46039f\"],[0.2222222222222222,\"#7201a8\"],[0.3333333333333333,\"#9c179e\"],[0.4444444444444444,\"#bd3786\"],[0.5555555555555556,\"#d8576b\"],[0.6666666666666666,\"#ed7953\"],[0.7777777777777778,\"#fb9f3a\"],[0.8888888888888888,\"#fdca26\"],[1.0,\"#f0f921\"]],\"type\":\"contour\"}],\"contourcarpet\":[{\"colorbar\":{\"outlinewidth\":0,\"ticks\":\"\"},\"type\":\"contourcarpet\"}],\"heatmap\":[{\"colorbar\":{\"outlinewidth\":0,\"ticks\":\"\"},\"colorscale\":[[0.0,\"#0d0887\"],[0.1111111111111111,\"#46039f\"],[0.2222222222222222,\"#7201a8\"],[0.3333333333333333,\"#9c179e\"],[0.4444444444444444,\"#bd3786\"],[0.5555555555555556,\"#d8576b\"],[0.6666666666666666,\"#ed7953\"],[0.7777777777777778,\"#fb9f3a\"],[0.8888888888888888,\"#fdca26\"],[1.0,\"#f0f921\"]],\"type\":\"heatmap\"}],\"heatmapgl\":[{\"colorbar\":{\"outlinewidth\":0,\"ticks\":\"\"},\"colorscale\":[[0.0,\"#0d0887\"],[0.1111111111111111,\"#46039f\"],[0.2222222222222222,\"#7201a8\"],[0.3333333333333333,\"#9c179e\"],[0.4444444444444444,\"#bd3786\"],[0.5555555555555556,\"#d8576b\"],[0.6666666666666666,\"#ed7953\"],[0.7777777777777778,\"#fb9f3a\"],[0.8888888888888888,\"#fdca26\"],[1.0,\"#f0f921\"]],\"type\":\"heatmapgl\"}],\"histogram\":[{\"marker\":{\"pattern\":{\"fillmode\":\"overlay\",\"size\":10,\"solidity\":0.2}},\"type\":\"histogram\"}],\"histogram2d\":[{\"colorbar\":{\"outlinewidth\":0,\"ticks\":\"\"},\"colorscale\":[[0.0,\"#0d0887\"],[0.1111111111111111,\"#46039f\"],[0.2222222222222222,\"#7201a8\"],[0.3333333333333333,\"#9c179e\"],[0.4444444444444444,\"#bd3786\"],[0.5555555555555556,\"#d8576b\"],[0.6666666666666666,\"#ed7953\"],[0.7777777777777778,\"#fb9f3a\"],[0.8888888888888888,\"#fdca26\"],[1.0,\"#f0f921\"]],\"type\":\"histogram2d\"}],\"histogram2dcontour\":[{\"colorbar\":{\"outlinewidth\":0,\"ticks\":\"\"},\"colorscale\":[[0.0,\"#0d0887\"],[0.1111111111111111,\"#46039f\"],[0.2222222222222222,\"#7201a8\"],[0.3333333333333333,\"#9c179e\"],[0.4444444444444444,\"#bd3786\"],[0.5555555555555556,\"#d8576b\"],[0.6666666666666666,\"#ed7953\"],[0.7777777777777778,\"#fb9f3a\"],[0.8888888888888888,\"#fdca26\"],[1.0,\"#f0f921\"]],\"type\":\"histogram2dcontour\"}],\"mesh3d\":[{\"colorbar\":{\"outlinewidth\":0,\"ticks\":\"\"},\"type\":\"mesh3d\"}],\"parcoords\":[{\"line\":{\"colorbar\":{\"outlinewidth\":0,\"ticks\":\"\"}},\"type\":\"parcoords\"}],\"pie\":[{\"automargin\":true,\"type\":\"pie\"}],\"scatter\":[{\"marker\":{\"colorbar\":{\"outlinewidth\":0,\"ticks\":\"\"}},\"type\":\"scatter\"}],\"scatter3d\":[{\"line\":{\"colorbar\":{\"outlinewidth\":0,\"ticks\":\"\"}},\"marker\":{\"colorbar\":{\"outlinewidth\":0,\"ticks\":\"\"}},\"type\":\"scatter3d\"}],\"scattercarpet\":[{\"marker\":{\"colorbar\":{\"outlinewidth\":0,\"ticks\":\"\"}},\"type\":\"scattercarpet\"}],\"scattergeo\":[{\"marker\":{\"colorbar\":{\"outlinewidth\":0,\"ticks\":\"\"}},\"type\":\"scattergeo\"}],\"scattergl\":[{\"marker\":{\"colorbar\":{\"outlinewidth\":0,\"ticks\":\"\"}},\"type\":\"scattergl\"}],\"scattermapbox\":[{\"marker\":{\"colorbar\":{\"outlinewidth\":0,\"ticks\":\"\"}},\"type\":\"scattermapbox\"}],\"scatterpolar\":[{\"marker\":{\"colorbar\":{\"outlinewidth\":0,\"ticks\":\"\"}},\"type\":\"scatterpolar\"}],\"scatterpolargl\":[{\"marker\":{\"colorbar\":{\"outlinewidth\":0,\"ticks\":\"\"}},\"type\":\"scatterpolargl\"}],\"scatterternary\":[{\"marker\":{\"colorbar\":{\"outlinewidth\":0,\"ticks\":\"\"}},\"type\":\"scatterternary\"}],\"surface\":[{\"colorbar\":{\"outlinewidth\":0,\"ticks\":\"\"},\"colorscale\":[[0.0,\"#0d0887\"],[0.1111111111111111,\"#46039f\"],[0.2222222222222222,\"#7201a8\"],[0.3333333333333333,\"#9c179e\"],[0.4444444444444444,\"#bd3786\"],[0.5555555555555556,\"#d8576b\"],[0.6666666666666666,\"#ed7953\"],[0.7777777777777778,\"#fb9f3a\"],[0.8888888888888888,\"#fdca26\"],[1.0,\"#f0f921\"]],\"type\":\"surface\"}],\"table\":[{\"cells\":{\"fill\":{\"color\":\"#EBF0F8\"},\"line\":{\"color\":\"white\"}},\"header\":{\"fill\":{\"color\":\"#C8D4E3\"},\"line\":{\"color\":\"white\"}},\"type\":\"table\"}]},\"layout\":{\"annotationdefaults\":{\"arrowcolor\":\"#2a3f5f\",\"arrowhead\":0,\"arrowwidth\":1},\"autotypenumbers\":\"strict\",\"coloraxis\":{\"colorbar\":{\"outlinewidth\":0,\"ticks\":\"\"}},\"colorscale\":{\"diverging\":[[0,\"#8e0152\"],[0.1,\"#c51b7d\"],[0.2,\"#de77ae\"],[0.3,\"#f1b6da\"],[0.4,\"#fde0ef\"],[0.5,\"#f7f7f7\"],[0.6,\"#e6f5d0\"],[0.7,\"#b8e186\"],[0.8,\"#7fbc41\"],[0.9,\"#4d9221\"],[1,\"#276419\"]],\"sequential\":[[0.0,\"#0d0887\"],[0.1111111111111111,\"#46039f\"],[0.2222222222222222,\"#7201a8\"],[0.3333333333333333,\"#9c179e\"],[0.4444444444444444,\"#bd3786\"],[0.5555555555555556,\"#d8576b\"],[0.6666666666666666,\"#ed7953\"],[0.7777777777777778,\"#fb9f3a\"],[0.8888888888888888,\"#fdca26\"],[1.0,\"#f0f921\"]],\"sequentialminus\":[[0.0,\"#0d0887\"],[0.1111111111111111,\"#46039f\"],[0.2222222222222222,\"#7201a8\"],[0.3333333333333333,\"#9c179e\"],[0.4444444444444444,\"#bd3786\"],[0.5555555555555556,\"#d8576b\"],[0.6666666666666666,\"#ed7953\"],[0.7777777777777778,\"#fb9f3a\"],[0.8888888888888888,\"#fdca26\"],[1.0,\"#f0f921\"]]},\"colorway\":[\"#636efa\",\"#EF553B\",\"#00cc96\",\"#ab63fa\",\"#FFA15A\",\"#19d3f3\",\"#FF6692\",\"#B6E880\",\"#FF97FF\",\"#FECB52\"],\"font\":{\"color\":\"#2a3f5f\"},\"geo\":{\"bgcolor\":\"white\",\"lakecolor\":\"white\",\"landcolor\":\"#E5ECF6\",\"showlakes\":true,\"showland\":true,\"subunitcolor\":\"white\"},\"hoverlabel\":{\"align\":\"left\"},\"hovermode\":\"closest\",\"mapbox\":{\"style\":\"light\"},\"paper_bgcolor\":\"white\",\"plot_bgcolor\":\"#E5ECF6\",\"polar\":{\"angularaxis\":{\"gridcolor\":\"white\",\"linecolor\":\"white\",\"ticks\":\"\"},\"bgcolor\":\"#E5ECF6\",\"radialaxis\":{\"gridcolor\":\"white\",\"linecolor\":\"white\",\"ticks\":\"\"}},\"scene\":{\"xaxis\":{\"backgroundcolor\":\"#E5ECF6\",\"gridcolor\":\"white\",\"gridwidth\":2,\"linecolor\":\"white\",\"showbackground\":true,\"ticks\":\"\",\"zerolinecolor\":\"white\"},\"yaxis\":{\"backgroundcolor\":\"#E5ECF6\",\"gridcolor\":\"white\",\"gridwidth\":2,\"linecolor\":\"white\",\"showbackground\":true,\"ticks\":\"\",\"zerolinecolor\":\"white\"},\"zaxis\":{\"backgroundcolor\":\"#E5ECF6\",\"gridcolor\":\"white\",\"gridwidth\":2,\"linecolor\":\"white\",\"showbackground\":true,\"ticks\":\"\",\"zerolinecolor\":\"white\"}},\"shapedefaults\":{\"line\":{\"color\":\"#2a3f5f\"}},\"ternary\":{\"aaxis\":{\"gridcolor\":\"white\",\"linecolor\":\"white\",\"ticks\":\"\"},\"baxis\":{\"gridcolor\":\"white\",\"linecolor\":\"white\",\"ticks\":\"\"},\"bgcolor\":\"#E5ECF6\",\"caxis\":{\"gridcolor\":\"white\",\"linecolor\":\"white\",\"ticks\":\"\"}},\"title\":{\"x\":0.05},\"xaxis\":{\"automargin\":true,\"gridcolor\":\"white\",\"linecolor\":\"white\",\"ticks\":\"\",\"title\":{\"standoff\":15},\"zerolinecolor\":\"white\",\"zerolinewidth\":2},\"yaxis\":{\"automargin\":true,\"gridcolor\":\"white\",\"linecolor\":\"white\",\"ticks\":\"\",\"title\":{\"standoff\":15},\"zerolinecolor\":\"white\",\"zerolinewidth\":2}}},\"title\":{\"text\":\"Comparazione metrica 'accuracy' (macro)\"},\"width\":800,\"height\":550},                        {\"responsive\": true}                    ).then(function(){\n",
       "                            \n",
       "var gd = document.getElementById('31a5d56c-783b-4717-9769-da8f921d5dcb');\n",
       "var x = new MutationObserver(function (mutations, observer) {{\n",
       "        var display = window.getComputedStyle(gd).display;\n",
       "        if (!display || display === 'none') {{\n",
       "            console.log([gd, 'removed!']);\n",
       "            Plotly.purge(gd);\n",
       "            observer.disconnect();\n",
       "        }}\n",
       "}});\n",
       "\n",
       "// Listen for the removal of the full notebook cells\n",
       "var notebookContainer = gd.closest('#notebook-container');\n",
       "if (notebookContainer) {{\n",
       "    x.observe(notebookContainer, {childList: true});\n",
       "}}\n",
       "\n",
       "// Listen for the clearing of the current output cell\n",
       "var outputEl = gd.closest('.output');\n",
       "if (outputEl) {{\n",
       "    x.observe(outputEl, {childList: true});\n",
       "}}\n",
       "\n",
       "                        })                };                });            </script>        </div>"
      ]
     },
     "metadata": {},
     "output_type": "display_data"
    }
   ],
   "source": [
    "sa.display_multiple_evaluation({'MNB_Undersamp': multinomialNB_RandomUnderSampler_res['classification_report'],\n",
    "                                'MNB_SMOTE': multinomialNB_res['classification_report'], \n",
    "                                'CNB': complementNB_res['classification_report'],\n",
    "                                'LR' : logisticRegression_res['classification_report'],\n",
    "                               }, metric='f1-score', class_ref='macro avg', \n",
    "                               bar_color=['rgb(55, 83, 9)', 'rgb(55, 83, 59)', \n",
    "                                          'rgb(55, 83, 109)', 'rgb(55, 83, 249)'])\n",
    "\n",
    "sa.display_multiple_evaluation({'MNB_Undersamp': multinomialNB_RandomUnderSampler_res['classification_report'],\n",
    "                                'MNB_SMOTE': multinomialNB_res['classification_report'], \n",
    "                                'CNB': complementNB_res['classification_report'],\n",
    "                                'LR' : logisticRegression_res['classification_report'],\n",
    "                               }, metric='f1-score', class_ref='1', \n",
    "                               bar_color=['rgb(55, 83, 9)', 'rgb(55, 83, 59)', \n",
    "                                          'rgb(55, 83, 109)', 'rgb(55, 83, 249)'])\n",
    "\n",
    "sa.display_multiple_evaluation({'MNB_Undersamp': multinomialNB_RandomUnderSampler_res['classification_report'],\n",
    "                                'MNB_SMOTE': multinomialNB_res['classification_report'], \n",
    "                                'CNB': complementNB_res['classification_report'],\n",
    "                                'LR' : logisticRegression_res['classification_report'],\n",
    "                               }, metric='f1-score', class_ref='0', \n",
    "                               bar_color=['rgb(55, 83, 9)', 'rgb(55, 83, 59)', \n",
    "                                          'rgb(55, 83, 109)', 'rgb(55, 83, 249)'])\n",
    "\n",
    "sa.display_multiple_evaluation({'MNB_Undersamp': multinomialNB_RandomUnderSampler_res['classification_report'],\n",
    "                                'MNB_SMOTE': multinomialNB_res['classification_report'], \n",
    "                                'CNB': complementNB_res['classification_report'],\n",
    "                                'LR' : logisticRegression_res['classification_report'],\n",
    "                               }, metric='accuracy', \n",
    "                               bar_color=['rgb(55, 83, 9)', 'rgb(55, 83, 59)', \n",
    "                                          'rgb(55, 83, 109)', 'rgb(55, 83, 249)'])"
   ]
  },
  {
   "cell_type": "markdown",
   "id": "62cb5c25",
   "metadata": {},
   "source": [
    "Dai risultati ottenuti è quindi possibile vedere che la scelta della metodologia di resampling nel caso del MultinomialNB porta a rilevanti conseguenze (con la *SMOTE* si ottengono performance migliori). Confrontando invece gli altri modelli si può notare che in generale hanno prestazioni molto simili tra loro e per il modello ComplementNB c'è un leggero peggioramento in riferimento alla metrica *F1* per la classe 1 (risposta aperta negativa). E' possibile quindi vedere che se per le risposte positive i modelli riescono a performare in maniera piuttosto efficiente, per quelle negative si riscontrano maggiori problematiche. Oltre alle tecniche di resampling e weighting delle classi, l'utilizzo di metodologie apposite più mirate potrebbero favorire una maggior prestazione generale. Al fine di migliorare i risultati ottenuti potrebbe poi essere possibile l'utilizzo di trasformazioni apposite (ad esempio per la gestione delle negazioni) che però nella lingua italiana trovano una maggiore difficoltà di implementazione.  \n",
    "\n",
    "Di seguito si vogliono riportare alcuni esempi di previsione del modello MultinomialNB con SMOTE rispetto ad alcune frasi di esempio. E' prima effettuato l'addestramento del modello su tutti i dati disponibili e poi viene chiamata la funzione *predict()* su alcune frasi di prova."
   ]
  },
  {
   "cell_type": "code",
   "execution_count": 315,
   "id": "2a36311d",
   "metadata": {},
   "outputs": [
    {
     "name": "stdout",
     "output_type": "stream",
     "text": [
      "Score: BUONO , frase: Banca stupenda e personale sempre disponibile\n",
      "Score: CATTIVO , frase: Che brutta banca personale scorbutico\n",
      "Score: CATTIVO , frase: Servizio pessimo ma personale disponibile\n",
      "Score: CATTIVO , frase: non è possibile che esistano ancora banche così arretrate\n",
      "Score: BUONO , frase: non pensavo fosse così efficiente\n",
      "Score: CATTIVO , frase: sicuramente non la consiglio\n",
      "Score: BUONO , frase: sicuramente la consiglio\n"
     ]
    }
   ],
   "source": [
    "sa.set_pipeline_steps([CountVectorizer(stop_words=sa.stopwords, \n",
    "                                       binary=True, \n",
    "                                       ngram_range=(1,2)),\n",
    "                       TfidfTransformer(use_idf=True),\n",
    "                       MultinomialNB(),\n",
    "                      ], resampling_strategy='SMOTE')\n",
    "\n",
    "model = sa.train_all_data()\n",
    "\n",
    "frasi = ['Banca stupenda e personale sempre disponibile',\n",
    "         'Che brutta banca personale scorbutico', \n",
    "         'Servizio pessimo ma personale disponibile', \n",
    "         'non è possibile che esistano ancora banche così arretrate', \n",
    "         'non pensavo fosse così efficiente',\n",
    "         'sicuramente non la consiglio',\n",
    "         'sicuramente la consiglio',\n",
    "        ]\n",
    "txt = pd.Series(frasi)\n",
    "pred = model.predict(txt)\n",
    "\n",
    "for index, frase in enumerate(frasi):\n",
    "    s = 'BUONO' if pred[index]==0 else 'CATTIVO'\n",
    "    print('Score: {0} , frase: {1}'.format(s, frase))\n",
    "    \n",
    "    "
   ]
  },
  {
   "cell_type": "markdown",
   "id": "0f58e32a",
   "metadata": {},
   "source": [
    "### 3.4 Calcolo score finale  \n",
    "\n",
    "Sulla base dei modelli considerati, si vuole adesso descrivere in che modo questi possono essere utilizzati al fine di migliorare la metodologia di valutazione della soddisfazione dei clienti nella banca.  \n",
    "Un aspetto che si è notato durante l'esplorazione dei dati è che alcuni questionari che in media hanno un valore di soddisfazione alto, contengono però domande aperte che non sono del tutto positive (magari perchè nel complesso il cliente è soddisfatto ma nelle risposte aperte specifica alcuni suoi malcontenti). In uno scenario di miglioramento del calcolo della soddisfazione, i meccanismi di Sentimen Analysis potrebbero giocare un ruolo importante in questo senso: esaltare clienti soddisfatti (quindi con domande chiuse e risposte aperte effettimente positive), rispetto a quei clienti sì soddisfatti in generale, ma con qualche malcontento espresso nelle domande aperte (e che senza tecniche di rilevamento del sentimento non potrebbero essere rilevati).  \n",
    "\n",
    "Nel caso in esame però, le label usate per categorizzare le risposte aperte corrispondono al valore delle risposte chiuse del questionario e quindi i modelli addestrati su questa tipologia di dati farebbero fatica ad essere realmenti informativi rispetto al contesto sopra descritto. Una soluzione (non implementata però in questo progetto) potrebbe essere quindi quella di addestrare i modelli sulla base di target diversi dalle risposte chiuse dei questionari.  \n",
    "Anche nel caso si volessero utilizzare i modelli trovati con quest'ultimo approccio però, ciò che sarebbe davvero utile è la previsione su dati mai visti e non su quelli di train (come sarebbe in questo caso). In altre parole quindi, al fine di utilizzare il risultato della SA per migliorare la metodologia di valutazione, potrebbe essere utile avere un dataset solo per l'addestramento per poi applicare i modelli di previsione sui dati reali (che ad esempio potrebbero essere quelli considerati in questo progetto).  \n",
    "\n",
    "Per questo motivo è stato deciso di non utilizzare i modelli trovati per calcolare lo score finale, ma è utilizzato solamente il valore delle risposte chiuse. Per ciacun questionario è quindi calcolato uno score di soddisfazione (allo stesso modo in cui la label del testo è creata) ed infine per ciascun utente è calcolata la media dei punteggio riferiti a tutti i questionari compilati."
   ]
  },
  {
   "cell_type": "code",
   "execution_count": 316,
   "id": "1995738d",
   "metadata": {},
   "outputs": [],
   "source": [
    "def transform_for_GA(df):\n",
    "    \"\"\"\n",
    "    A partire dal dataframe df che contiene per ogni riga una certa domanda, questa funzione calcola e ritorna \n",
    "    un nuovo dataframe in cui per ciascun cliente è associato lo score di soddisfazione medio (sulla base dei\n",
    "    diversi questionari compilati).\n",
    "    \n",
    "    Params:\n",
    "        df: dataframe di domande da trasformare;\n",
    "    \n",
    "    Return:\n",
    "        dataframe con due colonne [''ID_CLIENTE', 'SCORE''] predisposto alla Sentiment Analysis\n",
    "    \"\"\"\n",
    "    \n",
    "    def calcola_label(data):\n",
    "        \"\"\"\n",
    "        In input riceve il dataframe 'data' contenente per ogni riga le domande riferite AD UN SOLO QUESTIONARIO.\n",
    "        Calcola la media dei punteggi delle risposte chiuse (tramite la mappatura 'map_risposte').\n",
    "        Parametri:\n",
    "            data: dataframe in ogni riga corrisponde ad una domanda di UN SOLO QUESTIONARIO\n",
    "\n",
    "        Return:\n",
    "            media delle risposte chiuse del questionario\n",
    "        \"\"\"\n",
    "        lista_tipo_risposte = data['TIPO_RISPOSTA'].tolist()\n",
    "        lista_risposte = data['DESC_RISPOSTA'].tolist()\n",
    "        lista_domande = data['DESC_DOMANDA'].to_list()\n",
    "\n",
    "        punteggi = []\n",
    "\n",
    "        for indice, tipo_risposta in enumerate(lista_tipo_risposte):\n",
    "            if tipo_risposta == 'inputradio' or tipo_risposta == 'inputmulticheckb':\n",
    "                risposta = lista_risposte[indice].lower()\n",
    "                valore_risposta = map_risposte.get(risposta, None)\n",
    "                if valore_risposta is not None:\n",
    "                    punteggi.append(valore_risposta)\n",
    "        \n",
    "        if punteggi==[]: return np.nan\n",
    "        return statistics.mean(punteggi)\n",
    "    \n",
    "    df_valutato = df.copy()\n",
    "    df_valutato = df_valutato.groupby(['ID_CLIENTE', \n",
    "                                       'ID_QUESTIONARIO',\n",
    "                                       'ID_SESSIONE_QUESTIONARIO',\n",
    "                                       'DATA_COMPILAZIONE',\n",
    "                                       'DESC_QUESTIONARIO']).apply(calcola_label).reset_index(name='SCORE')\n",
    "    df_valutato = df_valutato.dropna()\n",
    "    df_valutato = df_valutato.groupby(['ID_CLIENTE']).mean().reset_index()\n",
    "    df_valutato = df_valutato[['ID_CLIENTE', 'SCORE']]                                                   \n",
    "    return df_valutato\n",
    "    "
   ]
  },
  {
   "cell_type": "code",
   "execution_count": 329,
   "id": "1099987e",
   "metadata": {},
   "outputs": [
    {
     "name": "stdout",
     "output_type": "stream",
     "text": [
      "Dimensione dataframe: \n",
      "righe: 107357, colonne: 2\n"
     ]
    },
    {
     "data": {
      "text/html": [
       "<div>\n",
       "<style scoped>\n",
       "    .dataframe tbody tr th:only-of-type {\n",
       "        vertical-align: middle;\n",
       "    }\n",
       "\n",
       "    .dataframe tbody tr th {\n",
       "        vertical-align: top;\n",
       "    }\n",
       "\n",
       "    .dataframe thead th {\n",
       "        text-align: right;\n",
       "    }\n",
       "</style>\n",
       "<table border=\"1\" class=\"dataframe\">\n",
       "  <thead>\n",
       "    <tr style=\"text-align: right;\">\n",
       "      <th></th>\n",
       "      <th>ID_CLIENTE</th>\n",
       "      <th>SCORE</th>\n",
       "    </tr>\n",
       "  </thead>\n",
       "  <tbody>\n",
       "    <tr>\n",
       "      <th>0</th>\n",
       "      <td>6124029</td>\n",
       "      <td>3.4225</td>\n",
       "    </tr>\n",
       "    <tr>\n",
       "      <th>1</th>\n",
       "      <td>6124174</td>\n",
       "      <td>3.4150</td>\n",
       "    </tr>\n",
       "    <tr>\n",
       "      <th>2</th>\n",
       "      <td>6124554</td>\n",
       "      <td>3.2550</td>\n",
       "    </tr>\n",
       "  </tbody>\n",
       "</table>\n",
       "</div>"
      ],
      "text/plain": [
       "   ID_CLIENTE   SCORE\n",
       "0     6124029  3.4225\n",
       "1     6124174  3.4150\n",
       "2     6124554  3.2550"
      ]
     },
     "metadata": {},
     "output_type": "display_data"
    }
   ],
   "source": [
    "df_score_cliente = transform_for_GA(df_questionari)\n",
    "print('Dimensione dataframe: \\nrighe: {0}, colonne: {1}'.format(df_score_cliente.shape[0], \n",
    "                                                                df_score_cliente.shape[1]))\n",
    "display(df_score_cliente.head(3))"
   ]
  },
  {
   "cell_type": "markdown",
   "id": "9d7bd447",
   "metadata": {},
   "source": [
    "## 4. Graph Analytics  \n",
    "\n",
    "Come riportato nel paragrafo 2, oltre ai dati riferiti ai questionari compilati, sono presenti anche i dati relativi alle connessioni tra i clienti e le filiali. Grazie quindi a queste informazioni è possibile ricavarne la relativa struttura a grafo sulla quale implementare la parte di Graph Analytics del progetto. Più in particolare si vogliono trattare i seguenti aspetti:\n",
    "* **Obiettivo 1**: definire una metodologia tramite la quale, a partire da un nodo sorgente (con score), venga calcolata la relativa rete di influenza. Ciascun cliente in questa rete avrà associato un grado influenza che dipenderà dallo score del nodo sorgente e dalla distanza da esso;\n",
    "* **Obiettivo 2**: implementare un approccio che consenta di ricavare il livello di gradimento delle fialiali in funzione dello score di partenza e del grado di influenza calcolato nel punto precedente.  \n",
    "\n",
    "Di seguito quindi, la sezione 4.1 si focalizza sulla creazione del grafo a partire dai dati a disposizione, mentre nelle due sezioni successive (4.2 e 4.3) saranno trattati rispettivamente gli obiettivi 1 e 2 sopra descritti."
   ]
  },
  {
   "cell_type": "markdown",
   "id": "56288e1b",
   "metadata": {},
   "source": [
    "### 4.1 Creazione del grafo  \n",
    "\n",
    "In sezione 2.2 è stato caricato il dataframe delle relazioni che mettono in collegamento tra loro i clienti e le rispettive filiali. Di seguito ne sono quindi visualizzate le prime righe ed inoltre sono ricavate alcune informazioni utili sui diversi valori presenti (è già stato visto in sezione 2.2 che non sono presenti valori nulli)."
   ]
  },
  {
   "cell_type": "code",
   "execution_count": 328,
   "id": "eab99026",
   "metadata": {},
   "outputs": [
    {
     "name": "stdout",
     "output_type": "stream",
     "text": [
      "Dimensione dataframe, righe: 4089536, colonne: 8\n"
     ]
    },
    {
     "data": {
      "text/html": [
       "<div>\n",
       "<style scoped>\n",
       "    .dataframe tbody tr th:only-of-type {\n",
       "        vertical-align: middle;\n",
       "    }\n",
       "\n",
       "    .dataframe tbody tr th {\n",
       "        vertical-align: top;\n",
       "    }\n",
       "\n",
       "    .dataframe thead th {\n",
       "        text-align: right;\n",
       "    }\n",
       "</style>\n",
       "<table border=\"1\" class=\"dataframe\">\n",
       "  <thead>\n",
       "    <tr style=\"text-align: right;\">\n",
       "      <th></th>\n",
       "      <th>ID_CLIENTE_1</th>\n",
       "      <th>COD_NATURA_GIURIDICA_1</th>\n",
       "      <th>ID_FILIALE_1</th>\n",
       "      <th>COD_COLLEGAMENTO</th>\n",
       "      <th>DESC_COLLEGAMENTO</th>\n",
       "      <th>ID_CLIENTE_2</th>\n",
       "      <th>COD_NATURA_GIURIDICA_2</th>\n",
       "      <th>ID_FILIALE_2</th>\n",
       "    </tr>\n",
       "  </thead>\n",
       "  <tbody>\n",
       "    <tr>\n",
       "      <th>0</th>\n",
       "      <td>6123972</td>\n",
       "      <td>DI</td>\n",
       "      <td>28438</td>\n",
       "      <td>R01</td>\n",
       "      <td>TIT. DITTA INDIV.</td>\n",
       "      <td>6482323</td>\n",
       "      <td>PF</td>\n",
       "      <td>28438</td>\n",
       "    </tr>\n",
       "    <tr>\n",
       "      <th>1</th>\n",
       "      <td>6123981</td>\n",
       "      <td>DI</td>\n",
       "      <td>28638</td>\n",
       "      <td>R01</td>\n",
       "      <td>TIT. DITTA INDIV.</td>\n",
       "      <td>6173394</td>\n",
       "      <td>PF</td>\n",
       "      <td>28638</td>\n",
       "    </tr>\n",
       "    <tr>\n",
       "      <th>2</th>\n",
       "      <td>6123989</td>\n",
       "      <td>PF</td>\n",
       "      <td>45955</td>\n",
       "      <td>I85</td>\n",
       "      <td>HA COME EREDE</td>\n",
       "      <td>6756182</td>\n",
       "      <td>PF</td>\n",
       "      <td>45955</td>\n",
       "    </tr>\n",
       "  </tbody>\n",
       "</table>\n",
       "</div>"
      ],
      "text/plain": [
       "   ID_CLIENTE_1 COD_NATURA_GIURIDICA_1  ID_FILIALE_1 COD_COLLEGAMENTO  \\\n",
       "0       6123972                     DI         28438              R01   \n",
       "1       6123981                     DI         28638              R01   \n",
       "2       6123989                     PF         45955              I85   \n",
       "\n",
       "   DESC_COLLEGAMENTO  ID_CLIENTE_2 COD_NATURA_GIURIDICA_2  ID_FILIALE_2  \n",
       "0  TIT. DITTA INDIV.       6482323                     PF         28438  \n",
       "1  TIT. DITTA INDIV.       6173394                     PF         28638  \n",
       "2      HA COME EREDE       6756182                     PF         45955  "
      ]
     },
     "metadata": {},
     "output_type": "display_data"
    },
    {
     "name": "stdout",
     "output_type": "stream",
     "text": [
      "\n",
      "Numero clienti: 3505346\n",
      "Numero cod. natura giuridca: 3\n",
      "Numero filiali: 1660\n",
      "Numero cod collegamenti: 61\n"
     ]
    }
   ],
   "source": [
    "print('Dimensione dataframe, righe: {0}, colonne: {1}'.format(df_relazioni.shape[0], df_relazioni.shape[1]))\n",
    "display(df_relazioni.head(3))\n",
    "\n",
    "print('\\nNumero clienti: {}'.format(len(set(list(df_relazioni['ID_CLIENTE_1'].unique())+\\\n",
    "                                            list(df_relazioni['ID_CLIENTE_2'].unique())))\n",
    "                                   ))\n",
    "print('Numero cod. natura giuridca: {}'.format(len(set(list(df_relazioni['COD_NATURA_GIURIDICA_1'].unique())+\\\n",
    "                                                       list(df_relazioni['COD_NATURA_GIURIDICA_2'].unique())))\n",
    "                                              ))\n",
    "print('Numero filiali: {}'.format(len(set(list(df_relazioni['ID_FILIALE_1'].unique())+\\\n",
    "                                          list(df_relazioni['ID_FILIALE_2'].unique())))\n",
    "                                 ))\n",
    "print('Numero cod collegamenti: {}'.format(len(list(df_relazioni['COD_COLLEGAMENTO'].unique()))))\n",
    "      "
   ]
  },
  {
   "cell_type": "markdown",
   "id": "5cf76a1e",
   "metadata": {},
   "source": [
    "A questo punto, essendo che è necessario unire le informazioni delle relazioni con lo score dei clienti, di seguito è riportato il codice che assegna per ogni *ID_CLIENTE_1* e *ID_CLIENTE_2* il relativo score memorizzato nel dataframe *df_score_cliente* (per quei clienti di cui non ho uno score, assegno il valore -1)."
   ]
  },
  {
   "cell_type": "code",
   "execution_count": 335,
   "id": "37e08c99",
   "metadata": {},
   "outputs": [
    {
     "name": "stdout",
     "output_type": "stream",
     "text": [
      "Dimensione: righe: 4089536, colonne: 10\n"
     ]
    },
    {
     "data": {
      "text/html": [
       "<div>\n",
       "<style scoped>\n",
       "    .dataframe tbody tr th:only-of-type {\n",
       "        vertical-align: middle;\n",
       "    }\n",
       "\n",
       "    .dataframe tbody tr th {\n",
       "        vertical-align: top;\n",
       "    }\n",
       "\n",
       "    .dataframe thead th {\n",
       "        text-align: right;\n",
       "    }\n",
       "</style>\n",
       "<table border=\"1\" class=\"dataframe\">\n",
       "  <thead>\n",
       "    <tr style=\"text-align: right;\">\n",
       "      <th></th>\n",
       "      <th>ID_CLIENTE_1</th>\n",
       "      <th>COD_NATURA_GIURIDICA_1</th>\n",
       "      <th>ID_FILIALE_1</th>\n",
       "      <th>COD_COLLEGAMENTO</th>\n",
       "      <th>DESC_COLLEGAMENTO</th>\n",
       "      <th>ID_CLIENTE_2</th>\n",
       "      <th>COD_NATURA_GIURIDICA_2</th>\n",
       "      <th>ID_FILIALE_2</th>\n",
       "      <th>SCORE_1</th>\n",
       "      <th>SCORE_2</th>\n",
       "    </tr>\n",
       "  </thead>\n",
       "  <tbody>\n",
       "    <tr>\n",
       "      <th>0</th>\n",
       "      <td>6123972</td>\n",
       "      <td>DI</td>\n",
       "      <td>28438</td>\n",
       "      <td>R01</td>\n",
       "      <td>TIT. DITTA INDIV.</td>\n",
       "      <td>6482323</td>\n",
       "      <td>PF</td>\n",
       "      <td>28438</td>\n",
       "      <td>-1.0</td>\n",
       "      <td>-1.0</td>\n",
       "    </tr>\n",
       "    <tr>\n",
       "      <th>1</th>\n",
       "      <td>6123981</td>\n",
       "      <td>DI</td>\n",
       "      <td>28638</td>\n",
       "      <td>R01</td>\n",
       "      <td>TIT. DITTA INDIV.</td>\n",
       "      <td>6173394</td>\n",
       "      <td>PF</td>\n",
       "      <td>28638</td>\n",
       "      <td>-1.0</td>\n",
       "      <td>-1.0</td>\n",
       "    </tr>\n",
       "    <tr>\n",
       "      <th>2</th>\n",
       "      <td>6123989</td>\n",
       "      <td>PF</td>\n",
       "      <td>45955</td>\n",
       "      <td>I85</td>\n",
       "      <td>HA COME EREDE</td>\n",
       "      <td>6756182</td>\n",
       "      <td>PF</td>\n",
       "      <td>45955</td>\n",
       "      <td>-1.0</td>\n",
       "      <td>-1.0</td>\n",
       "    </tr>\n",
       "  </tbody>\n",
       "</table>\n",
       "</div>"
      ],
      "text/plain": [
       "   ID_CLIENTE_1 COD_NATURA_GIURIDICA_1  ID_FILIALE_1 COD_COLLEGAMENTO  \\\n",
       "0       6123972                     DI         28438              R01   \n",
       "1       6123981                     DI         28638              R01   \n",
       "2       6123989                     PF         45955              I85   \n",
       "\n",
       "   DESC_COLLEGAMENTO  ID_CLIENTE_2 COD_NATURA_GIURIDICA_2  ID_FILIALE_2  \\\n",
       "0  TIT. DITTA INDIV.       6482323                     PF         28438   \n",
       "1  TIT. DITTA INDIV.       6173394                     PF         28638   \n",
       "2      HA COME EREDE       6756182                     PF         45955   \n",
       "\n",
       "   SCORE_1  SCORE_2  \n",
       "0     -1.0     -1.0  \n",
       "1     -1.0     -1.0  \n",
       "2     -1.0     -1.0  "
      ]
     },
     "metadata": {},
     "output_type": "display_data"
    },
    {
     "name": "stdout",
     "output_type": "stream",
     "text": [
      "Numero di clienti con score 65751\n"
     ]
    }
   ],
   "source": [
    "df_scored_1 = df_score_cliente.rename(columns={'ID_CLIENTE': 'ID_CLIENTE_1', 'SCORE': 'SCORE_1'})\n",
    "df_relazioni_scored = df_relazioni.merge(df_scored_1, on='ID_CLIENTE_1', how='left')\n",
    "\n",
    "df_scored_2 = df_score_cliente.rename(columns={'ID_CLIENTE': 'ID_CLIENTE_2', 'SCORE': 'SCORE_2'})\n",
    "df_relazioni_scored = df_relazioni_scored.merge(df_scored_2, on='ID_CLIENTE_2', how='left')\n",
    "\n",
    "df_relazioni_scored = df_relazioni_scored.fillna(-1)\n",
    "\n",
    "print('Dimensione: righe: {0}, colonne: {1}'.format(df_relazioni_scored.shape[0], \n",
    "                                                      df_relazioni_scored.shape[1]))\n",
    "display(df_relazioni_scored.head(3))\n",
    "\n",
    "clienti_1_scored = list(df_relazioni_scored[df_relazioni_scored['SCORE_1']!=-1]['ID_CLIENTE_1'].unique())\n",
    "clienti_2_scored = list(df_relazioni_scored[df_relazioni_scored['SCORE_2']!=-1]['ID_CLIENTE_2'].unique())\n",
    "print('Numero di clienti con score {}'.format(len(set(clienti_1_scored+clienti_2_scored))))"
   ]
  },
  {
   "cell_type": "markdown",
   "id": "2ef05dee",
   "metadata": {},
   "source": [
    "Una volta associato lo score a ciascun cliente, per poter caricare i dati in neo4j è stato deciso di utilizzare la funzionalità di [neo4j-admin import](https://neo4j.com/docs/operations-manual/current/tutorial/neo4j-admin-import/) dal momento che questo approccio risulta essere performante per il caricamento di un quantitativo di dati elevato. In particolare quindi, sono stati creati 4 file csv con le relative caratteristiche:\n",
    "* **dataset/graph/clienti.csv**: contiene le informazioni relative ai nodi clienti del grafo. Il relativo header è nella seguente forma: **cliente_id:ID,natura_giuridica,score:float,:LABEL**;\n",
    "* **dataset/graph/relazioni_clienti.csv**: contiene le informazioni relative alle relazioni tra i clienti ed ha un header composto nel seguente modo: **:START_ID,descrizione,codice,:END_ID,:TYPE**, in cui *:START_ID* e *END_ID* si riferiscono ad un certo *cliente_id* del file *clienti.csv*;\n",
    "* **dataset/graph/filiali.csv**: continene le informazioni delle filiali e il relativo header è nella seguente forma: **filiale_id:ID,:LABEL**;\n",
    "* **dataset/graph/relazioni_clienti_filiali.csv**: continene le informazioni relative alle relazioni che i clienti hanno con le filiali ed ha un header della seguente forma: **:START_ID,:END_ID,:TYPE**\n",
    "\n",
    "Di seguito è riportato il codice relativo alla creazione dei due file sopra descritti."
   ]
  },
  {
   "cell_type": "code",
   "execution_count": 344,
   "id": "6d25b9bf",
   "metadata": {},
   "outputs": [
    {
     "name": "stdout",
     "output_type": "stream",
     "text": [
      "Numero clienti nel file dataset/graph/clienti.csv: 3505346\n",
      "Numero relazioni nel file dataset/graph/relazioni.csv: 4089536\n",
      "Numero filiali nel file dataset/graph/filiali.csv: 1660\n",
      "Numero relazioni nel file dataset/graph/relazioni_clienti_filiali.csv: 3505346\n"
     ]
    }
   ],
   "source": [
    "# creazione del file 'dataset/graph/clienti.csv'\n",
    "df_clienti_1 = df_relazioni_scored[['ID_CLIENTE_1', 'COD_NATURA_GIURIDICA_1', 'SCORE_1']].drop_duplicates()\n",
    "df_clienti_1 = df_clienti_1.rename(columns={'ID_CLIENTE_1': 'cliente_id:ID', \n",
    "                                            'COD_NATURA_GIURIDICA_1': 'natura_giuridica', 'SCORE_1': 'score:float'\n",
    "                                           })\n",
    "df_clienti_2 = df_relazioni_scored[['ID_CLIENTE_2', 'COD_NATURA_GIURIDICA_2', 'SCORE_2']].drop_duplicates()\n",
    "df_clienti_2 = df_clienti_2.rename(columns={'ID_CLIENTE_2': 'cliente_id:ID', \n",
    "                                            'COD_NATURA_GIURIDICA_2': 'natura_giuridica', 'SCORE_2': 'score:float'\n",
    "                                           })\n",
    "df_clienti_1_2 = pd.concat([df_clienti_1,df_clienti_2]).drop_duplicates().reset_index(drop=True)\n",
    "df_clienti_1_2[':LABEL'] = 'CLIENTE'\n",
    "print('Numero clienti nel file dataset/graph/clienti.csv: {}'.format(df_clienti_1_2.shape[0]))\n",
    "df_clienti_1_2.to_csv('./dataset/graph/clienti.csv', index=False, header=True)\n",
    "\n",
    "\n",
    "# creazione del file dataset/graph/relazioni.csv\n",
    "df_rel = df_relazioni_scored[['ID_CLIENTE_1', 'DESC_COLLEGAMENTO', 'COD_COLLEGAMENTO', 'ID_CLIENTE_2']]\n",
    "df_rel = df_rel.rename(columns={'ID_CLIENTE_1': ':START_ID', 'DESC_COLLEGAMENTO': 'descrizione', \n",
    "                                'COD_COLLEGAMENTO': 'codice', 'ID_CLIENTE_2': ':END_ID'})\n",
    "df_rel[':TYPE'] = 'CONNESSO_A'\n",
    "print('Numero relazioni nel file dataset/graph/relazioni.csv: {}'.format(df_rel.shape[0]))\n",
    "df_rel.to_csv('./dataset/graph/relazioni_clienti.csv', index=False, header=True)\n",
    "\n",
    "\n",
    "# creazione del file dataset/graph/filiali.csv\n",
    "df_filiali_1 = df_relazioni_scored[['ID_FILIALE_1']].drop_duplicates()\n",
    "df_filiali_1 = df_filiali_1.rename(columns={'ID_FILIALE_1': 'filiale_id:ID'})\n",
    "df_filiali_2 = df_relazioni_scored[['ID_FILIALE_2']].drop_duplicates()\n",
    "df_filiali_2 = df_filiali_2.rename(columns={'ID_FILIALE_2': 'filiale_id:ID'})\n",
    "df_filiali_1_2 = pd.concat([df_filiali_1,df_filiali_2]).drop_duplicates().reset_index(drop=True)\n",
    "df_filiali_1_2[':LABEL'] = 'FILIALE'\n",
    "print('Numero filiali nel file dataset/graph/filiali.csv: {}'.format(df_filiali_1_2.shape[0]))\n",
    "df_filiali_1_2.to_csv('./dataset/graph/filiali.csv', index=False, header=True)\n",
    "\n",
    "\n",
    "# creazione del file dataset/graph/relazioni_filiali.csv\n",
    "df_rel_filiali_1 = df_relazioni_scored[['ID_CLIENTE_1', 'ID_FILIALE_1']].drop_duplicates()\n",
    "df_rel_filiali_1 = df_rel_filiali_1.rename(columns={'ID_CLIENTE_1': ':START_ID', 'ID_FILIALE_1': ':END_ID'})\n",
    "df_rel_filiali_2 = df_relazioni_scored[['ID_CLIENTE_2', 'ID_FILIALE_2']].drop_duplicates()\n",
    "df_rel_filiali_2 = df_rel_filiali_2.rename(columns={'ID_CLIENTE_2': ':START_ID', 'ID_FILIALE_2': ':END_ID'})\n",
    "df_rel_filiali_1_2 = pd.concat([df_rel_filiali_1,df_rel_filiali_2]).drop_duplicates().reset_index(drop=True)\n",
    "df_rel_filiali_1_2[':TYPE'] = 'CLIENTE_DI'\n",
    "print('Numero relazioni nel file dataset/graph/relazioni_clienti_filiali.csv: {}'\\\n",
    "      .format(df_rel_filiali_1_2.shape[0]))\n",
    "df_rel_filiali_1_2.to_csv('./dataset/graph/relazioni_clienti_filiali.csv', index=False, header=True)"
   ]
  },
  {
   "cell_type": "code",
   "execution_count": 345,
   "id": "2fb2b0e6",
   "metadata": {},
   "outputs": [
    {
     "name": "stdout",
     "output_type": "stream",
     "text": [
      "cliente_id:ID,natura_giuridica,score:float,:LABEL\r\n",
      "6123972,DI,-1.0,CLIENTE\r\n",
      "6123981,DI,-1.0,CLIENTE\r\n",
      "6123989,PF,-1.0,CLIENTE\r\n",
      "6124027,PF,-1.0,CLIENTE\r\n"
     ]
    }
   ],
   "source": [
    "! head -n 5 ./dataset/graph/clienti.csv"
   ]
  },
  {
   "cell_type": "code",
   "execution_count": 346,
   "id": "8fdfe968",
   "metadata": {},
   "outputs": [
    {
     "name": "stdout",
     "output_type": "stream",
     "text": [
      ":START_ID,descrizione,codice,:END_ID,:TYPE\r\n",
      "6123972,TIT. DITTA INDIV.,R01,6482323,CONNESSO_A\r\n",
      "6123981,TIT. DITTA INDIV.,R01,6173394,CONNESSO_A\r\n",
      "6123989,HA COME EREDE,I85,6756182,CONNESSO_A\r\n",
      "6124027,HA COME EREDE,I85,6711749,CONNESSO_A\r\n"
     ]
    }
   ],
   "source": [
    "! head -n 5 ./dataset/graph/relazioni_clienti.csv"
   ]
  },
  {
   "cell_type": "code",
   "execution_count": 347,
   "id": "a2a3c365",
   "metadata": {},
   "outputs": [
    {
     "name": "stdout",
     "output_type": "stream",
     "text": [
      "filiale_id:ID,:LABEL\r\n",
      "28438,FILIALE\r\n",
      "28638,FILIALE\r\n",
      "45955,FILIALE\r\n",
      "45854,FILIALE\r\n"
     ]
    }
   ],
   "source": [
    "! head -n 5 ./dataset/graph/filiali.csv"
   ]
  },
  {
   "cell_type": "code",
   "execution_count": 348,
   "id": "01fb9b63",
   "metadata": {},
   "outputs": [
    {
     "name": "stdout",
     "output_type": "stream",
     "text": [
      ":START_ID,:END_ID,:TYPE\r\n",
      "6123972,28438,CLIENTE_DI\r\n",
      "6123981,28638,CLIENTE_DI\r\n",
      "6123989,45955,CLIENTE_DI\r\n",
      "6124027,45854,CLIENTE_DI\r\n"
     ]
    }
   ],
   "source": [
    "! head -n 5 ./dataset/graph/relazioni_clienti_filiali.csv"
   ]
  },
  {
   "cell_type": "markdown",
   "id": "3638879c",
   "metadata": {},
   "source": [
    "I file csv così creati corrispondono alla struttura del grafo che si vuole creare. Per poter utilizzarli in neo4j, è stata utilizzata la versione neo4j Desktop e, dopo aver creato un nuovo progetto chiamato *University*, è stato istanziato un nuovo *Local DBMS* di nome *uni_graph_analytics* con versione 4.4.3 di neo4j, in cui sono installati i plugin *APOC* (v. 4.4.0.2) e *Graph Data Science Library* (v. 1.8.2) tramite l'apposito tab *Plugins*.  \n",
    "\n",
    "<img src='./img/neo4j_local_dbms.png' width=700>  \n",
    "\n",
    "Dopo aver copiato i file csv creati nella folder *import* del dbms, è stato eseguito, tramite il *Neo4j Desktop Terminal* il relativo comando *neo4j-admin* per importare i file desiderati.  \n",
    "\n",
    "<img src='./img/neo4j_admin.png' width=700>  \n",
    "\n",
    "<img src='./img/neo4j_admin_result.png' width=200>  \n",
    "\n",
    "I dati sono stati quindi caricati correttamente e nell'ultima immagine sono riportate le statistiche generali della fase di importazione. Di seguito è quindi rappresentato lo schema generale del database a grafo così creato.  \n",
    "\n",
    "<img src='./img/neo4j_schema.png' width=500>  \n",
    "\n",
    "Al fine di comunicare con neo4j tramite il linguaggio Python è utilizzata la libreria [py2neo](https://py2neo.org/2021.1/index.html) che permette di connettersi al database appena creato nel seguente modo."
   ]
  },
  {
   "cell_type": "code",
   "execution_count": 424,
   "id": "f2f50b16",
   "metadata": {},
   "outputs": [],
   "source": [
    "graph = Graph('bolt://localhost:7687', auth=('neo4j', 'uni_graph_analytics'))"
   ]
  },
  {
   "cell_type": "markdown",
   "id": "9c7c8c8a",
   "metadata": {},
   "source": [
    "### 4.2 Obiettivo 1  \n",
    "\n",
    "Il primo obiettivo che ci si è posti riguarda la determinazione delle reti di influenza in funzione di un certo nodo sorgente (con score) e l'assegnazione di uno specifico grado di influenza ai nodi appartenenti a questa rete. Nel dettaglio quindi si vuole :\n",
    "* studiare una metodologia che permetta di ricavare una rete di influenza a partire da un certo nodo;\n",
    "* assegnare un livello di influenza a tutti nodi della rete di influenza tenendo conto sia dello score iniziale del nodo sorgente che dalla distanza che ciascuno ha in riferimento a quest'ultimo.  \n",
    "\n",
    "Di seguito sono quindi presenti due sotto-sezioni in cui la prima corrisponde alla *development-phase* in cui è analizzato l'approccio utilizzato per la risoluzione del problema, la seconda rappresenta invece l' *implementation-phase* in cui è calcolata la rete di influenza per i primi 3 clienti più soddisfatti e insoddisfatti.  \n",
    "\n",
    "#### 4.2.1 Development-phase  \n",
    "\n",
    "Al fine di ricavare una rete di influenza a partire da un certo nodo, risulta necessario definire che cosa si intende per rete di influenza. Sulla base dei dati del grafo, è possibile per prima cosa vedere che per questo primo punto ciò che realmente interessa sono le relazioni che intercorrono tra i clienti e non quelle tra cliente e filiale. Sulla base di questi collegamenti, è possibile definire una rete di influenza in funzione di un nodo sorgente come *il sottografo composto dai nodi raggiungibili da quello sorgente*. Sulla base di questa rete di influenza è poi necessario associare a ciascun nodo un valore di *influenza* che dipende dallo score del nodo sorgente e dalla distanza dallo stesso.  \n",
    "\n",
    "Per il calcolo della rete di influenza è possibile pensare all'utilizzo di algoritmi di *Path Finding* e più in particolare un candidato potrebbe essere l'algoritmo di [Dijkstra](https://neo4j.com/docs/graph-data-science/current/algorithms/dijkstra-single-source/). Si tratta sostanzialmente di un algoritmo che, dato un nodo di partenza, trova il shortest path in riferimento a tutti i nodi raggiungibili. Essendo che in questo caso non sono presenti pesi negli archi, il percorso minimo calcolato è in termini di numero di archi. L'output atteso è quindi una tabella contenente, per ogni nodo raggiungibile, il relativo numero minimo *d* di archi che lo distanziano dal nodo sorgente. Per ciascuno di questi nodi è poi necessario calcolare il grado di influenza *i* il quale dipende sia dallo score del nodo sorgente che dal relativo valore *d.*  \n",
    "La formula proposta per il calcolo dell'influenza *i* relativa allo score *s* del nodo sorgente è riportata di seguito:\n",
    "\n",
    "<h3><center> $i = \\frac{s-2.5}{d}$ </center></h3>\n",
    "\n",
    "Lo score iniziale *s* del nodo sorgente ha valori che variano nell'intervallo \\[0,5\\], in cui 0 indica un grado di soddisfazione molto basso, mentre 5 un grado di soddisfazione molto alto. Un primo approccio considerato per il calcolo di *i* è stato il seguente : \n",
    "\n",
    "<h3><center> $i = \\frac{s}{d}$</center></h3>\n",
    "\n",
    "Con questa formulazione si ottiene il seguente comportamento: partendo da un nodo sorgente con *s=4.5* (ad esempio), si ha che per i nodi della rispettiva rete di influenza molto distanti da quello sorgente (es. *d=20*), il valore *i* di influenza tende a zero. Allo stesso modo però, se il nodo sorgente avesse *s=0.5*, all'aumentare della distanza il valore *i* tenderebbe ugualmente a zero. Il problema con questo approccio quindi è che non si hanno distinzioni tra influenze positive e influenze negative. Per modellare meglio questa problematica è stato quindi sottrato ad *s* il valore medio del suo range (vedi formula 1), in modo tale che:\n",
    "* nel caso di *s* alto (vicino a 5): genera un valore **positivo** che tende a zero per i nodi lontani da quello sorgente;\n",
    "* nel caso di *s* basso (vicino a 0): genera un valore **negativo** che tende a zero per i nodi lontani da quello sorgente.  \n",
    "\n",
    "In generale quindi, il segno di *i* indica la positività o negatività dell'influenza, mentre il valore assoluto (che varia nel range \\[0,2.5\\]) corrisponde al relativo grado (es. *i=+-2.4* indica una forte influenza positiva (o negativa), *i=+-0.5* indica un'influenza debole (positiva o negativa)).  \n",
    "\n",
    "Un ulteriore aspetto da valutare in relazione a questo primo obiettivo riguarda l'orientamento degli archi. Se in partenza il grafo è definito da archi orientati, la metodologia con cui è ricavata la rete di influenza potrebbe non essere adatta nei casi in cui, ad esempio, un nodo sorgente ha molti archi entranti ma nessuno uscente. In questo caso si otterrebbe una rete di influenza vuota quando nella realtà questo nodo potrebbe influenzare i relativi vicini. Per fronteggiare questa problematica è stato scelto, in fase di creazione della proiezione del grafo, di utilizzare un'orientazione di tipo *UNDIRECTED.*  \n",
    "\n",
    "Come accennato all'inizio di questo paragrafo, per poter calcolare la rete di influenza rispetto ad un nodo sorgente è possibile utilizzare algoritmi di *Path Find*. In particolare sono stati scelti due approcci: l'utilizzo del [Breath First Search](https://aquarchitect.github.io/swift-algorithm-club/Shortest%20Path%20%28Unweighted%29/) e di [Dijkstra](https://neo4j.com/docs/graph-data-science/current/algorithms/dijkstra-single-source/).  \n",
    "L'[algoritmo](https://www.edureka.co/blog/breadth-first-search-algorithm/) Breath First Search definisce in sostanza una metodologia tramite la quale esplorare dati modellati come grafi o alberi. Partendo da un nodo sorgente esplora per prima i nodi ad esso collegati e nelle iterazioni successive visiterà le relative connessioni indirette incrementando gradualmente il livello di profondità. Così facendo quindi si ottiene in output una struttura ad albero in cui, partendo dalla radice (ovvero il nodo sorgente dato in input all'algoritmo), è possibile ricavare la distanza (in termini di numero di archi) a qualsiasi altro nodo ad esso collegato. Lo pseudo codice dell'algoritmo è riportato di seguito.  \n",
    "\n",
    "<img src='./img/bfs_source.png' width=300>\n",
    "\n",
    "Come si può vedere, fino a che la coda non è vuota avviene: 1) il *dequeue* di un nodo *n*, 2) l'*enqueue* di tutti i nodi vicini *n* non ancora visitati , 3) *n* è marcato come *visitato*.  \n",
    "Questa metodologia risulta quindi essere adatta per il rilevamento della rete di influenza in riferimento ad un certo nodo sorgente. Sulla base dell'implementazione di questo algoritmo nella libreria Graph Data Scienece di neo4j, è possibile settare alcuni parametri di arresto ed in particolare è possibile definire una profondità massima, superata la quale l'algoritmo si arresta. Questa funzionalità, oltre a portare benefici in termini di efficienza, potrebbe essere di aiuto per il problema in esame in quanto limiterebbe la profondità delle reti di influenza (dopo una certa distanza *n* non ha più senso considerare l'influenza del nodo sorgente).\n",
    "\n",
    "L'algoritmo di Dijkstra (ed in particolare nella versione Single Source) è caratterizzato da un approccio greedy tramite il quale è possibile, a partire da un nodo sorgente, trovare il shortest path che collega quest'ultimo a tutti gli altri nodi della rete. E' possibile utilizzare questo algoritmo sia per grafi direzionati che non direzionati e lo pseudo-codice risulta il seguente:  \n",
    "\n",
    "<img src='./img/dijkstra.png' width=500>  \n",
    "\n",
    "L'idea di base dell'algoritmo quindi, consiste nell'aggiornare continuamente (fino a che la coda non è vuota) la distanza dei nodi rispetto a quello di partenza, ovvero aggiornare *dist\\[v\\]* nel caso in cui convenga passare per *v* tramite *u* (usando la relazione *(u,v)* di peso *dist_between(u,v)*). In riferimento all'implementazione presente nella libreria Graph Data Science di neo4j, è possibile eseguire l'algoritmo senza specificare i pesi nelle relazioni e così facendo questo approccio risulta essere un'ulteriore alternativa per ricavare la rete di influenza di un certo nodo sorgente.\n",
    "\n",
    "Per poter mettere in pratica ciò che è stato spiegato è utilizzata la [Graph Data Science Library](https://neo4j.com/docs/graph-data-science/current/) di neo4j. Per prima cosa è stato applicato il [Memory Estimation](https://neo4j.com/docs/graph-data-science/current/common-usage/memory-estimation/#estimate-procedure-graph) rispetto alla creazione della proiezione del grafo tramite [Native Projection](https://neo4j.com/docs/graph-data-science/current/graph-create/) (si vogliono utilizzare relazioni non direzionate)."
   ]
  },
  {
   "cell_type": "code",
   "execution_count": 350,
   "id": "86222210",
   "metadata": {},
   "outputs": [
    {
     "data": {
      "text/html": [
       "<div>\n",
       "<style scoped>\n",
       "    .dataframe tbody tr th:only-of-type {\n",
       "        vertical-align: middle;\n",
       "    }\n",
       "\n",
       "    .dataframe tbody tr th {\n",
       "        vertical-align: top;\n",
       "    }\n",
       "\n",
       "    .dataframe thead th {\n",
       "        text-align: right;\n",
       "    }\n",
       "</style>\n",
       "<table border=\"1\" class=\"dataframe\">\n",
       "  <thead>\n",
       "    <tr style=\"text-align: right;\">\n",
       "      <th></th>\n",
       "      <th>requiredMemory</th>\n",
       "      <th>bytesMin</th>\n",
       "      <th>bytesMax</th>\n",
       "      <th>heapPercentageMin</th>\n",
       "      <th>heapPercentageMax</th>\n",
       "    </tr>\n",
       "  </thead>\n",
       "  <tbody>\n",
       "    <tr>\n",
       "      <th>0</th>\n",
       "      <td>[107 MiB ... 120 MiB]</td>\n",
       "      <td>112779936</td>\n",
       "      <td>126708056</td>\n",
       "      <td>0.2</td>\n",
       "      <td>0.2</td>\n",
       "    </tr>\n",
       "  </tbody>\n",
       "</table>\n",
       "</div>"
      ],
      "text/plain": [
       "          requiredMemory   bytesMin   bytesMax  heapPercentageMin  \\\n",
       "0  [107 MiB ... 120 MiB]  112779936  126708056                0.2   \n",
       "\n",
       "   heapPercentageMax  \n",
       "0                0.2  "
      ]
     },
     "metadata": {},
     "output_type": "display_data"
    }
   ],
   "source": [
    "query = \"\"\"\n",
    "CALL gds.graph.create.estimate(\n",
    "  'CLIENTE',\n",
    "  {\n",
    "    CONNESSO_A:{\n",
    "      type: 'CONNESSO_A',\n",
    "      orientation: 'UNDIRECTED'\n",
    "    }\n",
    "  }\n",
    ")\n",
    "YIELD\n",
    "  requiredMemory, bytesMin, bytesMax, heapPercentageMin, heapPercentageMax\n",
    "\"\"\"\n",
    "display(graph.run(query).to_data_frame())"
   ]
  },
  {
   "cell_type": "markdown",
   "id": "d81f66f3",
   "metadata": {},
   "source": [
    "Dai risultati del Memory Estimate si può vedere che la memoria necessaria per la creazione della proiezione è tra i 107 e i 120 MB, quindi il sistema risulta in grado di supportare questo tipo di operazione.  \n",
    "\n",
    "La creazione effettiva della proiezione è la seguente."
   ]
  },
  {
   "cell_type": "code",
   "execution_count": 412,
   "id": "ec53843f",
   "metadata": {},
   "outputs": [
    {
     "data": {
      "text/html": [
       "<div>\n",
       "<style scoped>\n",
       "    .dataframe tbody tr th:only-of-type {\n",
       "        vertical-align: middle;\n",
       "    }\n",
       "\n",
       "    .dataframe tbody tr th {\n",
       "        vertical-align: top;\n",
       "    }\n",
       "\n",
       "    .dataframe thead th {\n",
       "        text-align: right;\n",
       "    }\n",
       "</style>\n",
       "<table border=\"1\" class=\"dataframe\">\n",
       "  <thead>\n",
       "    <tr style=\"text-align: right;\">\n",
       "      <th></th>\n",
       "      <th>graph</th>\n",
       "      <th>knowsProjection</th>\n",
       "      <th>nodes</th>\n",
       "      <th>rels</th>\n",
       "    </tr>\n",
       "  </thead>\n",
       "  <tbody>\n",
       "    <tr>\n",
       "      <th>0</th>\n",
       "      <td>grafo_clienti_non_direzionato</td>\n",
       "      <td>{'CONNESSO_A': {'orientation': 'UNDIRECTED', '...</td>\n",
       "      <td>3505346</td>\n",
       "      <td>8179072</td>\n",
       "    </tr>\n",
       "  </tbody>\n",
       "</table>\n",
       "</div>"
      ],
      "text/plain": [
       "                           graph  \\\n",
       "0  grafo_clienti_non_direzionato   \n",
       "\n",
       "                                     knowsProjection    nodes     rels  \n",
       "0  {'CONNESSO_A': {'orientation': 'UNDIRECTED', '...  3505346  8179072  "
      ]
     },
     "metadata": {},
     "output_type": "display_data"
    }
   ],
   "source": [
    "query = \"\"\"\n",
    "CALL gds.graph.create(\n",
    "  'grafo_clienti_non_direzionato',\n",
    "  'CLIENTE',\n",
    "  {\n",
    "    CONNESSO_A:{\n",
    "      type: 'CONNESSO_A',\n",
    "      orientation: 'UNDIRECTED'\n",
    "    }\n",
    "  }\n",
    ")\n",
    "YIELD\n",
    "  graphName AS graph,\n",
    "  relationshipProjection AS knowsProjection,\n",
    "  nodeCount AS nodes,\n",
    "  relationshipCount AS rels\n",
    "\"\"\"\n",
    "display(graph.run(query).to_data_frame())"
   ]
  },
  {
   "cell_type": "markdown",
   "id": "1b712136",
   "metadata": {},
   "source": [
    "Oltre per la creazione della proiezione, si vuole adesso effettuare la Memory Estimation per entrambi gli algoritmi considerati (*Breath First Search* e *Dijkstra*). In accordo con la [documentazione](https://neo4j.com/docs/graph-data-science/current/operations-reference/algorithm-references/#alpha-tier) però, il *BFS* fa parte del tier Alpha e non contiene la funzionalità *estimate*. Di seguito è quindi riportata la stima solo in riferimento a *Dijkstra*. "
   ]
  },
  {
   "cell_type": "code",
   "execution_count": 355,
   "id": "03afa1a4",
   "metadata": {},
   "outputs": [
    {
     "data": {
      "text/html": [
       "<div>\n",
       "<style scoped>\n",
       "    .dataframe tbody tr th:only-of-type {\n",
       "        vertical-align: middle;\n",
       "    }\n",
       "\n",
       "    .dataframe tbody tr th {\n",
       "        vertical-align: top;\n",
       "    }\n",
       "\n",
       "    .dataframe thead th {\n",
       "        text-align: right;\n",
       "    }\n",
       "</style>\n",
       "<table border=\"1\" class=\"dataframe\">\n",
       "  <thead>\n",
       "    <tr style=\"text-align: right;\">\n",
       "      <th></th>\n",
       "      <th>requiredMemory</th>\n",
       "      <th>bytesMin</th>\n",
       "      <th>bytesMax</th>\n",
       "      <th>heapPercentageMin</th>\n",
       "      <th>heapPercentageMax</th>\n",
       "    </tr>\n",
       "  </thead>\n",
       "  <tbody>\n",
       "    <tr>\n",
       "      <th>0</th>\n",
       "      <td>107 MiB</td>\n",
       "      <td>113048136</td>\n",
       "      <td>113048136</td>\n",
       "      <td>0.2</td>\n",
       "      <td>0.2</td>\n",
       "    </tr>\n",
       "  </tbody>\n",
       "</table>\n",
       "</div>"
      ],
      "text/plain": [
       "  requiredMemory   bytesMin   bytesMax  heapPercentageMin  heapPercentageMax\n",
       "0        107 MiB  113048136  113048136                0.2                0.2"
      ]
     },
     "metadata": {},
     "output_type": "display_data"
    }
   ],
   "source": [
    "query = \"\"\"\n",
    "MATCH (source:CLIENTE {cliente_id: '8611018'})\n",
    "CALL gds.allShortestPaths.dijkstra.stream.estimate(\n",
    "    'grafo_clienti_non_direzionato', \n",
    "    {sourceNode: source}\n",
    ")\n",
    "YIELD requiredMemory, bytesMin, bytesMax, heapPercentageMin, heapPercentageMax\n",
    "RETURN requiredMemory, bytesMin, bytesMax, heapPercentageMin, heapPercentageMax\n",
    "\"\"\"\n",
    "display(graph.run(query).to_data_frame())"
   ]
  },
  {
   "cell_type": "markdown",
   "id": "9a0a44d5",
   "metadata": {},
   "source": [
    "Anche in questo caso si può quindi vedere che la memoria necessaria per l'esecuzione dell'algoritmo è intorno ai 107 MB e quindi il sistema è in grado di gestirlo."
   ]
  },
  {
   "cell_type": "markdown",
   "id": "74c21e82",
   "metadata": {},
   "source": [
    "#### 4.2.2 Implementation-phase   \n",
    "\n",
    "In questa sezione sono riportati i risultati relativi all'utilizzo dei due algoritmi sopra descritti al fine di definire la rete di influenza per il 3 clienti più soddisfatti e meno soddisfatti. Riguardo alla determinazione dei relativi nodi, dai risulti dei questionari è possibile vedere che sono presenti molteplici clienti con voto 5 (pienamente soddisfatti) e con 0 (completamente insoddisfatti) rendendo così difficile definire quali tra questi lo sono di più di altri. Al fine di ottenere risultati più interessanti, è stato deciso di riportare le reti di influenza dei primi 3 clienti maggiormente soddisfatti e insoddisfatti con il maggior numero di relazioni.\n",
    "\n",
    "**BREATH FIRST SEARCH**  \n",
    "\n",
    "Di seguito sono riportati i risultati dell'algoritmo *Breath First Search*."
   ]
  },
  {
   "cell_type": "code",
   "execution_count": 374,
   "id": "9828fb5d",
   "metadata": {},
   "outputs": [
    {
     "data": {
      "text/html": [
       "<div>\n",
       "<style scoped>\n",
       "    .dataframe tbody tr th:only-of-type {\n",
       "        vertical-align: middle;\n",
       "    }\n",
       "\n",
       "    .dataframe tbody tr th {\n",
       "        vertical-align: top;\n",
       "    }\n",
       "\n",
       "    .dataframe thead th {\n",
       "        text-align: right;\n",
       "    }\n",
       "</style>\n",
       "<table border=\"1\" class=\"dataframe\">\n",
       "  <thead>\n",
       "    <tr style=\"text-align: right;\">\n",
       "      <th></th>\n",
       "      <th>cliente_id</th>\n",
       "      <th>n_nodi_influenza</th>\n",
       "    </tr>\n",
       "  </thead>\n",
       "  <tbody>\n",
       "    <tr>\n",
       "      <th>0</th>\n",
       "      <td>6844107</td>\n",
       "      <td>65</td>\n",
       "    </tr>\n",
       "    <tr>\n",
       "      <th>1</th>\n",
       "      <td>8179779</td>\n",
       "      <td>103</td>\n",
       "    </tr>\n",
       "    <tr>\n",
       "      <th>2</th>\n",
       "      <td>10627251</td>\n",
       "      <td>63</td>\n",
       "    </tr>\n",
       "  </tbody>\n",
       "</table>\n",
       "</div>"
      ],
      "text/plain": [
       "  cliente_id  n_nodi_influenza\n",
       "0    6844107                65\n",
       "1    8179779               103\n",
       "2   10627251                63"
      ]
     },
     "metadata": {},
     "output_type": "display_data"
    }
   ],
   "source": [
    "query = \"\"\"\n",
    "MATCH (c:CLIENTE{score: 5})-[r]-(:CLIENTE)\n",
    "WITH c, COUNT(r) AS num_rel\n",
    "ORDER BY num_rel DESC LIMIT 3\n",
    "CALL gds.alpha.bfs.stream(\n",
    "    'grafo_clienti_non_direzionato', \n",
    "    {\n",
    "     startNode: id(c),\n",
    "     maxDepth: 3\n",
    "    }\n",
    ")\n",
    "YIELD path\n",
    "RETURN c.cliente_id AS cliente_id, length(path) AS n_nodi_influenza\n",
    "\"\"\"\n",
    "display(graph.run(query).to_data_frame())"
   ]
  },
  {
   "cell_type": "markdown",
   "id": "05ef0eae",
   "metadata": {},
   "source": [
    "Visualmente (da neo4j Desktop) le reti di influenza con l'algoritmo *Breath First Search* **per i 3 clienti più soddisfatti** risultano essere le seguenti.  \n",
    "\n",
    "<img src='./img/bfs_soddisf_3.png' width=700>  \n",
    "\n",
    "E' però importante notare che il risultato ottenuto è riferito all'algoritmo *BFS* con il parametro **maxDepth=3**. Per modellare il problema in esame infatti, si suppone che le reti di influenza siano composte da nodi distanti al massimo 3 dal nodo sorgente (in quanto si assume che gli effetti più rilevanti dell'influenza non superino questo livello di profondità).  \n",
    "\n",
    "Di seguito è riportato (sempre per l'algoritmo *Breath First Search*) il codice per la determinazione delle reti di influenza in riferimento ai 3 clienti meno soddisfatti."
   ]
  },
  {
   "cell_type": "code",
   "execution_count": 373,
   "id": "a8ab9f73",
   "metadata": {},
   "outputs": [
    {
     "data": {
      "text/html": [
       "<div>\n",
       "<style scoped>\n",
       "    .dataframe tbody tr th:only-of-type {\n",
       "        vertical-align: middle;\n",
       "    }\n",
       "\n",
       "    .dataframe tbody tr th {\n",
       "        vertical-align: top;\n",
       "    }\n",
       "\n",
       "    .dataframe thead th {\n",
       "        text-align: right;\n",
       "    }\n",
       "</style>\n",
       "<table border=\"1\" class=\"dataframe\">\n",
       "  <thead>\n",
       "    <tr style=\"text-align: right;\">\n",
       "      <th></th>\n",
       "      <th>cliente_id</th>\n",
       "      <th>n_nodi_influenza</th>\n",
       "    </tr>\n",
       "  </thead>\n",
       "  <tbody>\n",
       "    <tr>\n",
       "      <th>0</th>\n",
       "      <td>22920634</td>\n",
       "      <td>18</td>\n",
       "    </tr>\n",
       "    <tr>\n",
       "      <th>1</th>\n",
       "      <td>8409919</td>\n",
       "      <td>8</td>\n",
       "    </tr>\n",
       "    <tr>\n",
       "      <th>2</th>\n",
       "      <td>10091630</td>\n",
       "      <td>14</td>\n",
       "    </tr>\n",
       "  </tbody>\n",
       "</table>\n",
       "</div>"
      ],
      "text/plain": [
       "  cliente_id  n_nodi_influenza\n",
       "0   22920634                18\n",
       "1    8409919                 8\n",
       "2   10091630                14"
      ]
     },
     "metadata": {},
     "output_type": "display_data"
    }
   ],
   "source": [
    "query = \"\"\"\n",
    "MATCH (c:CLIENTE{score: 0})-[r]-(:CLIENTE)\n",
    "WITH c, COUNT(r) AS num_rel\n",
    "ORDER BY num_rel DESC LIMIT 3\n",
    "CALL gds.alpha.bfs.stream(\n",
    "    'grafo_clienti_non_direzionato', \n",
    "    {\n",
    "     startNode: id(c),\n",
    "     maxDepth: 3\n",
    "    }\n",
    ")\n",
    "YIELD path\n",
    "RETURN c.cliente_id AS cliente_id, length(path) AS n_nodi_influenza\n",
    "\"\"\"\n",
    "display(graph.run(query).to_data_frame())"
   ]
  },
  {
   "cell_type": "markdown",
   "id": "09729854",
   "metadata": {},
   "source": [
    "Da neo4j Desktop, i risultati relativi alle reti di influenza dei 3 clienti meno soddisfatti sono i seguenti.  \n",
    "\n",
    "<img src='./img/bfs_non_soddisf_3.png' width=700 />  \n",
    "\n",
    "**DIJKSTRA**  \n",
    "\n",
    "Come fatto per l'algoritmo *BFS*, si vuole di seguito riportare le **reti di influenza dei 3 clienti più soddisfatti** e meno soddisfatti trovati con Dijkstra."
   ]
  },
  {
   "cell_type": "code",
   "execution_count": 372,
   "id": "2000d372",
   "metadata": {},
   "outputs": [
    {
     "data": {
      "text/html": [
       "<div>\n",
       "<style scoped>\n",
       "    .dataframe tbody tr th:only-of-type {\n",
       "        vertical-align: middle;\n",
       "    }\n",
       "\n",
       "    .dataframe tbody tr th {\n",
       "        vertical-align: top;\n",
       "    }\n",
       "\n",
       "    .dataframe thead th {\n",
       "        text-align: right;\n",
       "    }\n",
       "</style>\n",
       "<table border=\"1\" class=\"dataframe\">\n",
       "  <thead>\n",
       "    <tr style=\"text-align: right;\">\n",
       "      <th></th>\n",
       "      <th>cliente_id</th>\n",
       "      <th>n_nodi_influenza</th>\n",
       "    </tr>\n",
       "  </thead>\n",
       "  <tbody>\n",
       "    <tr>\n",
       "      <th>0</th>\n",
       "      <td>6844107</td>\n",
       "      <td>65</td>\n",
       "    </tr>\n",
       "    <tr>\n",
       "      <th>1</th>\n",
       "      <td>8179779</td>\n",
       "      <td>103</td>\n",
       "    </tr>\n",
       "    <tr>\n",
       "      <th>2</th>\n",
       "      <td>10627251</td>\n",
       "      <td>63</td>\n",
       "    </tr>\n",
       "  </tbody>\n",
       "</table>\n",
       "</div>"
      ],
      "text/plain": [
       "  cliente_id  n_nodi_influenza\n",
       "0    6844107                65\n",
       "1    8179779               103\n",
       "2   10627251                63"
      ]
     },
     "metadata": {},
     "output_type": "display_data"
    }
   ],
   "source": [
    "query = \"\"\"\n",
    "MATCH (c:CLIENTE{score: 5})-[r]-(:CLIENTE)\n",
    "WITH c, COUNT(r) AS num_rel\n",
    "ORDER BY num_rel DESC LIMIT 3\n",
    "CALL gds.allShortestPaths.dijkstra.stream(\n",
    "    'grafo_clienti_non_direzionato', \n",
    "    {sourceNode: c}\n",
    ")\n",
    "YIELD targetNode, totalCost AS distance\n",
    "WITH c, gds.util.asNode(targetNode) AS target, distance\n",
    "WHERE distance < 4\n",
    "RETURN c.cliente_id AS cliente_id, COUNT(target)-1 AS n_nodi_influenza\n",
    "\"\"\"\n",
    "display(graph.run(query).to_data_frame())"
   ]
  },
  {
   "cell_type": "markdown",
   "id": "d16eb8c6",
   "metadata": {},
   "source": [
    "Come si può vedere dalla tabella risultante, il numero di nodi di influenza che l'algoritmo di Dijkstra ha trovato per ciascun cliente sorgente, combacia esattamente con quelli trovati tramite il Breath First Search (per questo motivo non è riportata la rete di influenza visualmente). Da notare che se per il BFS è presente la funzione *maxDepth* per definire una profondità massima, con Dijkstra questa funzionalità non è presente e quindi risulta necessario filtrare i valori di distanza una volta che l'algoritmo è terminato.  \n",
    "\n",
    "Di seguito è riportato il codice per determinare la **rete di influenza dei 3 clienti meno soddisfatti** con l'algoritmo di Dijkstra."
   ]
  },
  {
   "cell_type": "code",
   "execution_count": 371,
   "id": "2de19dd6",
   "metadata": {},
   "outputs": [
    {
     "data": {
      "text/html": [
       "<div>\n",
       "<style scoped>\n",
       "    .dataframe tbody tr th:only-of-type {\n",
       "        vertical-align: middle;\n",
       "    }\n",
       "\n",
       "    .dataframe tbody tr th {\n",
       "        vertical-align: top;\n",
       "    }\n",
       "\n",
       "    .dataframe thead th {\n",
       "        text-align: right;\n",
       "    }\n",
       "</style>\n",
       "<table border=\"1\" class=\"dataframe\">\n",
       "  <thead>\n",
       "    <tr style=\"text-align: right;\">\n",
       "      <th></th>\n",
       "      <th>cliente_id</th>\n",
       "      <th>n_nodi_influenza</th>\n",
       "    </tr>\n",
       "  </thead>\n",
       "  <tbody>\n",
       "    <tr>\n",
       "      <th>0</th>\n",
       "      <td>22920634</td>\n",
       "      <td>18</td>\n",
       "    </tr>\n",
       "    <tr>\n",
       "      <th>1</th>\n",
       "      <td>8409919</td>\n",
       "      <td>8</td>\n",
       "    </tr>\n",
       "    <tr>\n",
       "      <th>2</th>\n",
       "      <td>10091630</td>\n",
       "      <td>14</td>\n",
       "    </tr>\n",
       "  </tbody>\n",
       "</table>\n",
       "</div>"
      ],
      "text/plain": [
       "  cliente_id  n_nodi_influenza\n",
       "0   22920634                18\n",
       "1    8409919                 8\n",
       "2   10091630                14"
      ]
     },
     "metadata": {},
     "output_type": "display_data"
    }
   ],
   "source": [
    "query = \"\"\"\n",
    "MATCH (c:CLIENTE{score: 0})-[r]-(:CLIENTE)\n",
    "WITH c, COUNT(r) AS num_rel\n",
    "ORDER BY num_rel DESC LIMIT 3\n",
    "CALL gds.allShortestPaths.dijkstra.stream(\n",
    "    'grafo_clienti_non_direzionato', \n",
    "    {sourceNode: c}\n",
    ")\n",
    "YIELD targetNode, totalCost AS distance\n",
    "WITH c, gds.util.asNode(targetNode) AS target, distance\n",
    "WHERE distance < 4\n",
    "RETURN c.cliente_id AS cliente_id, COUNT(target)-1 AS n_nodi_influenza\n",
    "\"\"\"\n",
    "display(graph.run(query).to_data_frame())"
   ]
  },
  {
   "cell_type": "markdown",
   "id": "48453848",
   "metadata": {},
   "source": [
    "Anche in questo caso si può vedere che i risultati ottenuti combaciano con quelli del BFS e per lo stesso motivo accennato prima non è riportata l'immagine della rete di influenza.  \n",
    "\n",
    "Sulla base dei risultati fino a qui ottenuti, è adesso necessario associare a ciasun nodo di un certo sotto-grafo il relativo valore di influenza utilizzando la formula descritta in sezione 4.2.1. Essendo necessario l'utilizzo del valore di distanza rispetto al nodo sorgente, in accordo alla documentazione, l'algoritmo che risulta più adatto è Dijkstra in quanto tra i diversi parametri che ritorna è presente anche il valore *totalCost*, ovvero la distanza in termini di numeri di archi (dal momento che le relazioni non sono pesate). Con il BFS invece sarebbero necessarie computazioni aggiuntive in quanto i possibili parametri di ritorno sono *startNodeId*, *nodesId* e *path*, senza ritornare esplicitamente un valore di distanza.  \n",
    "\n",
    "Di seguito è quindi riportato il codice per la creazione della rete di influenza (utilizzando come cliente di esempio quello con *cliente_id=22920634* molto insoddisfatto) e per ciascun nodo in essa presente è associato il relativo valore di influenza."
   ]
  },
  {
   "cell_type": "code",
   "execution_count": 380,
   "id": "63e07336",
   "metadata": {},
   "outputs": [
    {
     "data": {
      "text/html": [
       "<div>\n",
       "<style scoped>\n",
       "    .dataframe tbody tr th:only-of-type {\n",
       "        vertical-align: middle;\n",
       "    }\n",
       "\n",
       "    .dataframe tbody tr th {\n",
       "        vertical-align: top;\n",
       "    }\n",
       "\n",
       "    .dataframe thead th {\n",
       "        text-align: right;\n",
       "    }\n",
       "</style>\n",
       "<table border=\"1\" class=\"dataframe\">\n",
       "  <thead>\n",
       "    <tr style=\"text-align: right;\">\n",
       "      <th></th>\n",
       "      <th>source_id</th>\n",
       "      <th>source_score</th>\n",
       "      <th>target_id</th>\n",
       "      <th>influence</th>\n",
       "      <th>distance</th>\n",
       "    </tr>\n",
       "  </thead>\n",
       "  <tbody>\n",
       "    <tr>\n",
       "      <th>0</th>\n",
       "      <td>22920634</td>\n",
       "      <td>0.0</td>\n",
       "      <td>22964335</td>\n",
       "      <td>-2.500000</td>\n",
       "      <td>1.0</td>\n",
       "    </tr>\n",
       "    <tr>\n",
       "      <th>1</th>\n",
       "      <td>22920634</td>\n",
       "      <td>0.0</td>\n",
       "      <td>22990500</td>\n",
       "      <td>-2.500000</td>\n",
       "      <td>1.0</td>\n",
       "    </tr>\n",
       "    <tr>\n",
       "      <th>2</th>\n",
       "      <td>22920634</td>\n",
       "      <td>0.0</td>\n",
       "      <td>22918214</td>\n",
       "      <td>-2.500000</td>\n",
       "      <td>1.0</td>\n",
       "    </tr>\n",
       "    <tr>\n",
       "      <th>3</th>\n",
       "      <td>22920634</td>\n",
       "      <td>0.0</td>\n",
       "      <td>22914900</td>\n",
       "      <td>-2.500000</td>\n",
       "      <td>1.0</td>\n",
       "    </tr>\n",
       "    <tr>\n",
       "      <th>4</th>\n",
       "      <td>22920634</td>\n",
       "      <td>0.0</td>\n",
       "      <td>24381321</td>\n",
       "      <td>-2.500000</td>\n",
       "      <td>1.0</td>\n",
       "    </tr>\n",
       "    <tr>\n",
       "      <th>5</th>\n",
       "      <td>22920634</td>\n",
       "      <td>0.0</td>\n",
       "      <td>24256207</td>\n",
       "      <td>-2.500000</td>\n",
       "      <td>1.0</td>\n",
       "    </tr>\n",
       "    <tr>\n",
       "      <th>6</th>\n",
       "      <td>22920634</td>\n",
       "      <td>0.0</td>\n",
       "      <td>24213226</td>\n",
       "      <td>-2.500000</td>\n",
       "      <td>1.0</td>\n",
       "    </tr>\n",
       "    <tr>\n",
       "      <th>7</th>\n",
       "      <td>22920634</td>\n",
       "      <td>0.0</td>\n",
       "      <td>22988069</td>\n",
       "      <td>-2.500000</td>\n",
       "      <td>1.0</td>\n",
       "    </tr>\n",
       "    <tr>\n",
       "      <th>8</th>\n",
       "      <td>22920634</td>\n",
       "      <td>0.0</td>\n",
       "      <td>23035519</td>\n",
       "      <td>-2.500000</td>\n",
       "      <td>1.0</td>\n",
       "    </tr>\n",
       "    <tr>\n",
       "      <th>9</th>\n",
       "      <td>22920634</td>\n",
       "      <td>0.0</td>\n",
       "      <td>23172494</td>\n",
       "      <td>-2.500000</td>\n",
       "      <td>1.0</td>\n",
       "    </tr>\n",
       "    <tr>\n",
       "      <th>10</th>\n",
       "      <td>22920634</td>\n",
       "      <td>0.0</td>\n",
       "      <td>22992851</td>\n",
       "      <td>-2.500000</td>\n",
       "      <td>1.0</td>\n",
       "    </tr>\n",
       "    <tr>\n",
       "      <th>11</th>\n",
       "      <td>22920634</td>\n",
       "      <td>0.0</td>\n",
       "      <td>23223779</td>\n",
       "      <td>-2.500000</td>\n",
       "      <td>1.0</td>\n",
       "    </tr>\n",
       "    <tr>\n",
       "      <th>12</th>\n",
       "      <td>22920634</td>\n",
       "      <td>0.0</td>\n",
       "      <td>23414836</td>\n",
       "      <td>-1.250000</td>\n",
       "      <td>2.0</td>\n",
       "    </tr>\n",
       "    <tr>\n",
       "      <th>13</th>\n",
       "      <td>22920634</td>\n",
       "      <td>0.0</td>\n",
       "      <td>22886088</td>\n",
       "      <td>-1.250000</td>\n",
       "      <td>2.0</td>\n",
       "    </tr>\n",
       "    <tr>\n",
       "      <th>14</th>\n",
       "      <td>22920634</td>\n",
       "      <td>0.0</td>\n",
       "      <td>23462377</td>\n",
       "      <td>-1.250000</td>\n",
       "      <td>2.0</td>\n",
       "    </tr>\n",
       "    <tr>\n",
       "      <th>15</th>\n",
       "      <td>22920634</td>\n",
       "      <td>0.0</td>\n",
       "      <td>23035772</td>\n",
       "      <td>-1.250000</td>\n",
       "      <td>2.0</td>\n",
       "    </tr>\n",
       "    <tr>\n",
       "      <th>16</th>\n",
       "      <td>22920634</td>\n",
       "      <td>0.0</td>\n",
       "      <td>12685791</td>\n",
       "      <td>-1.250000</td>\n",
       "      <td>2.0</td>\n",
       "    </tr>\n",
       "    <tr>\n",
       "      <th>17</th>\n",
       "      <td>22920634</td>\n",
       "      <td>0.0</td>\n",
       "      <td>23241115</td>\n",
       "      <td>-0.833333</td>\n",
       "      <td>3.0</td>\n",
       "    </tr>\n",
       "  </tbody>\n",
       "</table>\n",
       "</div>"
      ],
      "text/plain": [
       "   source_id  source_score target_id  influence  distance\n",
       "0   22920634           0.0  22964335  -2.500000       1.0\n",
       "1   22920634           0.0  22990500  -2.500000       1.0\n",
       "2   22920634           0.0  22918214  -2.500000       1.0\n",
       "3   22920634           0.0  22914900  -2.500000       1.0\n",
       "4   22920634           0.0  24381321  -2.500000       1.0\n",
       "5   22920634           0.0  24256207  -2.500000       1.0\n",
       "6   22920634           0.0  24213226  -2.500000       1.0\n",
       "7   22920634           0.0  22988069  -2.500000       1.0\n",
       "8   22920634           0.0  23035519  -2.500000       1.0\n",
       "9   22920634           0.0  23172494  -2.500000       1.0\n",
       "10  22920634           0.0  22992851  -2.500000       1.0\n",
       "11  22920634           0.0  23223779  -2.500000       1.0\n",
       "12  22920634           0.0  23414836  -1.250000       2.0\n",
       "13  22920634           0.0  22886088  -1.250000       2.0\n",
       "14  22920634           0.0  23462377  -1.250000       2.0\n",
       "15  22920634           0.0  23035772  -1.250000       2.0\n",
       "16  22920634           0.0  12685791  -1.250000       2.0\n",
       "17  22920634           0.0  23241115  -0.833333       3.0"
      ]
     },
     "metadata": {},
     "output_type": "display_data"
    }
   ],
   "source": [
    "query = \"\"\"\n",
    "MATCH (source:CLIENTE {cliente_id: '22920634'})\n",
    "CALL gds.allShortestPaths.dijkstra.stream(\n",
    "    'grafo_clienti_non_direzionato', \n",
    "    {sourceNode: source}\n",
    ")\n",
    "YIELD targetNode, totalCost AS distance\n",
    "WITH source, gds.util.asNode(targetNode) AS target, distance\n",
    "WHERE source.cliente_id <> target.cliente_id AND\n",
    "      distance < 4\n",
    "RETURN\n",
    "    source.cliente_id AS source_id,\n",
    "    source.score AS source_score,\n",
    "    target.cliente_id AS target_id,\n",
    "    (source.score - 2.5) / distance AS influence,\n",
    "    distance\n",
    "ORDER BY influence\n",
    "\"\"\"\n",
    "display(graph.run(query).to_data_frame())"
   ]
  },
  {
   "cell_type": "markdown",
   "id": "8e1e80e9",
   "metadata": {},
   "source": [
    "Dal dataframe così ottenuto è possibile vedere che tutti i nodi collegati direttamente con il nodo sorgente (distanza=1) hanno un valore di influenza massimo negativo (-2.5), mentre all'aumentare della distanza questo valore tende a zero (restando comunque negativo) così da indicare un'influenza meno marcata.  \n",
    "Lo stesso comportamento (ma in positivo) è possibile vederlo per un cliente molto soddisfatto (ad esempio quello con *cliente_id=6844107*)."
   ]
  },
  {
   "cell_type": "code",
   "execution_count": 382,
   "id": "d75e8310",
   "metadata": {},
   "outputs": [
    {
     "data": {
      "text/html": [
       "<div>\n",
       "<style scoped>\n",
       "    .dataframe tbody tr th:only-of-type {\n",
       "        vertical-align: middle;\n",
       "    }\n",
       "\n",
       "    .dataframe tbody tr th {\n",
       "        vertical-align: top;\n",
       "    }\n",
       "\n",
       "    .dataframe thead th {\n",
       "        text-align: right;\n",
       "    }\n",
       "</style>\n",
       "<table border=\"1\" class=\"dataframe\">\n",
       "  <thead>\n",
       "    <tr style=\"text-align: right;\">\n",
       "      <th></th>\n",
       "      <th>source_id</th>\n",
       "      <th>source_score</th>\n",
       "      <th>target_id</th>\n",
       "      <th>influence</th>\n",
       "      <th>distance</th>\n",
       "    </tr>\n",
       "  </thead>\n",
       "  <tbody>\n",
       "    <tr>\n",
       "      <th>0</th>\n",
       "      <td>6844107</td>\n",
       "      <td>5.0</td>\n",
       "      <td>6354105</td>\n",
       "      <td>2.500000</td>\n",
       "      <td>1.0</td>\n",
       "    </tr>\n",
       "    <tr>\n",
       "      <th>1</th>\n",
       "      <td>6844107</td>\n",
       "      <td>5.0</td>\n",
       "      <td>13607445</td>\n",
       "      <td>2.500000</td>\n",
       "      <td>1.0</td>\n",
       "    </tr>\n",
       "    <tr>\n",
       "      <th>2</th>\n",
       "      <td>6844107</td>\n",
       "      <td>5.0</td>\n",
       "      <td>15262965</td>\n",
       "      <td>2.500000</td>\n",
       "      <td>1.0</td>\n",
       "    </tr>\n",
       "    <tr>\n",
       "      <th>3</th>\n",
       "      <td>6844107</td>\n",
       "      <td>5.0</td>\n",
       "      <td>15192008</td>\n",
       "      <td>2.500000</td>\n",
       "      <td>1.0</td>\n",
       "    </tr>\n",
       "    <tr>\n",
       "      <th>4</th>\n",
       "      <td>6844107</td>\n",
       "      <td>5.0</td>\n",
       "      <td>15191922</td>\n",
       "      <td>2.500000</td>\n",
       "      <td>1.0</td>\n",
       "    </tr>\n",
       "    <tr>\n",
       "      <th>...</th>\n",
       "      <td>...</td>\n",
       "      <td>...</td>\n",
       "      <td>...</td>\n",
       "      <td>...</td>\n",
       "      <td>...</td>\n",
       "    </tr>\n",
       "    <tr>\n",
       "      <th>60</th>\n",
       "      <td>6844107</td>\n",
       "      <td>5.0</td>\n",
       "      <td>7712902</td>\n",
       "      <td>0.833333</td>\n",
       "      <td>3.0</td>\n",
       "    </tr>\n",
       "    <tr>\n",
       "      <th>61</th>\n",
       "      <td>6844107</td>\n",
       "      <td>5.0</td>\n",
       "      <td>6921669</td>\n",
       "      <td>0.833333</td>\n",
       "      <td>3.0</td>\n",
       "    </tr>\n",
       "    <tr>\n",
       "      <th>62</th>\n",
       "      <td>6844107</td>\n",
       "      <td>5.0</td>\n",
       "      <td>22447494</td>\n",
       "      <td>0.833333</td>\n",
       "      <td>3.0</td>\n",
       "    </tr>\n",
       "    <tr>\n",
       "      <th>63</th>\n",
       "      <td>6844107</td>\n",
       "      <td>5.0</td>\n",
       "      <td>16815249</td>\n",
       "      <td>0.833333</td>\n",
       "      <td>3.0</td>\n",
       "    </tr>\n",
       "    <tr>\n",
       "      <th>64</th>\n",
       "      <td>6844107</td>\n",
       "      <td>5.0</td>\n",
       "      <td>12812401</td>\n",
       "      <td>0.833333</td>\n",
       "      <td>3.0</td>\n",
       "    </tr>\n",
       "  </tbody>\n",
       "</table>\n",
       "<p>65 rows × 5 columns</p>\n",
       "</div>"
      ],
      "text/plain": [
       "   source_id  source_score target_id  influence  distance\n",
       "0    6844107           5.0   6354105   2.500000       1.0\n",
       "1    6844107           5.0  13607445   2.500000       1.0\n",
       "2    6844107           5.0  15262965   2.500000       1.0\n",
       "3    6844107           5.0  15192008   2.500000       1.0\n",
       "4    6844107           5.0  15191922   2.500000       1.0\n",
       "..       ...           ...       ...        ...       ...\n",
       "60   6844107           5.0   7712902   0.833333       3.0\n",
       "61   6844107           5.0   6921669   0.833333       3.0\n",
       "62   6844107           5.0  22447494   0.833333       3.0\n",
       "63   6844107           5.0  16815249   0.833333       3.0\n",
       "64   6844107           5.0  12812401   0.833333       3.0\n",
       "\n",
       "[65 rows x 5 columns]"
      ]
     },
     "metadata": {},
     "output_type": "display_data"
    }
   ],
   "source": [
    "query = \"\"\"\n",
    "MATCH (source:CLIENTE {cliente_id: '6844107'})\n",
    "CALL gds.allShortestPaths.dijkstra.stream(\n",
    "    'grafo_clienti_non_direzionato', \n",
    "    {sourceNode: source}\n",
    ")\n",
    "YIELD targetNode, totalCost AS distance\n",
    "WITH source, gds.util.asNode(targetNode) AS target, distance\n",
    "WHERE source.cliente_id <> target.cliente_id AND\n",
    "      distance < 4\n",
    "RETURN\n",
    "    source.cliente_id AS source_id,\n",
    "    source.score AS source_score,\n",
    "    target.cliente_id AS target_id,\n",
    "    (source.score - 2.5) / distance AS influence,\n",
    "    distance\n",
    "ORDER BY influence DESC\n",
    "\"\"\"\n",
    "display(graph.run(query).to_data_frame())"
   ]
  },
  {
   "cell_type": "markdown",
   "id": "dc9d12b6",
   "metadata": {},
   "source": [
    "Una volta mostrato l'approccio utilizzato per questo primo obiettivo, è possibile eliminare la proiezione del grafo così da liberare memoria per le query successive."
   ]
  },
  {
   "cell_type": "code",
   "execution_count": 416,
   "id": "8309e7cb",
   "metadata": {},
   "outputs": [
    {
     "data": {
      "text/html": [
       "<table><tr><th>graphName</th><th>database</th><th>memoryUsage</th><th>sizeInBytes</th><th>nodeProjection</th><th>relationshipProjection</th><th>nodeQuery</th><th>relationshipQuery</th><th>nodeCount</th><th>relationshipCount</th><th>nodeFilter</th><th>relationshipFilter</th><th>density</th><th>creationTime</th><th>modificationTime</th><th>schema</th></tr><tr><td style=\"text-align:left\">grafo_clienti_non_direzionato</td><td style=\"text-align:left\">neo4j</td><td style=\"text-align:left\"></td><td style=\"text-align:right\">-1</td><td style=\"text-align:left\">{CLIENTE: {label: &#039;CLIENTE&#039;, properties: {}}}</td><td style=\"text-align:left\">{CONNESSO_A: {orientation: &#039;UNDIRECTED&#039;, aggregation: &#039;DEFAULT&#039;, type: &#039;CONNESSO_A&#039;, properties: {}}}</td><td style=\"text-align:right\">null</td><td style=\"text-align:right\">null</td><td style=\"text-align:right\">3505346</td><td style=\"text-align:right\">8179072</td><td style=\"text-align:right\">null</td><td style=\"text-align:right\">null</td><td style=\"text-align:right\">6.656445354755968e-07</td><td style=\"text-align:left\">datetime(&#039;2022-01-20T02:34:06.470641000+01:00&#039;)</td><td style=\"text-align:left\">datetime(&#039;2022-01-20T02:34:10.458716000+01:00&#039;)</td><td style=\"text-align:left\">{relationships: {CONNESSO_A: {}}, nodes: {CLIENTE: {}}}</td></tr></table>"
      ],
      "text/plain": [
       " graphName                     | database | memoryUsage | sizeInBytes | nodeProjection                                | relationshipProjection                                                                                | nodeQuery | relationshipQuery | nodeCount | relationshipCount | nodeFilter | relationshipFilter |               density | creationTime                                    | modificationTime                                | schema                                                  \n",
       "-------------------------------|----------|-------------|-------------|-----------------------------------------------|-------------------------------------------------------------------------------------------------------|-----------|-------------------|-----------|-------------------|------------|--------------------|-----------------------|-------------------------------------------------|-------------------------------------------------|---------------------------------------------------------\n",
       " grafo_clienti_non_direzionato | neo4j    |             |          -1 | {CLIENTE: {label: 'CLIENTE', properties: {}}} | {CONNESSO_A: {orientation: 'UNDIRECTED', aggregation: 'DEFAULT', type: 'CONNESSO_A', properties: {}}} |      null |              null |   3505346 |           8179072 |       null |               null | 6.656445354755968e-07 | datetime('2022-01-20T02:34:06.470641000+01:00') | datetime('2022-01-20T02:34:10.458716000+01:00') | {relationships: {CONNESSO_A: {}}, nodes: {CLIENTE: {}}} "
      ]
     },
     "execution_count": 416,
     "metadata": {},
     "output_type": "execute_result"
    }
   ],
   "source": [
    "graph.run(\"\"\"CALL gds.graph.drop('grafo_clienti_non_direzionato')\"\"\")"
   ]
  },
  {
   "cell_type": "markdown",
   "id": "00ce1ac1",
   "metadata": {},
   "source": [
    "### 4.3 Obiettivo-2  \n",
    "\n",
    "Il secondo obiettivo della parte di Graph Analytics riguarda la determinazione di un opportuno meccanismo mediante il quale quantificare il grado di soddisfazione per ogni filiale tenendo in considerazione sia lo score iniziale dei clienti che il grado di influenza introdotto in sezione 4.2. A questo proposito sono presenti di seguito due sotto-sezioni mirate prima a descrivere in maniera teorica l'approccio utilizzato, per poi (nella fase di implementazione) mostrare in che modo le tecniche considerate possono essere applicate nel caso in esame.  \n",
    "\n",
    "#### 4.3.1 Development-Phase  \n",
    "\n",
    "In questa sotto-sezione si vuole descrivere l'approccio utilizzato al fine di riuscire a determinare il grado di soddisfazione di ogni filiale sulla base dello score iniziale dei clienti ed in relazione al grado di influenza trovato.  \n",
    "\n",
    "La logica seguita può essere schematizzata nei seguenti punti:\n",
    "* trovare in tutto il grafo i nodi più centrali e selezionarne un certo numero n (sono state pensati **due possibili approcci** per questa prima fase);\n",
    "* tra questi n nodi calcolare la rete di influenza ed associare a cascun nodo del sotto-grafo il relativo valore di influenza;\n",
    "* determinare per ciascun cliente il nuovo punteggio tenendo in considerazione lo score iniziale (se esiste) e il valore di influenza associato (un cliente può essere influenzato da più nodi);\n",
    "* per ciacuna filiale calcolare la media del punteggio dei relativi clienti.  \n",
    "\n",
    "In sostanza quindi si suppone che i nodi più popolari (il cui valore può essere identificato dal relativo grado di centralità) abbiano una maggiore capacità di influenza rispetto a nodi isolati e quindi il calcolo della relativa rete di influenza sarà focalizzato principalmente sugli stessi.\n",
    "In accordo a questa ipotesi, si vogliono descrivere le due diverse metodologie che saranno poi applicate. **Metodo 1:** La rete di influenza è calcolata *solo* per i primi *n* clienti più centrali (con score iniziale definito) *in relazione a tutto il grafo*. **Metodo 2:** La rete di influenza è calcolata *solo* per i primi *n* clienti più centrali (con score definito) *in relazione ai soli nodi della filiale di appartenenza*. Se con il primo si considerano solo i nodi più centrali rispetto a tutta la rete, con il secondo si considerano i nodi centrali riferiti ad una certa filale.\n",
    "\n",
    "A prescindere dalla metodologia utilizzata, esistono [diversi modi](https://cambridge-intelligence.com/keylines-faqs-social-network-analysis/) per calcolare la centralità e in questa sezione ne saranno considerati principalmente 2: [Degree Centrality](https://neo4j.com/docs/graph-data-science/current/algorithms/degree-centrality/) e [Closeness Centrality](https://neo4j.com/docs/graph-data-science/current/algorithms/closeness-centrality/).  \n",
    "\n",
    "L'algoritmo di Degree Centrality permette di associare ad un certo nodo un valore di centralità definito dal relativo [grado](https://mathinsight.org/definition/node_degree) diviso il numero totale di nodi, ovvero *è calcolato sulla base del numero di archi che interagiscono con il nodo di interesse*. In riferimento alla problematica in esame quindi, più un nodo ha un valore di Degree Centrality elevato, più questo ha connessioni con altri nodi e quindi riesce potenzialmente ad influenzare quelli vicini.  \n",
    "\n",
    "Un secondo algoritmo che è possibile utilizzare per calcolare la centralità di un nodo è la [Closeness Centrality](https://neo4j.com/docs/graph-data-science/current/algorithms/closeness-centrality/) che, in accordo alla documentazione relativa di neo4j, viene definita come '*una modalità mediante la quale è possibile trovare quei nodi in grado di propagare informazione in maniera efficiente nel grafo*'. E' calcolata come l'inveso della somma riferita agli shortest path tra il nodo di interesse e tutti gli altri del grafo. In sostanza può quindi essere interpretata come una misura che indica il grado di vicinanza di un nodo rispetto a tutti gli altri nodi e nel caso in esame può essere rilevante per trovare quei clienti la cui locazione nella rete risulta essere ottimale al fine di propagare informazione tra ai nodi del grafo.  \n",
    "\n",
    "Ciò che quindi differenzia la Degree rispetto alla Closeness Centrality è il modo con cui il valore di centralità è calcolato: se per il primo dipende pricipalmente dal numero di archi connessi al nodo, il secondo associa un valore alto a quei nodi che si trovano in una posizione 'ottimale' per propagare informazione nel grafo.  \n",
    "\n",
    "Un ulteriore aspetto da valutare per poter implementare questi due algoritmi riguarda lo studio della struttura degli archi nel grafo. Anche in questo caso la scelta ricade su una proiezione del grafo con archi non orientati (in quanto la Closeness Centrality deve calcolare il shortest path di un nodo e usare archi orientati ridurebbe il numero di nodi da esso raggiungibili). Un problema però che in questo caso si presenta è dovuto dal fatto che nel grafo di partenza sono presenti relazioni parallele in riferimento a due nodi. L'immagine di seguito è un caso evidente della problematica appena citata.  \n",
    "\n",
    "<img src='./img/multiple_conn.png' width=500>  \n",
    "\n",
    "Una situazione di questo genere potrebbe quindi portare il valore di Degree Centrality dei nodi ad assumere valori elevati anche quando in realtà l'elevato numero di relazioni proviene da uno stesso nodo.  \n",
    "Per poter risolvere questa problematica, è quindi necessario effettuare una proiezione del grafo che tenga conto ed aggreghi le [relazioni parallele](https://neo4j.com/docs/graph-data-science/current/graph-create/#_parallel_relationships) presenti.  \n"
   ]
  },
  {
   "cell_type": "markdown",
   "id": "8a32fc2c",
   "metadata": {},
   "source": [
    "Per poter calcolare e poi utilizzare il valore di centralità dei nodi, è stato deciso di utilizzare gli algoritmi in modalità *write* così da scrivere in maniera effettiva il valore di centralità calcolato come property dei nodi nel grafo neo4j. Di seguito è quindi riportato il Memory Estimate riferito all'algoritmo di Degree Centrality per la scrittura della property nel grafo (come descritto nella [documentazione](https://neo4j.com/docs/graph-data-science/current/operations-reference/algorithm-references/#alpha-tier) la funzionalità di Memory Estimation del write non è presente per il Closeness Centrality). Come si può vedere, si sta utilizzando una proiezione anonima in cui tra gli altri, è specificato il campo *aggregation* che gestisce e aggrega archi paralleli."
   ]
  },
  {
   "cell_type": "code",
   "execution_count": 422,
   "id": "4edd877a",
   "metadata": {},
   "outputs": [
    {
     "data": {
      "text/html": [
       "<div>\n",
       "<style scoped>\n",
       "    .dataframe tbody tr th:only-of-type {\n",
       "        vertical-align: middle;\n",
       "    }\n",
       "\n",
       "    .dataframe tbody tr th {\n",
       "        vertical-align: top;\n",
       "    }\n",
       "\n",
       "    .dataframe thead th {\n",
       "        text-align: right;\n",
       "    }\n",
       "</style>\n",
       "<table border=\"1\" class=\"dataframe\">\n",
       "  <thead>\n",
       "    <tr style=\"text-align: right;\">\n",
       "      <th></th>\n",
       "      <th>requiredMemory</th>\n",
       "      <th>bytesMin</th>\n",
       "      <th>bytesMax</th>\n",
       "      <th>heapPercentageMin</th>\n",
       "      <th>heapPercentageMax</th>\n",
       "    </tr>\n",
       "  </thead>\n",
       "  <tbody>\n",
       "    <tr>\n",
       "      <th>0</th>\n",
       "      <td>[107 MiB ... 120 MiB]</td>\n",
       "      <td>112780000</td>\n",
       "      <td>126708120</td>\n",
       "      <td>0.2</td>\n",
       "      <td>0.2</td>\n",
       "    </tr>\n",
       "  </tbody>\n",
       "</table>\n",
       "</div>"
      ],
      "text/plain": [
       "          requiredMemory   bytesMin   bytesMax  heapPercentageMin  \\\n",
       "0  [107 MiB ... 120 MiB]  112780000  126708120                0.2   \n",
       "\n",
       "   heapPercentageMax  \n",
       "0                0.2  "
      ]
     },
     "metadata": {},
     "output_type": "display_data"
    }
   ],
   "source": [
    "query = \"\"\"\n",
    "CALL gds.degree.write.estimate( {\n",
    "                                    nodeProjection: 'CLIENTE', \n",
    "                                    relationshipProjection: {\n",
    "                                        CONNESSO_A:{\n",
    "                                          type: 'CONNESSO_A',\n",
    "                                          orientation: 'UNDIRECTED',\n",
    "                                          aggregation: 'COUNT'\n",
    "                                        }\n",
    "                                    },\n",
    "                                    writeProperty: 'degree_centrality'\n",
    "                                }\n",
    "                               )\n",
    "YIELD requiredMemory, bytesMin, bytesMax, heapPercentageMin, heapPercentageMax\n",
    "\"\"\"\n",
    "display(graph.run(query).to_data_frame())"
   ]
  },
  {
   "cell_type": "markdown",
   "id": "1b163ebd",
   "metadata": {},
   "source": [
    "Di seguito è presente il codie che si occupa di scrivere nel grafo neo4j la property *degree_centrality* relativa al grado di centralità trovato dall'algoritmo Degree Centrality."
   ]
  },
  {
   "cell_type": "code",
   "execution_count": 423,
   "id": "e9f6b4f9",
   "metadata": {},
   "outputs": [
    {
     "data": {
      "text/html": [
       "<div>\n",
       "<style scoped>\n",
       "    .dataframe tbody tr th:only-of-type {\n",
       "        vertical-align: middle;\n",
       "    }\n",
       "\n",
       "    .dataframe tbody tr th {\n",
       "        vertical-align: top;\n",
       "    }\n",
       "\n",
       "    .dataframe thead th {\n",
       "        text-align: right;\n",
       "    }\n",
       "</style>\n",
       "<table border=\"1\" class=\"dataframe\">\n",
       "  <thead>\n",
       "    <tr style=\"text-align: right;\">\n",
       "      <th></th>\n",
       "      <th>minimumScore</th>\n",
       "      <th>meanScore</th>\n",
       "      <th>nodePropertiesWritten</th>\n",
       "    </tr>\n",
       "  </thead>\n",
       "  <tbody>\n",
       "    <tr>\n",
       "      <th>0</th>\n",
       "      <td>1.0</td>\n",
       "      <td>1.62365</td>\n",
       "      <td>3505346</td>\n",
       "    </tr>\n",
       "  </tbody>\n",
       "</table>\n",
       "</div>"
      ],
      "text/plain": [
       "   minimumScore  meanScore  nodePropertiesWritten\n",
       "0           1.0    1.62365                3505346"
      ]
     },
     "metadata": {},
     "output_type": "display_data"
    }
   ],
   "source": [
    "query = \"\"\"\n",
    "CALL gds.degree.write( {\n",
    "                            nodeProjection: 'CLIENTE', \n",
    "                            relationshipProjection: {\n",
    "                            CONNESSO_A:{\n",
    "                                          type: 'CONNESSO_A',\n",
    "                                          orientation: 'UNDIRECTED',\n",
    "                                          aggregation: 'COUNT'\n",
    "                                        }\n",
    "                            },\n",
    "                            writeProperty: 'degree_centrality'\n",
    "                       }\n",
    "                     )\n",
    "YIELD centralityDistribution, nodePropertiesWritten\n",
    "RETURN centralityDistribution.min AS minimumScore, centralityDistribution.mean AS meanScore, nodePropertiesWritten\n",
    "\"\"\"\n",
    "display(graph.run(query).to_data_frame())"
   ]
  },
  {
   "cell_type": "markdown",
   "id": "e4abea62",
   "metadata": {},
   "source": [
    "Per quanto riguarda l'algoritmo di Closeness Centrality spiegato in precedenza, è necessario fare alcune precisazioni. In particolare infatti questa prima versione richiede che il grafo su cui calcolare la centralità sia connesso. Nel caso in esame però questo non è verificato (in quanto esistono diverse componenti connesse) e quindi risulta necessario utilizzare la [Harmonic Centrality](https://neo4j.com/docs/graph-data-science/current/algorithms/harmonic-centrality/), ovvero la relativa variante in grado di gestire correttamente valori *infiniti* che sono generati nel caso in cui il grafo non sia connesso (anche in questo caso non è presente la funzionalità di Memory Estimation).  \n",
    "\n",
    "Il meccanismo con cui si vuole applicare questo algoritmo è lo stesso utilizzato per il Degree Centrality, ovvero definire per ogni nodo del grafo una property con il relativo valore di *harmonic_centrality* da utilizzare poi per gli step successivi. **Per via del fatto che l'algoritmo in esame impiega diverse ore (provocando problemi di esecuzione dell'intero databse), è stato deciso di riportare il codice ma di NON eseguirlo nella pratica.**"
   ]
  },
  {
   "cell_type": "code",
   "execution_count": null,
   "id": "756ba57a",
   "metadata": {},
   "outputs": [],
   "source": [
    "query = \"\"\"\n",
    "CALL gds.alpha.closeness.harmonic.write( {\n",
    "                            nodeProjection: 'CLIENTE', \n",
    "                            relationshipProjection: {\n",
    "                            CONNESSO_A:{\n",
    "                                          type: 'CONNESSO_A',\n",
    "                                          orientation: 'UNDIRECTED',\n",
    "                                          aggregation: 'COUNT'\n",
    "                                        }\n",
    "                            },\n",
    "                            writeProperty: 'harmonic_centrality'\n",
    "                       }\n",
    "                     )\n",
    "YIELD centralityDistribution, nodes\n",
    "RETURN centralityDistribution.min AS minimumScore, centralityDistribution.mean AS meanScore, nodes\n",
    "\"\"\""
   ]
  },
  {
   "cell_type": "markdown",
   "id": "ff68ccf1",
   "metadata": {},
   "source": [
    "Sulla base delle property di centralità così definite, il passo successivo corrisponde, a seconda del metodo utilizzato (1 o 2), nel selezionare i primi *n* clienti con grado di centralità (degree o harmonic) più elevato, e tra questi, calcolare la rete di influenza relativa scrivendo il corrispondente valore di influenza *i* per ciascun nodo della sottorete. In questa fase è importante tenere in considerazione il fatto che un nodo può essere influenzato da diversi clienti e quindi si è scelto di memorizzare i valori di influenza *i* di un certo nodo in una lista. A questo punto, indicando con *s* lo score iniziale del nodo e con *i* i relativi valori di influenza, il calcolo dello score finale dell'utente è il seguente:  \n",
    "**- Se il nodo ha uno score *s* iniziale, allora il punteggio è:**  \n",
    "\n",
    "<h3><center> $score = \\frac{s+ (avg(i)+2.5)}{2}$ </center></h3>  \n",
    "\n",
    "Ovvero la media tra lo score iniziale *s* e la media dei valori di influenza per quel nodo (a cui è aggiunto 2.5 per trovare un valore nella scala \\[0,5\\]).  \n",
    "\n",
    "**- Se il nodo non ha uno score *s* iniziale ma sono presenti dei valori di influenza, allora il punteggio è:**  \n",
    "\n",
    "<h3><center> $score = avg(i)+2.5$ </center></h3>  \n",
    "\n",
    "Ovvero il punteggio per quel nodo diventa pari alla media dei valori di influenza (a cui è aggiunto 2.5 per trovare un valore nella scala \\[0,5\\]).  \n",
    "\n",
    "Avendo così calcolato dei nuovi score per ciascun cliente, è adesso possibile trovare il valore di soddisfazione delle filiali calcolando la media dei nuovi punteggi trovati in riferimento ai clienti di una certa filiale.\n"
   ]
  },
  {
   "cell_type": "markdown",
   "id": "43fde593",
   "metadata": {},
   "source": [
    "#### 4.3.2 Implementation-Phase   \n",
    "\n",
    "In questa sezione è riportato il codice utilzzato per calcolare il grado di soddisfazione delle filiali tenendo conto dell'influenza che hanno i nodi più centrali rispetto agli altri su tutta la rete (metodo 1) o rispetto ai nodi della filiale di appartenenza (metodo 2).  \n",
    "\n",
    "Per prima cosa di seguito è ricreata la proiezione utilizzata per il calcolo della rete di influenza (in precedenza cancellata per ridurre spazio)."
   ]
  },
  {
   "cell_type": "code",
   "execution_count": 425,
   "id": "210dd658",
   "metadata": {},
   "outputs": [
    {
     "data": {
      "text/html": [
       "<div>\n",
       "<style scoped>\n",
       "    .dataframe tbody tr th:only-of-type {\n",
       "        vertical-align: middle;\n",
       "    }\n",
       "\n",
       "    .dataframe tbody tr th {\n",
       "        vertical-align: top;\n",
       "    }\n",
       "\n",
       "    .dataframe thead th {\n",
       "        text-align: right;\n",
       "    }\n",
       "</style>\n",
       "<table border=\"1\" class=\"dataframe\">\n",
       "  <thead>\n",
       "    <tr style=\"text-align: right;\">\n",
       "      <th></th>\n",
       "      <th>graph</th>\n",
       "      <th>knowsProjection</th>\n",
       "      <th>nodes</th>\n",
       "      <th>rels</th>\n",
       "    </tr>\n",
       "  </thead>\n",
       "  <tbody>\n",
       "    <tr>\n",
       "      <th>0</th>\n",
       "      <td>grafo_clienti_non_direzionato</td>\n",
       "      <td>{'CONNESSO_A': {'orientation': 'UNDIRECTED', '...</td>\n",
       "      <td>3505346</td>\n",
       "      <td>8179072</td>\n",
       "    </tr>\n",
       "  </tbody>\n",
       "</table>\n",
       "</div>"
      ],
      "text/plain": [
       "                           graph  \\\n",
       "0  grafo_clienti_non_direzionato   \n",
       "\n",
       "                                     knowsProjection    nodes     rels  \n",
       "0  {'CONNESSO_A': {'orientation': 'UNDIRECTED', '...  3505346  8179072  "
      ]
     },
     "metadata": {},
     "output_type": "display_data"
    }
   ],
   "source": [
    "query = \"\"\"\n",
    "CALL gds.graph.create(\n",
    "  'grafo_clienti_non_direzionato',\n",
    "  'CLIENTE',\n",
    "  {\n",
    "    CONNESSO_A:{\n",
    "      type: 'CONNESSO_A',\n",
    "      orientation: 'UNDIRECTED'\n",
    "    }\n",
    "  }\n",
    ")\n",
    "YIELD\n",
    "  graphName AS graph,\n",
    "  relationshipProjection AS knowsProjection,\n",
    "  nodeCount AS nodes,\n",
    "  relationshipCount AS rels\n",
    "\"\"\"\n",
    "display(graph.run(query).to_data_frame())"
   ]
  },
  {
   "cell_type": "markdown",
   "id": "01b147aa",
   "metadata": {},
   "source": [
    "Per quanto riguarda il metodo 1, è possibile procedere come spiegato in sezione 2.3.1, ovvero considerando un certo numero *n* (in questo caso 100000) di clienti con maggior centralità (su tutto il grafo), per poi selezionare solamente quelli aventi uno score inziale (ovvero con *score > -1*). Per ciascuno di questi è quindi calcolata la rete di influenza tramite Dijkstra (con una profondità massima di 3) ed il relativo valore *i* è aggiunto alla lista salvata come property (di nome *influenced_node.i*) del nodo influenzato (è usata una lista per gestire il caso in cui un nodo sia influenzato da diversi clienti). Per questa ultima funzionalità non sono stati trovati metodi di write (come *writeProperty*) del *gds* per gestire l'inserimento in una lista (eventuali miglioramenti futuri potrebbero riguardare appunto questo aspetto).  \n",
    "\n",
    "Di seguito è quindi riportato il codice relativo ai passaggi sopra spiegati (è utilizzato il degree centrality come misura per la centralità)."
   ]
  },
  {
   "cell_type": "code",
   "execution_count": 447,
   "id": "f4de1eaf",
   "metadata": {},
   "outputs": [
    {
     "data": {
      "text/html": [
       "<div>\n",
       "<style scoped>\n",
       "    .dataframe tbody tr th:only-of-type {\n",
       "        vertical-align: middle;\n",
       "    }\n",
       "\n",
       "    .dataframe tbody tr th {\n",
       "        vertical-align: top;\n",
       "    }\n",
       "\n",
       "    .dataframe thead th {\n",
       "        text-align: right;\n",
       "    }\n",
       "</style>\n",
       "<table border=\"1\" class=\"dataframe\">\n",
       "  <thead>\n",
       "    <tr style=\"text-align: right;\">\n",
       "      <th></th>\n",
       "      <th>source_id</th>\n",
       "      <th>source_score</th>\n",
       "      <th>d</th>\n",
       "      <th>influenced_id</th>\n",
       "      <th>influence_list</th>\n",
       "    </tr>\n",
       "  </thead>\n",
       "  <tbody>\n",
       "    <tr>\n",
       "      <th>0</th>\n",
       "      <td>6844107</td>\n",
       "      <td>5.0</td>\n",
       "      <td>1.0</td>\n",
       "      <td>6718802</td>\n",
       "      <td>[2.5]</td>\n",
       "    </tr>\n",
       "    <tr>\n",
       "      <th>1</th>\n",
       "      <td>6844107</td>\n",
       "      <td>5.0</td>\n",
       "      <td>1.0</td>\n",
       "      <td>13607445</td>\n",
       "      <td>[2.5]</td>\n",
       "    </tr>\n",
       "    <tr>\n",
       "      <th>2</th>\n",
       "      <td>6844107</td>\n",
       "      <td>5.0</td>\n",
       "      <td>1.0</td>\n",
       "      <td>15192008</td>\n",
       "      <td>[2.5]</td>\n",
       "    </tr>\n",
       "    <tr>\n",
       "      <th>3</th>\n",
       "      <td>6844107</td>\n",
       "      <td>5.0</td>\n",
       "      <td>1.0</td>\n",
       "      <td>15191922</td>\n",
       "      <td>[2.5]</td>\n",
       "    </tr>\n",
       "    <tr>\n",
       "      <th>4</th>\n",
       "      <td>6844107</td>\n",
       "      <td>5.0</td>\n",
       "      <td>1.0</td>\n",
       "      <td>15191811</td>\n",
       "      <td>[2.5]</td>\n",
       "    </tr>\n",
       "    <tr>\n",
       "      <th>...</th>\n",
       "      <td>...</td>\n",
       "      <td>...</td>\n",
       "      <td>...</td>\n",
       "      <td>...</td>\n",
       "      <td>...</td>\n",
       "    </tr>\n",
       "    <tr>\n",
       "      <th>36736</th>\n",
       "      <td>9564000</td>\n",
       "      <td>5.0</td>\n",
       "      <td>1.0</td>\n",
       "      <td>9601079</td>\n",
       "      <td>[2.5]</td>\n",
       "    </tr>\n",
       "    <tr>\n",
       "      <th>36737</th>\n",
       "      <td>9564000</td>\n",
       "      <td>5.0</td>\n",
       "      <td>1.0</td>\n",
       "      <td>9896622</td>\n",
       "      <td>[2.5]</td>\n",
       "    </tr>\n",
       "    <tr>\n",
       "      <th>36738</th>\n",
       "      <td>9564000</td>\n",
       "      <td>5.0</td>\n",
       "      <td>1.0</td>\n",
       "      <td>15095704</td>\n",
       "      <td>[2.5]</td>\n",
       "    </tr>\n",
       "    <tr>\n",
       "      <th>36739</th>\n",
       "      <td>9564000</td>\n",
       "      <td>5.0</td>\n",
       "      <td>1.0</td>\n",
       "      <td>8907468</td>\n",
       "      <td>[2.5]</td>\n",
       "    </tr>\n",
       "    <tr>\n",
       "      <th>36740</th>\n",
       "      <td>9564000</td>\n",
       "      <td>5.0</td>\n",
       "      <td>2.0</td>\n",
       "      <td>10013560</td>\n",
       "      <td>[1.25]</td>\n",
       "    </tr>\n",
       "  </tbody>\n",
       "</table>\n",
       "<p>36741 rows × 5 columns</p>\n",
       "</div>"
      ],
      "text/plain": [
       "      source_id  source_score    d influenced_id influence_list\n",
       "0       6844107           5.0  1.0       6718802          [2.5]\n",
       "1       6844107           5.0  1.0      13607445          [2.5]\n",
       "2       6844107           5.0  1.0      15192008          [2.5]\n",
       "3       6844107           5.0  1.0      15191922          [2.5]\n",
       "4       6844107           5.0  1.0      15191811          [2.5]\n",
       "...         ...           ...  ...           ...            ...\n",
       "36736   9564000           5.0  1.0       9601079          [2.5]\n",
       "36737   9564000           5.0  1.0       9896622          [2.5]\n",
       "36738   9564000           5.0  1.0      15095704          [2.5]\n",
       "36739   9564000           5.0  1.0       8907468          [2.5]\n",
       "36740   9564000           5.0  2.0      10013560         [1.25]\n",
       "\n",
       "[36741 rows x 5 columns]"
      ]
     },
     "metadata": {},
     "output_type": "display_data"
    }
   ],
   "source": [
    "# eliminazione della property 'i' nei nodi se esiste. \n",
    "graph.run(\"\"\"MATCH (c:CLIENTE) WHERE EXISTS (c.i) REMOVE c.i RETURN c\"\"\")\n",
    "\n",
    "# calcolo dei valori di influenza relativi ai nodi più centrali\n",
    "query = \"\"\"\n",
    "MATCH (cliente:CLIENTE)\n",
    "WITH cliente, cliente.degree_centrality AS degree_score\n",
    "ORDER BY degree_score DESC, cliente DESC LIMIT 100000\n",
    "WITH cliente AS source, degree_score\n",
    "WHERE source.score > -1\n",
    "WITH source\n",
    "CALL gds.allShortestPaths.dijkstra.stream(\n",
    "    'grafo_clienti_non_direzionato', \n",
    "    {sourceNode: source}\n",
    ")\n",
    "YIELD targetNode, totalCost AS distance\n",
    "WITH source, gds.util.asNode(targetNode) AS influenced_node, distance\n",
    "WHERE source.cliente_id <> influenced_node.cliente_id AND\n",
    "      distance < 4\n",
    "SET \n",
    "    influenced_node.i = \n",
    "    CASE WHEN NOT EXISTS (influenced_node.i) \n",
    "         THEN [(source.score-2.5)/distance] \n",
    "         ELSE influenced_node.i + \n",
    "              ((source.score-2.5)/distance) \n",
    "         END\n",
    "RETURN source.cliente_id AS source_id, \n",
    "       source.score AS source_score, \n",
    "       distance AS d, \n",
    "       influenced_node.cliente_id AS influenced_id, \n",
    "       influenced_node.i AS influence_list\n",
    "\"\"\"\n",
    "display(graph.run(query).to_data_frame())"
   ]
  },
  {
   "cell_type": "markdown",
   "id": "8506947f",
   "metadata": {},
   "source": [
    "Come è possibile vedere dal risultato ottenuto, a 36741 clienti è stato associato 1 o più valori di influenza memorizzati nella property *i* di ciascuno di questi nodi. E' però importate sottolineare che il numero dei clienti influenzati dipende fortemente sia dalla profondità della rete di influenza (impostata pari a 4) che dal numero di nodi centrali utilizzati (100000 nel caso di esempio). E' quindi possibile ottenere risultati molto diversi al variare di questi parametri.\n",
    "\n",
    "A questo punto quindi nel grafo sono presenti nodi in cui è definita la property *i* contenente tutti i relativi valori di influenza. Sulla base del calcolo dello score finale del cliente riportato in sezione 4.3.1, ed in relazione all'obiettivo iniziale che ci si è posti, il codice seguente si occupa di trovare la **filiale più virtuosa e meno virtuosa** in termini di gradimento medio dei rispettivi clienti (per ciascuna delle due categorie ne sono tornate le prime 10)."
   ]
  },
  {
   "cell_type": "code",
   "execution_count": 440,
   "id": "d9f4d625",
   "metadata": {},
   "outputs": [],
   "source": [
    "def score_con_influenze():\n",
    "    \"\"\"\n",
    "    E' visualizzato lo score delle prime 10 filiali con clienti più soddisfatti e meno soddisfatti tenendo\n",
    "    conto dell'influenza calcolata.\n",
    "    \"\"\"\n",
    "    query = \"\"\"\n",
    "    MATCH (c:CLIENTE)-[]-(f:FILIALE)\n",
    "    WHERE (c.score > -1) OR ( (c.score < -1) AND (EXISTS(c.i)) )\n",
    "    RETURN f.filiale_id AS filiale_id, \n",
    "           AVG(CASE \n",
    "               WHEN c.score > -1\n",
    "               THEN CASE \n",
    "                    WHEN EXISTS(c.i)\n",
    "                    THEN ( c.score + (apoc.coll.avg(c.i) + 2.5 ) ) / 2\n",
    "                    ELSE c.score\n",
    "                    END\n",
    "               ELSE apoc.coll.avg(c.i) + 2.5\n",
    "               END) AS media_score\n",
    "    ORDER BY media_score DESC, filiale_id DESC LIMIT 10\n",
    "    \"\"\"\n",
    "    print('Filiale più virtuosa (con influenza):')\n",
    "    display(graph.run(query).to_data_frame())\n",
    "\n",
    "    query = \"\"\"\n",
    "    MATCH (c:CLIENTE)-[]-(f:FILIALE)\n",
    "    WHERE (c.score > -1) OR ( (c.score < -1) AND (EXISTS(c.i)) )\n",
    "    RETURN f.filiale_id AS filiale_id, \n",
    "           AVG(CASE \n",
    "               WHEN c.score > -1\n",
    "               THEN CASE \n",
    "                    WHEN EXISTS(c.i)\n",
    "                    THEN ( c.score + (apoc.coll.avg(c.i) + 2.5 ) ) / 2\n",
    "                    ELSE c.score\n",
    "                    END\n",
    "               ELSE apoc.coll.avg(c.i) + 2.5\n",
    "               END) AS media_score\n",
    "    ORDER BY media_score, filiale_id DESC LIMIT 10\n",
    "    \"\"\"\n",
    "    print('Filiale meno virtuosa (con influenza):')\n",
    "    display(graph.run(query).to_data_frame())"
   ]
  },
  {
   "cell_type": "code",
   "execution_count": 441,
   "id": "d9da0ad8",
   "metadata": {},
   "outputs": [],
   "source": [
    "def score_senza_influenze():\n",
    "    \"\"\"\n",
    "    E' visualizzato lo score delle prime 10 filiali con clienti più soddisfatti e meno soddisfatti NON tenendo\n",
    "    conto dell'influenza calcolata ma solo di quei clienti con score iniziale.\n",
    "    \"\"\"\n",
    "    query = \"\"\"\n",
    "    MATCH (c:CLIENTE)-[]-(f:FILIALE)\n",
    "    WHERE (c.score > -1)\n",
    "    RETURN f.filiale_id AS filiale_id, \n",
    "           AVG(c.score) AS media_score\n",
    "    ORDER BY media_score DESC, filiale_id DESC LIMIT 10\n",
    "    \"\"\"\n",
    "    print('Filiale più virtuosa (senza influenza):')\n",
    "    display(graph.run(query).to_data_frame())\n",
    "\n",
    "    query = \"\"\"\n",
    "    MATCH (c:CLIENTE)-[]-(f:FILIALE)\n",
    "    WHERE (c.score > -1)\n",
    "    RETURN f.filiale_id AS filiale_id, \n",
    "           AVG(c.score) AS media_score\n",
    "    ORDER BY media_score, filiale_id DESC LIMIT 10\n",
    "    \"\"\"\n",
    "    print('Filiale meno virtuosa (senza influenza):')\n",
    "    display(graph.run(query).to_data_frame())"
   ]
  },
  {
   "cell_type": "code",
   "execution_count": 448,
   "id": "2869205d",
   "metadata": {},
   "outputs": [
    {
     "name": "stdout",
     "output_type": "stream",
     "text": [
      "Filiale più virtuosa (con influenza):\n"
     ]
    },
    {
     "data": {
      "text/html": [
       "<div>\n",
       "<style scoped>\n",
       "    .dataframe tbody tr th:only-of-type {\n",
       "        vertical-align: middle;\n",
       "    }\n",
       "\n",
       "    .dataframe tbody tr th {\n",
       "        vertical-align: top;\n",
       "    }\n",
       "\n",
       "    .dataframe thead th {\n",
       "        text-align: right;\n",
       "    }\n",
       "</style>\n",
       "<table border=\"1\" class=\"dataframe\">\n",
       "  <thead>\n",
       "    <tr style=\"text-align: right;\">\n",
       "      <th></th>\n",
       "      <th>filiale_id</th>\n",
       "      <th>media_score</th>\n",
       "    </tr>\n",
       "  </thead>\n",
       "  <tbody>\n",
       "    <tr>\n",
       "      <th>0</th>\n",
       "      <td>51267</td>\n",
       "      <td>4.812500</td>\n",
       "    </tr>\n",
       "    <tr>\n",
       "      <th>1</th>\n",
       "      <td>27639</td>\n",
       "      <td>4.750000</td>\n",
       "    </tr>\n",
       "    <tr>\n",
       "      <th>2</th>\n",
       "      <td>51067</td>\n",
       "      <td>4.673333</td>\n",
       "    </tr>\n",
       "    <tr>\n",
       "      <th>3</th>\n",
       "      <td>51567</td>\n",
       "      <td>4.662738</td>\n",
       "    </tr>\n",
       "    <tr>\n",
       "      <th>4</th>\n",
       "      <td>51468</td>\n",
       "      <td>4.660786</td>\n",
       "    </tr>\n",
       "    <tr>\n",
       "      <th>5</th>\n",
       "      <td>49864</td>\n",
       "      <td>4.638889</td>\n",
       "    </tr>\n",
       "    <tr>\n",
       "      <th>6</th>\n",
       "      <td>46920</td>\n",
       "      <td>4.602889</td>\n",
       "    </tr>\n",
       "    <tr>\n",
       "      <th>7</th>\n",
       "      <td>52067</td>\n",
       "      <td>4.597426</td>\n",
       "    </tr>\n",
       "    <tr>\n",
       "      <th>8</th>\n",
       "      <td>27345</td>\n",
       "      <td>4.546896</td>\n",
       "    </tr>\n",
       "    <tr>\n",
       "      <th>9</th>\n",
       "      <td>48660</td>\n",
       "      <td>4.538157</td>\n",
       "    </tr>\n",
       "  </tbody>\n",
       "</table>\n",
       "</div>"
      ],
      "text/plain": [
       "  filiale_id  media_score\n",
       "0      51267     4.812500\n",
       "1      27639     4.750000\n",
       "2      51067     4.673333\n",
       "3      51567     4.662738\n",
       "4      51468     4.660786\n",
       "5      49864     4.638889\n",
       "6      46920     4.602889\n",
       "7      52067     4.597426\n",
       "8      27345     4.546896\n",
       "9      48660     4.538157"
      ]
     },
     "metadata": {},
     "output_type": "display_data"
    },
    {
     "name": "stdout",
     "output_type": "stream",
     "text": [
      "Filiale meno virtuosa (con influenza):\n"
     ]
    },
    {
     "data": {
      "text/html": [
       "<div>\n",
       "<style scoped>\n",
       "    .dataframe tbody tr th:only-of-type {\n",
       "        vertical-align: middle;\n",
       "    }\n",
       "\n",
       "    .dataframe tbody tr th {\n",
       "        vertical-align: top;\n",
       "    }\n",
       "\n",
       "    .dataframe thead th {\n",
       "        text-align: right;\n",
       "    }\n",
       "</style>\n",
       "<table border=\"1\" class=\"dataframe\">\n",
       "  <thead>\n",
       "    <tr style=\"text-align: right;\">\n",
       "      <th></th>\n",
       "      <th>filiale_id</th>\n",
       "      <th>media_score</th>\n",
       "    </tr>\n",
       "  </thead>\n",
       "  <tbody>\n",
       "    <tr>\n",
       "      <th>0</th>\n",
       "      <td>28524</td>\n",
       "      <td>2.821200</td>\n",
       "    </tr>\n",
       "    <tr>\n",
       "      <th>1</th>\n",
       "      <td>49257</td>\n",
       "      <td>2.916250</td>\n",
       "    </tr>\n",
       "    <tr>\n",
       "      <th>2</th>\n",
       "      <td>46617</td>\n",
       "      <td>3.043257</td>\n",
       "    </tr>\n",
       "    <tr>\n",
       "      <th>3</th>\n",
       "      <td>46389</td>\n",
       "      <td>3.140841</td>\n",
       "    </tr>\n",
       "    <tr>\n",
       "      <th>4</th>\n",
       "      <td>49867</td>\n",
       "      <td>3.164903</td>\n",
       "    </tr>\n",
       "    <tr>\n",
       "      <th>5</th>\n",
       "      <td>46322</td>\n",
       "      <td>3.290253</td>\n",
       "    </tr>\n",
       "    <tr>\n",
       "      <th>6</th>\n",
       "      <td>46594</td>\n",
       "      <td>3.348083</td>\n",
       "    </tr>\n",
       "    <tr>\n",
       "      <th>7</th>\n",
       "      <td>46169</td>\n",
       "      <td>3.354400</td>\n",
       "    </tr>\n",
       "    <tr>\n",
       "      <th>8</th>\n",
       "      <td>51367</td>\n",
       "      <td>3.361429</td>\n",
       "    </tr>\n",
       "    <tr>\n",
       "      <th>9</th>\n",
       "      <td>26832</td>\n",
       "      <td>3.393851</td>\n",
       "    </tr>\n",
       "  </tbody>\n",
       "</table>\n",
       "</div>"
      ],
      "text/plain": [
       "  filiale_id  media_score\n",
       "0      28524     2.821200\n",
       "1      49257     2.916250\n",
       "2      46617     3.043257\n",
       "3      46389     3.140841\n",
       "4      49867     3.164903\n",
       "5      46322     3.290253\n",
       "6      46594     3.348083\n",
       "7      46169     3.354400\n",
       "8      51367     3.361429\n",
       "9      26832     3.393851"
      ]
     },
     "metadata": {},
     "output_type": "display_data"
    },
    {
     "name": "stdout",
     "output_type": "stream",
     "text": [
      "Filiale più virtuosa (senza influenza):\n"
     ]
    },
    {
     "data": {
      "text/html": [
       "<div>\n",
       "<style scoped>\n",
       "    .dataframe tbody tr th:only-of-type {\n",
       "        vertical-align: middle;\n",
       "    }\n",
       "\n",
       "    .dataframe tbody tr th {\n",
       "        vertical-align: top;\n",
       "    }\n",
       "\n",
       "    .dataframe thead th {\n",
       "        text-align: right;\n",
       "    }\n",
       "</style>\n",
       "<table border=\"1\" class=\"dataframe\">\n",
       "  <thead>\n",
       "    <tr style=\"text-align: right;\">\n",
       "      <th></th>\n",
       "      <th>filiale_id</th>\n",
       "      <th>media_score</th>\n",
       "    </tr>\n",
       "  </thead>\n",
       "  <tbody>\n",
       "    <tr>\n",
       "      <th>0</th>\n",
       "      <td>51267</td>\n",
       "      <td>4.812500</td>\n",
       "    </tr>\n",
       "    <tr>\n",
       "      <th>1</th>\n",
       "      <td>27639</td>\n",
       "      <td>4.750000</td>\n",
       "    </tr>\n",
       "    <tr>\n",
       "      <th>2</th>\n",
       "      <td>51067</td>\n",
       "      <td>4.673333</td>\n",
       "    </tr>\n",
       "    <tr>\n",
       "      <th>3</th>\n",
       "      <td>51567</td>\n",
       "      <td>4.673095</td>\n",
       "    </tr>\n",
       "    <tr>\n",
       "      <th>4</th>\n",
       "      <td>51468</td>\n",
       "      <td>4.660786</td>\n",
       "    </tr>\n",
       "    <tr>\n",
       "      <th>5</th>\n",
       "      <td>49864</td>\n",
       "      <td>4.638889</td>\n",
       "    </tr>\n",
       "    <tr>\n",
       "      <th>6</th>\n",
       "      <td>46920</td>\n",
       "      <td>4.602889</td>\n",
       "    </tr>\n",
       "    <tr>\n",
       "      <th>7</th>\n",
       "      <td>52067</td>\n",
       "      <td>4.597426</td>\n",
       "    </tr>\n",
       "    <tr>\n",
       "      <th>8</th>\n",
       "      <td>48660</td>\n",
       "      <td>4.581848</td>\n",
       "    </tr>\n",
       "    <tr>\n",
       "      <th>9</th>\n",
       "      <td>27345</td>\n",
       "      <td>4.546896</td>\n",
       "    </tr>\n",
       "  </tbody>\n",
       "</table>\n",
       "</div>"
      ],
      "text/plain": [
       "  filiale_id  media_score\n",
       "0      51267     4.812500\n",
       "1      27639     4.750000\n",
       "2      51067     4.673333\n",
       "3      51567     4.673095\n",
       "4      51468     4.660786\n",
       "5      49864     4.638889\n",
       "6      46920     4.602889\n",
       "7      52067     4.597426\n",
       "8      48660     4.581848\n",
       "9      27345     4.546896"
      ]
     },
     "metadata": {},
     "output_type": "display_data"
    },
    {
     "name": "stdout",
     "output_type": "stream",
     "text": [
      "Filiale meno virtuosa (senza influenza):\n"
     ]
    },
    {
     "data": {
      "text/html": [
       "<div>\n",
       "<style scoped>\n",
       "    .dataframe tbody tr th:only-of-type {\n",
       "        vertical-align: middle;\n",
       "    }\n",
       "\n",
       "    .dataframe tbody tr th {\n",
       "        vertical-align: top;\n",
       "    }\n",
       "\n",
       "    .dataframe thead th {\n",
       "        text-align: right;\n",
       "    }\n",
       "</style>\n",
       "<table border=\"1\" class=\"dataframe\">\n",
       "  <thead>\n",
       "    <tr style=\"text-align: right;\">\n",
       "      <th></th>\n",
       "      <th>filiale_id</th>\n",
       "      <th>media_score</th>\n",
       "    </tr>\n",
       "  </thead>\n",
       "  <tbody>\n",
       "    <tr>\n",
       "      <th>0</th>\n",
       "      <td>28524</td>\n",
       "      <td>2.821200</td>\n",
       "    </tr>\n",
       "    <tr>\n",
       "      <th>1</th>\n",
       "      <td>49257</td>\n",
       "      <td>2.916250</td>\n",
       "    </tr>\n",
       "    <tr>\n",
       "      <th>2</th>\n",
       "      <td>46617</td>\n",
       "      <td>3.043257</td>\n",
       "    </tr>\n",
       "    <tr>\n",
       "      <th>3</th>\n",
       "      <td>46389</td>\n",
       "      <td>3.140841</td>\n",
       "    </tr>\n",
       "    <tr>\n",
       "      <th>4</th>\n",
       "      <td>49867</td>\n",
       "      <td>3.164903</td>\n",
       "    </tr>\n",
       "    <tr>\n",
       "      <th>5</th>\n",
       "      <td>46322</td>\n",
       "      <td>3.290253</td>\n",
       "    </tr>\n",
       "    <tr>\n",
       "      <th>6</th>\n",
       "      <td>46594</td>\n",
       "      <td>3.348083</td>\n",
       "    </tr>\n",
       "    <tr>\n",
       "      <th>7</th>\n",
       "      <td>46169</td>\n",
       "      <td>3.354400</td>\n",
       "    </tr>\n",
       "    <tr>\n",
       "      <th>8</th>\n",
       "      <td>51367</td>\n",
       "      <td>3.361429</td>\n",
       "    </tr>\n",
       "    <tr>\n",
       "      <th>9</th>\n",
       "      <td>26832</td>\n",
       "      <td>3.393851</td>\n",
       "    </tr>\n",
       "  </tbody>\n",
       "</table>\n",
       "</div>"
      ],
      "text/plain": [
       "  filiale_id  media_score\n",
       "0      28524     2.821200\n",
       "1      49257     2.916250\n",
       "2      46617     3.043257\n",
       "3      46389     3.140841\n",
       "4      49867     3.164903\n",
       "5      46322     3.290253\n",
       "6      46594     3.348083\n",
       "7      46169     3.354400\n",
       "8      51367     3.361429\n",
       "9      26832     3.393851"
      ]
     },
     "metadata": {},
     "output_type": "display_data"
    }
   ],
   "source": [
    "score_con_influenze()\n",
    "score_senza_influenze()"
   ]
  },
  {
   "cell_type": "markdown",
   "id": "f94bfd6b",
   "metadata": {},
   "source": [
    "Di seguito è riportato il codice relativo alla seconda metodologia proposta, tramite la quale non sono considerati più i clienti centrali ripetto a tutto il grafo (come per la metodologia 1), ma è calcolata la rete di influenza rispetto ad un certo numero *n* (in questo caso 3) di nodi più centrali (con score iniziale definito) rispetto ad una singola filiale."
   ]
  },
  {
   "cell_type": "code",
   "execution_count": 449,
   "id": "bf403c43",
   "metadata": {},
   "outputs": [
    {
     "data": {
      "text/html": [
       "<div>\n",
       "<style scoped>\n",
       "    .dataframe tbody tr th:only-of-type {\n",
       "        vertical-align: middle;\n",
       "    }\n",
       "\n",
       "    .dataframe tbody tr th {\n",
       "        vertical-align: top;\n",
       "    }\n",
       "\n",
       "    .dataframe thead th {\n",
       "        text-align: right;\n",
       "    }\n",
       "</style>\n",
       "<table border=\"1\" class=\"dataframe\">\n",
       "  <thead>\n",
       "    <tr style=\"text-align: right;\">\n",
       "      <th></th>\n",
       "      <th>source_id</th>\n",
       "      <th>source_score</th>\n",
       "      <th>d</th>\n",
       "      <th>influenced_id</th>\n",
       "      <th>influence_list</th>\n",
       "    </tr>\n",
       "  </thead>\n",
       "  <tbody>\n",
       "    <tr>\n",
       "      <th>0</th>\n",
       "      <td>7031793</td>\n",
       "      <td>4.750000</td>\n",
       "      <td>1.0</td>\n",
       "      <td>6785709</td>\n",
       "      <td>[2.25]</td>\n",
       "    </tr>\n",
       "    <tr>\n",
       "      <th>1</th>\n",
       "      <td>7031793</td>\n",
       "      <td>4.750000</td>\n",
       "      <td>1.0</td>\n",
       "      <td>6767471</td>\n",
       "      <td>[2.25]</td>\n",
       "    </tr>\n",
       "    <tr>\n",
       "      <th>2</th>\n",
       "      <td>7031793</td>\n",
       "      <td>4.750000</td>\n",
       "      <td>1.0</td>\n",
       "      <td>6361688</td>\n",
       "      <td>[2.25]</td>\n",
       "    </tr>\n",
       "    <tr>\n",
       "      <th>3</th>\n",
       "      <td>7031793</td>\n",
       "      <td>4.750000</td>\n",
       "      <td>1.0</td>\n",
       "      <td>6133213</td>\n",
       "      <td>[2.25]</td>\n",
       "    </tr>\n",
       "    <tr>\n",
       "      <th>4</th>\n",
       "      <td>7031793</td>\n",
       "      <td>4.750000</td>\n",
       "      <td>1.0</td>\n",
       "      <td>6179679</td>\n",
       "      <td>[2.25]</td>\n",
       "    </tr>\n",
       "    <tr>\n",
       "      <th>...</th>\n",
       "      <td>...</td>\n",
       "      <td>...</td>\n",
       "      <td>...</td>\n",
       "      <td>...</td>\n",
       "      <td>...</td>\n",
       "    </tr>\n",
       "    <tr>\n",
       "      <th>32684</th>\n",
       "      <td>20756730</td>\n",
       "      <td>3.751111</td>\n",
       "      <td>2.0</td>\n",
       "      <td>21120790</td>\n",
       "      <td>[0.6255555555555556]</td>\n",
       "    </tr>\n",
       "    <tr>\n",
       "      <th>32685</th>\n",
       "      <td>21761188</td>\n",
       "      <td>3.888333</td>\n",
       "      <td>1.0</td>\n",
       "      <td>21753838</td>\n",
       "      <td>[1.3883333333333336]</td>\n",
       "    </tr>\n",
       "    <tr>\n",
       "      <th>32686</th>\n",
       "      <td>21761188</td>\n",
       "      <td>3.888333</td>\n",
       "      <td>1.0</td>\n",
       "      <td>21760978</td>\n",
       "      <td>[1.3883333333333336]</td>\n",
       "    </tr>\n",
       "    <tr>\n",
       "      <th>32687</th>\n",
       "      <td>21698947</td>\n",
       "      <td>4.666667</td>\n",
       "      <td>1.0</td>\n",
       "      <td>21761594</td>\n",
       "      <td>[2.166666666666667]</td>\n",
       "    </tr>\n",
       "    <tr>\n",
       "      <th>32688</th>\n",
       "      <td>21698947</td>\n",
       "      <td>4.666667</td>\n",
       "      <td>2.0</td>\n",
       "      <td>24226649</td>\n",
       "      <td>[1.0833333333333335]</td>\n",
       "    </tr>\n",
       "  </tbody>\n",
       "</table>\n",
       "<p>32689 rows × 5 columns</p>\n",
       "</div>"
      ],
      "text/plain": [
       "      source_id  source_score    d influenced_id        influence_list\n",
       "0       7031793      4.750000  1.0       6785709                [2.25]\n",
       "1       7031793      4.750000  1.0       6767471                [2.25]\n",
       "2       7031793      4.750000  1.0       6361688                [2.25]\n",
       "3       7031793      4.750000  1.0       6133213                [2.25]\n",
       "4       7031793      4.750000  1.0       6179679                [2.25]\n",
       "...         ...           ...  ...           ...                   ...\n",
       "32684  20756730      3.751111  2.0      21120790  [0.6255555555555556]\n",
       "32685  21761188      3.888333  1.0      21753838  [1.3883333333333336]\n",
       "32686  21761188      3.888333  1.0      21760978  [1.3883333333333336]\n",
       "32687  21698947      4.666667  1.0      21761594   [2.166666666666667]\n",
       "32688  21698947      4.666667  2.0      24226649  [1.0833333333333335]\n",
       "\n",
       "[32689 rows x 5 columns]"
      ]
     },
     "metadata": {},
     "output_type": "display_data"
    }
   ],
   "source": [
    "# eliminazione della property 'i' nei nodi se esiste. \n",
    "graph.run(\"\"\"MATCH (c:CLIENTE) WHERE EXISTS (c.i) REMOVE c.i RETURN c\"\"\")\n",
    "\n",
    "query = \"\"\"\n",
    "MATCH (cliente:CLIENTE)-[]-(filiale:FILIALE)\n",
    "WITH filiale, cliente\n",
    "WHERE cliente.score > -1\n",
    "WITH filiale, cliente\n",
    "ORDER BY filiale, cliente.degree_centrality DESC\n",
    "WITH filiale, COLLECT(cliente)[0..4] AS clienti_più_infl\n",
    "UNWIND clienti_più_infl AS source\n",
    "CALL gds.allShortestPaths.dijkstra.stream(\n",
    "    'grafo_clienti_non_direzionato', \n",
    "    {sourceNode: source}\n",
    ")\n",
    "YIELD targetNode, totalCost AS distance\n",
    "WITH source, gds.util.asNode(targetNode) AS influenced_node, distance\n",
    "WHERE source.cliente_id <> influenced_node.cliente_id AND\n",
    "      distance < 4\n",
    "SET \n",
    "    influenced_node.i = \n",
    "    CASE WHEN NOT EXISTS (influenced_node.i) \n",
    "         THEN [(source.score-2.5)/distance] \n",
    "         ELSE influenced_node.i + \n",
    "              ((source.score-2.5)/distance) \n",
    "         END\n",
    "RETURN source.cliente_id AS source_id, \n",
    "       source.score AS source_score, \n",
    "       distance AS d, \n",
    "       influenced_node.cliente_id AS influenced_id, \n",
    "       influenced_node.i AS influence_list\n",
    "\"\"\"\n",
    "display(graph.run(query).to_data_frame())"
   ]
  },
  {
   "cell_type": "code",
   "execution_count": 450,
   "id": "6551c8e6",
   "metadata": {},
   "outputs": [
    {
     "name": "stdout",
     "output_type": "stream",
     "text": [
      "Filiale più virtuosa (con influenza):\n"
     ]
    },
    {
     "data": {
      "text/html": [
       "<div>\n",
       "<style scoped>\n",
       "    .dataframe tbody tr th:only-of-type {\n",
       "        vertical-align: middle;\n",
       "    }\n",
       "\n",
       "    .dataframe tbody tr th {\n",
       "        vertical-align: top;\n",
       "    }\n",
       "\n",
       "    .dataframe thead th {\n",
       "        text-align: right;\n",
       "    }\n",
       "</style>\n",
       "<table border=\"1\" class=\"dataframe\">\n",
       "  <thead>\n",
       "    <tr style=\"text-align: right;\">\n",
       "      <th></th>\n",
       "      <th>filiale_id</th>\n",
       "      <th>media_score</th>\n",
       "    </tr>\n",
       "  </thead>\n",
       "  <tbody>\n",
       "    <tr>\n",
       "      <th>0</th>\n",
       "      <td>51267</td>\n",
       "      <td>4.812500</td>\n",
       "    </tr>\n",
       "    <tr>\n",
       "      <th>1</th>\n",
       "      <td>27639</td>\n",
       "      <td>4.750000</td>\n",
       "    </tr>\n",
       "    <tr>\n",
       "      <th>2</th>\n",
       "      <td>51067</td>\n",
       "      <td>4.673333</td>\n",
       "    </tr>\n",
       "    <tr>\n",
       "      <th>3</th>\n",
       "      <td>51567</td>\n",
       "      <td>4.673095</td>\n",
       "    </tr>\n",
       "    <tr>\n",
       "      <th>4</th>\n",
       "      <td>51468</td>\n",
       "      <td>4.660786</td>\n",
       "    </tr>\n",
       "    <tr>\n",
       "      <th>5</th>\n",
       "      <td>49864</td>\n",
       "      <td>4.638889</td>\n",
       "    </tr>\n",
       "    <tr>\n",
       "      <th>6</th>\n",
       "      <td>46920</td>\n",
       "      <td>4.602889</td>\n",
       "    </tr>\n",
       "    <tr>\n",
       "      <th>7</th>\n",
       "      <td>27345</td>\n",
       "      <td>4.546896</td>\n",
       "    </tr>\n",
       "    <tr>\n",
       "      <th>8</th>\n",
       "      <td>48660</td>\n",
       "      <td>4.537089</td>\n",
       "    </tr>\n",
       "    <tr>\n",
       "      <th>9</th>\n",
       "      <td>52067</td>\n",
       "      <td>4.527981</td>\n",
       "    </tr>\n",
       "  </tbody>\n",
       "</table>\n",
       "</div>"
      ],
      "text/plain": [
       "  filiale_id  media_score\n",
       "0      51267     4.812500\n",
       "1      27639     4.750000\n",
       "2      51067     4.673333\n",
       "3      51567     4.673095\n",
       "4      51468     4.660786\n",
       "5      49864     4.638889\n",
       "6      46920     4.602889\n",
       "7      27345     4.546896\n",
       "8      48660     4.537089\n",
       "9      52067     4.527981"
      ]
     },
     "metadata": {},
     "output_type": "display_data"
    },
    {
     "name": "stdout",
     "output_type": "stream",
     "text": [
      "Filiale meno virtuosa (con influenza):\n"
     ]
    },
    {
     "data": {
      "text/html": [
       "<div>\n",
       "<style scoped>\n",
       "    .dataframe tbody tr th:only-of-type {\n",
       "        vertical-align: middle;\n",
       "    }\n",
       "\n",
       "    .dataframe tbody tr th {\n",
       "        vertical-align: top;\n",
       "    }\n",
       "\n",
       "    .dataframe thead th {\n",
       "        text-align: right;\n",
       "    }\n",
       "</style>\n",
       "<table border=\"1\" class=\"dataframe\">\n",
       "  <thead>\n",
       "    <tr style=\"text-align: right;\">\n",
       "      <th></th>\n",
       "      <th>filiale_id</th>\n",
       "      <th>media_score</th>\n",
       "    </tr>\n",
       "  </thead>\n",
       "  <tbody>\n",
       "    <tr>\n",
       "      <th>0</th>\n",
       "      <td>28524</td>\n",
       "      <td>2.821200</td>\n",
       "    </tr>\n",
       "    <tr>\n",
       "      <th>1</th>\n",
       "      <td>49257</td>\n",
       "      <td>2.916250</td>\n",
       "    </tr>\n",
       "    <tr>\n",
       "      <th>2</th>\n",
       "      <td>46617</td>\n",
       "      <td>3.043257</td>\n",
       "    </tr>\n",
       "    <tr>\n",
       "      <th>3</th>\n",
       "      <td>46389</td>\n",
       "      <td>3.140841</td>\n",
       "    </tr>\n",
       "    <tr>\n",
       "      <th>4</th>\n",
       "      <td>49867</td>\n",
       "      <td>3.164903</td>\n",
       "    </tr>\n",
       "    <tr>\n",
       "      <th>5</th>\n",
       "      <td>46322</td>\n",
       "      <td>3.284142</td>\n",
       "    </tr>\n",
       "    <tr>\n",
       "      <th>6</th>\n",
       "      <td>46594</td>\n",
       "      <td>3.340431</td>\n",
       "    </tr>\n",
       "    <tr>\n",
       "      <th>7</th>\n",
       "      <td>51367</td>\n",
       "      <td>3.361429</td>\n",
       "    </tr>\n",
       "    <tr>\n",
       "      <th>8</th>\n",
       "      <td>46169</td>\n",
       "      <td>3.366787</td>\n",
       "    </tr>\n",
       "    <tr>\n",
       "      <th>9</th>\n",
       "      <td>26832</td>\n",
       "      <td>3.393851</td>\n",
       "    </tr>\n",
       "  </tbody>\n",
       "</table>\n",
       "</div>"
      ],
      "text/plain": [
       "  filiale_id  media_score\n",
       "0      28524     2.821200\n",
       "1      49257     2.916250\n",
       "2      46617     3.043257\n",
       "3      46389     3.140841\n",
       "4      49867     3.164903\n",
       "5      46322     3.284142\n",
       "6      46594     3.340431\n",
       "7      51367     3.361429\n",
       "8      46169     3.366787\n",
       "9      26832     3.393851"
      ]
     },
     "metadata": {},
     "output_type": "display_data"
    }
   ],
   "source": [
    "score_con_influenze()"
   ]
  },
  {
   "cell_type": "markdown",
   "id": "961f100b",
   "metadata": {},
   "source": [
    "Dai risultati ottenuti è quindi possibile vedere che la scelta della metodologia 1 rispetto alle 2 porta a cambiamenti soprattutto per quanto riguarda le filiali negative. Se con la 1 l'utilizzo dell'influenza non ha effetti sulle filiali con soddisfazione negative (in quanto i nodi più centrali rispetto a tutto il grafo si riferiscono principalmente a filiali con score medio molto positivo), con la metodologia 2 è possibile vedere che l'utilizzo dell'influenza porta cambiamenti allo score medio finale. Confrontando infatti il rank delle più negative (prima guardando lo score medio senza influenza e poi con influenza), si può vedere che con il metodo 2 vi è un'inversione di posizionamento tra la filiale di id 51367 e 46169 (cosa che invece non avviene con la metodologia 1). Nel caso invece delle filiali maggiormente positive, sia con metodologia 1 che con la 2, avvengono cambiamenti del rank intorno alla settima posizione.  \n",
    "\n",
    "Gli esempi fino a qui riportati riguardano solamente l'utilizzo della Degree Centrality. Essendo i tempi di elaborazione dell'Harmonic Centrality davvero molto lunghi (svariate ore) è stato deciso di non riportarne i relativi risultati. E' però importante specificare che il meccanismo rimane comunque lo stesso della Degree Centrality, ovvero tramite *writeProperty* è scritto il valore di Harmonic Centrality in tutti i nodi. Dopo di chè, per le query seguenti, è necessario solamente accedere alla proprietà appena creata al posto di *cliente.degree_centrality.*  \n",
    "\n",
    "## Conclusione  \n",
    "\n",
    "L'implementazione delle funzionalità descritte in questo progetto sono mirate al miglioramento della Customer Experience riferita ai clienti della banca Credit Agricole.  \n",
    "Tramite una prima fase di Sentiment Analysis sono stati sviluppati e testati diversi modelli di machine learning (Multinomial Naive Bayes, Complement Naive Bayes e Logistic Regression) in grado assegnare una certa label (binaria, quindi 'positivo' o 'negativo') ad un testo libero, per poi discutere sull'importanza che questi algoritmi possono avere al fine di migliorare il meccanismo di valutazione dei questionari dei clienti. Nella seconda parte del progetto invece, sono state modellate su grafo le relazioni che intercorrono tra i clienti e le filiali. Dopo aver determinato due possibili metodologie per il calcolo della rete di influenza (Dijkstra e Breath First Search) in funzione di un certo nodo, sono state visualizzate quelle relative ai 3 clienti più soddisfatti e meno soddisfatti. In riferimento al secondo obiettivo di questa parte invece, al fine di determinare un modo per combinare gli score dei clienti con il grado di influenza trovato, sono stati porposti due diversi approcci. In entrambi i casi è stata calcolata la centralità dei nodi mediante opportune tecniche (Degree Centrality e Closeness/Harmonic Centrality), ma se per il primo la rete di influenza è calcolata solo per quei nodi (con voto) più centrali rispetto a tutto il grafo, con il secondo sono presi in considerazione i primi *n* nodi più centrali in riferimento ad una certa filiale.  \n",
    "\n",
    "I risultati ottenuti rappresentano chiaramente un primo punto di partenza sulla base del quale è possibile effettuare miglioramenti sia in termini di accuratezza che di prestazioni."
   ]
  },
  {
   "cell_type": "code",
   "execution_count": null,
   "id": "9d089d45",
   "metadata": {},
   "outputs": [],
   "source": []
  }
 ],
 "metadata": {
  "kernelspec": {
   "display_name": "Python 3 (ipykernel)",
   "language": "python",
   "name": "python3"
  },
  "language_info": {
   "codemirror_mode": {
    "name": "ipython",
    "version": 3
   },
   "file_extension": ".py",
   "mimetype": "text/x-python",
   "name": "python",
   "nbconvert_exporter": "python",
   "pygments_lexer": "ipython3",
   "version": "3.8.5"
  }
 },
 "nbformat": 4,
 "nbformat_minor": 5
}
